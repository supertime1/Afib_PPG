{
  "nbformat": 4,
  "nbformat_minor": 0,
  "metadata": {
    "kernelspec": {
      "display_name": "Python 3",
      "language": "python",
      "name": "python3"
    },
    "language_info": {
      "codemirror_mode": {
        "name": "ipython",
        "version": 3
      },
      "file_extension": ".py",
      "mimetype": "text/x-python",
      "name": "python",
      "nbconvert_exporter": "python",
      "pygments_lexer": "ipython3",
      "version": "3.7.3"
    },
    "colab": {
      "name": "Afib_PPG.ipynb",
      "provenance": [],
      "collapsed_sections": [],
      "toc_visible": true,
      "include_colab_link": true
    }
  },
  "cells": [
    {
      "cell_type": "markdown",
      "metadata": {
        "id": "view-in-github",
        "colab_type": "text"
      },
      "source": [
        "<a href=\"https://colab.research.google.com/github/supertime1/Afib_PPG/blob/master/Afib_PPG.ipynb\" target=\"_parent\"><img src=\"https://colab.research.google.com/assets/colab-badge.svg\" alt=\"Open In Colab\"/></a>"
      ]
    },
    {
      "cell_type": "markdown",
      "metadata": {
        "id": "Pnp28rMOdJT9",
        "colab_type": "text"
      },
      "source": [
        "#2. Setup Environment"
      ]
    },
    {
      "cell_type": "code",
      "metadata": {
        "id": "F_ZSkQAudJT_",
        "colab_type": "code",
        "outputId": "fd345472-8d4b-4b16-f129-f788d34f4b1a",
        "colab": {
          "base_uri": "https://localhost:8080/",
          "height": 34
        }
      },
      "source": [
        "from IPython.display import display\n",
        "import pandas as pd\n",
        "import matplotlib.pyplot as plt\n",
        "%matplotlib inline\n",
        "%load_ext tensorboard\n",
        "import numpy as np\n",
        "import os\n",
        "import shutil\n",
        "import glob\n",
        "import wfdb\n",
        "import tensorflow as tf\n",
        "from tensorflow import keras\n",
        "from tensorflow.keras.models import load_model \n",
        "from tensorflow.keras.callbacks import TensorBoard\n",
        "import tensorflow_datasets as tfds\n",
        "import multiprocessing\n",
        "from datetime import datetime\n",
        "import sklearn.metrics\n",
        "import itertools\n",
        "import io\n",
        "print(tf.__version__)"
      ],
      "execution_count": 0,
      "outputs": [
        {
          "output_type": "stream",
          "text": [
            "2.1.0\n"
          ],
          "name": "stdout"
        }
      ]
    },
    {
      "cell_type": "code",
      "metadata": {
        "id": "LZZazeQjsUMH",
        "colab_type": "code",
        "colab": {}
      },
      "source": [
        "#run this cell if multiple GPUs are used\n",
        "tf.debugging.set_log_device_placement(True)"
      ],
      "execution_count": 0,
      "outputs": []
    },
    {
      "cell_type": "code",
      "metadata": {
        "id": "zkUXM25ksWAW",
        "colab_type": "code",
        "colab": {}
      },
      "source": [
        "from tensorflow.python.client import device_lib \n",
        "print(device_lib.list_local_devices())"
      ],
      "execution_count": 0,
      "outputs": []
    },
    {
      "cell_type": "code",
      "metadata": {
        "id": "SIQq3r4ysWzs",
        "colab_type": "code",
        "outputId": "4ce74a39-599f-41f7-9d85-27acd79959b1",
        "colab": {
          "base_uri": "https://localhost:8080/",
          "height": 34
        }
      },
      "source": [
        "tf.test.is_built_with_cuda()"
      ],
      "execution_count": 0,
      "outputs": [
        {
          "output_type": "execute_result",
          "data": {
            "text/plain": [
              "True"
            ]
          },
          "metadata": {
            "tags": []
          },
          "execution_count": 4
        }
      ]
    },
    {
      "cell_type": "code",
      "metadata": {
        "id": "Y2tB5IJYKGam",
        "colab_type": "code",
        "colab": {}
      },
      "source": [
        ""
      ],
      "execution_count": 0,
      "outputs": []
    },
    {
      "cell_type": "markdown",
      "metadata": {
        "id": "2kiGC1-qse4g",
        "colab_type": "text"
      },
      "source": [
        "# 3.1 Load data"
      ]
    },
    {
      "cell_type": "markdown",
      "metadata": {
        "id": "Kq6STKFFsmfO",
        "colab_type": "text"
      },
      "source": [
        "## 3.1 Load ECG data for training"
      ]
    },
    {
      "cell_type": "code",
      "metadata": {
        "id": "nsptUR58slz4",
        "colab_type": "code",
        "colab": {}
      },
      "source": [
        "hd_names = []\n",
        "for name in glob.glob(\"D:/WFDB/matched/*/*/[0-9]*[!layout].hea\"):\n",
        "  position = name.index('.')\n",
        "  name = name[0:position] #remove the .hea part to comply the wfdb.rdrecord format\n",
        "  hd_names.append(name)\n",
        "len(hd_names)"
      ],
      "execution_count": 0,
      "outputs": []
    },
    {
      "cell_type": "code",
      "metadata": {
        "id": "M0TPbvudO55W",
        "colab_type": "code",
        "outputId": "49ecda4d-490c-4241-d35d-8a5d7bc97b44",
        "colab": {
          "base_uri": "https://localhost:8080/",
          "height": 34
        }
      },
      "source": [
        "qualified_names = [] #a list of file names that contain both PPG and ECG Lead I waveforms\n",
        "for name in hd_names:\n",
        "  record = wfdb.rdheader(name)\n",
        "  if 'I' in record.sig_name and 'PLETH' in record.sig_name and record.sig_len >= 7500: #extact only records contrains ECG lead I and PPG, and >=1min\n",
        "    qualified_names.append(name)\n",
        "print('There are total', len(qualified_names), 'qualified records')"
      ],
      "execution_count": 0,
      "outputs": [
        {
          "output_type": "stream",
          "text": [
            "There are total 654 qualified records\n"
          ],
          "name": "stdout"
        }
      ]
    },
    {
      "cell_type": "code",
      "metadata": {
        "id": "-Xoh-dXJOuOD",
        "colab_type": "code",
        "outputId": "8df5c2b0-ab2c-4fad-de1b-d145c7237170",
        "colab": {
          "base_uri": "https://localhost:8080/",
          "height": 52
        }
      },
      "source": [
        "##use the same name for wfdb.rdrecord\n",
        "##sampling freq is 125 Hz for both ECG and PPG: \n",
        "##Documentation: https://archive.physionet.org/physiobank/database/mimic3wdb/\n",
        "ECG_signals = [] #create a  list to store all  ECG signals\n",
        "PPG_signals = [] #create a  list to store all  PPG signals\n",
        "for name in qualified_names:\n",
        "  record = wfdb.rdrecord(name)\n",
        "\n",
        "  ECG_index = record.sig_name.index('I')\n",
        "  PPG_index = record.sig_name.index('PLETH')\n",
        "  ECG_sig = record.p_signal.T[ECG_index]\n",
        "  PPG_sig = record.p_signal.T[PPG_index]\n",
        "\n",
        "  if np.isnan(ECG_sig).any() or np.isnan(PPG_sig).any(): ##remove list with all empty signals\n",
        "    continue\n",
        "  else:\n",
        "    ECG_signals.append(ECG_sig)\n",
        "    PPG_signals.append(PPG_sig)\n",
        "\n",
        "print('ECG signals len:', len(ECG_signals))\n",
        "print('PPG signals len:', len(PPG_signals))"
      ],
      "execution_count": 0,
      "outputs": [
        {
          "output_type": "stream",
          "text": [
            "ECG signals len: 365\n",
            "PPG signals len: 365\n"
          ],
          "name": "stdout"
        }
      ]
    },
    {
      "cell_type": "code",
      "metadata": {
        "id": "xNINTnr-cEuH",
        "colab_type": "code",
        "colab": {}
      },
      "source": [
        "#save the data\n",
        "import pickle\n",
        "#save ECG data\n",
        "with open('ECG_signals.pkl', \"wb\") as fp:\n",
        "  pickle.dump(ECG_signals, fp)\n",
        "#save PPG data\n",
        "with open('PPG_signals.pkl', \"wb\") as fp:\n",
        "  pickle.dump(PPG_signals, fp)"
      ],
      "execution_count": 0,
      "outputs": []
    },
    {
      "cell_type": "markdown",
      "metadata": {
        "id": "oRkF1W2TCcRD",
        "colab_type": "text"
      },
      "source": [
        "## Label the ECG data "
      ]
    },
    {
      "cell_type": "code",
      "metadata": {
        "id": "N6pvVgUMCxqb",
        "colab_type": "code",
        "colab": {}
      },
      "source": [
        "import cardio\n",
        "#read cardio framework"
      ],
      "execution_count": 0,
      "outputs": []
    },
    {
      "cell_type": "markdown",
      "metadata": {
        "id": "jIdJO__oardO",
        "colab_type": "text"
      },
      "source": [
        "## Data processing for PPG signals"
      ]
    },
    {
      "cell_type": "code",
      "metadata": {
        "id": "r-z1b0CXR8wb",
        "colab_type": "code",
        "colab": {}
      },
      "source": [
        "##From BP paper: https://github.com/supertime1/bp-estimation-mimic3\n",
        "#1. length check - remove files <1min already did when loading the data \n",
        "#2. ppg/ecg normalization - zero mean and unit variance??\n",
        "#3. ppg/ecg band-pass filter - butterworth 4th order (0.5 to 8 Hz)\n",
        "#4. cycle segmentation - elgendi algorithm for peak detection\n",
        "#5. ppg outlier removal - hempel filter (6 samples, 3 stds)\n",
        "#6. flat line and peak removal (consecutive samples with same value)"
      ],
      "execution_count": 0,
      "outputs": []
    },
    {
      "cell_type": "markdown",
      "metadata": {
        "id": "Kzk769I4D8Ek",
        "colab_type": "text"
      },
      "source": [
        "Hampel filter"
      ]
    },
    {
      "cell_type": "code",
      "metadata": {
        "id": "QTAab6SwaofO",
        "colab_type": "code",
        "colab": {}
      },
      "source": [
        "def filter_signal(data, fs):\n",
        "    % INPUT:\n",
        "    % data  -> 2xN matrix where (1,:) is PPG signal and (2,:) is ABP signal, assuming that N >= 10000\n",
        "    % fs    -> Sampling frequency\n",
        "    % OUTPUT\n",
        "    % data  -> filtered input data\n",
        "    \n",
        "    % Remove steep steps at the begining of the data (if there are any)\n",
        "    dff = find( abs(diff(data(1,1:8000))) > 10 , 1);\n",
        "    if(~isempty(dff))\n",
        "        % remove the step in both ABP and PPG\n",
        "        data = data(:,dff+1:end);\n",
        "    end\n",
        "    % check in ABP as well\n",
        "    dff = find( abs(diff(data(2,1:8000))) > 400, 1);\n",
        "    if(~isempty(dff))\n",
        "        % remove the step in both ABP and PPG\n",
        "        data = data(:,dff+1:end);\n",
        "    end\n",
        "    \n",
        "    % In rare cases where the spike apears at the end of signal\n",
        "    dff = find( abs(diff(data(1,(end-8000):end))) > 10 , 1);\n",
        "    if(~isempty(dff))\n",
        "        % remove the step in both ABP and PPG\n",
        "        data = data(:,1:end-dff-1);\n",
        "    end\n",
        "    % check in ABP as well\n",
        "    dff = find( abs(diff(data(2,(end-8000):end))) > 400, 1);\n",
        "    if(~isempty(dff))\n",
        "        % remove the step in both ABP and PPG\n",
        "        data = data(:,1:end-dff-1);\n",
        "    end\n",
        "    \n",
        "    % Flter PPG using the buttersworth filter (Bandwidth, [0.5, 8] Hz, 2-5 order)\n",
        "    [b,a] = butter(4,[0.5,8]/(fs/2));  % butterworth filter\n",
        "    data(1,:) = filtfilt(b,a,data(1,:)); % zero phase filter -> eliminates the phase shift that occurs when filtering\n",
        "    \n",
        "    % Filter ABP using Hampel filter (    median, 6 neighbour, 3x standard deviation)\n",
        "    data(2,:) = hampel(data(2,:),100,5); % no parametr changes due to the effectivenes of the original\n",
        "    \n",
        "    \n",
        "end"
      ],
      "execution_count": 0,
      "outputs": []
    },
    {
      "cell_type": "markdown",
      "metadata": {
        "id": "axvDWvMJdJUG",
        "colab_type": "text"
      },
      "source": [
        "## Build model"
      ]
    },
    {
      "cell_type": "code",
      "metadata": {
        "id": "T45d6faQFP2s",
        "colab_type": "code",
        "colab": {}
      },
      "source": [
        ""
      ],
      "execution_count": 0,
      "outputs": []
    }
  ]
}