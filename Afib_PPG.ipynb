{
  "nbformat": 4,
  "nbformat_minor": 0,
  "metadata": {
    "kernelspec": {
      "display_name": "Python 3",
      "language": "python",
      "name": "python3"
    },
    "language_info": {
      "codemirror_mode": {
        "name": "ipython",
        "version": 3
      },
      "file_extension": ".py",
      "mimetype": "text/x-python",
      "name": "python",
      "nbconvert_exporter": "python",
      "pygments_lexer": "ipython3",
      "version": "3.7.3"
    },
    "colab": {
      "name": "Afib_PPG.ipynb",
      "provenance": [],
      "collapsed_sections": [],
      "include_colab_link": true
    }
  },
  "cells": [
    {
      "cell_type": "markdown",
      "metadata": {
        "id": "view-in-github",
        "colab_type": "text"
      },
      "source": [
        "<a href=\"https://colab.research.google.com/github/supertime1/Afib_PPG/blob/master/Afib_PPG.ipynb\" target=\"_parent\"><img src=\"https://colab.research.google.com/assets/colab-badge.svg\" alt=\"Open In Colab\"/></a>"
      ]
    },
    {
      "cell_type": "markdown",
      "metadata": {
        "id": "Pnp28rMOdJT9",
        "colab_type": "text"
      },
      "source": [
        "#2. Setup Environment"
      ]
    },
    {
      "cell_type": "code",
      "metadata": {
        "id": "F_ZSkQAudJT_",
        "colab_type": "code",
        "outputId": "c54c61f7-9c7f-40f3-e4db-b1af3b1d66b0",
        "colab": {
          "base_uri": "https://localhost:8080/",
          "height": 34
        }
      },
      "source": [
        "from IPython.display import display\n",
        "import pandas as pd\n",
        "import matplotlib.pyplot as plt\n",
        "%matplotlib inline\n",
        "%load_ext tensorboard\n",
        "import numpy as np\n",
        "import os\n",
        "import shutil\n",
        "import glob\n",
        "import wfdb\n",
        "import tensorflow as tf\n",
        "from tensorflow import keras\n",
        "from tensorflow.keras.models import load_model \n",
        "from tensorflow.keras.callbacks import TensorBoard\n",
        "import tensorflow_datasets as tfds\n",
        "import multiprocessing\n",
        "from datetime import datetime\n",
        "import sklearn.metrics\n",
        "import itertools\n",
        "import io\n",
        "import pickle\n",
        "print(tf.__version__)"
      ],
      "execution_count": 1,
      "outputs": [
        {
          "output_type": "stream",
          "text": [
            "2.1.0\n"
          ],
          "name": "stdout"
        }
      ]
    },
    {
      "cell_type": "code",
      "metadata": {
        "id": "LZZazeQjsUMH",
        "colab_type": "code",
        "colab": {}
      },
      "source": [
        "#run this cell if multiple GPUs are used\n",
        "tf.debugging.set_log_device_placement(True)"
      ],
      "execution_count": 0,
      "outputs": []
    },
    {
      "cell_type": "code",
      "metadata": {
        "id": "zkUXM25ksWAW",
        "colab_type": "code",
        "colab": {}
      },
      "source": [
        "from tensorflow.python.client import device_lib \n",
        "print(device_lib.list_local_devices())"
      ],
      "execution_count": 0,
      "outputs": []
    },
    {
      "cell_type": "code",
      "metadata": {
        "id": "SIQq3r4ysWzs",
        "colab_type": "code",
        "outputId": "e0fc46f8-a2d5-4c38-8e84-5c65eb77a43d",
        "colab": {
          "base_uri": "https://localhost:8080/",
          "height": 34
        }
      },
      "source": [
        "tf.test.is_built_with_cuda()"
      ],
      "execution_count": 0,
      "outputs": [
        {
          "output_type": "execute_result",
          "data": {
            "text/plain": [
              "True"
            ]
          },
          "metadata": {
            "tags": []
          },
          "execution_count": 2
        }
      ]
    },
    {
      "cell_type": "markdown",
      "metadata": {
        "id": "2kiGC1-qse4g",
        "colab_type": "text"
      },
      "source": [
        "# 3. Clean data"
      ]
    },
    {
      "cell_type": "markdown",
      "metadata": {
        "id": "Kq6STKFFsmfO",
        "colab_type": "text"
      },
      "source": [
        "### 3.1 Load data"
      ]
    },
    {
      "cell_type": "code",
      "metadata": {
        "id": "nsptUR58slz4",
        "colab_type": "code",
        "outputId": "33eea207-f03a-4394-994b-28e9ad7e85d5",
        "colab": {
          "base_uri": "https://localhost:8080/",
          "height": 34
        }
      },
      "source": [
        "hd_names = []\n",
        "for name in glob.glob(\"D:/WFDB/matched/p00/*/[0-9]*[!layout][!n].dat\"):\n",
        "  if os.path.getsize(name) < 17*1024:\n",
        "    continue\n",
        "  position = name.index('.')\n",
        "  name = name[0:position] #remove the .hea part to comply the wfdb.rdrecord format\n",
        "  hd_names.append(name)\n",
        "print(\"There are total \", len(hd_names), \"records that are bigger than 17kb\")"
      ],
      "execution_count": 0,
      "outputs": [
        {
          "output_type": "stream",
          "text": [
            "There are total  27303 records that are bigger than 17kb\n"
          ],
          "name": "stdout"
        }
      ]
    },
    {
      "cell_type": "code",
      "metadata": {
        "id": "M0TPbvudO55W",
        "colab_type": "code",
        "outputId": "2e4b2816-ebf7-4345-f3b8-53abc98c69ad",
        "colab": {
          "base_uri": "https://localhost:8080/",
          "height": 34
        }
      },
      "source": [
        "qualified_names = [] #a list of file names that contain both PPG and ECG Lead I waveforms\n",
        "for name in hd_names:\n",
        "  record = wfdb.rdheader(name)\n",
        "  if 'I' in record.sig_name and 'PLETH' in record.sig_name and record.sig_len >= 75000: #extact only records contrains ECG lead I and PPG, and >=10min\n",
        "    qualified_names.append(name)\n",
        "print('There are total', len(qualified_names), 'records that have both ECG and PPG with more than 10min recording')"
      ],
      "execution_count": 0,
      "outputs": [
        {
          "output_type": "stream",
          "text": [
            "There are total 361 records that have both ECG and PPG with more than 10min recording\n"
          ],
          "name": "stdout"
        }
      ]
    },
    {
      "cell_type": "code",
      "metadata": {
        "id": "-Xoh-dXJOuOD",
        "colab_type": "code",
        "outputId": "eef64d57-48e5-453c-e3e6-51f56530035e",
        "colab": {
          "base_uri": "https://localhost:8080/",
          "height": 52
        }
      },
      "source": [
        "##use the same name for wfdb.rdrecord\n",
        "##sampling freq is 125 Hz for both ECG and PPG: \n",
        "##Documentation: https://archive.physionet.org/physiobank/database/mimic3wdb/\n",
        "ECG_signals = [] #create a  list to store all  ECG signals\n",
        "PPG_signals = [] #create a  list to store all  PPG signals\n",
        "for name in qualified_names:\n",
        "  record = wfdb.rdrecord(name)\n",
        "\n",
        "  ECG_index = record.sig_name.index('I')\n",
        "  PPG_index = record.sig_name.index('PLETH')\n",
        "  ECG_sig = record.p_signal.T[ECG_index]\n",
        "  PPG_sig = record.p_signal.T[PPG_index]\n",
        "\n",
        "  if np.isnan(ECG_sig).any() or np.isnan(PPG_sig).any(): ##remove list with all empty signals\n",
        "    continue\n",
        "  else:\n",
        "    ECG_signals.append(ECG_sig)\n",
        "    PPG_signals.append(PPG_sig)\n",
        "\n",
        "print('ECG signals len:', len(ECG_signals))\n",
        "print('PPG signals len:', len(PPG_signals))"
      ],
      "execution_count": 0,
      "outputs": [
        {
          "output_type": "stream",
          "text": [
            "ECG signals len: 214\n",
            "PPG signals len: 214\n"
          ],
          "name": "stdout"
        }
      ]
    },
    {
      "cell_type": "code",
      "metadata": {
        "id": "xNINTnr-cEuH",
        "colab_type": "code",
        "colab": {}
      },
      "source": [
        "#save the data\n",
        "#save ECG data\n",
        "with open('D:/WFDB/matched/ECG_signals.pkl', \"wb\") as fp:\n",
        "  pickle.dump(ECG_signals, fp)\n",
        "#save PPG data\n",
        "#with open('D:/WFDB/matched/PPG_signals.pkl', \"wb\") as fp:\n",
        "  #pickle.dump(PPG_signals, fp)"
      ],
      "execution_count": 0,
      "outputs": []
    },
    {
      "cell_type": "code",
      "metadata": {
        "id": "mEArMyv_mRrd",
        "colab_type": "code",
        "colab": {}
      },
      "source": [
        "with open('D:/WFDB/matched/ECG_signals.pkl', \"rb\") as fp:\n",
        "  ECG_signals = pickle.load(fp)"
      ],
      "execution_count": 0,
      "outputs": []
    },
    {
      "cell_type": "markdown",
      "metadata": {
        "id": "oRkF1W2TCcRD",
        "colab_type": "text"
      },
      "source": [
        "## Resample ECG signals "
      ]
    },
    {
      "cell_type": "code",
      "metadata": {
        "id": "N6pvVgUMCxqb",
        "colab_type": "code",
        "colab": {}
      },
      "source": [
        "#use wfdb.resample\n",
        "from wfdb import processing\n",
        "new_ECG_signals = []\n",
        "for i in range(len(ECG_signals)):\n",
        "  new_ECG_signal, _ = wfdb.processing.resample_sig(ECG_signals[i],125,300)\n",
        "  new_ECG_signals.append(new_ECG_signal)\n",
        "#apply filters before using DEEP-ECG to label it"
      ],
      "execution_count": 0,
      "outputs": []
    },
    {
      "cell_type": "code",
      "metadata": {
        "id": "gU3j69GTjbls",
        "colab_type": "code",
        "outputId": "2ca7eea5-4fd9-4f3b-a060-28b693d70291",
        "colab": {
          "base_uri": "https://localhost:8080/",
          "height": 285
        }
      },
      "source": [
        "plt.plot(new_ECG_signals[1][:180]*-1)"
      ],
      "execution_count": 0,
      "outputs": [
        {
          "output_type": "execute_result",
          "data": {
            "text/plain": [
              "[<matplotlib.lines.Line2D at 0x200aca2d4c8>]"
            ]
          },
          "metadata": {
            "tags": []
          },
          "execution_count": 5
        },
        {
          "output_type": "display_data",
          "data": {
            "text/plain": [
              "<Figure size 432x288 with 1 Axes>"
            ],
            "image/png": "[encoded data removed]"
          },
          "metadata": {
            "tags": [],
            "needs_background": "light"
          }
        }
      ]
    },
    {
      "cell_type": "code",
      "metadata": {
        "id": "uhFulJZqkyGL",
        "colab_type": "code",
        "outputId": "f913c9eb-2e31-48b4-a34d-119f3ea2520a",
        "colab": {
          "base_uri": "https://localhost:8080/",
          "height": 283
        }
      },
      "source": [
        "plt.plot(ECG_signals[1][:75]*-1)"
      ],
      "execution_count": 0,
      "outputs": [
        {
          "output_type": "execute_result",
          "data": {
            "text/plain": [
              "[<matplotlib.lines.Line2D at 0x200b6500d08>]"
            ]
          },
          "metadata": {
            "tags": []
          },
          "execution_count": 6
        },
        {
          "output_type": "display_data",
          "data": {
            "text/plain": [
              "<Figure size 432x288 with 1 Axes>"
            ],
            "image/png": "[encoded data removed]"
          },
          "metadata": {
            "tags": [],
            "needs_background": "light"
          }
        }
      ]
    },
    {
      "cell_type": "code",
      "metadata": {
        "id": "frOJWvwTLAtt",
        "colab_type": "code",
        "colab": {}
      },
      "source": [
        "with open('D:/WFDB/matched/ECG_signals_300HZ.pkl', \"wb\") as fp:\n",
        "  pickle.dump(new_ECG_signals, fp)"
      ],
      "execution_count": 0,
      "outputs": []
    },
    {
      "cell_type": "code",
      "metadata": {
        "id": "WHwa7IRWmlyN",
        "colab_type": "code",
        "colab": {}
      },
      "source": [
        "with open('D:/WFDB/matched/ECG_signals_300HZ.pkl', \"rb\") as fp:\n",
        "  new_ECG_signals = pickle.load(fp)"
      ],
      "execution_count": 0,
      "outputs": []
    },
    {
      "cell_type": "markdown",
      "metadata": {
        "id": "00L3vxm_lRWs",
        "colab_type": "text"
      },
      "source": [
        "##Flip ECG signals"
      ]
    },
    {
      "cell_type": "code",
      "metadata": {
        "id": "RZLcpevfqY39",
        "colab_type": "code",
        "colab": {}
      },
      "source": [
        "r_ECG_signals = np.multiply(new_ECG_signals, -1)"
      ],
      "execution_count": 0,
      "outputs": []
    },
    {
      "cell_type": "code",
      "metadata": {
        "id": "uiG_nxJyls9l",
        "colab_type": "code",
        "outputId": "a161970d-d150-42bb-8430-84a85870265c",
        "colab": {
          "base_uri": "https://localhost:8080/",
          "height": 34
        }
      },
      "source": [
        "len(new_ECG_signals)"
      ],
      "execution_count": 4,
      "outputs": [
        {
          "output_type": "execute_result",
          "data": {
            "text/plain": [
              "214"
            ]
          },
          "metadata": {
            "tags": []
          },
          "execution_count": 4
        }
      ]
    },
    {
      "cell_type": "code",
      "metadata": {
        "id": "8wfBGwhmqmFu",
        "colab_type": "code",
        "outputId": "b8fc84c5-d4ef-4f71-dbdc-81acc1d69cf8",
        "colab": {
          "base_uri": "https://localhost:8080/",
          "height": 34
        }
      },
      "source": [
        "r_ECG_signals.shape"
      ],
      "execution_count": 5,
      "outputs": [
        {
          "output_type": "execute_result",
          "data": {
            "text/plain": [
              "(214,)"
            ]
          },
          "metadata": {
            "tags": []
          },
          "execution_count": 5
        }
      ]
    },
    {
      "cell_type": "markdown",
      "metadata": {
        "id": "d1-4_EAvrXl3",
        "colab_type": "text"
      },
      "source": [
        "## Band pass filter\n",
        "\n"
      ]
    },
    {
      "cell_type": "code",
      "metadata": {
        "id": "1zfB0Sk6ricU",
        "colab_type": "code",
        "colab": {}
      },
      "source": [
        "from scipy.signal import butter, lfilter\n",
        "def butter_bandpass(lowcut, highcut, fs, order=5):\n",
        "    nyq = 0.5 * fs\n",
        "    low = lowcut / nyq\n",
        "    high = highcut / nyq\n",
        "    b, a = butter(order, [low, high], btype='band')\n",
        "    return b, a\n",
        "\n",
        "\n",
        "def butter_bandpass_filter(data, lowcut, highcut, fs, order=5):\n",
        "    b, a = butter_bandpass(lowcut, highcut, fs, order=order)\n",
        "    y = lfilter(b, a, data)\n",
        "    return y"
      ],
      "execution_count": 0,
      "outputs": []
    },
    {
      "cell_type": "code",
      "metadata": {
        "id": "wZwZrld2u_md",
        "colab_type": "code",
        "colab": {}
      },
      "source": [
        "f_ECG_signal =butter_bandpass_filter(r_ECG_signals[1],0.2,8,300,order=3)"
      ],
      "execution_count": 0,
      "outputs": []
    },
    {
      "cell_type": "code",
      "metadata": {
        "id": "9p8cFv_UvV46",
        "colab_type": "code",
        "colab": {
          "base_uri": "https://localhost:8080/",
          "height": 282
        },
        "outputId": "dbe116e6-a71b-4da6-fe07-71b62f9769bf"
      },
      "source": [
        "plt.plot(r_ECG_signals[1][:3000])"
      ],
      "execution_count": 62,
      "outputs": [
        {
          "output_type": "execute_result",
          "data": {
            "text/plain": [
              "[<matplotlib.lines.Line2D at 0x24f1d7abc88>]"
            ]
          },
          "metadata": {
            "tags": []
          },
          "execution_count": 62
        },
        {
          "output_type": "display_data",
          "data": {
            "text/plain": [
              "<Figure size 432x288 with 1 Axes>"
            ],
            "image/png": "[encoded data removed]"
          },
          "metadata": {
            "tags": [],
            "needs_background": "light"
          }
        }
      ]
    },
    {
      "cell_type": "code",
      "metadata": {
        "id": "fKlHP8Wivo9l",
        "colab_type": "code",
        "colab": {
          "base_uri": "https://localhost:8080/",
          "height": 285
        },
        "outputId": "3965b0fc-1b21-4396-f681-406e009acf48"
      },
      "source": [
        "plt.plot(f_ECG_signal[:3000])"
      ],
      "execution_count": 63,
      "outputs": [
        {
          "output_type": "execute_result",
          "data": {
            "text/plain": [
              "[<matplotlib.lines.Line2D at 0x24f1d8a4d88>]"
            ]
          },
          "metadata": {
            "tags": []
          },
          "execution_count": 63
        },
        {
          "output_type": "display_data",
          "data": {
            "text/plain": [
              "<Figure size 432x288 with 1 Axes>"
            ],
            "image/png": "[encoded data removed]"
          },
          "metadata": {
            "tags": [],
            "needs_background": "light"
          }
        }
      ]
    },
    {
      "cell_type": "markdown",
      "metadata": {
        "id": "-rPVYsRHw_MR",
        "colab_type": "text"
      },
      "source": [
        "## Normalization"
      ]
    },
    {
      "cell_type": "markdown",
      "metadata": {
        "id": "RCZPoUzwxHGz",
        "colab_type": "text"
      },
      "source": [
        "##Hampel filter"
      ]
    },
    {
      "cell_type": "code",
      "metadata": {
        "id": "rM-vstDvxLwF",
        "colab_type": "code",
        "colab": {}
      },
      "source": [
        "def hampel_filter_forloop(input_series, window_size, n_sigmas=3):\n",
        "    \n",
        "    n = len(input_series)\n",
        "    new_series = input_series.copy()\n",
        "    k = 1.4826 # scale factor for Gaussian distribution\n",
        "    \n",
        "    indices = []\n",
        "    \n",
        "    # possibly use np.nanmedian \n",
        "    for i in range((window_size),(n - window_size)):\n",
        "        x0 = np.median(input_series[(i - window_size):(i + window_size)])\n",
        "        S0 = k * np.median(np.abs(input_series[(i - window_size):(i + window_size)] - x0))\n",
        "        if (np.abs(input_series[i] - x0) > n_sigmas * S0):\n",
        "            new_series[i] = x0\n",
        "            indices.append(i)\n",
        "    \n",
        "    return new_series, indices"
      ],
      "execution_count": 0,
      "outputs": []
    },
    {
      "cell_type": "code",
      "metadata": {
        "id": "T7xqw_fs87x1",
        "colab_type": "code",
        "colab": {}
      },
      "source": [
        "res, detected_outliers = hampel_filter_forloop(r_ECG_signals[1], 10)"
      ],
      "execution_count": 0,
      "outputs": []
    },
    {
      "cell_type": "code",
      "metadata": {
        "id": "fDDwtdGp9lJc",
        "colab_type": "code",
        "colab": {
          "base_uri": "https://localhost:8080/",
          "height": 282
        },
        "outputId": "1254c9b9-33b1-4928-dc54-af754a404a01"
      },
      "source": [
        "plt.plot(res[400:505])"
      ],
      "execution_count": 81,
      "outputs": [
        {
          "output_type": "execute_result",
          "data": {
            "text/plain": [
              "[<matplotlib.lines.Line2D at 0x24f3bc58d88>]"
            ]
          },
          "metadata": {
            "tags": []
          },
          "execution_count": 81
        },
        {
          "output_type": "display_data",
          "data": {
            "text/plain": [
              "<Figure size 432x288 with 1 Axes>"
            ],
            "image/png": "[encoded data removed]"
          },
          "metadata": {
            "tags": [],
            "needs_background": "light"
          }
        }
      ]
    },
    {
      "cell_type": "code",
      "metadata": {
        "id": "wIw_zEyL-J8k",
        "colab_type": "code",
        "colab": {
          "base_uri": "https://localhost:8080/",
          "height": 282
        },
        "outputId": "0302de5b-aef1-4703-afee-a1d7d9317036"
      },
      "source": [
        "plt.plot(r_ECG_signals[1][400:505])"
      ],
      "execution_count": 82,
      "outputs": [
        {
          "output_type": "execute_result",
          "data": {
            "text/plain": [
              "[<matplotlib.lines.Line2D at 0x24f3bc99e08>]"
            ]
          },
          "metadata": {
            "tags": []
          },
          "execution_count": 82
        },
        {
          "output_type": "display_data",
          "data": {
            "text/plain": [
              "<Figure size 432x288 with 1 Axes>"
            ],
            "image/png": "[encoded data removed]"
          },
          "metadata": {
            "tags": [],
            "needs_background": "light"
          }
        }
      ]
    },
    {
      "cell_type": "markdown",
      "metadata": {
        "id": "tTzpEES4CDQP",
        "colab_type": "text"
      },
      "source": [
        "##Flat line and peak removal"
      ]
    },
    {
      "cell_type": "code",
      "metadata": {
        "id": "LRgQ3jT1CIeH",
        "colab_type": "code",
        "colab": {}
      },
      "source": [
        "##"
      ],
      "execution_count": 0,
      "outputs": []
    },
    {
      "cell_type": "markdown",
      "metadata": {
        "id": "jIdJO__oardO",
        "colab_type": "text"
      },
      "source": [
        "## Data processing for PPG signals"
      ]
    },
    {
      "cell_type": "code",
      "metadata": {
        "id": "r-z1b0CXR8wb",
        "colab_type": "code",
        "colab": {}
      },
      "source": [
        "##From BP paper: https://github.com/supertime1/bp-estimation-mimic3\n",
        "#1. length check - remove files <1min already did when loading the data \n",
        "#2. ppg/ecg normalization - zero mean and unit variance??\n",
        "#3. ppg/ecg band-pass filter - butterworth 4th order (0.5 to 8 Hz)\n",
        "#4. cycle segmentation - elgendi algorithm for peak detection\n",
        "#5. ppg outlier removal - hempel filter (6 samples, 3 stds)\n",
        "#6. flat line and peak removal (consecutive samples with same value)"
      ],
      "execution_count": 0,
      "outputs": []
    },
    {
      "cell_type": "markdown",
      "metadata": {
        "id": "axvDWvMJdJUG",
        "colab_type": "text"
      },
      "source": [
        "## Build model"
      ]
    },
    {
      "cell_type": "code",
      "metadata": {
        "id": "T45d6faQFP2s",
        "colab_type": "code",
        "colab": {}
      },
      "source": [
        ""
      ],
      "execution_count": 0,
      "outputs": []
    }
  ]
}