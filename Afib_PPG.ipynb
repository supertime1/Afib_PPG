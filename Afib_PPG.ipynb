{
  "nbformat": 4,
  "nbformat_minor": 0,
  "metadata": {
    "kernelspec": {
      "display_name": "Python 3",
      "language": "python",
      "name": "python3"
    },
    "language_info": {
      "codemirror_mode": {
        "name": "ipython",
        "version": 3
      },
      "file_extension": ".py",
      "mimetype": "text/x-python",
      "name": "python",
      "nbconvert_exporter": "python",
      "pygments_lexer": "ipython3",
      "version": "3.7.3"
    },
    "colab": {
      "name": "Afib_PPG.ipynb",
      "provenance": [],
      "collapsed_sections": [],
      "include_colab_link": true
    }
  },
  "cells": [
    {
      "cell_type": "markdown",
      "metadata": {
        "id": "view-in-github",
        "colab_type": "text"
      },
      "source": [
        "<a href=\"https://colab.research.google.com/github/supertime1/Afib_PPG/blob/master/Afib_PPG.ipynb\" target=\"_parent\"><img src=\"https://colab.research.google.com/assets/colab-badge.svg\" alt=\"Open In Colab\"/></a>"
      ]
    },
    {
      "cell_type": "markdown",
      "metadata": {
        "id": "Pnp28rMOdJT9",
        "colab_type": "text"
      },
      "source": [
        "#2. Setup Environment"
      ]
    },
    {
      "cell_type": "code",
      "metadata": {
        "id": "F_ZSkQAudJT_",
        "colab_type": "code",
        "colab": {
          "base_uri": "https://localhost:8080/",
          "height": 70
        },
        "outputId": "afb9735c-66d3-43fe-fa2b-e7fd127be1b8"
      },
      "source": [
        "from IPython.display import display\n",
        "import pandas as pd\n",
        "import matplotlib.pyplot as plt\n",
        "%matplotlib inline\n",
        "%load_ext tensorboard\n",
        "import numpy as np\n",
        "import os\n",
        "import shutil\n",
        "import glob\n",
        "import wfdb\n",
        "import tensorflow as tf\n",
        "from tensorflow import keras\n",
        "from tensorflow.keras.models import load_model \n",
        "from tensorflow.keras.callbacks import TensorBoard\n",
        "import tensorflow_datasets as tfds\n",
        "import multiprocessing\n",
        "from datetime import datetime\n",
        "import sklearn.metrics\n",
        "import itertools\n",
        "import io\n",
        "print(tf.__version__)"
      ],
      "execution_count": 111,
      "outputs": [
        {
          "output_type": "stream",
          "text": [
            "The tensorboard extension is already loaded. To reload it, use:\n",
            "  %reload_ext tensorboard\n",
            "2.1.0\n"
          ],
          "name": "stdout"
        }
      ]
    },
    {
      "cell_type": "code",
      "metadata": {
        "id": "LZZazeQjsUMH",
        "colab_type": "code",
        "colab": {}
      },
      "source": [
        "#run this cell if multiple GPUs are used\n",
        "tf.debugging.set_log_device_placement(True)"
      ],
      "execution_count": 0,
      "outputs": []
    },
    {
      "cell_type": "code",
      "metadata": {
        "id": "zkUXM25ksWAW",
        "colab_type": "code",
        "colab": {
          "base_uri": "https://localhost:8080/",
          "height": 852
        },
        "outputId": "d53a4cd5-6c3a-4629-c5ee-6dfda844082e"
      },
      "source": [
        "from tensorflow.python.client import device_lib \n",
        "print(device_lib.list_local_devices())"
      ],
      "execution_count": 108,
      "outputs": [
        {
          "output_type": "stream",
          "text": [
            "[name: \"/device:CPU:0\"\n",
            "device_type: \"CPU\"\n",
            "memory_limit: 268435456\n",
            "locality {\n",
            "}\n",
            "incarnation: 10839412164913528763\n",
            ", name: \"/device:GPU:0\"\n",
            "device_type: \"GPU\"\n",
            "memory_limit: 6599774044\n",
            "locality {\n",
            "  bus_id: 1\n",
            "  links {\n",
            "  }\n",
            "}\n",
            "incarnation: 16881366591073513505\n",
            "physical_device_desc: \"device: 0, name: Quadro RTX 4000, pci bus id: 0000:02:00.0, compute capability: 7.5\"\n",
            ", name: \"/device:GPU:1\"\n",
            "device_type: \"GPU\"\n",
            "memory_limit: 6599774044\n",
            "locality {\n",
            "  bus_id: 1\n",
            "  links {\n",
            "  }\n",
            "}\n",
            "incarnation: 17828239808095746993\n",
            "physical_device_desc: \"device: 1, name: Quadro RTX 4000, pci bus id: 0000:05:00.0, compute capability: 7.5\"\n",
            ", name: \"/device:GPU:2\"\n",
            "device_type: \"GPU\"\n",
            "memory_limit: 6599774044\n",
            "locality {\n",
            "  bus_id: 1\n",
            "  links {\n",
            "  }\n",
            "}\n",
            "incarnation: 9388090323087473906\n",
            "physical_device_desc: \"device: 2, name: Quadro RTX 4000, pci bus id: 0000:17:00.0, compute capability: 7.5\"\n",
            ", name: \"/device:GPU:3\"\n",
            "device_type: \"GPU\"\n",
            "memory_limit: 6599774044\n",
            "locality {\n",
            "  bus_id: 1\n",
            "  links {\n",
            "  }\n",
            "}\n",
            "incarnation: 16458271483693616255\n",
            "physical_device_desc: \"device: 3, name: Quadro RTX 4000, pci bus id: 0000:65:00.0, compute capability: 7.5\"\n",
            "]\n"
          ],
          "name": "stdout"
        }
      ]
    },
    {
      "cell_type": "code",
      "metadata": {
        "id": "SIQq3r4ysWzs",
        "colab_type": "code",
        "colab": {}
      },
      "source": [
        "tf.test.is_built_with_cuda()"
      ],
      "execution_count": 0,
      "outputs": []
    },
    {
      "cell_type": "markdown",
      "metadata": {
        "id": "2kiGC1-qse4g",
        "colab_type": "text"
      },
      "source": [
        "# 3.1 Clean data"
      ]
    },
    {
      "cell_type": "markdown",
      "metadata": {
        "id": "Kq6STKFFsmfO",
        "colab_type": "text"
      },
      "source": [
        "### 3.1 Load data"
      ]
    },
    {
      "cell_type": "code",
      "metadata": {
        "id": "nsptUR58slz4",
        "colab_type": "code",
        "colab": {
          "base_uri": "https://localhost:8080/",
          "height": 34
        },
        "outputId": "33eea207-f03a-4394-994b-28e9ad7e85d5"
      },
      "source": [
        "hd_names = []\n",
        "for name in glob.glob(\"D:/WFDB/matched/p00/*/[0-9]*[!layout][!n].dat\"):\n",
        "  if os.path.getsize(name) < 17*1024:\n",
        "    continue\n",
        "  position = name.index('.')\n",
        "  name = name[0:position] #remove the .hea part to comply the wfdb.rdrecord format\n",
        "  hd_names.append(name)\n",
        "print(\"There are total \", len(hd_names), \"records that are bigger than 17kb\")"
      ],
      "execution_count": 31,
      "outputs": [
        {
          "output_type": "stream",
          "text": [
            "There are total  27303 records that are bigger than 17kb\n"
          ],
          "name": "stdout"
        }
      ]
    },
    {
      "cell_type": "code",
      "metadata": {
        "id": "M0TPbvudO55W",
        "colab_type": "code",
        "outputId": "2e4b2816-ebf7-4345-f3b8-53abc98c69ad",
        "colab": {
          "base_uri": "https://localhost:8080/",
          "height": 34
        }
      },
      "source": [
        "qualified_names = [] #a list of file names that contain both PPG and ECG Lead I waveforms\n",
        "for name in hd_names:\n",
        "  record = wfdb.rdheader(name)\n",
        "  if 'I' in record.sig_name and 'PLETH' in record.sig_name and record.sig_len >= 75000: #extact only records contrains ECG lead I and PPG, and >=10min\n",
        "    qualified_names.append(name)\n",
        "print('There are total', len(qualified_names), 'records that have both ECG and PPG with more than 10min recording')"
      ],
      "execution_count": 74,
      "outputs": [
        {
          "output_type": "stream",
          "text": [
            "There are total 361 records that have both ECG and PPG with more than 10min recording\n"
          ],
          "name": "stdout"
        }
      ]
    },
    {
      "cell_type": "code",
      "metadata": {
        "id": "-Xoh-dXJOuOD",
        "colab_type": "code",
        "outputId": "eef64d57-48e5-453c-e3e6-51f56530035e",
        "colab": {
          "base_uri": "https://localhost:8080/",
          "height": 52
        }
      },
      "source": [
        "##use the same name for wfdb.rdrecord\n",
        "##sampling freq is 125 Hz for both ECG and PPG: \n",
        "##Documentation: https://archive.physionet.org/physiobank/database/mimic3wdb/\n",
        "ECG_signals = [] #create a  list to store all  ECG signals\n",
        "PPG_signals = [] #create a  list to store all  PPG signals\n",
        "for name in qualified_names:\n",
        "  record = wfdb.rdrecord(name)\n",
        "\n",
        "  ECG_index = record.sig_name.index('I')\n",
        "  PPG_index = record.sig_name.index('PLETH')\n",
        "  ECG_sig = record.p_signal.T[ECG_index]\n",
        "  PPG_sig = record.p_signal.T[PPG_index]\n",
        "\n",
        "  if np.isnan(ECG_sig).any() or np.isnan(PPG_sig).any(): ##remove list with all empty signals\n",
        "    continue\n",
        "  else:\n",
        "    ECG_signals.append(ECG_sig)\n",
        "    PPG_signals.append(PPG_sig)\n",
        "\n",
        "print('ECG signals len:', len(ECG_signals))\n",
        "print('PPG signals len:', len(PPG_signals))"
      ],
      "execution_count": 75,
      "outputs": [
        {
          "output_type": "stream",
          "text": [
            "ECG signals len: 214\n",
            "PPG signals len: 214\n"
          ],
          "name": "stdout"
        }
      ]
    },
    {
      "cell_type": "code",
      "metadata": {
        "id": "xNINTnr-cEuH",
        "colab_type": "code",
        "colab": {}
      },
      "source": [
        "#save the data\n",
        "import pickle\n",
        "#save ECG data\n",
        "with open('D:/WFDB/matched/ECG_signals.pkl', \"wb\") as fp:\n",
        "  pickle.dump(ECG_signals, fp)\n",
        "#save PPG data\n",
        "#with open('D:/WFDB/matched/PPG_signals.pkl', \"wb\") as fp:\n",
        "  #pickle.dump(PPG_signals, fp)"
      ],
      "execution_count": 0,
      "outputs": []
    },
    {
      "cell_type": "code",
      "metadata": {
        "id": "mEArMyv_mRrd",
        "colab_type": "code",
        "colab": {}
      },
      "source": [
        "with open('D:/WFDB/matched/ECG_signals.pkl', \"rb\") as fp:\n",
        "  ECG_signals = pickle.load(fp)"
      ],
      "execution_count": 0,
      "outputs": []
    },
    {
      "cell_type": "code",
      "metadata": {
        "id": "ZLbbdc03IHLf",
        "colab_type": "code",
        "colab": {
          "base_uri": "https://localhost:8080/",
          "height": 282
        },
        "outputId": "49aa7fda-3e6e-4e14-f261-05750150fa49"
      },
      "source": [
        "plt.plot(ECG_signals[0][:750])"
      ],
      "execution_count": 88,
      "outputs": [
        {
          "output_type": "execute_result",
          "data": {
            "text/plain": [
              "[<matplotlib.lines.Line2D at 0x1835d5e4548>]"
            ]
          },
          "metadata": {
            "tags": []
          },
          "execution_count": 88
        },
        {
          "output_type": "display_data",
          "data": {
            "text/plain": [
              "<Figure size 432x288 with 1 Axes>"
            ],
            "image/png": "[encoded data removed]"
          },
          "metadata": {
            "tags": [],
            "needs_background": "light"
          }
        }
      ]
    },
    {
      "cell_type": "code",
      "metadata": {
        "id": "AOVvoFJrqNRG",
        "colab_type": "code",
        "colab": {
          "base_uri": "https://localhost:8080/",
          "height": 283
        },
        "outputId": "992f059e-b5ac-4391-9490-4147196225c0"
      },
      "source": [
        "plt.plot(ECG_signals[1][:75]*-1)"
      ],
      "execution_count": 102,
      "outputs": [
        {
          "output_type": "execute_result",
          "data": {
            "text/plain": [
              "[<matplotlib.lines.Line2D at 0x186e5c1a2c8>]"
            ]
          },
          "metadata": {
            "tags": []
          },
          "execution_count": 102
        },
        {
          "output_type": "display_data",
          "data": {
            "text/plain": [
              "<Figure size 432x288 with 1 Axes>"
            ],
            "image/png": "[encoded data removed]"
          },
          "metadata": {
            "tags": [],
            "needs_background": "light"
          }
        }
      ]
    },
    {
      "cell_type": "markdown",
      "metadata": {
        "id": "oRkF1W2TCcRD",
        "colab_type": "text"
      },
      "source": [
        "## Label the ECG data "
      ]
    },
    {
      "cell_type": "code",
      "metadata": {
        "id": "RZLcpevfqY39",
        "colab_type": "code",
        "colab": {}
      },
      "source": [
        "#1. flip signals  *-1\n"
      ],
      "execution_count": 0,
      "outputs": []
    },
    {
      "cell_type": "code",
      "metadata": {
        "id": "N6pvVgUMCxqb",
        "colab_type": "code",
        "colab": {
          "base_uri": "https://localhost:8080/",
          "height": 736
        },
        "outputId": "d897e967-5090-45cb-baa2-034b143b6ef0"
      },
      "source": [
        "#use wfdb.resample\n",
        "from wfdb import processing\n",
        "new_ECG_signals = []\n",
        "for i in range(len(ECG_signals)):\n",
        "  new_ECG_signal, _ = wfdb.processing.resample_sig(ECG_signals[i],125,300)\n",
        "  new_ECG_signals.append(new_ECG_signal)\n",
        "plt.plot(new_ECG_signals[1])\n",
        "#apply filters before using DEEP-ECG to label it"
      ],
      "execution_count": 109,
      "outputs": [
        {
          "output_type": "error",
          "ename": "MemoryError",
          "evalue": "ignored",
          "traceback": [
            "\u001b[1;31m---------------------------------------------------------------------------\u001b[0m",
            "\u001b[1;31mMemoryError\u001b[0m                               Traceback (most recent call last)",
            "\u001b[1;32m<ipython-input-109-59609bf918e8>\u001b[0m in \u001b[0;36m<module>\u001b[1;34m\u001b[0m\n\u001b[0;32m      2\u001b[0m \u001b[0mnew_ECG_signals\u001b[0m \u001b[1;33m=\u001b[0m \u001b[1;33m[\u001b[0m\u001b[1;33m]\u001b[0m\u001b[1;33m\u001b[0m\u001b[1;33m\u001b[0m\u001b[0m\n\u001b[0;32m      3\u001b[0m \u001b[1;32mfor\u001b[0m \u001b[0mi\u001b[0m \u001b[1;32min\u001b[0m \u001b[0mrange\u001b[0m\u001b[1;33m(\u001b[0m\u001b[0mlen\u001b[0m\u001b[1;33m(\u001b[0m\u001b[0mECG_signals\u001b[0m\u001b[1;33m)\u001b[0m\u001b[1;33m)\u001b[0m\u001b[1;33m:\u001b[0m\u001b[1;33m\u001b[0m\u001b[1;33m\u001b[0m\u001b[0m\n\u001b[1;32m----> 4\u001b[1;33m   \u001b[0mnew_ECG_signal\u001b[0m\u001b[1;33m,\u001b[0m \u001b[0m_\u001b[0m \u001b[1;33m=\u001b[0m \u001b[0mwfdb\u001b[0m\u001b[1;33m.\u001b[0m\u001b[0mprocessing\u001b[0m\u001b[1;33m.\u001b[0m\u001b[0mresample_sig\u001b[0m\u001b[1;33m(\u001b[0m\u001b[0mECG_signals\u001b[0m\u001b[1;33m[\u001b[0m\u001b[0mi\u001b[0m\u001b[1;33m]\u001b[0m\u001b[1;33m,\u001b[0m\u001b[1;36m125\u001b[0m\u001b[1;33m,\u001b[0m\u001b[1;36m300\u001b[0m\u001b[1;33m)\u001b[0m\u001b[1;33m\u001b[0m\u001b[1;33m\u001b[0m\u001b[0m\n\u001b[0m\u001b[0;32m      5\u001b[0m   \u001b[0mnew_ECG_signals\u001b[0m\u001b[1;33m.\u001b[0m\u001b[0mappend\u001b[0m\u001b[1;33m(\u001b[0m\u001b[0mnew_ECG_signal\u001b[0m\u001b[1;33m)\u001b[0m\u001b[1;33m\u001b[0m\u001b[1;33m\u001b[0m\u001b[0m\n\u001b[0;32m      6\u001b[0m \u001b[0mplt\u001b[0m\u001b[1;33m.\u001b[0m\u001b[0mplot\u001b[0m\u001b[1;33m(\u001b[0m\u001b[0mnew_ECG_signals\u001b[0m\u001b[1;33m[\u001b[0m\u001b[1;36m1\u001b[0m\u001b[1;33m]\u001b[0m\u001b[1;33m)\u001b[0m\u001b[1;33m\u001b[0m\u001b[1;33m\u001b[0m\u001b[0m\n",
            "\u001b[1;32m~\\Anaconda3\\lib\\site-packages\\wfdb\\processing\\basic.py\u001b[0m in \u001b[0;36mresample_sig\u001b[1;34m(x, fs, fs_target)\u001b[0m\n\u001b[0;32m     86\u001b[0m \u001b[1;33m\u001b[0m\u001b[0m\n\u001b[0;32m     87\u001b[0m     \u001b[0mnew_length\u001b[0m \u001b[1;33m=\u001b[0m \u001b[0mint\u001b[0m\u001b[1;33m(\u001b[0m\u001b[0mx\u001b[0m\u001b[1;33m.\u001b[0m\u001b[0mshape\u001b[0m\u001b[1;33m[\u001b[0m\u001b[1;36m0\u001b[0m\u001b[1;33m]\u001b[0m\u001b[1;33m*\u001b[0m\u001b[0mfs_target\u001b[0m\u001b[1;33m/\u001b[0m\u001b[0mfs\u001b[0m\u001b[1;33m)\u001b[0m\u001b[1;33m\u001b[0m\u001b[1;33m\u001b[0m\u001b[0m\n\u001b[1;32m---> 88\u001b[1;33m     \u001b[0mresampled_x\u001b[0m\u001b[1;33m,\u001b[0m \u001b[0mresampled_t\u001b[0m \u001b[1;33m=\u001b[0m \u001b[0msignal\u001b[0m\u001b[1;33m.\u001b[0m\u001b[0mresample\u001b[0m\u001b[1;33m(\u001b[0m\u001b[0mx\u001b[0m\u001b[1;33m,\u001b[0m \u001b[0mnum\u001b[0m\u001b[1;33m=\u001b[0m\u001b[0mnew_length\u001b[0m\u001b[1;33m,\u001b[0m \u001b[0mt\u001b[0m\u001b[1;33m=\u001b[0m\u001b[0mt\u001b[0m\u001b[1;33m)\u001b[0m\u001b[1;33m\u001b[0m\u001b[1;33m\u001b[0m\u001b[0m\n\u001b[0m\u001b[0;32m     89\u001b[0m     \u001b[1;32massert\u001b[0m \u001b[0mresampled_x\u001b[0m\u001b[1;33m.\u001b[0m\u001b[0mshape\u001b[0m \u001b[1;33m==\u001b[0m \u001b[0mresampled_t\u001b[0m\u001b[1;33m.\u001b[0m\u001b[0mshape\u001b[0m \u001b[1;32mand\u001b[0m \u001b[0mresampled_x\u001b[0m\u001b[1;33m.\u001b[0m\u001b[0mshape\u001b[0m\u001b[1;33m[\u001b[0m\u001b[1;36m0\u001b[0m\u001b[1;33m]\u001b[0m \u001b[1;33m==\u001b[0m \u001b[0mnew_length\u001b[0m\u001b[1;33m\u001b[0m\u001b[1;33m\u001b[0m\u001b[0m\n\u001b[0;32m     90\u001b[0m     \u001b[1;32massert\u001b[0m \u001b[0mnp\u001b[0m\u001b[1;33m.\u001b[0m\u001b[0mall\u001b[0m\u001b[1;33m(\u001b[0m\u001b[0mnp\u001b[0m\u001b[1;33m.\u001b[0m\u001b[0mdiff\u001b[0m\u001b[1;33m(\u001b[0m\u001b[0mresampled_t\u001b[0m\u001b[1;33m)\u001b[0m \u001b[1;33m>\u001b[0m \u001b[1;36m0\u001b[0m\u001b[1;33m)\u001b[0m\u001b[1;33m\u001b[0m\u001b[1;33m\u001b[0m\u001b[0m\n",
            "\u001b[1;32m~\\Anaconda3\\lib\\site-packages\\scipy\\signal\\signaltools.py\u001b[0m in \u001b[0;36mresample\u001b[1;34m(x, num, t, axis, window)\u001b[0m\n\u001b[0;32m   2912\u001b[0m     \u001b[1;31m# Inverse transform\u001b[0m\u001b[1;33m\u001b[0m\u001b[1;33m\u001b[0m\u001b[1;33m\u001b[0m\u001b[0m\n\u001b[0;32m   2913\u001b[0m     \u001b[1;32mif\u001b[0m \u001b[0mreal_input\u001b[0m\u001b[1;33m:\u001b[0m\u001b[1;33m\u001b[0m\u001b[1;33m\u001b[0m\u001b[0m\n\u001b[1;32m-> 2914\u001b[1;33m         \u001b[0my\u001b[0m \u001b[1;33m=\u001b[0m \u001b[0msp_fft\u001b[0m\u001b[1;33m.\u001b[0m\u001b[0mirfft\u001b[0m\u001b[1;33m(\u001b[0m\u001b[0mY\u001b[0m\u001b[1;33m,\u001b[0m \u001b[0mnum\u001b[0m\u001b[1;33m,\u001b[0m \u001b[0maxis\u001b[0m\u001b[1;33m=\u001b[0m\u001b[0maxis\u001b[0m\u001b[1;33m)\u001b[0m\u001b[1;33m\u001b[0m\u001b[1;33m\u001b[0m\u001b[0m\n\u001b[0m\u001b[0;32m   2915\u001b[0m     \u001b[1;32melse\u001b[0m\u001b[1;33m:\u001b[0m\u001b[1;33m\u001b[0m\u001b[1;33m\u001b[0m\u001b[0m\n\u001b[0;32m   2916\u001b[0m         \u001b[0my\u001b[0m \u001b[1;33m=\u001b[0m \u001b[0msp_fft\u001b[0m\u001b[1;33m.\u001b[0m\u001b[0mifft\u001b[0m\u001b[1;33m(\u001b[0m\u001b[0mY\u001b[0m\u001b[1;33m,\u001b[0m \u001b[0maxis\u001b[0m\u001b[1;33m=\u001b[0m\u001b[0maxis\u001b[0m\u001b[1;33m,\u001b[0m \u001b[0moverwrite_x\u001b[0m\u001b[1;33m=\u001b[0m\u001b[1;32mTrue\u001b[0m\u001b[1;33m)\u001b[0m\u001b[1;33m\u001b[0m\u001b[1;33m\u001b[0m\u001b[0m\n",
            "\u001b[1;32m~\\Anaconda3\\lib\\site-packages\\scipy\\fft\\_backend.py\u001b[0m in \u001b[0;36m__ua_function__\u001b[1;34m(method, args, kwargs)\u001b[0m\n\u001b[0;32m     21\u001b[0m         \u001b[1;32mif\u001b[0m \u001b[0mfn\u001b[0m \u001b[1;32mis\u001b[0m \u001b[1;32mNone\u001b[0m\u001b[1;33m:\u001b[0m\u001b[1;33m\u001b[0m\u001b[1;33m\u001b[0m\u001b[0m\n\u001b[0;32m     22\u001b[0m             \u001b[1;32mreturn\u001b[0m \u001b[0mNotImplemented\u001b[0m\u001b[1;33m\u001b[0m\u001b[1;33m\u001b[0m\u001b[0m\n\u001b[1;32m---> 23\u001b[1;33m         \u001b[1;32mreturn\u001b[0m \u001b[0mfn\u001b[0m\u001b[1;33m(\u001b[0m\u001b[1;33m*\u001b[0m\u001b[0margs\u001b[0m\u001b[1;33m,\u001b[0m \u001b[1;33m**\u001b[0m\u001b[0mkwargs\u001b[0m\u001b[1;33m)\u001b[0m\u001b[1;33m\u001b[0m\u001b[1;33m\u001b[0m\u001b[0m\n\u001b[0m\u001b[0;32m     24\u001b[0m \u001b[1;33m\u001b[0m\u001b[0m\n\u001b[0;32m     25\u001b[0m \u001b[1;33m\u001b[0m\u001b[0m\n",
            "\u001b[1;32m~\\Anaconda3\\lib\\site-packages\\scipy\\fft\\_pocketfft\\basic.py\u001b[0m in \u001b[0;36mc2r\u001b[1;34m(forward, x, n, axis, norm, overwrite_x, workers)\u001b[0m\n\u001b[0;32m     88\u001b[0m \u001b[1;33m\u001b[0m\u001b[0m\n\u001b[0;32m     89\u001b[0m     \u001b[1;31m# Note: overwrite_x is not utilised\u001b[0m\u001b[1;33m\u001b[0m\u001b[1;33m\u001b[0m\u001b[1;33m\u001b[0m\u001b[0m\n\u001b[1;32m---> 90\u001b[1;33m     \u001b[1;32mreturn\u001b[0m \u001b[0mpfft\u001b[0m\u001b[1;33m.\u001b[0m\u001b[0mc2r\u001b[0m\u001b[1;33m(\u001b[0m\u001b[0mtmp\u001b[0m\u001b[1;33m,\u001b[0m \u001b[1;33m(\u001b[0m\u001b[0maxis\u001b[0m\u001b[1;33m,\u001b[0m\u001b[1;33m)\u001b[0m\u001b[1;33m,\u001b[0m \u001b[0mn\u001b[0m\u001b[1;33m,\u001b[0m \u001b[0mforward\u001b[0m\u001b[1;33m,\u001b[0m \u001b[0mnorm\u001b[0m\u001b[1;33m,\u001b[0m \u001b[1;32mNone\u001b[0m\u001b[1;33m,\u001b[0m \u001b[0mworkers\u001b[0m\u001b[1;33m)\u001b[0m\u001b[1;33m\u001b[0m\u001b[1;33m\u001b[0m\u001b[0m\n\u001b[0m\u001b[0;32m     91\u001b[0m \u001b[1;33m\u001b[0m\u001b[0m\n\u001b[0;32m     92\u001b[0m \u001b[1;33m\u001b[0m\u001b[0m\n",
            "\u001b[1;31mMemoryError\u001b[0m: bad allocation"
          ]
        }
      ]
    },
    {
      "cell_type": "code",
      "metadata": {
        "id": "UwZaUeSWa3Cy",
        "colab_type": "code",
        "colab": {}
      },
      "source": [
        "wfdb.rdsamp(x,)"
      ],
      "execution_count": 0,
      "outputs": []
    },
    {
      "cell_type": "markdown",
      "metadata": {
        "id": "jIdJO__oardO",
        "colab_type": "text"
      },
      "source": [
        "## Data processing for PPG signals"
      ]
    },
    {
      "cell_type": "code",
      "metadata": {
        "id": "r-z1b0CXR8wb",
        "colab_type": "code",
        "colab": {}
      },
      "source": [
        "##From BP paper: https://github.com/supertime1/bp-estimation-mimic3\n",
        "#1. length check - remove files <1min already did when loading the data \n",
        "#2. ppg/ecg normalization - zero mean and unit variance??\n",
        "#3. ppg/ecg band-pass filter - butterworth 4th order (0.5 to 8 Hz)\n",
        "#4. cycle segmentation - elgendi algorithm for peak detection\n",
        "#5. ppg outlier removal - hempel filter (6 samples, 3 stds)\n",
        "#6. flat line and peak removal (consecutive samples with same value)"
      ],
      "execution_count": 0,
      "outputs": []
    },
    {
      "cell_type": "markdown",
      "metadata": {
        "id": "Kzk769I4D8Ek",
        "colab_type": "text"
      },
      "source": [
        "Hampel filter"
      ]
    },
    {
      "cell_type": "code",
      "metadata": {
        "id": "QTAab6SwaofO",
        "colab_type": "code",
        "colab": {}
      },
      "source": [
        "def filter_signal(data, fs):\n",
        "    % INPUT:\n",
        "    % data  -> 2xN matrix where (1,:) is PPG signal and (2,:) is ABP signal, assuming that N >= 10000\n",
        "    % fs    -> Sampling frequency\n",
        "    % OUTPUT\n",
        "    % data  -> filtered input data\n",
        "    \n",
        "    % Remove steep steps at the begining of the data (if there are any)\n",
        "    dff = find( abs(diff(data(1,1:8000))) > 10 , 1);\n",
        "    if(~isempty(dff))\n",
        "        % remove the step in both ABP and PPG\n",
        "        data = data(:,dff+1:end);\n",
        "    end\n",
        "    % check in ABP as well\n",
        "    dff = find( abs(diff(data(2,1:8000))) > 400, 1);\n",
        "    if(~isempty(dff))\n",
        "        % remove the step in both ABP and PPG\n",
        "        data = data(:,dff+1:end);\n",
        "    end\n",
        "    \n",
        "    % In rare cases where the spike apears at the end of signal\n",
        "    dff = find( abs(diff(data(1,(end-8000):end))) > 10 , 1);\n",
        "    if(~isempty(dff))\n",
        "        % remove the step in both ABP and PPG\n",
        "        data = data(:,1:end-dff-1);\n",
        "    end\n",
        "    % check in ABP as well\n",
        "    dff = find( abs(diff(data(2,(end-8000):end))) > 400, 1);\n",
        "    if(~isempty(dff))\n",
        "        % remove the step in both ABP and PPG\n",
        "        data = data(:,1:end-dff-1);\n",
        "    end\n",
        "    \n",
        "    % Flter PPG using the buttersworth filter (Bandwidth, [0.5, 8] Hz, 2-5 order)\n",
        "    [b,a] = butter(4,[0.5,8]/(fs/2));  % butterworth filter\n",
        "    data(1,:) = filtfilt(b,a,data(1,:)); % zero phase filter -> eliminates the phase shift that occurs when filtering\n",
        "    \n",
        "    % Filter ABP using Hampel filter (    median, 6 neighbour, 3x standard deviation)\n",
        "    data(2,:) = hampel(data(2,:),100,5); % no parametr changes due to the effectivenes of the original\n",
        "    \n",
        "    \n",
        "end"
      ],
      "execution_count": 0,
      "outputs": []
    },
    {
      "cell_type": "markdown",
      "metadata": {
        "id": "axvDWvMJdJUG",
        "colab_type": "text"
      },
      "source": [
        "## Build model"
      ]
    },
    {
      "cell_type": "code",
      "metadata": {
        "id": "T45d6faQFP2s",
        "colab_type": "code",
        "colab": {}
      },
      "source": [
        ""
      ],
      "execution_count": 0,
      "outputs": []
    }
  ]
}