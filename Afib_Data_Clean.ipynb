{
  "nbformat": 4,
  "nbformat_minor": 0,
  "metadata": {
    "kernelspec": {
      "display_name": "Python 3",
      "language": "python",
      "name": "python3"
    },
    "language_info": {
      "codemirror_mode": {
        "name": "ipython",
        "version": 3
      },
      "file_extension": ".py",
      "mimetype": "text/x-python",
      "name": "python",
      "nbconvert_exporter": "python",
      "pygments_lexer": "ipython3",
      "version": "3.7.3"
    },
    "colab": {
      "name": "Afib_Data_Clean.ipynb",
      "provenance": [],
      "collapsed_sections": [],
      "toc_visible": true,
      "include_colab_link": true
    }
  },
  "cells": [
    {
      "cell_type": "markdown",
      "metadata": {
        "id": "view-in-github",
        "colab_type": "text"
      },
      "source": [
        "<a href=\"https://colab.research.google.com/github/supertime1/Afib_PPG/blob/master/Afib_Data_Clean.ipynb\" target=\"_parent\"><img src=\"https://colab.research.google.com/assets/colab-badge.svg\" alt=\"Open In Colab\"/></a>"
      ]
    },
    {
      "cell_type": "markdown",
      "metadata": {
        "id": "XicF29ysTjJQ",
        "colab_type": "text"
      },
      "source": [
        "#1.Introduction"
      ]
    },
    {
      "cell_type": "markdown",
      "metadata": {
        "id": "dhN12jIRTooB",
        "colab_type": "text"
      },
      "source": [
        "This notebook processes the ECG and PPG signals from MIMIC-III waveform database.\n",
        "(https://archive.physionet.org/physiobank/database/mimic3wdb/matched/ ）\n",
        "\n",
        "\n",
        "The Deep-ECG model is used to label the ECG, as well as PPG signals. The output is PPG signals with 30s segements at 300 Hz, with Afib and NSR labels. The output data will be used to train a Deep-PPG model in Afib_PPG notebook."
      ]
    },
    {
      "cell_type": "markdown",
      "metadata": {
        "id": "Pnp28rMOdJT9",
        "colab_type": "text"
      },
      "source": [
        "#2.Setup Environment"
      ]
    },
    {
      "cell_type": "code",
      "metadata": {
        "id": "F_ZSkQAudJT_",
        "colab_type": "code",
        "outputId": "1d239e5d-af31-4165-8fcd-48ebcd20ba82",
        "colab": {
          "base_uri": "https://localhost:8080/",
          "height": 33
        }
      },
      "source": [
        "from IPython.display import display\n",
        "import pandas as pd\n",
        "import matplotlib.pyplot as plt\n",
        "%matplotlib inline\n",
        "%load_ext tensorboard\n",
        "import numpy as np\n",
        "import os\n",
        "import shutil\n",
        "import glob\n",
        "import wfdb\n",
        "import tensorflow as tf\n",
        "from tensorflow import keras\n",
        "from tensorflow.keras.models import load_model \n",
        "from tensorflow.keras.callbacks import TensorBoard\n",
        "import tensorflow_datasets as tfds\n",
        "import multiprocessing\n",
        "from datetime import datetime\n",
        "import sklearn.metrics\n",
        "import itertools\n",
        "import io\n",
        "import pickle\n",
        "print(tf.__version__)"
      ],
      "execution_count": 1,
      "outputs": [
        {
          "output_type": "stream",
          "text": [
            "2.1.0\n"
          ],
          "name": "stdout"
        }
      ]
    },
    {
      "cell_type": "code",
      "metadata": {
        "id": "LZZazeQjsUMH",
        "colab_type": "code",
        "colab": {}
      },
      "source": [
        "#run this cell if multiple GPUs are used\n",
        "tf.debugging.set_log_device_placement(True)"
      ],
      "execution_count": 0,
      "outputs": []
    },
    {
      "cell_type": "code",
      "metadata": {
        "id": "zkUXM25ksWAW",
        "colab_type": "code",
        "outputId": "2199837a-7a27-4576-9375-7d758a4fe5d2",
        "colab": {
          "base_uri": "https://localhost:8080/",
          "height": 245
        }
      },
      "source": [
        "from tensorflow.python.client import device_lib \n",
        "print(device_lib.list_local_devices())"
      ],
      "execution_count": 0,
      "outputs": [
        {
          "output_type": "stream",
          "text": [
            "[name: \"/device:CPU:0\"\n",
            "device_type: \"CPU\"\n",
            "memory_limit: 268435456\n",
            "locality {\n",
            "}\n",
            "incarnation: 7179338703623986051\n",
            ", name: \"/device:XLA_CPU:0\"\n",
            "device_type: \"XLA_CPU\"\n",
            "memory_limit: 17179869184\n",
            "locality {\n",
            "}\n",
            "incarnation: 1724157866944822567\n",
            "physical_device_desc: \"device: XLA_CPU device\"\n",
            "]\n"
          ],
          "name": "stdout"
        }
      ]
    },
    {
      "cell_type": "code",
      "metadata": {
        "id": "SIQq3r4ysWzs",
        "colab_type": "code",
        "outputId": "e0fc46f8-a2d5-4c38-8e84-5c65eb77a43d",
        "colab": {
          "base_uri": "https://localhost:8080/",
          "height": 34
        }
      },
      "source": [
        "tf.test.is_built_with_cuda()"
      ],
      "execution_count": 0,
      "outputs": [
        {
          "output_type": "execute_result",
          "data": {
            "text/plain": [
              "True"
            ]
          },
          "metadata": {
            "tags": []
          },
          "execution_count": 2
        }
      ]
    },
    {
      "cell_type": "markdown",
      "metadata": {
        "id": "2kiGC1-qse4g",
        "colab_type": "text"
      },
      "source": [
        "#3.Load ECG and PPG data"
      ]
    },
    {
      "cell_type": "code",
      "metadata": {
        "id": "nsptUR58slz4",
        "colab_type": "code",
        "outputId": "933ba656-4c8c-476a-e235-b891910b9019",
        "colab": {
          "base_uri": "https://localhost:8080/",
          "height": 33
        }
      },
      "source": [
        "hd_names = []\n",
        "for name in glob.glob(\"/Users/luffygaga/Downloads/mimic3wdb/matched/p00/p00/*/[0-9]*[!layout][!n].dat\"):\n",
        "  if os.path.getsize(name) < 17*1024:\n",
        "    continue\n",
        "  position = name.index('.')\n",
        "  name = name[0:position] #remove the .hea part to comply the wfdb.rdrecord format\n",
        "  hd_names.append(name)\n",
        "print(\"There are total \", len(hd_names), \"records that are bigger than 17kb\")"
      ],
      "execution_count": 0,
      "outputs": [
        {
          "output_type": "stream",
          "text": [
            "There are total  27303 records that are bigger than 17kb\n"
          ],
          "name": "stdout"
        }
      ]
    },
    {
      "cell_type": "code",
      "metadata": {
        "id": "M0TPbvudO55W",
        "colab_type": "code",
        "outputId": "c5d6cc21-93ee-4e06-c02e-05460962f01f",
        "colab": {
          "base_uri": "https://localhost:8080/",
          "height": 33
        }
      },
      "source": [
        "qualified_names = [] #a list of file names that contain both PPG and ECG Lead I waveforms\n",
        "for name in hd_names:\n",
        "  record = wfdb.rdheader(name)\n",
        "  if 'I' in record.sig_name and 'PLETH' in record.sig_name and record.sig_len >= 75000: #extact only records contrains ECG lead I and PPG, and >=10min\n",
        "    qualified_names.append(name)\n",
        "print('There are total', len(qualified_names), 'records that have both ECG and PPG with more than 10min recording')"
      ],
      "execution_count": 0,
      "outputs": [
        {
          "output_type": "stream",
          "text": [
            "There are total 361 records that have both ECG and PPG with more than 10min recording\n"
          ],
          "name": "stdout"
        }
      ]
    },
    {
      "cell_type": "code",
      "metadata": {
        "id": "-Xoh-dXJOuOD",
        "colab_type": "code",
        "outputId": "fc3a6afc-e660-47a0-8838-921b083e1b49",
        "colab": {
          "base_uri": "https://localhost:8080/",
          "height": 50
        }
      },
      "source": [
        "##use the same name for wfdb.rdrecord\n",
        "##sampling freq is 125 Hz for both ECG and PPG: \n",
        "##Documentation: https://archive.physionet.org/physiobank/database/mimic3wdb/\n",
        "ECG_signals = [] #create a  list to store all  ECG signals\n",
        "PPG_signals = [] #create a  list to store all  PPG signals\n",
        "for name in qualified_names:\n",
        "  record = wfdb.rdrecord(name)\n",
        "\n",
        "  ECG_index = record.sig_name.index('I')\n",
        "  PPG_index = record.sig_name.index('PLETH')\n",
        "  ECG_sig = record.p_signal.T[ECG_index]\n",
        "  PPG_sig = record.p_signal.T[PPG_index]\n",
        "\n",
        "  if np.isnan(ECG_sig).any() or np.isnan(PPG_sig).any(): ##remove list with all empty signals\n",
        "    continue\n",
        "  else:\n",
        "    ECG_signals.append(ECG_sig)\n",
        "    PPG_signals.append(PPG_sig)\n",
        "\n",
        "print('ECG signals len:', len(ECG_signals))\n",
        "print('PPG signals len:', len(PPG_signals))"
      ],
      "execution_count": 0,
      "outputs": [
        {
          "output_type": "stream",
          "text": [
            "ECG signals len: 214\n",
            "PPG signals len: 214\n"
          ],
          "name": "stdout"
        }
      ]
    },
    {
      "cell_type": "code",
      "metadata": {
        "id": "xNINTnr-cEuH",
        "colab_type": "code",
        "colab": {
          "base_uri": "https://localhost:8080/",
          "height": 243
        },
        "outputId": "5eb3c250-d59b-403d-f6ee-43c8182f6222"
      },
      "source": [
        "#save the data\n",
        "#save ECG data\n",
        "with open('/Users/luffygaga/Downloads/mimic3wdb/matched/ECG_signals.pkl', \"wb\") as fp:\n",
        "  pickle.dump(ECG_signals, fp)\n",
        "#save PPG data\n",
        "with open('/Users/luffygaga/Downloads/mimic3wdb/matched/PPG_signals.pkl', \"wb\") as fp:\n",
        "  pickle.dump(PPG_signals, fp)"
      ],
      "execution_count": 58,
      "outputs": [
        {
          "output_type": "error",
          "ename": "FileNotFoundError",
          "evalue": "ignored",
          "traceback": [
            "\u001b[1;31m---------------------------------------------------------------------------\u001b[0m",
            "\u001b[1;31mFileNotFoundError\u001b[0m                         Traceback (most recent call last)",
            "\u001b[1;32m<ipython-input-58-e01fbeeca8ba>\u001b[0m in \u001b[0;36m<module>\u001b[1;34m\u001b[0m\n\u001b[1;32m----> 1\u001b[1;33m \u001b[1;32mwith\u001b[0m \u001b[0mopen\u001b[0m\u001b[1;33m(\u001b[0m\u001b[1;34m'/Users/luffygaga/Downloads/mimic3wdb/matched/ECG_signals.pkl'\u001b[0m\u001b[1;33m,\u001b[0m \u001b[1;34m\"wb\"\u001b[0m\u001b[1;33m)\u001b[0m \u001b[1;32mas\u001b[0m \u001b[0mfp\u001b[0m\u001b[1;33m:\u001b[0m\u001b[1;33m\u001b[0m\u001b[1;33m\u001b[0m\u001b[0m\n\u001b[0m\u001b[0;32m      2\u001b[0m   \u001b[0mpickle\u001b[0m\u001b[1;33m.\u001b[0m\u001b[0mdump\u001b[0m\u001b[1;33m(\u001b[0m\u001b[0mECG_signals\u001b[0m\u001b[1;33m,\u001b[0m \u001b[0mfp\u001b[0m\u001b[1;33m)\u001b[0m\u001b[1;33m\u001b[0m\u001b[1;33m\u001b[0m\u001b[0m\n\u001b[0;32m      3\u001b[0m \u001b[1;31m#save PPG data\u001b[0m\u001b[1;33m\u001b[0m\u001b[1;33m\u001b[0m\u001b[1;33m\u001b[0m\u001b[0m\n\u001b[0;32m      4\u001b[0m \u001b[1;31m#with open('/Users/luffygaga/Downloads/mimic3wdb/matched/PPG_signals.pkl', \"wb\") as fp:\u001b[0m\u001b[1;33m\u001b[0m\u001b[1;33m\u001b[0m\u001b[1;33m\u001b[0m\u001b[0m\n\u001b[0;32m      5\u001b[0m   \u001b[1;31m#pickle.dump(PPG_signals, fp)\u001b[0m\u001b[1;33m\u001b[0m\u001b[1;33m\u001b[0m\u001b[1;33m\u001b[0m\u001b[0m\n",
            "\u001b[1;31mFileNotFoundError\u001b[0m: [Errno 2] No such file or directory: '/Users/luffygaga/Downloads/mimic3wdb/matched/ECG_signals.pkl'"
          ]
        }
      ]
    },
    {
      "cell_type": "code",
      "metadata": {
        "id": "mEArMyv_mRrd",
        "colab_type": "code",
        "colab": {}
      },
      "source": [
        "with open('C:/Users/57lzhang/Downloads/ECG_signals.pkl', \"rb\") as fp:\n",
        "  raw_ECG_signals = pickle.load(fp)"
      ],
      "execution_count": 0,
      "outputs": []
    },
    {
      "cell_type": "markdown",
      "metadata": {
        "id": "_Kay94gJU4qQ",
        "colab_type": "text"
      },
      "source": [
        "#4.Process ECG data"
      ]
    },
    {
      "cell_type": "markdown",
      "metadata": {
        "id": "oRkF1W2TCcRD",
        "colab_type": "text"
      },
      "source": [
        "## 4.1 Resample ECG signals "
      ]
    },
    {
      "cell_type": "code",
      "metadata": {
        "id": "N6pvVgUMCxqb",
        "colab_type": "code",
        "colab": {}
      },
      "source": [
        "#use wfdb.resample\n",
        "#from wfdb import processing\n",
        "#resamp_ECG_signals = []\n",
        "#for i in range(len(ECG_signals)):\n",
        "  #resamp_ECG_signal, _ = wfdb.processing.resample_sig(raw_ECG_signals[i],125,300)\n",
        "  #resamp_ECG_signals.append(new_ECG_signal)\n",
        "#apply filters before using DEEP-ECG to label it"
      ],
      "execution_count": 0,
      "outputs": []
    },
    {
      "cell_type": "code",
      "metadata": {
        "id": "gU3j69GTjbls",
        "colab_type": "code",
        "outputId": "435915ab-ec87-46a9-c0c6-0b2d12324106",
        "colab": {
          "base_uri": "https://localhost:8080/",
          "height": 282
        }
      },
      "source": [
        "#plt.plot(resamp_ECG_signals[1][:432]*-1,label = \"300Hz\")\n",
        "#plt.figure()\n",
        "#plt.plot(raw_ECG_signals[1][:180]*-1, label=\"125Hz\")\n",
        "#plt.legend()"
      ],
      "execution_count": 0,
      "outputs": [
        {
          "output_type": "execute_result",
          "data": {
            "text/plain": [
              "<matplotlib.legend.Legend at 0x24f1addcc08>"
            ]
          },
          "metadata": {
            "tags": []
          },
          "execution_count": 102
        },
        {
          "output_type": "display_data",
          "data": {
            "text/plain": [
              "<Figure size 432x288 with 1 Axes>"
            ],
            "image/png": "[encoded data removed]"
          },
          "metadata": {
            "tags": [],
            "needs_background": "light"
          }
        }
      ]
    },
    {
      "cell_type": "code",
      "metadata": {
        "id": "frOJWvwTLAtt",
        "colab_type": "code",
        "colab": {}
      },
      "source": [
        "#with open('D:/WFDB/matched/ECG_signals_300HZ.pkl', \"wb\") as fp:\n",
        "  #pickle.dump(resamp_ECG_signals, fp)"
      ],
      "execution_count": 0,
      "outputs": []
    },
    {
      "cell_type": "code",
      "metadata": {
        "id": "WHwa7IRWmlyN",
        "colab_type": "code",
        "colab": {}
      },
      "source": [
        "#with open('D:/WFDB/matched/ECG_signals_300HZ.pkl', \"rb\") as fp:\n",
        "  #resamp_ECG_signals = pickle.load(fp)"
      ],
      "execution_count": 0,
      "outputs": []
    },
    {
      "cell_type": "markdown",
      "metadata": {
        "id": "00L3vxm_lRWs",
        "colab_type": "text"
      },
      "source": [
        "##4.2 Flip ECG signals"
      ]
    },
    {
      "cell_type": "code",
      "metadata": {
        "id": "RZLcpevfqY39",
        "colab_type": "code",
        "colab": {}
      },
      "source": [
        "#rev_ECG_signals = np.multiply(raw_ECG_signals, -1)"
      ],
      "execution_count": 0,
      "outputs": []
    },
    {
      "cell_type": "code",
      "metadata": {
        "id": "8wfBGwhmqmFu",
        "colab_type": "code",
        "outputId": "0bcadeeb-0926-4c97-f28f-c3dff740caef",
        "colab": {
          "base_uri": "https://localhost:8080/",
          "height": 33
        }
      },
      "source": [
        "#print(\"After flipping signals, there are:\", len(rev_ECG_signals), \"records\")"
      ],
      "execution_count": 16,
      "outputs": [
        {
          "output_type": "stream",
          "text": [
            "After flipping signals, there are: 214 records\n"
          ],
          "name": "stdout"
        }
      ]
    },
    {
      "cell_type": "code",
      "metadata": {
        "id": "4ASyeZpfTpu5",
        "colab_type": "code",
        "colab": {
          "base_uri": "https://localhost:8080/",
          "height": 281
        },
        "outputId": "1f312a11-1972-422a-be1d-fef1e45fcba3"
      },
      "source": [
        "#plt.plot(raw_ECG_signals[0][:1800],label = \"not flipped\")\n",
        "#plt.plot(rev_ECG_signals[0][:1800], label=\"flipped\")\n",
        "#plt.legend()"
      ],
      "execution_count": 26,
      "outputs": [
        {
          "output_type": "execute_result",
          "data": {
            "text/plain": [
              "<matplotlib.legend.Legend at 0x1dd86257a48>"
            ]
          },
          "metadata": {
            "tags": []
          },
          "execution_count": 26
        },
        {
          "output_type": "display_data",
          "data": {
            "text/plain": [
              "<Figure size 432x288 with 1 Axes>"
            ],
            "image/png": "[encoded data removed]"
          },
          "metadata": {
            "tags": [],
            "needs_background": "light"
          }
        }
      ]
    },
    {
      "cell_type": "markdown",
      "metadata": {
        "id": "d1-4_EAvrXl3",
        "colab_type": "text"
      },
      "source": [
        "##4.3 Band pass filter\n",
        "\n"
      ]
    },
    {
      "cell_type": "code",
      "metadata": {
        "id": "1zfB0Sk6ricU",
        "colab_type": "code",
        "colab": {}
      },
      "source": [
        "from scipy.signal import butter, lfilter\n",
        "def butter_bandpass(lowcut, highcut, fs, order=5):\n",
        "    nyq = 0.5 * fs\n",
        "    low = lowcut / nyq\n",
        "    high = highcut / nyq\n",
        "    b, a = butter(order, [low, high], btype='band')\n",
        "    return b, a\n",
        "\n",
        "\n",
        "def butter_bandpass_filter(data, lowcut, highcut, fs, order=5):\n",
        "    b, a = butter_bandpass(lowcut, highcut, fs, order=order)\n",
        "    y = lfilter(b, a, data)\n",
        "    return y"
      ],
      "execution_count": 0,
      "outputs": []
    },
    {
      "cell_type": "code",
      "metadata": {
        "id": "wZwZrld2u_md",
        "colab_type": "code",
        "outputId": "a567144d-91b9-42e7-c65f-d40fd3efe461",
        "colab": {
          "base_uri": "https://localhost:8080/",
          "height": 33
        }
      },
      "source": [
        "bf_ECG_signals = []\n",
        "for i in range(len(raw_ECG_signals)):\n",
        "  bf_ECG_signal =butter_bandpass_filter(raw_ECG_signals[i],0.2,8,125,order=3)\n",
        "  bf_ECG_signals.append(bf_ECG_signal)\n",
        "print(\"After band pass filtering, there are:\", len(bf_ECG_signals), \"records\")"
      ],
      "execution_count": 27,
      "outputs": [
        {
          "output_type": "stream",
          "text": [
            "After band pass filtering, there are: 214 records\n"
          ],
          "name": "stdout"
        }
      ]
    },
    {
      "cell_type": "code",
      "metadata": {
        "id": "9p8cFv_UvV46",
        "colab_type": "code",
        "outputId": "cb61b4fe-0d41-4c2a-95e1-fa73ff0140a2",
        "colab": {
          "base_uri": "https://localhost:8080/",
          "height": 531
        }
      },
      "source": [
        "plt.plot(raw_ECG_signals[2][:750],label=\"before band pass filtering\")\n",
        "plt.figure()\n",
        "plt.plot(bf_ECG_signals[2][:750], label=\"after band pass filtering\")\n",
        "plt.legend()"
      ],
      "execution_count": 32,
      "outputs": [
        {
          "output_type": "execute_result",
          "data": {
            "text/plain": [
              "<matplotlib.legend.Legend at 0x1de80f4af48>"
            ]
          },
          "metadata": {
            "tags": []
          },
          "execution_count": 32
        },
        {
          "output_type": "display_data",
          "data": {
            "text/plain": [
              "<Figure size 432x288 with 1 Axes>"
            ],
            "image/png": "[encoded data removed]"
          },
          "metadata": {
            "tags": [],
            "needs_background": "light"
          }
        },
        {
          "output_type": "display_data",
          "data": {
            "text/plain": [
              "<Figure size 432x288 with 1 Axes>"
            ],
            "image/png": "[encoded data removed]"
          },
          "metadata": {
            "tags": [],
            "needs_background": "light"
          }
        }
      ]
    },
    {
      "cell_type": "markdown",
      "metadata": {
        "id": "-rPVYsRHw_MR",
        "colab_type": "text"
      },
      "source": [
        "##4.4 Normalization"
      ]
    },
    {
      "cell_type": "markdown",
      "metadata": {
        "id": "RCZPoUzwxHGz",
        "colab_type": "text"
      },
      "source": [
        "##4.5 Hampel filter"
      ]
    },
    {
      "cell_type": "code",
      "metadata": {
        "id": "rM-vstDvxLwF",
        "colab_type": "code",
        "colab": {}
      },
      "source": [
        "def hampel_filter_forloop(input_series, window_size, n_sigmas=3):\n",
        "    \n",
        "    n = len(input_series)\n",
        "    new_series = input_series.copy()\n",
        "    k = 1.4826 # scale factor for Gaussian distribution\n",
        "    \n",
        "    indices = []\n",
        "    \n",
        "    # possibly use np.nanmedian \n",
        "    for i in range((window_size),(n - window_size)):\n",
        "        x0 = np.median(input_series[(i - window_size):(i + window_size)])\n",
        "        S0 = k * np.median(np.abs(input_series[(i - window_size):(i + window_size)] - x0))\n",
        "        if (np.abs(input_series[i] - x0) > n_sigmas * S0):\n",
        "            new_series[i] = x0\n",
        "            indices.append(i)\n",
        "    \n",
        "    return new_series, indices"
      ],
      "execution_count": 0,
      "outputs": []
    },
    {
      "cell_type": "code",
      "metadata": {
        "id": "T7xqw_fs87x1",
        "colab_type": "code",
        "colab": {}
      },
      "source": [
        "hf_ECG_signals=[]\n",
        "for i in range(len(bf_ECG_signals)):\n",
        "  print(\"hampel filering for\", i+1, \"th sample...\")\n",
        "  hf_ECG_signal, _ = hampel_filter_forloop(bf_ECG_signals[i], 10)\n",
        "  hf_ECG_signals.append(hf_ECG_signal)\n",
        "print(\"After Hample filtering, there are:\", len(hf_ECG_signals), \"records\")"
      ],
      "execution_count": 0,
      "outputs": []
    },
    {
      "cell_type": "code",
      "metadata": {
        "id": "fDDwtdGp9lJc",
        "colab_type": "code",
        "outputId": "8b9d0b7b-9ead-4186-9bde-9acec5c930ff",
        "colab": {
          "base_uri": "https://localhost:8080/",
          "height": 531
        }
      },
      "source": [
        "plt.plot(hf_ECG_signals[1][400:505], label = \"before hampel filter\")\n",
        "plt.figure()\n",
        "plt.plot(bf_ECG_signals[1][400:505], label = \"after hampel filter\")\n",
        "plt.legend()"
      ],
      "execution_count": 35,
      "outputs": [
        {
          "output_type": "execute_result",
          "data": {
            "text/plain": [
              "<matplotlib.legend.Legend at 0x1de8138c5c8>"
            ]
          },
          "metadata": {
            "tags": []
          },
          "execution_count": 35
        },
        {
          "output_type": "display_data",
          "data": {
            "text/plain": [
              "<Figure size 432x288 with 1 Axes>"
            ],
            "image/png": "[encoded data removed]"
          },
          "metadata": {
            "tags": [],
            "needs_background": "light"
          }
        },
        {
          "output_type": "display_data",
          "data": {
            "text/plain": [
              "<Figure size 432x288 with 1 Axes>"
            ],
            "image/png": "[encoded data removed]"
          },
          "metadata": {
            "tags": [],
            "needs_background": "light"
          }
        }
      ]
    },
    {
      "cell_type": "code",
      "metadata": {
        "id": "L0miNlQxuj_O",
        "colab_type": "code",
        "colab": {}
      },
      "source": [
        "with open('C:/Users/57lzhang/Downloads/filtered_ECG_signals.pkl', \"wb\") as fp:\n",
        "  pickle.dump(bf_ECG_signals, fp)"
      ],
      "execution_count": 0,
      "outputs": []
    },
    {
      "cell_type": "markdown",
      "metadata": {
        "id": "tTzpEES4CDQP",
        "colab_type": "text"
      },
      "source": [
        "##4.6 Flat line and peak removal"
      ]
    },
    {
      "cell_type": "code",
      "metadata": {
        "id": "LRgQ3jT1CIeH",
        "colab_type": "code",
        "colab": {}
      },
      "source": [
        "##"
      ],
      "execution_count": 0,
      "outputs": []
    },
    {
      "cell_type": "markdown",
      "metadata": {
        "id": "jIdJO__oardO",
        "colab_type": "text"
      },
      "source": [
        "## 4.7 Segmentation"
      ]
    },
    {
      "cell_type": "code",
      "metadata": {
        "id": "r-z1b0CXR8wb",
        "colab_type": "code",
        "colab": {}
      },
      "source": [
        "def generate_segment_data(source,seg_len):\n",
        "  n=0\n",
        "  signals =[]\n",
        "  for signal in source:\n",
        "    for i in range(int(len(signal)/seg_len)):\n",
        "      seg = signal[seg_len*i:seg_len*(i+1)]\n",
        "      signals.append(seg)\n",
        "    n+=1\n",
        "#convert list into a numpy array and change its dim from (num of records, seg_len, 1) to (num of records, seg_len)\n",
        "  signals = np.asarray(list(map(lambda x: np.reshape(x,3750),signals)))\n",
        "\n",
        "  return signals"
      ],
      "execution_count": 0,
      "outputs": []
    },
    {
      "cell_type": "code",
      "metadata": {
        "id": "MjvVDrcvEuYg",
        "colab_type": "code",
        "colab": {
          "base_uri": "https://localhost:8080/",
          "height": 50
        },
        "outputId": "65df3343-e592-4f4c-f866-4eeb086313dd"
      },
      "source": [
        "signals = generate_segment_data(bf_ECG_signals, 3750)\n",
        "print('signals dim:', signals.shape)\n",
        "signals = np.expand_dims(signals, axis=1)\n",
        "signals = np.expand_dims(signals,axis=3)\n",
        "print('signals dim after resize', signals.shape)"
      ],
      "execution_count": 39,
      "outputs": [
        {
          "output_type": "stream",
          "text": [
            "signals dim: (99656, 3750)\n",
            "signals dim after resize (99656, 1, 3750, 1)\n"
          ],
          "name": "stdout"
        }
      ]
    },
    {
      "cell_type": "markdown",
      "metadata": {
        "id": "8GUON2zTFmmJ",
        "colab_type": "text"
      },
      "source": [
        "# 5.Predict Afib using ECG signal"
      ]
    },
    {
      "cell_type": "code",
      "metadata": {
        "id": "cY6cwDdYFL0j",
        "colab_type": "code",
        "colab": {}
      },
      "source": [
        "#load model\n",
        "os.chdir(r\"C:\\Users\\57lzhang\\Downloads\")\n",
        "model = tf.keras.models.load_model('Deep_ECG.h5')"
      ],
      "execution_count": 0,
      "outputs": []
    },
    {
      "cell_type": "code",
      "metadata": {
        "id": "IyP7wl3MGWyR",
        "colab_type": "code",
        "colab": {}
      },
      "source": [
        "prediction = model.predict(signals)"
      ],
      "execution_count": 0,
      "outputs": []
    },
    {
      "cell_type": "code",
      "metadata": {
        "id": "hdjCGmFZKs0T",
        "colab_type": "code",
        "colab": {}
      },
      "source": [
        "threshold = 0.5\n",
        "pred = np.where(prediction > threshold, 1, 0)"
      ],
      "execution_count": 0,
      "outputs": []
    },
    {
      "cell_type": "code",
      "metadata": {
        "id": "CLVYfPPYK6aF",
        "colab_type": "code",
        "colab": {
          "base_uri": "https://localhost:8080/",
          "height": 50
        },
        "outputId": "632b6d71-6a72-48c2-f17f-0f7883807ec2"
      },
      "source": [
        "unique,counts=np.unique(pred, return_counts=True)\n",
        "print('There are', counts[0], 'Non-Afib')\n",
        "print('There are', counts[1], 'Afib')"
      ],
      "execution_count": 57,
      "outputs": [
        {
          "output_type": "stream",
          "text": [
            "There are 94891 Non-Afib\n",
            "There are 4765 Afib\n"
          ],
          "name": "stdout"
        }
      ]
    },
    {
      "cell_type": "code",
      "metadata": {
        "id": "BplTJGaXNWlm",
        "colab_type": "code",
        "colab": {}
      },
      "source": [
        "np.savetxt('ECG_Afib_labels.csv',pred,fmt='%1.0f')"
      ],
      "execution_count": 0,
      "outputs": []
    },
    {
      "cell_type": "markdown",
      "metadata": {
        "id": "axvDWvMJdJUG",
        "colab_type": "text"
      },
      "source": [
        "#6.Label PPG data"
      ]
    },
    {
      "cell_type": "markdown",
      "metadata": {
        "id": "5UJ5ppRTYX7g",
        "colab_type": "text"
      },
      "source": [
        "##6.1 Resample PPG signals"
      ]
    },
    {
      "cell_type": "code",
      "metadata": {
        "id": "NDmUfYBfaQdM",
        "colab_type": "code",
        "colab": {}
      },
      "source": [
        "#use wfdb.resample\n",
        "from wfdb import processing\n",
        "resamp_PPG_signals = []\n",
        "for i in range(len(ECG_signals)):\n",
        "  resamp_PPG_signal, _ = wfdb.processing.resample_sig(raw_PPG_signals[i],125,300)\n",
        "  resamp_PPG_signals.append(new_PPG_signal)\n",
        "#apply filters before using DEEP-ECG to label it"
      ],
      "execution_count": 0,
      "outputs": []
    },
    {
      "cell_type": "code",
      "metadata": {
        "id": "Tud5Ir-SaRPq",
        "colab_type": "code",
        "colab": {}
      },
      "source": [
        "plt.plot(resamp_PPG_signals[1][:180]*-1,label = \"300Hz\")\n",
        "plt.plot(raw_PPG_signals[1][:180]*-1, label=\"125Hz\")\n",
        "plt.legend()"
      ],
      "execution_count": 0,
      "outputs": []
    },
    {
      "cell_type": "markdown",
      "metadata": {
        "id": "BqPKG0xPYdk2",
        "colab_type": "text"
      },
      "source": [
        "##6.2 Flip PPG signals"
      ]
    },
    {
      "cell_type": "code",
      "metadata": {
        "id": "2BYwklfaaUmu",
        "colab_type": "code",
        "colab": {}
      },
      "source": [
        "rev_PPG_signals = np.multiply(resamp_PPG_signals, -1)"
      ],
      "execution_count": 0,
      "outputs": []
    },
    {
      "cell_type": "code",
      "metadata": {
        "id": "aFWuSgkSajBj",
        "colab_type": "code",
        "colab": {}
      },
      "source": [
        "print(\"After band pass filtering, there are:\", len(rev_PPG_signals), \"records\")"
      ],
      "execution_count": 0,
      "outputs": []
    },
    {
      "cell_type": "code",
      "metadata": {
        "id": "ZXq0EcXVajjA",
        "colab_type": "code",
        "colab": {}
      },
      "source": [
        "plt.plot(resamp_PPG_signals[1][:180]*-1,label = \"not flipped\")\n",
        "plt.plot(rev_PPG_signals[1][:180]*-1, label=\"flipped\")\n",
        "plt.legend()"
      ],
      "execution_count": 0,
      "outputs": []
    },
    {
      "cell_type": "markdown",
      "metadata": {
        "id": "TetK0c-lYhJG",
        "colab_type": "text"
      },
      "source": [
        "## 6.3 Band pass filter"
      ]
    },
    {
      "cell_type": "code",
      "metadata": {
        "id": "LMQu8p5TamKa",
        "colab_type": "code",
        "colab": {}
      },
      "source": [
        "bf_PPG_signals = []\n",
        "for i in range(len(rev_PPG_signals)):\n",
        "  bf_PPG_signal =butter_bandpass_filter(rev_PPG_signals[i],0.2,8,300,order=3)\n",
        "  bf_PPG_signals.append(f_PPG_signal)\n",
        "print(\"After band pass filtering, there are:\", len(bf_PPG_signals), \"records\")"
      ],
      "execution_count": 0,
      "outputs": []
    },
    {
      "cell_type": "code",
      "metadata": {
        "id": "uQjarVPYaqFM",
        "colab_type": "code",
        "colab": {}
      },
      "source": [
        "plt.plot(rev_PPG_signals[1][:3000],label=\"before band pass filtering\")\n",
        "plt.plot(bf_PPG_signals[1][:3000], label=\"after band pass filtering\")\n",
        "plt.legend()"
      ],
      "execution_count": 0,
      "outputs": []
    },
    {
      "cell_type": "markdown",
      "metadata": {
        "id": "WfBuc3nCYl-F",
        "colab_type": "text"
      },
      "source": [
        "##6.4 Normalization"
      ]
    },
    {
      "cell_type": "markdown",
      "metadata": {
        "id": "QELxeDnhYoOo",
        "colab_type": "text"
      },
      "source": [
        "##6.5 Hampel filter"
      ]
    },
    {
      "cell_type": "code",
      "metadata": {
        "id": "x1ZAnFsGaxTm",
        "colab_type": "code",
        "colab": {}
      },
      "source": [
        "hf_PPG_signals=[]\n",
        "for i in range(len(bf_PPG_signals)):\n",
        "  print(\"band pass filering at\", i+1, \"th sample...\")\n",
        "  hf_PPG_signal, _ = hampel_filter_forloop(bf_PPG_signals[i], 10)\n",
        "  hf_PPG_signals.append(hf_PPG_signal)\n",
        "print(\"After Hample filtering, there are:\", len(hf_PPG_signals), \"records\")"
      ],
      "execution_count": 0,
      "outputs": []
    },
    {
      "cell_type": "code",
      "metadata": {
        "id": "FT3rUni-a0o8",
        "colab_type": "code",
        "colab": {}
      },
      "source": [
        "plt.plot(hf_PPG_signals[1][400:505], label = \"before hampel filter\")\n",
        "plt.plot(bf_PPG_signals[1][400:505], label = \"after hampel filter\")\n",
        "plt.legend()"
      ],
      "execution_count": 0,
      "outputs": []
    },
    {
      "cell_type": "markdown",
      "metadata": {
        "id": "iwoarb72YtSO",
        "colab_type": "text"
      },
      "source": [
        "## 6.6 Flat line and peak removal"
      ]
    },
    {
      "cell_type": "markdown",
      "metadata": {
        "id": "7PsRZKtKYv9J",
        "colab_type": "text"
      },
      "source": [
        "##6.7 Segmentaion"
      ]
    },
    {
      "cell_type": "code",
      "metadata": {
        "id": "T45d6faQFP2s",
        "colab_type": "code",
        "colab": {}
      },
      "source": [
        "#join table"
      ],
      "execution_count": 0,
      "outputs": []
    }
  ]
}