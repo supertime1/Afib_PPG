{
  "nbformat": 4,
  "nbformat_minor": 0,
  "metadata": {
    "kernelspec": {
      "display_name": "Python 3",
      "language": "python",
      "name": "python3"
    },
    "language_info": {
      "codemirror_mode": {
        "name": "ipython",
        "version": 3
      },
      "file_extension": ".py",
      "mimetype": "text/x-python",
      "name": "python",
      "nbconvert_exporter": "python",
      "pygments_lexer": "ipython3",
      "version": "3.7.3"
    },
    "colab": {
      "name": "Afib_Data_Clean.ipynb",
      "provenance": [],
      "collapsed_sections": [],
      "toc_visible": true,
      "include_colab_link": true
    }
  },
  "cells": [
    {
      "cell_type": "markdown",
      "metadata": {
        "id": "view-in-github",
        "colab_type": "text"
      },
      "source": [
        "<a href=\"https://colab.research.google.com/github/supertime1/Afib_PPG/blob/master/Afib_Data_Clean.ipynb\" target=\"_parent\"><img src=\"https://colab.research.google.com/assets/colab-badge.svg\" alt=\"Open In Colab\"/></a>"
      ]
    },
    {
      "cell_type": "markdown",
      "metadata": {
        "id": "XicF29ysTjJQ",
        "colab_type": "text"
      },
      "source": [
        "#1.Introduction"
      ]
    },
    {
      "cell_type": "markdown",
      "metadata": {
        "id": "dhN12jIRTooB",
        "colab_type": "text"
      },
      "source": [
        "This notebook processes the ECG and PPG signals from MIMIC-III waveform database.\n",
        "(https://archive.physionet.org/physiobank/database/mimic3wdb/matched/ ）\n",
        "\n",
        "\n",
        "The Deep-ECG model is used to label the ECG, as well as PPG signals. The output is PPG signals with 30s segements at 300 Hz, with Afib and NSR labels. The output data will be used to train a Deep-PPG model in Afib_PPG notebook."
      ]
    },
    {
      "cell_type": "markdown",
      "metadata": {
        "id": "Pnp28rMOdJT9",
        "colab_type": "text"
      },
      "source": [
        "#2.Setup Environment"
      ]
    },
    {
      "cell_type": "code",
      "metadata": {
        "id": "F_ZSkQAudJT_",
        "colab_type": "code",
        "outputId": "ce65e8ac-729a-44b1-878c-393fb5fb87a5",
        "colab": {
          "base_uri": "https://localhost:8080/",
          "height": 34
        }
      },
      "source": [
        "from IPython.display import display\n",
        "import pandas as pd\n",
        "import matplotlib.pyplot as plt\n",
        "%matplotlib inline\n",
        "%load_ext tensorboard\n",
        "import numpy as np\n",
        "import os\n",
        "import shutil\n",
        "import glob\n",
        "import wfdb\n",
        "import tensorflow as tf\n",
        "from tensorflow import keras\n",
        "from tensorflow.keras.models import load_model \n",
        "from tensorflow.keras.callbacks import TensorBoard\n",
        "import tensorflow_datasets as tfds\n",
        "import multiprocessing\n",
        "from datetime import datetime\n",
        "import sklearn.metrics\n",
        "import itertools\n",
        "import io\n",
        "import pickle\n",
        "print(tf.__version__)"
      ],
      "execution_count": 1,
      "outputs": [
        {
          "output_type": "stream",
          "text": [
            "2.1.0\n"
          ],
          "name": "stdout"
        }
      ]
    },
    {
      "cell_type": "code",
      "metadata": {
        "id": "LZZazeQjsUMH",
        "colab_type": "code",
        "colab": {}
      },
      "source": [
        "#run this cell if multiple GPUs are used\n",
        "tf.debugging.set_log_device_placement(True)"
      ],
      "execution_count": 0,
      "outputs": []
    },
    {
      "cell_type": "code",
      "metadata": {
        "id": "zkUXM25ksWAW",
        "colab_type": "code",
        "colab": {}
      },
      "source": [
        "from tensorflow.python.client import device_lib \n",
        "print(device_lib.list_local_devices())"
      ],
      "execution_count": 0,
      "outputs": []
    },
    {
      "cell_type": "code",
      "metadata": {
        "id": "SIQq3r4ysWzs",
        "colab_type": "code",
        "outputId": "3f900157-f7bd-4bed-e13c-25f0f53689fc",
        "colab": {
          "base_uri": "https://localhost:8080/",
          "height": 34
        }
      },
      "source": [
        "tf.test.is_built_with_cuda()"
      ],
      "execution_count": 4,
      "outputs": [
        {
          "output_type": "execute_result",
          "data": {
            "text/plain": [
              "True"
            ]
          },
          "metadata": {
            "tags": []
          },
          "execution_count": 4
        }
      ]
    },
    {
      "cell_type": "markdown",
      "metadata": {
        "id": "2kiGC1-qse4g",
        "colab_type": "text"
      },
      "source": [
        "#3.Load ECG and PPG data"
      ]
    },
    {
      "cell_type": "code",
      "metadata": {
        "id": "nsptUR58slz4",
        "colab_type": "code",
        "outputId": "ddc7da5b-305e-4c10-8ec3-70eb0766065e",
        "colab": {
          "base_uri": "https://localhost:8080/",
          "height": 34
        }
      },
      "source": [
        "hd_names = []\n",
        "for name in glob.glob(\"D:WFDB//matched/p09/*/[0-9]*[!layout][!n].dat\"):\n",
        "  if os.path.getsize(name) < 17*1024:\n",
        "    continue\n",
        "  position = name.index('.')\n",
        "  name = name[0:position] #remove the .hea part to comply the wfdb.rdrecord format\n",
        "  hd_names.append(name)\n",
        "print(\"There are total \", len(hd_names), \"records that are bigger than 17kb\")"
      ],
      "execution_count": 5,
      "outputs": [
        {
          "output_type": "stream",
          "text": [
            "There are total  42791 records that are bigger than 17kb\n"
          ],
          "name": "stdout"
        }
      ]
    },
    {
      "cell_type": "code",
      "metadata": {
        "id": "M0TPbvudO55W",
        "colab_type": "code",
        "outputId": "f31d63ff-df12-4f4e-915b-0595a27911b1",
        "colab": {
          "base_uri": "https://localhost:8080/",
          "height": 34
        }
      },
      "source": [
        "qualified_names = [] #a list of file names that contain both PPG and ECG Lead I waveforms\n",
        "for name in hd_names:\n",
        "  record = wfdb.rdheader(name)\n",
        "  if 'I' in record.sig_name and 'PLETH' in record.sig_name and record.sig_len >= 75000: #extact only records contrains ECG lead I and PPG, and >=10min\n",
        "    qualified_names.append(name)\n",
        "print('There are total', len(qualified_names), 'records that have both ECG and PPG with more than 10min recording')"
      ],
      "execution_count": 6,
      "outputs": [
        {
          "output_type": "stream",
          "text": [
            "There are total 754 records that have both ECG and PPG with more than 10min recording\n"
          ],
          "name": "stdout"
        }
      ]
    },
    {
      "cell_type": "code",
      "metadata": {
        "id": "-Xoh-dXJOuOD",
        "colab_type": "code",
        "outputId": "190def81-227c-4322-a5d2-7f8cea015ffe",
        "colab": {
          "base_uri": "https://localhost:8080/",
          "height": 52
        }
      },
      "source": [
        "##use the same name for wfdb.rdrecord\n",
        "##sampling freq is 125 Hz for both ECG and PPG: \n",
        "##Documentation: https://archive.physionet.org/physiobank/database/mimic3wdb/\n",
        "ECG_signals = [] #create a  list to store all  ECG signals\n",
        "PPG_signals = [] #create a  list to store all  PPG signals\n",
        "for name in qualified_names:\n",
        "  record = wfdb.rdrecord(name)\n",
        "\n",
        "  ECG_index = record.sig_name.index('I')\n",
        "  PPG_index = record.sig_name.index('PLETH')\n",
        "  ECG_sig = record.p_signal.T[ECG_index]\n",
        "  PPG_sig = record.p_signal.T[PPG_index]\n",
        "\n",
        "  if np.isnan(ECG_sig).any() or np.isnan(PPG_sig).any(): ##remove list with all empty signals\n",
        "    continue\n",
        "  else:\n",
        "    ECG_signals.append(ECG_sig)\n",
        "    PPG_signals.append(PPG_sig)\n",
        "\n",
        "print('ECG signals len:', len(ECG_signals))\n",
        "print('PPG signals len:', len(PPG_signals))"
      ],
      "execution_count": 7,
      "outputs": [
        {
          "output_type": "stream",
          "text": [
            "ECG signals len: 417\n",
            "PPG signals len: 417\n"
          ],
          "name": "stdout"
        }
      ]
    },
    {
      "cell_type": "code",
      "metadata": {
        "id": "xNINTnr-cEuH",
        "colab_type": "code",
        "colab": {}
      },
      "source": [
        "#save the data\n",
        "#save ECG data\n",
        "with open('D:WFDB//matched/ECG_signals_p09.pkl', \"wb\") as fp:\n",
        "  pickle.dump(ECG_signals, fp)\n",
        "#save PPG data\n",
        "with open('D:WFDB//matched/PPG_signals_p09.pkl', \"wb\") as fp:\n",
        "  pickle.dump(PPG_signals, fp)"
      ],
      "execution_count": 0,
      "outputs": []
    },
    {
      "cell_type": "code",
      "metadata": {
        "id": "mEArMyv_mRrd",
        "colab_type": "code",
        "colab": {}
      },
      "source": [
        "with open('D:WFDB//matched/ECG_signals_p09.pkl', \"rb\") as fp:\n",
        "  raw_ECG_signals = pickle.load(fp)"
      ],
      "execution_count": 0,
      "outputs": []
    },
    {
      "cell_type": "markdown",
      "metadata": {
        "id": "_Kay94gJU4qQ",
        "colab_type": "text"
      },
      "source": [
        "#4.Process ECG data"
      ]
    },
    {
      "cell_type": "markdown",
      "metadata": {
        "id": "oRkF1W2TCcRD",
        "colab_type": "text"
      },
      "source": [
        "## 4.1 Resample ECG signals "
      ]
    },
    {
      "cell_type": "code",
      "metadata": {
        "id": "N6pvVgUMCxqb",
        "colab_type": "code",
        "colab": {}
      },
      "source": [
        "#use wfdb.resample\n",
        "#from wfdb import processing\n",
        "#resamp_ECG_signals = []\n",
        "#for i in range(len(ECG_signals)):\n",
        "  #resamp_ECG_signal, _ = wfdb.processing.resample_sig(raw_ECG_signals[i],125,300)\n",
        "  #resamp_ECG_signals.append(new_ECG_signal)\n",
        "#apply filters before using DEEP-ECG to label it"
      ],
      "execution_count": 0,
      "outputs": []
    },
    {
      "cell_type": "code",
      "metadata": {
        "id": "gU3j69GTjbls",
        "colab_type": "code",
        "outputId": "435915ab-ec87-46a9-c0c6-0b2d12324106",
        "colab": {
          "base_uri": "https://localhost:8080/",
          "height": 282
        }
      },
      "source": [
        "#plt.plot(resamp_ECG_signals[1][:432]*-1,label = \"300Hz\")\n",
        "#plt.figure()\n",
        "#plt.plot(raw_ECG_signals[1][:180]*-1, label=\"125Hz\")\n",
        "#plt.legend()"
      ],
      "execution_count": 0,
      "outputs": [
        {
          "output_type": "execute_result",
          "data": {
            "text/plain": [
              "<matplotlib.legend.Legend at 0x24f1addcc08>"
            ]
          },
          "metadata": {
            "tags": []
          },
          "execution_count": 102
        },
        {
          "output_type": "display_data",
          "data": {
            "text/plain": [
              "<Figure size 432x288 with 1 Axes>"
            ],
            "image/png": "[encoded data removed]"
          },
          "metadata": {
            "tags": [],
            "needs_background": "light"
          }
        }
      ]
    },
    {
      "cell_type": "code",
      "metadata": {
        "id": "frOJWvwTLAtt",
        "colab_type": "code",
        "colab": {}
      },
      "source": [
        "#with open('D:/WFDB/matched/ECG_signals_300HZ.pkl', \"wb\") as fp:\n",
        "  #pickle.dump(resamp_ECG_signals, fp)"
      ],
      "execution_count": 0,
      "outputs": []
    },
    {
      "cell_type": "code",
      "metadata": {
        "id": "WHwa7IRWmlyN",
        "colab_type": "code",
        "colab": {}
      },
      "source": [
        "#with open('D:/WFDB/matched/ECG_signals_300HZ.pkl', \"rb\") as fp:\n",
        "  #resamp_ECG_signals = pickle.load(fp)"
      ],
      "execution_count": 0,
      "outputs": []
    },
    {
      "cell_type": "markdown",
      "metadata": {
        "id": "00L3vxm_lRWs",
        "colab_type": "text"
      },
      "source": [
        "##4.2 Flip ECG signals"
      ]
    },
    {
      "cell_type": "code",
      "metadata": {
        "id": "RZLcpevfqY39",
        "colab_type": "code",
        "colab": {}
      },
      "source": [
        "rev_ECG_signals = np.multiply(raw_ECG_signals, -1)"
      ],
      "execution_count": 0,
      "outputs": []
    },
    {
      "cell_type": "code",
      "metadata": {
        "id": "8wfBGwhmqmFu",
        "colab_type": "code",
        "outputId": "1ee50f3f-9db4-48af-ffff-14224f84098a",
        "colab": {
          "base_uri": "https://localhost:8080/",
          "height": 34
        }
      },
      "source": [
        "print(\"After flipping signals, there are:\", len(rev_ECG_signals), \"records\")"
      ],
      "execution_count": 12,
      "outputs": [
        {
          "output_type": "stream",
          "text": [
            "After flipping signals, there are: 417 records\n"
          ],
          "name": "stdout"
        }
      ]
    },
    {
      "cell_type": "code",
      "metadata": {
        "id": "4ASyeZpfTpu5",
        "colab_type": "code",
        "outputId": "79d2c3fc-4310-4980-d3b3-5408336f6797",
        "colab": {
          "base_uri": "https://localhost:8080/",
          "height": 282
        }
      },
      "source": [
        "plt.plot(raw_ECG_signals[0][:1800],label = \"not flipped\")\n",
        "plt.plot(rev_ECG_signals[0][:1800], label=\"flipped\")\n",
        "plt.legend()"
      ],
      "execution_count": 13,
      "outputs": [
        {
          "output_type": "execute_result",
          "data": {
            "text/plain": [
              "<matplotlib.legend.Legend at 0x18b42ffdb88>"
            ]
          },
          "metadata": {
            "tags": []
          },
          "execution_count": 13
        },
        {
          "output_type": "display_data",
          "data": {
            "text/plain": [
              "<Figure size 432x288 with 1 Axes>"
            ],
            "image/png": "[encoded data removed]"
          },
          "metadata": {
            "tags": [],
            "needs_background": "light"
          }
        }
      ]
    },
    {
      "cell_type": "markdown",
      "metadata": {
        "id": "d1-4_EAvrXl3",
        "colab_type": "text"
      },
      "source": [
        "##4.3 Band pass filter\n",
        "\n"
      ]
    },
    {
      "cell_type": "code",
      "metadata": {
        "id": "1zfB0Sk6ricU",
        "colab_type": "code",
        "colab": {}
      },
      "source": [
        "from scipy.signal import butter, lfilter\n",
        "def butter_bandpass(lowcut, highcut, fs, order=5):\n",
        "    nyq = 0.5 * fs\n",
        "    low = lowcut / nyq\n",
        "    high = highcut / nyq\n",
        "    b, a = butter(order, [low, high], btype='band')\n",
        "    return b, a\n",
        "\n",
        "\n",
        "def butter_bandpass_filter(data, lowcut, highcut, fs, order=5):\n",
        "    b, a = butter_bandpass(lowcut, highcut, fs, order=order)\n",
        "    y = lfilter(b, a, data)\n",
        "    return y"
      ],
      "execution_count": 0,
      "outputs": []
    },
    {
      "cell_type": "code",
      "metadata": {
        "id": "wZwZrld2u_md",
        "colab_type": "code",
        "outputId": "348844aa-de35-4b50-9f92-e03c27203e3a",
        "colab": {
          "base_uri": "https://localhost:8080/",
          "height": 34
        }
      },
      "source": [
        "bf_ECG_signals = []\n",
        "for i in range(len(raw_ECG_signals)):\n",
        "  bf_ECG_signal =butter_bandpass_filter(raw_ECG_signals[i],0.2,8,125,order=3)\n",
        "  bf_ECG_signals.append(bf_ECG_signal)\n",
        "print(\"After band pass filtering, there are:\", len(bf_ECG_signals), \"records\")"
      ],
      "execution_count": 16,
      "outputs": [
        {
          "output_type": "stream",
          "text": [
            "After band pass filtering, there are: 417 records\n"
          ],
          "name": "stdout"
        }
      ]
    },
    {
      "cell_type": "code",
      "metadata": {
        "id": "9p8cFv_UvV46",
        "colab_type": "code",
        "outputId": "665f8912-4ca6-4c85-bab0-e12d04085a1b",
        "colab": {
          "base_uri": "https://localhost:8080/",
          "height": 531
        }
      },
      "source": [
        "plt.plot(raw_ECG_signals[2][:750],label=\"before band pass filtering\")\n",
        "plt.figure()\n",
        "plt.plot(bf_ECG_signals[2][:750], label=\"after band pass filtering\")\n",
        "plt.legend()"
      ],
      "execution_count": 17,
      "outputs": [
        {
          "output_type": "execute_result",
          "data": {
            "text/plain": [
              "<matplotlib.legend.Legend at 0x18b979bc2c8>"
            ]
          },
          "metadata": {
            "tags": []
          },
          "execution_count": 17
        },
        {
          "output_type": "display_data",
          "data": {
            "text/plain": [
              "<Figure size 432x288 with 1 Axes>"
            ],
            "image/png": "[encoded data removed]"
          },
          "metadata": {
            "tags": [],
            "needs_background": "light"
          }
        },
        {
          "output_type": "display_data",
          "data": {
            "text/plain": [
              "<Figure size 432x288 with 1 Axes>"
            ],
            "image/png": "[encoded data removed]"
          },
          "metadata": {
            "tags": [],
            "needs_background": "light"
          }
        }
      ]
    },
    {
      "cell_type": "markdown",
      "metadata": {
        "id": "-rPVYsRHw_MR",
        "colab_type": "text"
      },
      "source": [
        "##4.4 Normalization"
      ]
    },
    {
      "cell_type": "markdown",
      "metadata": {
        "id": "RCZPoUzwxHGz",
        "colab_type": "text"
      },
      "source": [
        "##4.5 Hampel filter"
      ]
    },
    {
      "cell_type": "code",
      "metadata": {
        "id": "rM-vstDvxLwF",
        "colab_type": "code",
        "colab": {}
      },
      "source": [
        "def hampel_filter_forloop(input_series, window_size, n_sigmas=3):\n",
        "    \n",
        "    n = len(input_series)\n",
        "    new_series = input_series.copy()\n",
        "    k = 1.4826 # scale factor for Gaussian distribution\n",
        "    \n",
        "    indices = []\n",
        "    \n",
        "    # possibly use np.nanmedian \n",
        "    for i in range((window_size),(n - window_size)):\n",
        "        x0 = np.median(input_series[(i - window_size):(i + window_size)])\n",
        "        S0 = k * np.median(np.abs(input_series[(i - window_size):(i + window_size)] - x0))\n",
        "        if (np.abs(input_series[i] - x0) > n_sigmas * S0):\n",
        "            new_series[i] = x0\n",
        "            indices.append(i)\n",
        "    \n",
        "    return new_series, indices"
      ],
      "execution_count": 0,
      "outputs": []
    },
    {
      "cell_type": "code",
      "metadata": {
        "id": "T7xqw_fs87x1",
        "colab_type": "code",
        "colab": {}
      },
      "source": [
        "hf_ECG_signals=[]\n",
        "for i in range(len(bf_ECG_signals)):\n",
        "  print(\"hampel filering for\", i+1, \"th sample...\")\n",
        "  hf_ECG_signal, _ = hampel_filter_forloop(bf_ECG_signals[i], 10)\n",
        "  hf_ECG_signals.append(hf_ECG_signal)\n",
        "print(\"After Hample filtering, there are:\", len(hf_ECG_signals), \"records\")"
      ],
      "execution_count": 0,
      "outputs": []
    },
    {
      "cell_type": "code",
      "metadata": {
        "id": "fDDwtdGp9lJc",
        "colab_type": "code",
        "outputId": "204009f9-3027-4258-e3f4-d60f4626ac51",
        "colab": {
          "base_uri": "https://localhost:8080/",
          "height": 531
        }
      },
      "source": [
        "plt.plot(hf_ECG_signals[1], label = \"before hampel filter\")\n",
        "plt.figure()\n",
        "plt.plot(bf_ECG_signals[1], label = \"after hampel filter\")\n",
        "plt.legend()"
      ],
      "execution_count": 22,
      "outputs": [
        {
          "output_type": "execute_result",
          "data": {
            "text/plain": [
              "<matplotlib.legend.Legend at 0x18bd10464c8>"
            ]
          },
          "metadata": {
            "tags": []
          },
          "execution_count": 22
        },
        {
          "output_type": "display_data",
          "data": {
            "text/plain": [
              "<Figure size 432x288 with 1 Axes>"
            ],
            "image/png": "[encoded data removed]"
          },
          "metadata": {
            "tags": [],
            "needs_background": "light"
          }
        },
        {
          "output_type": "display_data",
          "data": {
            "text/plain": [
              "<Figure size 432x288 with 1 Axes>"
            ],
            "image/png": "[encoded data removed]"
          },
          "metadata": {
            "tags": [],
            "needs_background": "light"
          }
        }
      ]
    },
    {
      "cell_type": "code",
      "metadata": {
        "id": "L0miNlQxuj_O",
        "colab_type": "code",
        "colab": {}
      },
      "source": [
        "with open('D:WFDB/matched/filtered_ECG_signals_p09.pkl', \"wb\") as fp:\n",
        "  pickle.dump(bf_ECG_signals, fp)"
      ],
      "execution_count": 0,
      "outputs": []
    },
    {
      "cell_type": "markdown",
      "metadata": {
        "id": "tTzpEES4CDQP",
        "colab_type": "text"
      },
      "source": [
        "##4.6 Flat line and peak removal"
      ]
    },
    {
      "cell_type": "code",
      "metadata": {
        "id": "LRgQ3jT1CIeH",
        "colab_type": "code",
        "colab": {}
      },
      "source": [
        "##Write this function later"
      ],
      "execution_count": 0,
      "outputs": []
    },
    {
      "cell_type": "markdown",
      "metadata": {
        "id": "jIdJO__oardO",
        "colab_type": "text"
      },
      "source": [
        "## 4.7 Segmentation"
      ]
    },
    {
      "cell_type": "code",
      "metadata": {
        "id": "r-z1b0CXR8wb",
        "colab_type": "code",
        "colab": {}
      },
      "source": [
        "def generate_segment_data(source,seg_len):\n",
        "  n=0\n",
        "  signals =[]\n",
        "  for signal in source:\n",
        "    for i in range(int(len(signal)/seg_len)):\n",
        "      seg = signal[seg_len*i:seg_len*(i+1)]\n",
        "      signals.append(seg)\n",
        "    n+=1\n",
        "#convert list into a numpy array and change its dim from (num of records, seg_len, 1) to (num of records, seg_len)\n",
        "  signals = np.asarray(list(map(lambda x: np.reshape(x,3750),signals)))\n",
        "\n",
        "  return signals"
      ],
      "execution_count": 0,
      "outputs": []
    },
    {
      "cell_type": "code",
      "metadata": {
        "id": "MjvVDrcvEuYg",
        "colab_type": "code",
        "outputId": "f2a21b0d-93c9-4ba6-bce5-d0d26ae32d82",
        "colab": {
          "base_uri": "https://localhost:8080/",
          "height": 52
        }
      },
      "source": [
        "signals = generate_segment_data(bf_ECG_signals, 3750)\n",
        "print('signals dim:', signals.shape)\n",
        "signals = np.expand_dims(signals, axis=1)\n",
        "signals = np.expand_dims(signals,axis=3)\n",
        "print('signals dim after resize', signals.shape)"
      ],
      "execution_count": 25,
      "outputs": [
        {
          "output_type": "stream",
          "text": [
            "signals dim: (83197, 3750)\n",
            "signals dim after resize (83197, 1, 3750, 1)\n"
          ],
          "name": "stdout"
        }
      ]
    },
    {
      "cell_type": "markdown",
      "metadata": {
        "id": "8GUON2zTFmmJ",
        "colab_type": "text"
      },
      "source": [
        "# 5.Predict Afib using ECG signal"
      ]
    },
    {
      "cell_type": "code",
      "metadata": {
        "id": "cY6cwDdYFL0j",
        "colab_type": "code",
        "colab": {
          "base_uri": "https://localhost:8080/",
          "height": 52
        },
        "outputId": "ab47a14e-e99c-4aed-804c-33e2b5dc33d8"
      },
      "source": [
        "#load model\n",
        "os.chdir(r\"C:\\Users\\57lzhang.US04WW4008\\Desktop\\Afib\\Afib_ECG data\")\n",
        "model = tf.keras.models.load_model('Deep_ECG.h5')"
      ],
      "execution_count": 28,
      "outputs": [
        {
          "output_type": "stream",
          "text": [
            "Executing op VarHandleOp in device /job:localhost/replica:0/task:0/device:GPU:0\n",
            "Executing op VarHandleOp in device /job:localhost/replica:0/task:0/device:GPU:0\n"
          ],
          "name": "stdout"
        }
      ]
    },
    {
      "cell_type": "code",
      "metadata": {
        "id": "IyP7wl3MGWyR",
        "colab_type": "code",
        "colab": {
          "base_uri": "https://localhost:8080/",
          "height": 285
        },
        "outputId": "58297554-a143-4074-c9fc-38f34eb1ebf6"
      },
      "source": [
        "prediction = model.predict(signals)"
      ],
      "execution_count": 29,
      "outputs": [
        {
          "output_type": "stream",
          "text": [
            "Executing op RangeDataset in device /job:localhost/replica:0/task:0/device:CPU:0\n",
            "Executing op RepeatDataset in device /job:localhost/replica:0/task:0/device:CPU:0\n",
            "Executing op MapDataset in device /job:localhost/replica:0/task:0/device:CPU:0\n",
            "Executing op PrefetchDataset in device /job:localhost/replica:0/task:0/device:CPU:0\n",
            "Executing op FlatMapDataset in device /job:localhost/replica:0/task:0/device:CPU:0\n",
            "Executing op TensorDataset in device /job:localhost/replica:0/task:0/device:CPU:0\n",
            "Executing op RepeatDataset in device /job:localhost/replica:0/task:0/device:CPU:0\n",
            "Executing op ZipDataset in device /job:localhost/replica:0/task:0/device:CPU:0\n",
            "Executing op ParallelMapDataset in device /job:localhost/replica:0/task:0/device:CPU:0\n",
            "Executing op ModelDataset in device /job:localhost/replica:0/task:0/device:CPU:0\n",
            "Executing op AnonymousIteratorV2 in device /job:localhost/replica:0/task:0/device:CPU:0\n",
            "Executing op MakeIterator in device /job:localhost/replica:0/task:0/device:CPU:0\n",
            "Executing op __inference_distributed_function_7207 in device /job:localhost/replica:0/task:0/device:GPU:0\n",
            "Executing op DeleteIterator in device /job:localhost/replica:0/task:0/device:CPU:0\n"
          ],
          "name": "stdout"
        }
      ]
    },
    {
      "cell_type": "code",
      "metadata": {
        "id": "hdjCGmFZKs0T",
        "colab_type": "code",
        "colab": {}
      },
      "source": [
        "threshold = 0.5\n",
        "pred = np.where(prediction > threshold, 1, 0)"
      ],
      "execution_count": 0,
      "outputs": []
    },
    {
      "cell_type": "code",
      "metadata": {
        "id": "CLVYfPPYK6aF",
        "colab_type": "code",
        "outputId": "049d520a-4c23-4090-a1d1-fc579481de49",
        "colab": {
          "base_uri": "https://localhost:8080/",
          "height": 52
        }
      },
      "source": [
        "unique,counts=np.unique(pred, return_counts=True)\n",
        "print('There are', counts[0], 'Non-Afib')\n",
        "print('There are', counts[1], 'Afib')"
      ],
      "execution_count": 31,
      "outputs": [
        {
          "output_type": "stream",
          "text": [
            "There are 79228 Non-Afib\n",
            "There are 3969 Afib\n"
          ],
          "name": "stdout"
        }
      ]
    },
    {
      "cell_type": "code",
      "metadata": {
        "id": "BplTJGaXNWlm",
        "colab_type": "code",
        "colab": {}
      },
      "source": [
        "np.savetxt('ECG_Afib_labels_p09.csv',pred,fmt='%1.0f')"
      ],
      "execution_count": 0,
      "outputs": []
    },
    {
      "cell_type": "markdown",
      "metadata": {
        "id": "a463sxFwcGQP",
        "colab_type": "text"
      },
      "source": [
        "##TF lite"
      ]
    },
    {
      "cell_type": "code",
      "metadata": {
        "id": "1wJXLzij28sd",
        "colab_type": "code",
        "colab": {}
      },
      "source": [
        "#convert ECG model to tensorflow lite\n",
        "converter = tf.lite.TFLiteConverter.from_keras_model(model)\n",
        "tflite_model = converter.convert()"
      ],
      "execution_count": 0,
      "outputs": []
    },
    {
      "cell_type": "code",
      "metadata": {
        "id": "V6eFjQ683ZOS",
        "colab_type": "code",
        "outputId": "46d028ff-0411-4cf6-d373-fccb42666b28",
        "colab": {
          "base_uri": "https://localhost:8080/",
          "height": 33
        }
      },
      "source": [
        "open(\"ECG_model.tflite\", \"wb\").write(tflite_model)"
      ],
      "execution_count": 0,
      "outputs": [
        {
          "output_type": "execute_result",
          "data": {
            "text/plain": [
              "996716"
            ]
          },
          "metadata": {
            "tags": []
          },
          "execution_count": 70
        }
      ]
    },
    {
      "cell_type": "code",
      "metadata": {
        "id": "r-0pDyEE3pTn",
        "colab_type": "code",
        "outputId": "a58295f6-19e9-4b01-8523-028b0dac680b",
        "colab": {
          "base_uri": "https://localhost:8080/",
          "height": 33
        }
      },
      "source": [
        "converter.optimizations = [tf.lite.Optimize.OPTIMIZE_FOR_SIZE]\n",
        "tflite_model = converter.convert()\n",
        "\n",
        "# Save the model to disk\n",
        "open(\"ECG_model_quantized.tflite\", \"wb\").write(tflite_model)"
      ],
      "execution_count": 0,
      "outputs": [
        {
          "output_type": "execute_result",
          "data": {
            "text/plain": [
              "257784"
            ]
          },
          "metadata": {
            "tags": []
          },
          "execution_count": 71
        }
      ]
    },
    {
      "cell_type": "markdown",
      "metadata": {
        "id": "axvDWvMJdJUG",
        "colab_type": "text"
      },
      "source": [
        "#6.Label PPG data"
      ]
    },
    {
      "cell_type": "markdown",
      "metadata": {
        "id": "5UJ5ppRTYX7g",
        "colab_type": "text"
      },
      "source": [
        "##6.1 Resample PPG signals"
      ]
    },
    {
      "cell_type": "code",
      "metadata": {
        "id": "NDmUfYBfaQdM",
        "colab_type": "code",
        "colab": {}
      },
      "source": [
        "#use wfdb.resample\n",
        "from wfdb import processing\n",
        "resamp_PPG_signals = []\n",
        "for i in range(len(ECG_signals)):\n",
        "  resamp_PPG_signal, _ = wfdb.processing.resample_sig(raw_PPG_signals[i],125,300)\n",
        "  resamp_PPG_signals.append(new_PPG_signal)\n",
        "#apply filters before using DEEP-ECG to label it"
      ],
      "execution_count": 0,
      "outputs": []
    },
    {
      "cell_type": "code",
      "metadata": {
        "id": "Tud5Ir-SaRPq",
        "colab_type": "code",
        "colab": {}
      },
      "source": [
        "plt.plot(resamp_PPG_signals[1][:180]*-1,label = \"300Hz\")\n",
        "plt.plot(raw_PPG_signals[1][:180]*-1, label=\"125Hz\")\n",
        "plt.legend()"
      ],
      "execution_count": 0,
      "outputs": []
    },
    {
      "cell_type": "markdown",
      "metadata": {
        "id": "BqPKG0xPYdk2",
        "colab_type": "text"
      },
      "source": [
        "##6.2 Flip PPG signals"
      ]
    },
    {
      "cell_type": "code",
      "metadata": {
        "id": "2BYwklfaaUmu",
        "colab_type": "code",
        "colab": {}
      },
      "source": [
        "rev_PPG_signals = np.multiply(resamp_PPG_signals, -1)"
      ],
      "execution_count": 0,
      "outputs": []
    },
    {
      "cell_type": "code",
      "metadata": {
        "id": "aFWuSgkSajBj",
        "colab_type": "code",
        "colab": {}
      },
      "source": [
        "print(\"After band pass filtering, there are:\", len(rev_PPG_signals), \"records\")"
      ],
      "execution_count": 0,
      "outputs": []
    },
    {
      "cell_type": "code",
      "metadata": {
        "id": "ZXq0EcXVajjA",
        "colab_type": "code",
        "colab": {}
      },
      "source": [
        "plt.plot(resamp_PPG_signals[1][:180]*-1,label = \"not flipped\")\n",
        "plt.plot(rev_PPG_signals[1][:180]*-1, label=\"flipped\")\n",
        "plt.legend()"
      ],
      "execution_count": 0,
      "outputs": []
    },
    {
      "cell_type": "markdown",
      "metadata": {
        "id": "TetK0c-lYhJG",
        "colab_type": "text"
      },
      "source": [
        "## 6.3 Band pass filter"
      ]
    },
    {
      "cell_type": "code",
      "metadata": {
        "id": "LMQu8p5TamKa",
        "colab_type": "code",
        "colab": {}
      },
      "source": [
        "bf_PPG_signals = []\n",
        "for i in range(len(rev_PPG_signals)):\n",
        "  bf_PPG_signal =butter_bandpass_filter(rev_PPG_signals[i],0.2,8,300,order=3)\n",
        "  bf_PPG_signals.append(f_PPG_signal)\n",
        "print(\"After band pass filtering, there are:\", len(bf_PPG_signals), \"records\")"
      ],
      "execution_count": 0,
      "outputs": []
    },
    {
      "cell_type": "code",
      "metadata": {
        "id": "uQjarVPYaqFM",
        "colab_type": "code",
        "colab": {}
      },
      "source": [
        "plt.plot(rev_PPG_signals[1][:3000],label=\"before band pass filtering\")\n",
        "plt.plot(bf_PPG_signals[1][:3000], label=\"after band pass filtering\")\n",
        "plt.legend()"
      ],
      "execution_count": 0,
      "outputs": []
    },
    {
      "cell_type": "markdown",
      "metadata": {
        "id": "WfBuc3nCYl-F",
        "colab_type": "text"
      },
      "source": [
        "##6.4 Normalization"
      ]
    },
    {
      "cell_type": "markdown",
      "metadata": {
        "id": "QELxeDnhYoOo",
        "colab_type": "text"
      },
      "source": [
        "##6.5 Hampel filter"
      ]
    },
    {
      "cell_type": "code",
      "metadata": {
        "id": "x1ZAnFsGaxTm",
        "colab_type": "code",
        "colab": {}
      },
      "source": [
        "hf_PPG_signals=[]\n",
        "for i in range(len(bf_PPG_signals)):\n",
        "  print(\"band pass filering at\", i+1, \"th sample...\")\n",
        "  hf_PPG_signal, _ = hampel_filter_forloop(bf_PPG_signals[i], 10)\n",
        "  hf_PPG_signals.append(hf_PPG_signal)\n",
        "print(\"After Hample filtering, there are:\", len(hf_PPG_signals), \"records\")"
      ],
      "execution_count": 0,
      "outputs": []
    },
    {
      "cell_type": "code",
      "metadata": {
        "id": "FT3rUni-a0o8",
        "colab_type": "code",
        "colab": {}
      },
      "source": [
        "plt.plot(hf_PPG_signals[1][400:505], label = \"before hampel filter\")\n",
        "plt.plot(bf_PPG_signals[1][400:505], label = \"after hampel filter\")\n",
        "plt.legend()"
      ],
      "execution_count": 0,
      "outputs": []
    },
    {
      "cell_type": "markdown",
      "metadata": {
        "id": "iwoarb72YtSO",
        "colab_type": "text"
      },
      "source": [
        "## 6.6 Flat line and peak removal"
      ]
    },
    {
      "cell_type": "markdown",
      "metadata": {
        "id": "7PsRZKtKYv9J",
        "colab_type": "text"
      },
      "source": [
        "##6.7 Segmentaion"
      ]
    },
    {
      "cell_type": "code",
      "metadata": {
        "id": "T45d6faQFP2s",
        "colab_type": "code",
        "colab": {}
      },
      "source": [
        "#join table"
      ],
      "execution_count": 0,
      "outputs": []
    }
  ]
}