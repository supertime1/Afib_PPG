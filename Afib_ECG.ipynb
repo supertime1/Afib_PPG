{
  "nbformat": 4,
  "nbformat_minor": 0,
  "metadata": {
    "colab": {
      "name": "Afib_ECG.ipynb",
      "provenance": [],
      "private_outputs": true,
      "collapsed_sections": [],
      "mount_file_id": "https://github.com/supertime1/Afib_PPG/blob/master/Afib_ECG.ipynb",
      "authorship_tag": "ABX9TyOGCNM6w2hT4+4jh9yt5Fk/",
      "include_colab_link": true
    },
    "kernelspec": {
      "name": "python3",
      "display_name": "Python 3"
    },
    "accelerator": "TPU"
  },
  "cells": [
    {
      "cell_type": "markdown",
      "metadata": {
        "id": "view-in-github",
        "colab_type": "text"
      },
      "source": [
        "<a href=\"https://colab.research.google.com/github/supertime1/Afib_PPG/blob/master/Afib_ECG.ipynb\" target=\"_parent\"><img src=\"https://colab.research.google.com/assets/colab-badge.svg\" alt=\"Open In Colab\"/></a>"
      ]
    },
    {
      "cell_type": "markdown",
      "metadata": {
        "id": "-oNUq1dRJq-r",
        "colab_type": "text"
      },
      "source": [
        "#Introduction"
      ]
    },
    {
      "cell_type": "markdown",
      "metadata": {
        "id": "DIS5QlL3G0G7",
        "colab_type": "text"
      },
      "source": [
        "This notebook trains an ECG DNN by using labeled ECG data from \"The PhysioNet Computing in Cardiology Challenge 2017\" (https://physionet.org/content/challenge-2017/1.0.0/). The ECG DNN model will be used to label the ECG data from MIMIC-III waveform dataset, so as the concurrent PPG data."
      ]
    },
    {
      "cell_type": "markdown",
      "metadata": {
        "id": "jSibYKc0KaNC",
        "colab_type": "text"
      },
      "source": [
        "The ECG data used in training and validation has the following important attributes:\n",
        "*   sampling frequency: 300Hz\n",
        "*   4 lables: Normal (N), AF (A), Other rhythm (O), Noisy (~)\n",
        "*   length: 9 - 60s with 30s mean.\n",
        "*   preprosessed: data has been band pass filtered by AliveCor device\n",
        "\n",
        "\n",
        "Only time length >30s is used in training, since PPG data usually requires 30s for Afib detection."
      ]
    },
    {
      "cell_type": "markdown",
      "metadata": {
        "id": "ZyD6ZPEDKyYw",
        "colab_type": "text"
      },
      "source": [
        "#Import Data and Label"
      ]
    },
    {
      "cell_type": "code",
      "metadata": {
        "id": "Xa66CINNKj1y",
        "colab_type": "code",
        "colab": {}
      },
      "source": [
        "!pip install tensorflow-gpu==2.0.0"
      ],
      "execution_count": 0,
      "outputs": []
    },
    {
      "cell_type": "code",
      "metadata": {
        "id": "Q95xF5tmemik",
        "colab_type": "code",
        "colab": {}
      },
      "source": [
        "!pip install wfdb"
      ],
      "execution_count": 0,
      "outputs": []
    },
    {
      "cell_type": "code",
      "metadata": {
        "id": "NGo63wdRGY03",
        "colab_type": "code",
        "colab": {}
      },
      "source": [
        "from IPython.display import display\n",
        "import pandas as pd\n",
        "import matplotlib.pyplot as plt\n",
        "%matplotlib inline\n",
        "import numpy as np\n",
        "import os\n",
        "import shutil\n",
        "import glob\n",
        "import wfdb\n",
        "import tensorflow as tf"
      ],
      "execution_count": 0,
      "outputs": []
    },
    {
      "cell_type": "code",
      "metadata": {
        "id": "Totv4fFHKwED",
        "colab_type": "code",
        "colab": {}
      },
      "source": [
        "hd_names = []\n",
        "for name in glob.glob(\"C:/Users/57lzhang.US04WW4008/Desktop/Afib/Afib_ECG data/training2017/*.hea\"):#'/content/drive/My Drive/training2017/*.hea'): \n",
        "  position = name.index('.hea')\n",
        "  name = name[0:position] #remove the .hea part to comply with the wfdb.rdrecord format\n",
        "  hd_names.append(name)\n",
        "len(hd_names)"
      ],
      "execution_count": 0,
      "outputs": []
    },
    {
      "cell_type": "code",
      "metadata": {
        "id": "50P04jUzLgZG",
        "colab_type": "code",
        "colab": {}
      },
      "source": [
        "qualified_names = [] #a list of file names that contain ECG Lead I data\n",
        "for name in hd_names:\n",
        "  record = wfdb.rdheader(name)\n",
        "  if record.sig_len >= 9000: #extact only records contrains ECG lead I >30s\n",
        "    qualified_names.append(name)\n",
        "print('There are total', len(qualified_names), 'qualified records')"
      ],
      "execution_count": 0,
      "outputs": []
    },
    {
      "cell_type": "code",
      "metadata": {
        "id": "39lu0EfVOxso",
        "colab_type": "code",
        "colab": {}
      },
      "source": [
        "#load label numpy file\n",
        "df = pd.read_csv(r'C:\\Users\\57lzhang.US04WW4008\\Desktop\\Afib\\Afib_ECG data\\training2017\\REFERENCE.csv', sep=',', header=None) #'/content/drive/My Drive/training2017/REFERENCE.csv',sep=',', header=None)#\n",
        "#create a new name list that only stores the file name\n",
        "new_name =[]\n",
        "for name in qualified_names:\n",
        "  new_name.append(name[-6:])\n",
        "len(new_name)\n",
        "\n",
        "init_labels = df[df[0].isin(new_name)][1].to_numpy()"
      ],
      "execution_count": 0,
      "outputs": []
    },
    {
      "cell_type": "code",
      "metadata": {
        "id": "ribTthakZcx3",
        "colab_type": "code",
        "colab": {}
      },
      "source": [
        "##read signals\n",
        "ECG_signals = [] #create a  list to store all  ECG signals\n",
        "for name in qualified_names:\n",
        "  record = wfdb.rdrecord(name)\n",
        "  ECG_signals.append(record.p_signal)\n",
        "\n",
        "print('ECG signals len:', len(ECG_signals))"
      ],
      "execution_count": 0,
      "outputs": []
    },
    {
      "cell_type": "code",
      "metadata": {
        "id": "UoEXJWJt7xTM",
        "colab_type": "code",
        "colab": {}
      },
      "source": [
        "ECG_signals[0].shape"
      ],
      "execution_count": 0,
      "outputs": []
    },
    {
      "cell_type": "code",
      "metadata": {
        "id": "koI2rxjvaCAv",
        "colab_type": "code",
        "colab": {}
      },
      "source": [
        "#A function to split the raw signal data with 30s per segment and keep the label\n",
        "##source is the raw signal (e.g. ECG_signals) and seg_len = 30s * 300Hz = 9000\n",
        "def generate_segment_data(source,init_labels,seg_len):\n",
        "  n=0\n",
        "  signals =[]\n",
        "  labels = []\n",
        "  for signal in source:\n",
        "    for i in range(int(len(signal)/seg_len)):\n",
        "      seg = signal[seg_len*i:seg_len*(i+1)]\n",
        "      label = init_labels[n]\n",
        "      signals.append(seg)\n",
        "      labels.append(label)\n",
        "  n+=1\n",
        "  return signals,labels"
      ],
      "execution_count": 0,
      "outputs": []
    },
    {
      "cell_type": "code",
      "metadata": {
        "id": "zVL-5Pxdc7C5",
        "colab_type": "code",
        "colab": {}
      },
      "source": [
        "#test generate_segment_data()\n",
        "signals, labels = generate_segment_data(ECG_signals,init_labels,9000)"
      ],
      "execution_count": 0,
      "outputs": []
    },
    {
      "cell_type": "code",
      "metadata": {
        "id": "U1Fkynv5jCoG",
        "colab_type": "code",
        "colab": {}
      },
      "source": [
        "signals = list(map(lambda x: np.reshape(x,9000),signals))\n",
        "labels = list(map(lambda x: np.reshape(x,1),labels))\n",
        "print('signals dim:',np.asarray(signals).shape)\n",
        "print('labels dim:',np.asarray(labels).shape)"
      ],
      "execution_count": 0,
      "outputs": []
    },
    {
      "cell_type": "code",
      "metadata": {
        "id": "Yb-w63Qfbo6u",
        "colab_type": "code",
        "colab": {}
      },
      "source": [
        "dataset = tf.data.Dataset.from_tensor_slices((signals,labels))"
      ],
      "execution_count": 0,
      "outputs": []
    },
    {
      "cell_type": "code",
      "metadata": {
        "id": "_WPHNzkD-baa",
        "colab_type": "code",
        "colab": {}
      },
      "source": [
        "#create training, validation and test dataset"
      ],
      "execution_count": 0,
      "outputs": []
    },
    {
      "cell_type": "markdown",
      "metadata": {
        "id": "phWc6pznAIpR",
        "colab_type": "text"
      },
      "source": [
        "#Transfer Learning"
      ]
    },
    {
      "cell_type": "code",
      "metadata": {
        "id": "LyS702vaARbN",
        "colab_type": "code",
        "colab": {}
      },
      "source": [
        "import tensorflow as tf\n",
        "from tensorflow.keras import layers\n",
        "import tensorflow_datasets as tfds\n",
        "split = (80, 10, 10)\n",
        "splits = tfds.Split.TRAIN.subsplit(weighted=split)\n",
        "(cat_train, cat_valid, cat_test), info = tfds.load('cats_vs_dogs', split=list(splits), with_info=True, as_supervised=True)"
      ],
      "execution_count": 0,
      "outputs": []
    },
    {
      "cell_type": "code",
      "metadata": {
        "id": "Ae_kEwMi_g8D",
        "colab_type": "code",
        "colab": {}
      },
      "source": [
        "IMAGE_SIZE = 100\n",
        "def pre_process_image(image, label):\n",
        "  image = tf.cast(image, tf.float32)\n",
        "  image = image / 255.0\n",
        "  image = tf.image.resize(image, (IMAGE_SIZE, IMAGE_SIZE))\n",
        "  return image, label"
      ],
      "execution_count": 0,
      "outputs": []
    },
    {
      "cell_type": "code",
      "metadata": {
        "id": "-A55R7neAG2t",
        "colab_type": "code",
        "colab": {}
      },
      "source": [
        "TRAIN_BATCH_SIZE = 64\n",
        "cat_train = cat_train.map(pre_process_image).shuffle(1000).repeat().batch(TRAIN_BATCH_SIZE)\n",
        "cat_valid = cat_valid.map(pre_process_image).repeat().batch(1000)"
      ],
      "execution_count": 0,
      "outputs": []
    },
    {
      "cell_type": "code",
      "metadata": {
        "id": "u7h6HW2dAXoy",
        "colab_type": "code",
        "colab": {}
      },
      "source": [
        "IMG_SHAPE = (IMAGE_SIZE, IMAGE_SIZE, 3)\n",
        "res_net = tf.keras.applications.ResNet50(weights='imagenet', include_top=False, input_shape=IMG_SHAPE)"
      ],
      "execution_count": 0,
      "outputs": []
    },
    {
      "cell_type": "code",
      "metadata": {
        "id": "g7aTc44_AZ-s",
        "colab_type": "code",
        "colab": {}
      },
      "source": [
        "res_net.trainable = False"
      ],
      "execution_count": 0,
      "outputs": []
    },
    {
      "cell_type": "code",
      "metadata": {
        "id": "3z-L4SNHAbls",
        "colab_type": "code",
        "colab": {}
      },
      "source": [
        "global_average_layer = layers.GlobalAveragePooling2D()\n",
        "output_layer = layers.Dense(1, activation='sigmoid')\n",
        "tl_model = tf.keras.Sequential([\n",
        "  res_net,\n",
        "  global_average_layer,\n",
        "  output_layer\n",
        "]"
      ],
      "execution_count": 0,
      "outputs": []
    },
    {
      "cell_type": "code",
      "metadata": {
        "id": "14xn809RAbkg",
        "colab_type": "code",
        "colab": {}
      },
      "source": [
        "tl_model.compile(optimizer=tf.keras.optimizers.Adam(),\n",
        "              loss='binary_crossentropy',\n",
        "              metrics=['accuracy'])\n",
        "callbacks = [tf.keras.callbacks.TensorBoard(log_dir='./log/transer_learning_model', update_freq='batch')]\n",
        "tl_model.fit(cat_train, steps_per_epoch = 23262//TRAIN_BATCH_SIZE, epochs=7, \n",
        "             validation_data=cat_valid, validation_steps=10, callbacks=callbacks)"
      ],
      "execution_count": 0,
      "outputs": []
    },
    {
      "cell_type": "markdown",
      "metadata": {
        "id": "FZQccEaZ9Wxl",
        "colab_type": "text"
      },
      "source": [
        "#Create Model"
      ]
    },
    {
      "cell_type": "code",
      "metadata": {
        "id": "p28G8XL69Zzu",
        "colab_type": "code",
        "colab": {}
      },
      "source": [
        ""
      ],
      "execution_count": 0,
      "outputs": []
    }
  ]
}