{
  "nbformat": 4,
  "nbformat_minor": 0,
  "metadata": {
    "colab": {
      "name": "model_train.ipynb",
      "provenance": [],
      "collapsed_sections": [
        "ckuxUrs1GeC7",
        "Nvv8pVHmGsFs",
        "9gtz0mpPGMdI",
        "yzCsuNPU5-e-"
      ]
    },
    "kernelspec": {
      "name": "python3",
      "display_name": "Python 3"
    },
    "accelerator": "GPU"
  },
  "cells": [
    {
      "cell_type": "markdown",
      "metadata": {
        "id": "JD_-cpvPGQyK"
      },
      "source": [
        "#1.Import Dependencies"
      ]
    },
    {
      "cell_type": "code",
      "metadata": {
        "id": "w0X7DBegvBxs"
      },
      "source": [
        "import sys\n",
        "sys.path.append('C:/Users/57lzhang.US04WW4008/PycharmProjects/AF')"
      ],
      "execution_count": 1,
      "outputs": []
    },
    {
      "cell_type": "code",
      "metadata": {
        "id": "UtJCBohYlUoG",
        "outputId": "c2c93cb0-b02a-4407-e0aa-04251199daea",
        "colab": {
          "base_uri": "https://localhost:8080/"
        }
      },
      "source": [
        "from util import util, model_util\n",
        "import tensorflow as tf\n",
        "from datetime import datetime\n",
        "from tensorflow.keras.callbacks import TensorBoard, ModelCheckpoint\n",
        "import numpy as np\n",
        "import sklearn\n",
        "from sklearn import metrics\n",
        "import scipy\n",
        "import matplotlib.pyplot as plt\n",
        "print(tf.__version__)"
      ],
      "execution_count": 2,
      "outputs": [
        {
          "output_type": "stream",
          "text": [
            "2.3.1\n"
          ],
          "name": "stdout"
        }
      ]
    },
    {
      "cell_type": "code",
      "metadata": {
        "id": "75wS3gS7Vd-L"
      },
      "source": [
        "import io\n",
        "import itertools\n",
        "from tensorflow.keras import Model\n",
        "from tensorflow.keras.layers import Conv2D, Conv1D, BatchNormalization, Input, Add, Activation, \\\n",
        "    MaxPooling1D, MaxPooling2D, Dropout, Flatten, TimeDistributed, Bidirectional, Dense, LSTM, ZeroPadding1D, \\\n",
        "    AveragePooling1D, GlobalAveragePooling1D, Concatenate, Permute, Dot, Multiply, RepeatVector, \\\n",
        "    Lambda, Average, GlobalAveragePooling2D, DepthwiseConv2D\n",
        "from tensorflow.keras.initializers import glorot_uniform"
      ],
      "execution_count": 3,
      "outputs": []
    },
    {
      "cell_type": "markdown",
      "metadata": {
        "id": "OZfmA5DxvwB3"
      },
      "source": [
        "#2.Input Data Pipeline"
      ]
    },
    {
      "cell_type": "markdown",
      "metadata": {
        "id": "UNkcmsqQNacA"
      },
      "source": [
        "##2.1 Load and Process"
      ]
    },
    {
      "cell_type": "code",
      "metadata": {
        "id": "u3RvBpqmqBqj",
        "colab": {
          "base_uri": "https://localhost:8080/"
        },
        "outputId": "9bfb25d5-7c00-48c5-93db-0ebaabc03b18"
      },
      "source": [
        "# load training data\n",
        "train_data_file_path = \"C:/Users/57lzhang.US04WW4008/Desktop/Afib/Afib data/Afib ECG data/training2017/\"\n",
        "raw_signals, raw_labels = util.data_mining(train_data_file_path)\n",
        "signals, labels = util.generate_seg_data(raw_signals, raw_labels, seg_len=9000)\n",
        "signals, labels = util.preprocessing(signals, labels, timedistributed=False)\n",
        "train_signals, train_labels, val_signals, val_labels = util.split_shuffle_dataset(signals, labels, 0.9)\n",
        "#oversample labels\n",
        "train_signals, train_labels = util.oversample_labels(train_signals, train_labels)\n",
        "val_signals, val_labels = util.oversample_labels(val_signals, val_labels)\n",
        "\n",
        "print('train_signal shape:', train_signals.shape)\n",
        "print('train_label shape:', train_labels.shape)\n",
        "print(\"\\nIn training data:\") \n",
        "util.count_labels(train_labels)\n",
        "print(\"\\nIn validation data:\")\n",
        "util.count_labels(val_labels)"
      ],
      "execution_count": 41,
      "outputs": [
        {
          "output_type": "stream",
          "text": [
            "train_signal shape: (13290, 3000, 1)\n",
            "train_label shape: (13290,)\n",
            "\n",
            "In training data:\n",
            "There are 4430 NSR labels\n",
            "There are 4430 AF labels\n",
            "There are 4430 Other Arrhythmia labels\n",
            "\n",
            "In validation data:\n",
            "There are 502 NSR labels\n",
            "There are 502 AF labels\n",
            "There are 502 Other Arrhythmia labels\n"
          ],
          "name": "stdout"
        },
        {
          "output_type": "execute_result",
          "data": {
            "text/plain": [
              "(502, 502, 502)"
            ]
          },
          "metadata": {
            "tags": []
          },
          "execution_count": 41
        }
      ]
    },
    {
      "cell_type": "code",
      "metadata": {
        "id": "Xo6D2eX3qFZu",
        "colab": {
          "base_uri": "https://localhost:8080/"
        },
        "outputId": "8107c10d-b021-434a-9145-53900a41709b"
      },
      "source": [
        "# load testing data\n",
        "test_data_file_path = \"C:/Users/57lzhang.US04WW4008/Desktop/Afib/Afib data/Afib ECG data/validation/\"\n",
        "test_raw_signals, test_raw_labels = util.data_mining(test_data_file_path)\n",
        "test_signals, test_labels = util.generate_seg_data(test_raw_signals, test_raw_labels, seg_len=9000)\n",
        "test_signals, test_labels = util.preprocessing(test_signals, test_labels, timedistributed=False)\n",
        "print('test_signal shape:', test_signals.shape)\n",
        "print('test_label shape:', test_labels.shape)\n",
        "print(\"\\nIn test data:\") \n",
        "util.count_labels(test_labels)"
      ],
      "execution_count": 42,
      "outputs": [
        {
          "output_type": "stream",
          "text": [
            "test_signal shape: (276, 3000, 1)\n",
            "test_label shape: (276, 1)\n",
            "\n",
            "In test data:\n",
            "There are 150 NSR labels\n",
            "There are 47 AF labels\n",
            "There are 79 Other Arrhythmia labels\n"
          ],
          "name": "stdout"
        },
        {
          "output_type": "execute_result",
          "data": {
            "text/plain": [
              "(150, 47, 79)"
            ]
          },
          "metadata": {
            "tags": []
          },
          "execution_count": 42
        }
      ]
    },
    {
      "cell_type": "code",
      "metadata": {
        "id": "o1OeexwulGQD",
        "colab": {
          "base_uri": "https://localhost:8080/"
        },
        "outputId": "ddda3e9e-ecc7-4463-e828-5814af1dad37"
      },
      "source": [
        "#convert test labels to floating point type, so that it can be compared with model output\n",
        "test_labels = test_labels.flatten()\n",
        "test_labels = test_labels.astype(int)\n",
        "type(test_labels[0])"
      ],
      "execution_count": 43,
      "outputs": [
        {
          "output_type": "execute_result",
          "data": {
            "text/plain": [
              "numpy.int32"
            ]
          },
          "metadata": {
            "tags": []
          },
          "execution_count": 43
        }
      ]
    },
    {
      "cell_type": "markdown",
      "metadata": {
        "id": "ckuxUrs1GeC7"
      },
      "source": [
        "##2.2.TF Pipeline"
      ]
    },
    {
      "cell_type": "code",
      "metadata": {
        "id": "tdOBgPBPqI39"
      },
      "source": [
        "# tensorflow pipeline\n",
        "## extraction\n",
        "train_dataset = tf.data.Dataset.from_tensor_slices((train_signals, train_labels))\n",
        "val_dataset = tf.data.Dataset.from_tensor_slices((val_signals, val_labels))\n",
        "## loading\n",
        "batch_size = 128\n",
        "train_dataset = train_dataset.cache()\n",
        "train_dataset = train_dataset.shuffle(2048).repeat().batch(batch_size, drop_remainder=True)\n",
        "train_dataset = train_dataset.prefetch(buffer_size=tf.data.experimental.AUTOTUNE)\n",
        "val_dataset = val_dataset.repeat().batch(batch_size, drop_remainder=True)"
      ],
      "execution_count": 44,
      "outputs": []
    },
    {
      "cell_type": "code",
      "metadata": {
        "colab": {
          "base_uri": "https://localhost:8080/"
        },
        "id": "s_9U47vTVKC5",
        "outputId": "81dabba8-d455-486d-82d6-1e4a53151c48"
      },
      "source": [
        "train_dataset"
      ],
      "execution_count": 45,
      "outputs": [
        {
          "output_type": "execute_result",
          "data": {
            "text/plain": [
              "<PrefetchDataset shapes: ((128, 3000, 1), (128,)), types: (tf.float64, tf.int32)>"
            ]
          },
          "metadata": {
            "tags": []
          },
          "execution_count": 45
        }
      ]
    },
    {
      "cell_type": "code",
      "metadata": {
        "id": "_tn4dWKFAE_B",
        "colab": {
          "base_uri": "https://localhost:8080/"
        },
        "outputId": "f189add6-ad64-41d0-927a-3b7f8eacce6d"
      },
      "source": [
        "val_dataset"
      ],
      "execution_count": 46,
      "outputs": [
        {
          "output_type": "execute_result",
          "data": {
            "text/plain": [
              "<BatchDataset shapes: ((128, 3000, 1), (128,)), types: (tf.float64, tf.int32)>"
            ]
          },
          "metadata": {
            "tags": []
          },
          "execution_count": 46
        }
      ]
    },
    {
      "cell_type": "markdown",
      "metadata": {
        "id": "6ERGMcDqO3R8"
      },
      "source": [
        "#3.Model"
      ]
    },
    {
      "cell_type": "markdown",
      "metadata": {
        "id": "uHweWIpxGZfd"
      },
      "source": [
        "##3.1.Training with Time-Domain"
      ]
    },
    {
      "cell_type": "markdown",
      "metadata": {
        "id": "Nvv8pVHmGsFs"
      },
      "source": [
        "###Short CNN-1D"
      ]
    },
    {
      "cell_type": "code",
      "metadata": {
        "id": "veyF4WypP9eK",
        "colab": {
          "base_uri": "https://localhost:8080/"
        },
        "outputId": "fb3c0e74-d2f4-43ba-9f28-2eef98b26d72"
      },
      "source": [
        "model = model_util.simple_cnn_1d((3000, 1), dropout=0.2, classes=3)\n",
        "model.summary()\n",
        "model.compile(optimizer=tf.keras.optimizers.Adam(),\n",
        "              loss=tf.keras.losses.sparse_categorical_crossentropy,\n",
        "              metrics=['accuracy'])"
      ],
      "execution_count": 36,
      "outputs": [
        {
          "output_type": "stream",
          "text": [
            "Model: \"cnn_1d\"\n",
            "_________________________________________________________________\n",
            "Layer (type)                 Output Shape              Param #   \n",
            "=================================================================\n",
            "input_13 (InputLayer)        [(None, 3000, 1)]         0         \n",
            "_________________________________________________________________\n",
            "conv1d_104 (Conv1D)          (None, 3000, 8)           16        \n",
            "_________________________________________________________________\n",
            "batch_normalization_193 (Bat (None, 3000, 8)           32        \n",
            "_________________________________________________________________\n",
            "max_pooling1d_4 (MaxPooling1 (None, 1500, 8)           0         \n",
            "_________________________________________________________________\n",
            "dropout_16 (Dropout)         (None, 1500, 8)           0         \n",
            "_________________________________________________________________\n",
            "conv1d_105 (Conv1D)          (None, 1498, 16)          400       \n",
            "_________________________________________________________________\n",
            "batch_normalization_194 (Bat (None, 1498, 16)          64        \n",
            "_________________________________________________________________\n",
            "max_pooling1d_5 (MaxPooling1 (None, 749, 16)           0         \n",
            "_________________________________________________________________\n",
            "dropout_17 (Dropout)         (None, 749, 16)           0         \n",
            "_________________________________________________________________\n",
            "conv1d_106 (Conv1D)          (None, 747, 32)           1568      \n",
            "_________________________________________________________________\n",
            "batch_normalization_195 (Bat (None, 747, 32)           128       \n",
            "_________________________________________________________________\n",
            "max_pooling1d_6 (MaxPooling1 (None, 373, 32)           0         \n",
            "_________________________________________________________________\n",
            "dropout_18 (Dropout)         (None, 373, 32)           0         \n",
            "_________________________________________________________________\n",
            "conv1d_107 (Conv1D)          (None, 371, 64)           6208      \n",
            "_________________________________________________________________\n",
            "batch_normalization_196 (Bat (None, 371, 64)           256       \n",
            "_________________________________________________________________\n",
            "max_pooling1d_7 (MaxPooling1 (None, 185, 64)           0         \n",
            "_________________________________________________________________\n",
            "dropout_19 (Dropout)         (None, 185, 64)           0         \n",
            "_________________________________________________________________\n",
            "conv1d_108 (Conv1D)          (None, 185, 16)           1040      \n",
            "_________________________________________________________________\n",
            "batch_normalization_197 (Bat (None, 185, 16)           64        \n",
            "_________________________________________________________________\n",
            "flatten_1 (Flatten)          (None, 2960)              0         \n",
            "_________________________________________________________________\n",
            "dense_13 (Dense)             (None, 64)                189504    \n",
            "_________________________________________________________________\n",
            "batch_normalization_198 (Bat (None, 64)                256       \n",
            "_________________________________________________________________\n",
            "dropout_20 (Dropout)         (None, 64)                0         \n",
            "_________________________________________________________________\n",
            "dense_14 (Dense)             (None, 3)                 195       \n",
            "=================================================================\n",
            "Total params: 199,731\n",
            "Trainable params: 199,331\n",
            "Non-trainable params: 400\n",
            "_________________________________________________________________\n"
          ],
          "name": "stdout"
        }
      ]
    },
    {
      "cell_type": "markdown",
      "metadata": {
        "id": "rq3mpHlwq0FD"
      },
      "source": [
        "###MobileNet-1D"
      ]
    },
    {
      "cell_type": "code",
      "metadata": {
        "id": "otDRAlH85ojx",
        "outputId": "96c5bbb3-204e-41e0-fd0c-835e624c5492",
        "colab": {
          "base_uri": "https://localhost:8080/"
        }
      },
      "source": [
        "model = model_util.MobileNet_1D(input_shape=(3000,1), dropout=0.5, classes=3)\n",
        "model.compile(optimizer=tf.keras.optimizers.Adam(),\n",
        "              loss=tf.keras.losses.sparse_categorical_crossentropy,\n",
        "              metrics=['accuracy'])\n",
        "model.summary()"
      ],
      "execution_count": 47,
      "outputs": [
        {
          "output_type": "stream",
          "text": [
            "Model: \"mobilenet_1d\"\n",
            "_________________________________________________________________\n",
            "Layer (type)                 Output Shape              Param #   \n",
            "=================================================================\n",
            "input_16 (InputLayer)        [(None, 3000, 1)]         0         \n",
            "_________________________________________________________________\n",
            "conv1d_127 (Conv1D)          (None, 1500, 32)          96        \n",
            "_________________________________________________________________\n",
            "batch_normalization_233 (Bat (None, 1500, 32)          128       \n",
            "_________________________________________________________________\n",
            "activation_221 (Activation)  (None, 1500, 32)          0         \n",
            "_________________________________________________________________\n",
            "depthwise_conv1d_104 (Depthw (None, 1500, 32)          96        \n",
            "_________________________________________________________________\n",
            "batch_normalization_234 (Bat (None, 1500, 32)          128       \n",
            "_________________________________________________________________\n",
            "activation_222 (Activation)  (None, 1500, 32)          0         \n",
            "_________________________________________________________________\n",
            "conv1d_128 (Conv1D)          (None, 1500, 64)          2048      \n",
            "_________________________________________________________________\n",
            "batch_normalization_235 (Bat (None, 1500, 64)          256       \n",
            "_________________________________________________________________\n",
            "activation_223 (Activation)  (None, 1500, 64)          0         \n",
            "_________________________________________________________________\n",
            "depthwise_conv1d_105 (Depthw (None, 750, 64)           192       \n",
            "_________________________________________________________________\n",
            "batch_normalization_236 (Bat (None, 750, 64)           256       \n",
            "_________________________________________________________________\n",
            "activation_224 (Activation)  (None, 750, 64)           0         \n",
            "_________________________________________________________________\n",
            "conv1d_129 (Conv1D)          (None, 750, 128)          8192      \n",
            "_________________________________________________________________\n",
            "batch_normalization_237 (Bat (None, 750, 128)          512       \n",
            "_________________________________________________________________\n",
            "activation_225 (Activation)  (None, 750, 128)          0         \n",
            "_________________________________________________________________\n",
            "depthwise_conv1d_106 (Depthw (None, 750, 128)          384       \n",
            "_________________________________________________________________\n",
            "batch_normalization_238 (Bat (None, 750, 128)          512       \n",
            "_________________________________________________________________\n",
            "activation_226 (Activation)  (None, 750, 128)          0         \n",
            "_________________________________________________________________\n",
            "conv1d_130 (Conv1D)          (None, 750, 128)          16384     \n",
            "_________________________________________________________________\n",
            "batch_normalization_239 (Bat (None, 750, 128)          512       \n",
            "_________________________________________________________________\n",
            "activation_227 (Activation)  (None, 750, 128)          0         \n",
            "_________________________________________________________________\n",
            "depthwise_conv1d_107 (Depthw (None, 375, 128)          384       \n",
            "_________________________________________________________________\n",
            "batch_normalization_240 (Bat (None, 375, 128)          512       \n",
            "_________________________________________________________________\n",
            "activation_228 (Activation)  (None, 375, 128)          0         \n",
            "_________________________________________________________________\n",
            "conv1d_131 (Conv1D)          (None, 375, 256)          32768     \n",
            "_________________________________________________________________\n",
            "batch_normalization_241 (Bat (None, 375, 256)          1024      \n",
            "_________________________________________________________________\n",
            "activation_229 (Activation)  (None, 375, 256)          0         \n",
            "_________________________________________________________________\n",
            "depthwise_conv1d_108 (Depthw (None, 375, 256)          768       \n",
            "_________________________________________________________________\n",
            "batch_normalization_242 (Bat (None, 375, 256)          1024      \n",
            "_________________________________________________________________\n",
            "activation_230 (Activation)  (None, 375, 256)          0         \n",
            "_________________________________________________________________\n",
            "conv1d_132 (Conv1D)          (None, 375, 256)          65536     \n",
            "_________________________________________________________________\n",
            "batch_normalization_243 (Bat (None, 375, 256)          1024      \n",
            "_________________________________________________________________\n",
            "activation_231 (Activation)  (None, 375, 256)          0         \n",
            "_________________________________________________________________\n",
            "depthwise_conv1d_109 (Depthw (None, 188, 256)          768       \n",
            "_________________________________________________________________\n",
            "batch_normalization_244 (Bat (None, 188, 256)          1024      \n",
            "_________________________________________________________________\n",
            "activation_232 (Activation)  (None, 188, 256)          0         \n",
            "_________________________________________________________________\n",
            "conv1d_133 (Conv1D)          (None, 188, 512)          131072    \n",
            "_________________________________________________________________\n",
            "batch_normalization_245 (Bat (None, 188, 512)          2048      \n",
            "_________________________________________________________________\n",
            "activation_233 (Activation)  (None, 188, 512)          0         \n",
            "_________________________________________________________________\n",
            "depthwise_conv1d_110 (Depthw (None, 94, 512)           1536      \n",
            "_________________________________________________________________\n",
            "batch_normalization_246 (Bat (None, 94, 512)           2048      \n",
            "_________________________________________________________________\n",
            "activation_234 (Activation)  (None, 94, 512)           0         \n",
            "_________________________________________________________________\n",
            "conv1d_134 (Conv1D)          (None, 94, 1024)          524288    \n",
            "_________________________________________________________________\n",
            "batch_normalization_247 (Bat (None, 94, 1024)          4096      \n",
            "_________________________________________________________________\n",
            "activation_235 (Activation)  (None, 94, 1024)          0         \n",
            "_________________________________________________________________\n",
            "depthwise_conv1d_111 (Depthw (None, 94, 1024)          3072      \n",
            "_________________________________________________________________\n",
            "batch_normalization_248 (Bat (None, 94, 1024)          4096      \n",
            "_________________________________________________________________\n",
            "activation_236 (Activation)  (None, 94, 1024)          0         \n",
            "_________________________________________________________________\n",
            "conv1d_135 (Conv1D)          (None, 94, 1024)          1048576   \n",
            "_________________________________________________________________\n",
            "batch_normalization_249 (Bat (None, 94, 1024)          4096      \n",
            "_________________________________________________________________\n",
            "activation_237 (Activation)  (None, 94, 1024)          0         \n",
            "_________________________________________________________________\n",
            "global_average_pooling1d_13  (None, 1024)              0         \n",
            "_________________________________________________________________\n",
            "dropout_23 (Dropout)         (None, 1024)              0         \n",
            "_________________________________________________________________\n",
            "dense_17 (Dense)             (None, 3)                 3075      \n",
            "=================================================================\n",
            "Total params: 1,862,531\n",
            "Trainable params: 1,850,883\n",
            "Non-trainable params: 11,648\n",
            "_________________________________________________________________\n"
          ],
          "name": "stdout"
        }
      ]
    },
    {
      "cell_type": "markdown",
      "metadata": {
        "id": "avVu_MBTq_yl"
      },
      "source": [
        "###LSTM"
      ]
    },
    {
      "cell_type": "code",
      "metadata": {
        "id": "5aI3zST7wmZy"
      },
      "source": [
        "#cnn + lstm model\n",
        "model = model_util.cnn_lstm((3,1250,1), classes=3)\n",
        "model.compile(optimizer=tf.keras.optimizers.Adam(),\n",
        "              loss=tf.keras.losses.SparseCategoricalCrossentropy(),\n",
        "              metrics=['accuracy'])\n",
        "model.summary()"
      ],
      "execution_count": null,
      "outputs": []
    },
    {
      "cell_type": "code",
      "metadata": {
        "id": "xFjQNmFBcDMl"
      },
      "source": [
        "model = model_util.resnet18_lstm(3, 32, 16, 1250, classes=3)\n",
        "model.summary()\n",
        "model.compile(optimizer=tf.keras.optimizers.Adam(),\n",
        "              loss=tf.keras.losses.CategoricalCrossentropy(),\n",
        "              metrics=['accuracy'])"
      ],
      "execution_count": null,
      "outputs": []
    },
    {
      "cell_type": "markdown",
      "metadata": {
        "id": "yzCsuNPU5-e-"
      },
      "source": [
        "##3.2 Training with Autoencoder"
      ]
    },
    {
      "cell_type": "code",
      "metadata": {
        "id": "xynJkWZep4_7"
      },
      "source": [
        "from tensorflow.keras import Model\n",
        "from tensorflow.keras.layers import Conv1D, BatchNormalization, Input, Add, Activation, \\\n",
        "    MaxPooling1D, Dropout, Flatten, TimeDistributed, Bidirectional, Dense, LSTM, ZeroPadding1D, \\\n",
        "    AveragePooling1D, Conv1DTranspose, GlobalMaxPooling1D, Concatenate, Permute, Dot, Multiply, RepeatVector, \\\n",
        "    Lambda, Average"
      ],
      "execution_count": null,
      "outputs": []
    },
    {
      "cell_type": "code",
      "metadata": {
        "id": "WGotIQaT590i",
        "colab": {
          "base_uri": "https://localhost:8080/",
          "height": 33
        },
        "outputId": "bba0b0e2-a067-4b04-95cd-1077716cd1a6"
      },
      "source": [
        "import os\n",
        "os.chdir(r\"C:\\Users\\57lzhang.US04WW4008\\Desktop\\Afib\\Afib data\\models\")\n",
        "ecg_encoder = tf.keras.models.load_model('ECG_Encoder.h5')\n",
        "conv_encoder_clone = tf.keras.models.clone_model(ecg_encoder)"
      ],
      "execution_count": null,
      "outputs": [
        {
          "output_type": "stream",
          "text": [
            "WARNING:tensorflow:No training configuration found in the save file, so the model was *not* compiled. Compile it manually.\n"
          ],
          "name": "stdout"
        }
      ]
    },
    {
      "cell_type": "code",
      "metadata": {
        "id": "MBl167_mqCsB"
      },
      "source": [
        "def encoder_lstm(input_shape=(3,1250,1), classes=3):\n",
        "  X_input = Input(shape=input_shape)\n",
        "  X = TimeDistributed(conv_encoder_clone)(X_input)\n",
        "  X = TimeDistributed(Flatten())(X)\n",
        "  X = Bidirectional(LSTM(32, return_sequences=True))(X)\n",
        "  X = Bidirectional(LSTM(16))(X)\n",
        "  X = Dense(classes, activation='softmax')(X)\n",
        "\n",
        "  model = Model(inputs=[X_input], outputs=X)\n",
        "\n",
        "  return model"
      ],
      "execution_count": null,
      "outputs": []
    },
    {
      "cell_type": "code",
      "metadata": {
        "id": "LkQ3Ma_orkIh"
      },
      "source": [
        "model = encoder_lstm(input_shape=(3,1250,1), classes=3)"
      ],
      "execution_count": null,
      "outputs": []
    },
    {
      "cell_type": "code",
      "metadata": {
        "id": "1wtbCNtH0vzB",
        "colab": {
          "base_uri": "https://localhost:8080/",
          "height": 342
        },
        "outputId": "cc57ab25-2a12-49ef-ba4a-d15f029966af"
      },
      "source": [
        "model.summary()"
      ],
      "execution_count": null,
      "outputs": [
        {
          "output_type": "stream",
          "text": [
            "Model: \"functional_3\"\n",
            "_________________________________________________________________\n",
            "Layer (type)                 Output Shape              Param #   \n",
            "=================================================================\n",
            "input_6 (InputLayer)         [(None, 3, 1250, 1)]      0         \n",
            "_________________________________________________________________\n",
            "time_distributed_9 (TimeDist (None, 3, 1250, 16)       53328     \n",
            "_________________________________________________________________\n",
            "time_distributed_10 (TimeDis (None, 3, 20000)          0         \n",
            "_________________________________________________________________\n",
            "bidirectional_9 (Bidirection (None, 3, 64)             5128448   \n",
            "_________________________________________________________________\n",
            "bidirectional_10 (Bidirectio (None, 32)                10368     \n",
            "_________________________________________________________________\n",
            "dense_4 (Dense)              (None, 3)                 99        \n",
            "=================================================================\n",
            "Total params: 5,192,243\n",
            "Trainable params: 5,138,915\n",
            "Non-trainable params: 53,328\n",
            "_________________________________________________________________\n"
          ],
          "name": "stdout"
        }
      ]
    },
    {
      "cell_type": "code",
      "metadata": {
        "id": "m0Uimoh9pR1Q"
      },
      "source": [
        "conv_encoder_clone.trainable = False\n",
        "model.compile(optimizer=tf.keras.optimizers.Adam(),\n",
        "              loss=tf.keras.losses.CategoricalCrossentropy(),\n",
        "              metrics=['accuracy'])"
      ],
      "execution_count": null,
      "outputs": []
    },
    {
      "cell_type": "code",
      "metadata": {
        "id": "IFE1F2ke1Lho"
      },
      "source": [
        "CLASS_WEIGHTS = util.class_weights(train_labels)\n",
        "\n",
        "model.fit(train_dataset,\n",
        "          epochs=200,\n",
        "          steps_per_epoch=len(list(train_signals))//batch_size,\n",
        "          verbose=1,\n",
        "          validation_data=val_dataset,\n",
        "          validation_steps=len(list(val_signals))//batch_size,\n",
        "          callbacks=callbacks_list,\n",
        "          class_weight=CLASS_WEIGHTS)"
      ],
      "execution_count": null,
      "outputs": []
    },
    {
      "cell_type": "markdown",
      "metadata": {
        "id": "zbNYhRVgry7L"
      },
      "source": [
        "##3.3 Training with Spectrogram"
      ]
    },
    {
      "cell_type": "code",
      "metadata": {
        "id": "P5Xod-1qkJz0"
      },
      "source": [
        "train_data_file_path = \"C:/Users/57lzhang.US04WW4008/Desktop/Afib/Afib data/Afib ECG data/training2017/\"\n",
        "raw_signals, raw_labels = util.data_mining(train_data_file_path)\n",
        "signals, labels = util.generate_seg_data(raw_signals, raw_labels, seg_len=9000)"
      ],
      "execution_count": null,
      "outputs": []
    },
    {
      "cell_type": "code",
      "metadata": {
        "id": "_9Bmw6grkNVs"
      },
      "source": [
        "def get_spectrogram(signal):\n",
        "  freq, time, spectrogram = scipy.signal.spectrogram(signal, fs=300, window='hanning',\n",
        "                                                     nperseg=1024, noverlap=1024 - 128,\n",
        "                                                     detrend=False, scaling='spectrum',\n",
        "                                                     nfft=1024)\n",
        "  spectrogram = np.log(spectrogram[(freq <= 10) & (freq > 0.01)])\n",
        "  spectrogram = sklearn.preprocessing.minmax_scale(spectrogram)\n",
        "  return spectrogram"
      ],
      "execution_count": null,
      "outputs": []
    },
    {
      "cell_type": "code",
      "metadata": {
        "colab": {
          "base_uri": "https://localhost:8080/"
        },
        "id": "jCGoAbFAnntV",
        "outputId": "ce5913d1-2e77-486a-ca08-7c21f4955e75"
      },
      "source": [
        "get_spectrogram(signals[0]).shape"
      ],
      "execution_count": null,
      "outputs": [
        {
          "output_type": "execute_result",
          "data": {
            "text/plain": [
              "(34, 63)"
            ]
          },
          "metadata": {
            "tags": []
          },
          "execution_count": 5
        }
      ]
    },
    {
      "cell_type": "code",
      "metadata": {
        "id": "2QpjMjiLsreM"
      },
      "source": [
        "def plot_spectrogram(signals, labels, type=0):\n",
        "  \n",
        "  type_idx = np.where(labels == type)[0]\n",
        "  i = np.random.choice(type_idx, 1)\n",
        "  i = int(i)  \n",
        "  def get_label(label):\n",
        "    if label == 0:\n",
        "      return 'NSR'\n",
        "    if label == 1:\n",
        "      return 'AF'\n",
        "    if label == 2:\n",
        "      return 'Others'\n",
        "  \n",
        "  spectrogram = get_spectrogram(signals[i])\n",
        "\n",
        "  fig, axes = plt.subplots(2, figsize=(12, 8))\n",
        "  fig.tight_layout(pad=5.0)\n",
        "  #ECG raw signal\n",
        "  axes[0].plot(signals[0])\n",
        "  axes[0].set_title(get_label(labels[i]))\n",
        "  axes[0].set_xlabel('Samples', fontsize=15)\n",
        "  axes[0].set_ylabel('ADC counts', fontsize=15)\n",
        "  #spectrogram\n",
        "  im = axes[1].pcolormesh(spectrogram)\n",
        "  fig.colorbar(im, ax=axes[1])\n",
        "  axes[1].set_title('Spectrogram', fontsize=15)\n",
        "  axes[1].set_ylabel('Frequency (Hz)', fontsize=15)\n",
        "  axes[1].set_xlabel('Samples', fontsize=15)\n",
        "  plt.show()"
      ],
      "execution_count": null,
      "outputs": []
    },
    {
      "cell_type": "code",
      "metadata": {
        "colab": {
          "base_uri": "https://localhost:8080/",
          "height": 537
        },
        "id": "f3vdK1wuWX1x",
        "outputId": "6bbc1603-a967-4e9f-ba39-d12d48e06696"
      },
      "source": [
        "plot_spectrogram(signals, labels, 2)"
      ],
      "execution_count": null,
      "outputs": [
        {
          "output_type": "display_data",
          "data": {
            "text/plain": [
              "<Figure size 864x576 with 3 Axes>"
            ],
            "image/png": "[encoded data removed]"
          },
          "metadata": {
            "tags": [],
            "needs_background": "light"
          }
        }
      ]
    },
    {
      "cell_type": "code",
      "metadata": {
        "id": "tWn15ZlTsCIU"
      },
      "source": [
        "def get_spectrogram_and_label(signal, label):\n",
        "  spectrogram = tf.py_function(get_spectrogram, inp=[signal], Tout=tf.float32)\n",
        "  spectrogram = tf.expand_dims(spectrogram, -1)\n",
        "  return spectrogram, label"
      ],
      "execution_count": null,
      "outputs": []
    },
    {
      "cell_type": "code",
      "metadata": {
        "id": "s3neEab002Wf"
      },
      "source": [
        "spectrogram, label = get_spectrogram_and_label(signals[0], labels[0])"
      ],
      "execution_count": null,
      "outputs": []
    },
    {
      "cell_type": "code",
      "metadata": {
        "colab": {
          "base_uri": "https://localhost:8080/"
        },
        "id": "4psZpDba1Yhl",
        "outputId": "2f56540b-9f09-4844-b93c-83feac3eb3a6"
      },
      "source": [
        "type(spectrogram)"
      ],
      "execution_count": null,
      "outputs": [
        {
          "output_type": "execute_result",
          "data": {
            "text/plain": [
              "tensorflow.python.framework.ops.EagerTensor"
            ]
          },
          "metadata": {
            "tags": []
          },
          "execution_count": 10
        }
      ]
    },
    {
      "cell_type": "code",
      "metadata": {
        "colab": {
          "base_uri": "https://localhost:8080/"
        },
        "id": "uNjXyiA5luQs",
        "outputId": "227ca478-a13c-4a7c-8a36-ccd9aa4a717f"
      },
      "source": [
        "print('Spectrom shape:', get_spectrogram_and_label(signals[0], labels[0])[0].shape)\n",
        "print('Label shape:', get_spectrogram_and_label(signals[0], labels[0])[1].shape)"
      ],
      "execution_count": null,
      "outputs": [
        {
          "output_type": "stream",
          "text": [
            "Spectrom shape: (34, 63, 1)\n",
            "Label shape: (1,)\n"
          ],
          "name": "stdout"
        }
      ]
    },
    {
      "cell_type": "code",
      "metadata": {
        "id": "iyAZ8arrt1al"
      },
      "source": [
        "train_signals, train_labels, val_signals, val_labels = util.split_shuffle_dataset(signals, labels, 0.9, seed=10)"
      ],
      "execution_count": null,
      "outputs": []
    },
    {
      "cell_type": "code",
      "metadata": {
        "id": "7L2RA9psu0tg",
        "colab": {
          "base_uri": "https://localhost:8080/"
        },
        "outputId": "102bc9de-67b2-459d-e934-418fb6fc48f9"
      },
      "source": [
        "print('train_signal shape:', train_signals.shape)\n",
        "print('train_label shape:', train_labels.shape)\n",
        "print(\"\\nIn training data:\") \n",
        "util.count_labels(train_labels)\n",
        "print(\"\\nIn validation data:\")\n",
        "util.count_labels(val_labels)"
      ],
      "execution_count": null,
      "outputs": [
        {
          "output_type": "stream",
          "text": [
            "train_signal shape: (7425, 9000)\n",
            "train_label shape: (7425, 1)\n",
            "\n",
            "In training data:\n",
            "There are 4430 NSR labels\n",
            "There are 653 AF labels\n",
            "There are 2342 Other Arrhythmia labels\n",
            "\n",
            "In validation data:\n",
            "There are 502 NSR labels\n",
            "There are 62 AF labels\n",
            "There are 261 Other Arrhythmia labels\n"
          ],
          "name": "stdout"
        },
        {
          "output_type": "execute_result",
          "data": {
            "text/plain": [
              "(502, 62, 261)"
            ]
          },
          "metadata": {
            "tags": []
          },
          "execution_count": 13
        }
      ]
    },
    {
      "cell_type": "code",
      "metadata": {
        "id": "o-2OlT6au8np"
      },
      "source": [
        "# tensorflow pipeline\n",
        "## extraction\n",
        "train_dataset = tf.data.Dataset.from_tensor_slices((train_signals, train_labels))\n",
        "val_dataset = tf.data.Dataset.from_tensor_slices((val_signals, val_labels))\n",
        "train_dataset = train_dataset.map(get_spectrogram_and_label, num_parallel_calls=tf.data.experimental.AUTOTUNE)\n",
        "val_dataset = val_dataset.map(get_spectrogram_and_label, num_parallel_calls=tf.data.experimental.AUTOTUNE)\n",
        "\n",
        "## loading\n",
        "batch_size = 64\n",
        "train_dataset = train_dataset.cache()\n",
        "train_dataset = train_dataset.shuffle(2048).repeat().batch(batch_size, drop_remainder=True)\n",
        "train_dataset = train_dataset.prefetch(buffer_size=tf.data.experimental.AUTOTUNE)\n",
        "val_dataset = val_dataset.repeat().batch(batch_size, drop_remainder=True)"
      ],
      "execution_count": null,
      "outputs": []
    },
    {
      "cell_type": "code",
      "metadata": {
        "id": "jO6aaCr_yT5w"
      },
      "source": [
        "list(train_dataset.take(1).as_numpy_iterator())"
      ],
      "execution_count": null,
      "outputs": []
    },
    {
      "cell_type": "code",
      "metadata": {
        "id": "-xrAamJ6xpCt",
        "colab": {
          "base_uri": "https://localhost:8080/"
        },
        "outputId": "51f415d9-e9ee-45ba-de00-0eb4ef78dc40"
      },
      "source": [
        "from tensorflow.keras import Model\n",
        "from tensorflow.keras.layers import Conv1D, BatchNormalization, Input, Add, Activation, \\\n",
        "    MaxPooling1D, Dropout, Flatten, TimeDistributed, Bidirectional, Dense, LSTM, ZeroPadding1D, \\\n",
        "    AveragePooling1D, Conv1DTranspose, GlobalMaxPooling1D, Concatenate, Permute, Dot, Multiply, RepeatVector, \\\n",
        "    Lambda, Average\n",
        "    \n",
        "tf.keras.backend.clear_session()\n",
        "model = tf.keras.Sequential([\n",
        "    #1st Conv2D\n",
        "    tf.keras.layers.Input(shape=(34,63,1)),\n",
        "    tf.keras.layers.experimental.preprocessing.Normalization(),\n",
        "    tf.keras.layers.Conv2D(8, (1, 1), strides=(1, 1), \n",
        "                           activation='relu'),\n",
        "    tf.keras.layers.MaxPooling2D(pool_size=(2, 2),strides=(2, 2)),\n",
        "    #tf.keras.layers.Dropout(0.2),\n",
        "    #2nd Conv2D\n",
        "    tf.keras.layers.Conv2D(16, (3, 3), strides=(1, 1),\n",
        "                           activation='relu'),\n",
        "    tf.keras.layers.MaxPooling2D(pool_size=(2, 2),strides=(1, 1)),\n",
        "    #tf.keras.layers.Dropout(0.2),\n",
        "    #3rd Conv2D\n",
        "    tf.keras.layers.Conv2D(32, (3, 3), strides=(1, 1),\n",
        "                           activation='relu'),\n",
        "    tf.keras.layers.MaxPooling2D(pool_size=(2, 2),strides=(1, 1)),\n",
        "    #tf.keras.layers.Dropout(0.2),\n",
        "    #4th Conv2D\n",
        "    tf.keras.layers.Conv2D(64, (3, 3), strides=(1, 1),\n",
        "                           activation='relu'),\n",
        "    tf.keras.layers.MaxPooling2D(pool_size=(2, 2),strides=(1, 1)),\n",
        "    tf.keras.layers.Dropout(0.2),\n",
        "    #5th Conv2D\n",
        "    tf.keras.layers.Conv2D(16, (1, 1), strides=(1, 1),\n",
        "                           activation='relu'),\n",
        "    #Full connection layer\n",
        "    tf.keras.layers.Flatten(),\n",
        "    tf.keras.layers.Dense(64, activation='relu'),\n",
        "    tf.keras.layers.Dropout(0.3),\n",
        "    tf.keras.layers.Dense(3, activation='softmax')\n",
        "])\n",
        "\n",
        "model.summary()"
      ],
      "execution_count": null,
      "outputs": [
        {
          "output_type": "stream",
          "text": [
            "Model: \"sequential\"\n",
            "_________________________________________________________________\n",
            "Layer (type)                 Output Shape              Param #   \n",
            "=================================================================\n",
            "normalization (Normalization (None, 34, 63, 1)         3         \n",
            "_________________________________________________________________\n",
            "conv2d (Conv2D)              (None, 34, 63, 8)         16        \n",
            "_________________________________________________________________\n",
            "max_pooling2d (MaxPooling2D) (None, 17, 31, 8)         0         \n",
            "_________________________________________________________________\n",
            "conv2d_1 (Conv2D)            (None, 15, 29, 16)        1168      \n",
            "_________________________________________________________________\n",
            "max_pooling2d_1 (MaxPooling2 (None, 14, 28, 16)        0         \n",
            "_________________________________________________________________\n",
            "conv2d_2 (Conv2D)            (None, 12, 26, 32)        4640      \n",
            "_________________________________________________________________\n",
            "max_pooling2d_2 (MaxPooling2 (None, 11, 25, 32)        0         \n",
            "_________________________________________________________________\n",
            "conv2d_3 (Conv2D)            (None, 9, 23, 64)         18496     \n",
            "_________________________________________________________________\n",
            "max_pooling2d_3 (MaxPooling2 (None, 8, 22, 64)         0         \n",
            "_________________________________________________________________\n",
            "dropout (Dropout)            (None, 8, 22, 64)         0         \n",
            "_________________________________________________________________\n",
            "conv2d_4 (Conv2D)            (None, 8, 22, 16)         1040      \n",
            "_________________________________________________________________\n",
            "flatten (Flatten)            (None, 2816)              0         \n",
            "_________________________________________________________________\n",
            "dense (Dense)                (None, 64)                180288    \n",
            "_________________________________________________________________\n",
            "dropout_1 (Dropout)          (None, 64)                0         \n",
            "_________________________________________________________________\n",
            "dense_1 (Dense)              (None, 3)                 195       \n",
            "=================================================================\n",
            "Total params: 205,846\n",
            "Trainable params: 205,843\n",
            "Non-trainable params: 3\n",
            "_________________________________________________________________\n"
          ],
          "name": "stdout"
        }
      ]
    },
    {
      "cell_type": "code",
      "metadata": {
        "id": "X86P1ATMBMI9"
      },
      "source": [
        "model = model_util.MobileNet(input_shape=(34,63,1), dropout=0.5, alpha=0.5, classes=3)"
      ],
      "execution_count": null,
      "outputs": []
    },
    {
      "cell_type": "code",
      "metadata": {
        "id": "Wv1BD9b-DVLg"
      },
      "source": [
        "model.summary()"
      ],
      "execution_count": null,
      "outputs": []
    },
    {
      "cell_type": "code",
      "metadata": {
        "id": "ICaZqRnO4tjn",
        "colab": {
          "base_uri": "https://localhost:8080/"
        },
        "outputId": "2354b764-0295-41cb-fb1b-b4e4075d7e42"
      },
      "source": [
        "val_spectrogram = []\n",
        "for val_signal in val_signals:\n",
        "  val_spectrogram.append(get_spectrogram(val_signal))\n",
        "\n",
        "val_signals_cm = np.array(val_spectrogram)\n",
        "val_signals_cm = tf.expand_dims(val_signals_cm, -1)\n",
        "val_signals_cm.shape"
      ],
      "execution_count": null,
      "outputs": [
        {
          "output_type": "execute_result",
          "data": {
            "text/plain": [
              "TensorShape([825, 34, 63, 1])"
            ]
          },
          "metadata": {
            "tags": []
          },
          "execution_count": 23
        }
      ]
    },
    {
      "cell_type": "code",
      "metadata": {
        "id": "gYmv8alHyPnI"
      },
      "source": [
        "# callbacks\n",
        "log_dir = r\"C:\\Users\\57lzhang.US04WW4008\\Desktop\\Afib\\Afib data\\logs\\fit\\\\\" + \\\n",
        "          datetime.now().strftime(\"%Y%m%d-%H%M%S\") + \"resnet\"\n",
        "\n",
        "## confusion matrix callback\n",
        "def log_confusion_matrix(epoch, logs):\n",
        "    # Use the model to predict the values from the test_images.\n",
        "    \n",
        "    test_pred_raw = model.predict(val_signals_cm)\n",
        "\n",
        "    test_pred = np.argmax(test_pred_raw, axis=1)\n",
        "    test_labels = val_labels.reshape([len(val_labels)])\n",
        "    # Calculate the confusion matrix using sklearn.metrics\n",
        "    cm = sklearn.metrics.confusion_matrix(test_labels, test_pred)\n",
        "\n",
        "    figure = model_util.plot_confusion_matrix(cm, class_names=class_names, normalize=True)\n",
        "    cm_image = model_util.plot_to_image(figure)\n",
        "\n",
        "    # Log the confusion matrix as an image summary.\n",
        "    with file_writer_cm.as_default():\n",
        "        tf.summary.image(\"Confusion Matrix\", cm_image, step=epoch)\n",
        "\n",
        "class_names = ['NSR','Afib','Others']\n",
        "file_writer_cm = tf.summary.create_file_writer(log_dir + '/cm')\n",
        "cm_callback = tf.keras.callbacks.LambdaCallback(on_epoch_end=log_confusion_matrix)\n",
        "\n",
        "## tensorboard callback\n",
        "tensorboard_callback = TensorBoard(log_dir=log_dir, histogram_freq=1)\n",
        "\n",
        "## checkpoint callback\n",
        "filepath = r\"C:\\Users\\57lzhang.US04WW4008\\Desktop\\Afib\\Afib data\\models\\resnet-{epoch:02d}-{loss:.4f}.hdf5\"\n",
        "checkpoint = ModelCheckpoint(filepath, monitor='loss', verbose=1, save_best_only=True, mode='auto')\n",
        "\n",
        "## learning rate decay callback\n",
        "lr_schedule = tf.keras.callbacks.LearningRateScheduler(model_util.decay)\n",
        "\n",
        "callbacks_list = [tensorboard_callback, cm_callback, checkpoint, lr_schedule]"
      ],
      "execution_count": null,
      "outputs": []
    },
    {
      "cell_type": "code",
      "metadata": {
        "id": "Elufg-2uyoeA"
      },
      "source": [
        "model.compile(optimizer=tf.keras.optimizers.Adam(),\n",
        "              loss=tf.keras.losses.SparseCategoricalCrossentropy(),\n",
        "              metrics=['accuracy'])"
      ],
      "execution_count": null,
      "outputs": []
    },
    {
      "cell_type": "code",
      "metadata": {
        "id": "yGztruIVycWZ"
      },
      "source": [
        "#model training\n",
        "CLASS_WEIGHTS = util.class_weights(train_labels)\n",
        "\n",
        "model.fit(train_dataset,\n",
        "          epochs=200,\n",
        "          steps_per_epoch=len(list(train_signals))//batch_size,\n",
        "          verbose=1,\n",
        "          validation_data=val_dataset,\n",
        "          validation_steps=len(list(val_signals))//batch_size,\n",
        "          callbacks=callbacks_list,\n",
        "          class_weight=CLASS_WEIGHTS)"
      ],
      "execution_count": null,
      "outputs": []
    },
    {
      "cell_type": "markdown",
      "metadata": {
        "id": "0iMehUOfuYib"
      },
      "source": [
        "##3.4 Training with both time-domain and frequency-domain"
      ]
    },
    {
      "cell_type": "markdown",
      "metadata": {
        "id": "kBBgUJGAu9uf"
      },
      "source": [
        "###Prepare time-domain data"
      ]
    },
    {
      "cell_type": "code",
      "metadata": {
        "id": "4KFPMkbcu9Lk"
      },
      "source": [
        "# load training data\n",
        "train_data_file_path = \"C:/Users/57lzhang.US04WW4008/Desktop/Afib/Afib data/Afib ECG data/training2017/\"\n",
        "raw_signals, raw_labels = util.data_mining(train_data_file_path)\n",
        "signals, labels = util.generate_seg_data(raw_signals, raw_labels, seg_len=9000)"
      ],
      "execution_count": null,
      "outputs": []
    },
    {
      "cell_type": "code",
      "metadata": {
        "id": "Vd86CFliQnE7",
        "colab": {
          "base_uri": "https://localhost:8080/"
        },
        "outputId": "7fae46c5-f0d0-4b3b-d690-dffab711dddf"
      },
      "source": [
        "signals.shape"
      ],
      "execution_count": null,
      "outputs": [
        {
          "output_type": "execute_result",
          "data": {
            "text/plain": [
              "(8250, 9000)"
            ]
          },
          "metadata": {
            "tags": []
          },
          "execution_count": 4
        }
      ]
    },
    {
      "cell_type": "code",
      "metadata": {
        "id": "QZnzXYrAvl2-",
        "colab": {
          "base_uri": "https://localhost:8080/"
        },
        "outputId": "1dd721db-b383-426c-d3e1-a4354c4d0f39"
      },
      "source": [
        "t_signals, t_labels = util.preprocessing(signals, labels, timedistributed=False)\n",
        "t_train_signals, train_labels, t_val_signals, val_labels = util.split_shuffle_dataset(t_signals, t_labels, 0.9, seed=10)\n",
        "print('t_train_signal shape:', t_train_signals.shape)\n",
        "print('train_label shape:', train_labels.shape)\n",
        "print(\"\\nIn training data:\") \n",
        "util.count_labels(train_labels)\n",
        "print(\"\\nIn validation data:\")\n",
        "util.count_labels(val_labels)"
      ],
      "execution_count": null,
      "outputs": [
        {
          "output_type": "stream",
          "text": [
            "t_train_signal shape: (7425, 3750, 1)\n",
            "train_label shape: (7425, 1)\n",
            "\n",
            "In training data:\n",
            "There are 4430 NSR labels\n",
            "There are 653 AF labels\n",
            "There are 2342 Other Arrhythmia labels\n",
            "\n",
            "In validation data:\n",
            "There are 502 NSR labels\n",
            "There are 62 AF labels\n",
            "There are 261 Other Arrhythmia labels\n"
          ],
          "name": "stdout"
        },
        {
          "output_type": "execute_result",
          "data": {
            "text/plain": [
              "(502, 62, 261)"
            ]
          },
          "metadata": {
            "tags": []
          },
          "execution_count": 5
        }
      ]
    },
    {
      "cell_type": "markdown",
      "metadata": {
        "id": "h0q0RE4VvPCw"
      },
      "source": [
        "###Prepare frequency-domain data"
      ]
    },
    {
      "cell_type": "code",
      "metadata": {
        "id": "5UrxToMrvSa_"
      },
      "source": [
        "def get_spectrogram(signal):\n",
        "  freq, time, spectrogram = scipy.signal.spectrogram(signal, fs=300, window='hanning',\n",
        "                                                     nperseg=1024, noverlap=1024 - 128,\n",
        "                                                     detrend=False, scaling='spectrum',\n",
        "                                                     nfft=1024)\n",
        "  spectrogram = np.log(spectrogram[(freq <= 10) & (freq > 0.01)])\n",
        "  spectrogram = sklearn.preprocessing.minmax_scale(spectrogram)\n",
        "  return spectrogram"
      ],
      "execution_count": null,
      "outputs": []
    },
    {
      "cell_type": "code",
      "metadata": {
        "id": "WBw_ytIbudWE"
      },
      "source": [
        "def get_spectrogram_tensor(signal):\n",
        "  spectrogram = tf.py_function(get_spectrogram, inp=[signal], Tout=tf.float32)\n",
        "  spectrogram = tf.expand_dims(spectrogram, -1)\n",
        "  return spectrogram"
      ],
      "execution_count": null,
      "outputs": []
    },
    {
      "cell_type": "code",
      "metadata": {
        "id": "IW5HjlZSv3Vh",
        "colab": {
          "base_uri": "https://localhost:8080/"
        },
        "outputId": "5c87a9a1-11e8-473f-d0d8-1b816e8fb2bb"
      },
      "source": [
        "f_train_signals, _, f_val_signals, _ = util.split_shuffle_dataset(signals, labels, 0.9, seed=10)\n",
        "print('f_train_signal shape:', f_train_signals.shape)"
      ],
      "execution_count": null,
      "outputs": [
        {
          "output_type": "stream",
          "text": [
            "f_train_signal shape: (7425, 9000)\n"
          ],
          "name": "stdout"
        }
      ]
    },
    {
      "cell_type": "markdown",
      "metadata": {
        "id": "Ey57TVizyk9B"
      },
      "source": [
        "###TF pipeline"
      ]
    },
    {
      "cell_type": "code",
      "metadata": {
        "id": "rvsuJ5ECym5Q"
      },
      "source": [
        "#time domain\n",
        "t_train_dataset = tf.data.Dataset.from_tensor_slices(t_train_signals)\n",
        "t_val_dataset = tf.data.Dataset.from_tensor_slices(t_val_signals)\n",
        "\n",
        "#freq domain\n",
        "f_train_dataset = tf.data.Dataset.from_tensor_slices(f_train_signals)\n",
        "f_val_dataset = tf.data.Dataset.from_tensor_slices(f_val_signals)\n",
        "f_train_dataset = f_train_dataset.map(get_spectrogram_tensor, num_parallel_calls=tf.data.experimental.AUTOTUNE)\n",
        "f_val_dataset = f_val_dataset.map(get_spectrogram_tensor, num_parallel_calls=tf.data.experimental.AUTOTUNE)\n",
        "\n",
        "#label\n",
        "train_lb = tf.data.Dataset.from_tensor_slices(train_labels)\n",
        "val_lb = tf.data.Dataset.from_tensor_slices(val_labels)\n",
        "\n",
        "train = tf.data.Dataset.zip(((t_train_dataset, f_train_dataset), train_lb))\n",
        "validation = tf.data.Dataset.zip(((t_val_dataset, f_val_dataset), val_lb))\n",
        "\n",
        "## loading\n",
        "batch_size = 64\n",
        "train_dataset = train.cache()\n",
        "train_dataset = train_dataset.shuffle(2048).repeat().batch(batch_size, drop_remainder=True)\n",
        "train_dataset = train_dataset.prefetch(buffer_size=tf.data.experimental.AUTOTUNE)\n",
        "val_dataset = validation.repeat().batch(batch_size, drop_remainder=True)"
      ],
      "execution_count": null,
      "outputs": []
    },
    {
      "cell_type": "code",
      "metadata": {
        "id": "knMeh4KQQ53a",
        "colab": {
          "base_uri": "https://localhost:8080/"
        },
        "outputId": "fc460a98-7295-4152-c9ac-0c9a2a689440"
      },
      "source": [
        "train"
      ],
      "execution_count": null,
      "outputs": [
        {
          "output_type": "execute_result",
          "data": {
            "text/plain": [
              "<ZipDataset shapes: (((3750, 1), <unknown>), (1,)), types: ((tf.float64, tf.float32), tf.int32)>"
            ]
          },
          "metadata": {
            "tags": []
          },
          "execution_count": 10
        }
      ]
    },
    {
      "cell_type": "markdown",
      "metadata": {
        "id": "zaT8kEqY4C3E"
      },
      "source": [
        "###Mutilple input model\n"
      ]
    },
    {
      "cell_type": "code",
      "metadata": {
        "id": "Bp1gLT3KTBbh"
      },
      "source": [
        "import tensorflow as tf\n",
        "import matplotlib.pyplot as plt\n",
        "import numpy as np\n",
        "import io\n",
        "import itertools\n",
        "from tensorflow.keras import Model\n",
        "from tensorflow.keras.layers import Conv2D, Conv1D, BatchNormalization, Input, Add, Activation, \\\n",
        "    MaxPooling1D, MaxPooling2D, Dropout, Flatten, TimeDistributed, Bidirectional, Dense, LSTM, ZeroPadding1D, \\\n",
        "    AveragePooling1D, GlobalAveragePooling1D, Concatenate, Permute, Dot, Multiply, RepeatVector, \\\n",
        "    Lambda, Average, GlobalAveragePooling2D, DepthwiseConv2D\n",
        "from tensorflow.keras.initializers import glorot_uniform"
      ],
      "execution_count": null,
      "outputs": []
    },
    {
      "cell_type": "code",
      "metadata": {
        "id": "7IK3bxex4F0F"
      },
      "source": [
        "def time_freq_model(input_shape=None, classes=3, dropout=0.2):\n",
        "  time_input = Input(shape = (3750, 1))\n",
        "  freq_input = Input(shape = (34, 63, 1))\n",
        "\n",
        "  x_t = simple_cnn_1d(input_shape=(3750,1), dropout=dropout)(time_input)\n",
        "  x_f = simple_cnn(input_shape=(34, 63, 1), dropout=dropout)(freq_input)\n",
        "\n",
        "  x = Concatenate(axis=-1)([x_t, x_f])\n",
        "  output = Dense(classes, activation='softmax')(x)\n",
        "  model = Model(inputs = (time_input, freq_input), outputs = output)\n",
        "  return model"
      ],
      "execution_count": null,
      "outputs": []
    },
    {
      "cell_type": "code",
      "metadata": {
        "id": "Wlr0uWYbTr_z"
      },
      "source": [
        "model = time_freq_model(classes=3, dropout=0.5)"
      ],
      "execution_count": null,
      "outputs": []
    },
    {
      "cell_type": "code",
      "metadata": {
        "id": "r33IaltxT6Yr",
        "colab": {
          "base_uri": "https://localhost:8080/"
        },
        "outputId": "42d9eb0c-e32e-40ba-ab43-7f5ec5cf1220"
      },
      "source": [
        "model.summary()"
      ],
      "execution_count": null,
      "outputs": [
        {
          "output_type": "stream",
          "text": [
            "Model: \"functional_11\"\n",
            "__________________________________________________________________________________________________\n",
            "Layer (type)                    Output Shape         Param #     Connected to                     \n",
            "==================================================================================================\n",
            "input_48 (InputLayer)           [(None, 3750, 1)]    0                                            \n",
            "__________________________________________________________________________________________________\n",
            "input_49 (InputLayer)           [(None, 34, 63, 1)]  0                                            \n",
            "__________________________________________________________________________________________________\n",
            "cnn_1d (Functional)             (None, 64)           1920112     input_48[0][0]                   \n",
            "__________________________________________________________________________________________________\n",
            "cnn_2d (Functional)             (None, 64)           205680      input_49[0][0]                   \n",
            "__________________________________________________________________________________________________\n",
            "concatenate_6 (Concatenate)     (None, 128)          0           cnn_1d[0][0]                     \n",
            "                                                                 cnn_2d[0][0]                     \n",
            "__________________________________________________________________________________________________\n",
            "dense_26 (Dense)                (None, 3)            387         concatenate_6[0][0]              \n",
            "==================================================================================================\n",
            "Total params: 2,126,179\n",
            "Trainable params: 2,126,147\n",
            "Non-trainable params: 32\n",
            "__________________________________________________________________________________________________\n"
          ],
          "name": "stdout"
        }
      ]
    },
    {
      "cell_type": "code",
      "metadata": {
        "id": "Ntjz1vr4b5sJ",
        "colab": {
          "base_uri": "https://localhost:8080/",
          "height": 422
        },
        "outputId": "b72c01fb-714e-4e32-d5e0-5f6899fb7c4a"
      },
      "source": [
        "tf.keras.utils.plot_model(model, \"C:/Users/57lzhang.US04WW4008/Desktop/multi_input_and_output_model.png\", show_shapes=True)"
      ],
      "execution_count": null,
      "outputs": [
        {
          "output_type": "execute_result",
          "data": {
            "image/png": "[encoded data removed]",
            "text/plain": [
              "<IPython.core.display.Image object>"
            ]
          },
          "metadata": {
            "tags": []
          },
          "execution_count": 74
        }
      ]
    },
    {
      "cell_type": "code",
      "metadata": {
        "id": "6TTKrygIdqS3"
      },
      "source": [
        "# callbacks\n",
        "log_dir = r\"C:\\Users\\57lzhang.US04WW4008\\Desktop\\Afib\\Afib data\\logs\\fit\\\\\" + \\\n",
        "          datetime.now().strftime(\"%Y%m%d-%H%M%S\") + \"resnet\"\n",
        "\n",
        "\n",
        "## tensorboard callback\n",
        "tensorboard_callback = TensorBoard(log_dir=log_dir, histogram_freq=1)\n",
        "\n",
        "## checkpoint callback\n",
        "filepath = r\"C:\\Users\\57lzhang.US04WW4008\\Desktop\\Afib\\Afib data\\models\\resnet-{epoch:02d}-{loss:.4f}.hdf5\"\n",
        "checkpoint = ModelCheckpoint(filepath, monitor='loss', verbose=1, save_best_only=True, mode='auto')\n",
        "\n",
        "## learning rate decay callback\n",
        "lr_schedule = tf.keras.callbacks.LearningRateScheduler(model_util.decay)\n",
        "\n",
        "callbacks_list = [tensorboard_callback, checkpoint, lr_schedule]"
      ],
      "execution_count": null,
      "outputs": []
    },
    {
      "cell_type": "code",
      "metadata": {
        "id": "HDhPnWyech56"
      },
      "source": [
        "model.compile(optimizer=tf.keras.optimizers.Adam(),\n",
        "              loss=tf.keras.losses.SparseCategoricalCrossentropy(),\n",
        "              metrics=['accuracy'])"
      ],
      "execution_count": null,
      "outputs": []
    },
    {
      "cell_type": "code",
      "metadata": {
        "id": "GBdD__codWWf"
      },
      "source": [
        "#model training\n",
        "CLASS_WEIGHTS = util.class_weights(train_labels)\n",
        "\n",
        "model.fit(train_dataset,\n",
        "          epochs=200,\n",
        "          steps_per_epoch=len(list(t_train_signals))//batch_size,\n",
        "          verbose=1,\n",
        "          validation_data=val_dataset,\n",
        "          validation_steps=len(list(t_val_signals))//batch_size,\n",
        "          callbacks=callbacks_list,\n",
        "          class_weight=CLASS_WEIGHTS)"
      ],
      "execution_count": null,
      "outputs": []
    },
    {
      "cell_type": "markdown",
      "metadata": {
        "id": "DRISIlyDnw3_"
      },
      "source": [
        "###Mutiple Input model - simple CNN"
      ]
    },
    {
      "cell_type": "code",
      "metadata": {
        "id": "bYBW7LSPnv_F"
      },
      "source": [
        "def simple_cnn(input_shape=None, dropout=0.2, classes=3):\n",
        "    \n",
        "    signal_input = Input(shape=input_shape)\n",
        "    \n",
        "    x = Conv2D(8, (1, 1), strides=(1, 1), activation='relu')(signal_input)\n",
        "    x = BatchNormalization()(x)\n",
        "    x = MaxPooling2D(pool_size=(2, 2),strides=(2, 2))(x)\n",
        "    #tf.keras.layers.Dropout(0.2),\n",
        "    #2nd Conv2D\n",
        "    x = Conv2D(16, (3, 3), strides=(1, 1), activation='relu')(x)\n",
        "    x = MaxPooling2D(pool_size=(2, 2),strides=(1, 1))(x)\n",
        "    #tf.keras.layers.Dropout(0.2),\n",
        "    #3rd Conv2D\n",
        "    x = Conv2D(32, (3, 3), strides=(1, 1), activation='relu')(x)\n",
        "    x = MaxPooling2D(pool_size=(2, 2),strides=(1, 1))(x)\n",
        "    #tf.keras.layers.Dropout(0.2),\n",
        "    #4th Conv2D\n",
        "    x = Conv2D(64, (3, 3), strides=(1, 1), activation='relu')(x)\n",
        "    x = MaxPooling2D(pool_size=(2, 2),strides=(1, 1))(x)\n",
        "    x = Dropout(dropout)(x)\n",
        "    #5th Conv2D\n",
        "    x = Conv2D(16, (1, 1), strides=(1, 1), activation='relu')(x)\n",
        "    #Full connection layer\n",
        "    x = Flatten()(x)\n",
        "    out = Dense(64, activation='relu')(x)\n",
        "    model = Model(signal_input, out, name='cnn_2d')\n",
        "\n",
        "    return model"
      ],
      "execution_count": null,
      "outputs": []
    },
    {
      "cell_type": "code",
      "metadata": {
        "id": "KgR32JpzpLbJ"
      },
      "source": [
        "def simple_cnn_1d(input_shape=None, dropout=0.2, classes=3):   \n",
        "    \n",
        "    signal_input = Input(shape=input_shape)\n",
        "    \n",
        "    x = Conv1D(8, 1, strides=1, activation='relu')(signal_input)\n",
        "    x = BatchNormalization()(x)\n",
        "    x = MaxPooling1D(pool_size=2,strides=2)(x)\n",
        "    #tf.keras.layers.Dropout(0.2),\n",
        "    #2nd Conv1D\n",
        "    x = Conv1D(16, 3, strides=1, activation='relu')(x)\n",
        "    x = MaxPooling1D(pool_size=2, strides=1)(x)\n",
        "    #tf.keras.layers.Dropout(0.2),\n",
        "    #3rd Conv1D\n",
        "    x = Conv1D(32, 3, strides=1, activation='relu')(x)\n",
        "    x = MaxPooling1D(pool_size=2, strides=1)(x)\n",
        "    #tf.keras.layers.Dropout(0.2),\n",
        "    #4th Conv1D\n",
        "    x = Conv1D(64, 3, strides=1, activation='relu')(x)\n",
        "    x = MaxPooling1D(pool_size=2, strides=1)(x)\n",
        "    x = Dropout(dropout)(x)\n",
        "    #5th Conv1D\n",
        "    x = Conv1D(16, 1, strides=1, activation='relu')(x)\n",
        "    #Full connection layer\n",
        "    x = Flatten()(x)\n",
        "    out = Dense(64, activation='relu')(x)\n",
        "    model = Model(signal_input, out, name='cnn_1d')\n",
        "\n",
        "    return model"
      ],
      "execution_count": null,
      "outputs": []
    },
    {
      "cell_type": "markdown",
      "metadata": {
        "id": "9gtz0mpPGMdI"
      },
      "source": [
        "#4.Callbacks"
      ]
    },
    {
      "cell_type": "code",
      "metadata": {
        "id": "w1fo9D09kM5n"
      },
      "source": [
        "# callbacks\n",
        "log_dir = r\"C:\\Users\\57lzhang.US04WW4008\\Desktop\\Afib\\Afib data\\logs\\fit\\\\\" + \\\n",
        "          datetime.now().strftime(\"%Y%m%d-%H%M%S\") + \"mobile-time-noshift-100Hz\"\n",
        "\n",
        "## confusion matrix callback\n",
        "def log_confusion_matrix(epoch, logs):\n",
        "    # Use the model to predict the values from the test_images.\n",
        "    \n",
        "    test_pred_raw = model.predict(val_signals)\n",
        "\n",
        "    test_pred = np.argmax(test_pred_raw, axis=1)\n",
        "    test_labels = val_labels.reshape([len(val_labels)])\n",
        "    # Calculate the confusion matrix using sklearn.metrics\n",
        "    cm = sklearn.metrics.confusion_matrix(test_labels, test_pred)\n",
        "\n",
        "    figure = model_util.plot_confusion_matrix(cm, class_names=class_names, normalize=True)\n",
        "    cm_image = model_util.plot_to_image(figure)\n",
        "\n",
        "    # Log the confusion matrix as an image summary.\n",
        "    with file_writer_cm.as_default():\n",
        "        tf.summary.image(\"Confusion Matrix\", cm_image, step=epoch)\n",
        "\n",
        "class_names = ['NSR','Afib','Others']\n",
        "file_writer_cm = tf.summary.create_file_writer(log_dir + '/cm')\n",
        "cm_callback = tf.keras.callbacks.LambdaCallback(on_epoch_end=log_confusion_matrix)\n",
        "\n",
        "## tensorboard callback\n",
        "tensorboard_callback = TensorBoard(log_dir=log_dir, histogram_freq=1)\n",
        "\n",
        "## checkpoint callback\n",
        "filepath = r\"C:\\Users\\57lzhang.US04WW4008\\Desktop\\Afib\\Afib data\\models\\mobile-time-noshift-100Hz-{epoch:02d}-{loss:.4f}\"\n",
        "checkpoint = ModelCheckpoint(filepath, monitor='loss', verbose=1, save_best_only=True, mode='auto')\n",
        "\n",
        "## early stop\n",
        "early_stop = tf.keras.callbacks.EarlyStopping(monitor='val_loss', patience=20, restore_best_weights=True)\n",
        "\n",
        "## learning rate decay callback\n",
        "lr_schedule = tf.keras.callbacks.LearningRateScheduler(model_util.decay)\n",
        "\n",
        "callbacks_list = [tensorboard_callback, cm_callback, checkpoint, early_stop, lr_schedule]"
      ],
      "execution_count": 48,
      "outputs": []
    },
    {
      "cell_type": "markdown",
      "metadata": {
        "id": "3I8W1jtdGIWv"
      },
      "source": [
        "#5.Model Training"
      ]
    },
    {
      "cell_type": "code",
      "metadata": {
        "id": "4VS1G04J3i5G"
      },
      "source": [
        "#model training\n",
        "model.fit(train_dataset,\n",
        "          epochs=200,\n",
        "          steps_per_epoch=len(list(train_signals))//batch_size,\n",
        "          verbose=1,\n",
        "          validation_data=val_dataset,\n",
        "          validation_steps=len(list(val_signals))//batch_size,\n",
        "          callbacks=callbacks_list)"
      ],
      "execution_count": null,
      "outputs": []
    },
    {
      "cell_type": "markdown",
      "metadata": {
        "id": "UAP9Kvm6alEr"
      },
      "source": [
        "#6.Model Evaluation"
      ]
    },
    {
      "cell_type": "code",
      "metadata": {
        "id": "mWB6niRhcgp0"
      },
      "source": [
        "model = tf.keras.models.load_model(r'C:\\Users\\57lzhang.US04WW4008\\Desktop\\Afib\\Afib data\\models\\mobile-drop0.5+time-25Hz-71-0.0001')"
      ],
      "execution_count": 24,
      "outputs": []
    },
    {
      "cell_type": "code",
      "metadata": {
        "id": "hJXbA263coyA"
      },
      "source": [
        "test_pred_raw = model.predict(test_signals)\r\n",
        "test_pred = np.argmax(test_pred_raw, axis=1)"
      ],
      "execution_count": 50,
      "outputs": []
    },
    {
      "cell_type": "code",
      "metadata": {
        "id": "pUQIrsMcctXS",
        "outputId": "974ac1a0-bfe9-4c7e-ba0e-8b42399ea691",
        "colab": {
          "base_uri": "https://localhost:8080/",
          "height": 584
        }
      },
      "source": [
        "cm = sklearn.metrics.confusion_matrix(test_labels, test_pred)\r\n",
        "figure = model_util.plot_confusion_matrix(cm, class_names=class_names, normalize=True)"
      ],
      "execution_count": 72,
      "outputs": [
        {
          "output_type": "display_data",
          "data": {
            "text/plain": [
              "<Figure size 576x576 with 2 Axes>"
            ],
            "image/png": "[encoded data removed]"
          },
          "metadata": {
            "tags": [],
            "needs_background": "light"
          }
        }
      ]
    },
    {
      "cell_type": "code",
      "metadata": {
        "id": "nBnmB5xR2bAN",
        "outputId": "2288aa66-e34a-457d-b676-4c3106cc3a1e",
        "colab": {
          "base_uri": "https://localhost:8080/"
        }
      },
      "source": [
        "sklearn.metrics.f1_score(test_labels, test_pred, average='weighted')"
      ],
      "execution_count": 73,
      "outputs": [
        {
          "output_type": "execute_result",
          "data": {
            "text/plain": [
              "0.764759524274212"
            ]
          },
          "metadata": {
            "tags": []
          },
          "execution_count": 73
        }
      ]
    }
  ]
}