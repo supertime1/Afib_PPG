{
  "nbformat": 4,
  "nbformat_minor": 0,
  "metadata": {
    "colab": {
      "name": "model_train.ipynb",
      "provenance": [],
      "collapsed_sections": [
        "ckuxUrs1GeC7",
        "Nvv8pVHmGsFs",
        "9gtz0mpPGMdI",
        "yzCsuNPU5-e-"
      ]
    },
    "kernelspec": {
      "name": "python3",
      "display_name": "Python 3"
    },
    "accelerator": "GPU"
  },
  "cells": [
    {
      "cell_type": "markdown",
      "metadata": {
        "id": "JD_-cpvPGQyK"
      },
      "source": [
        "#1.Import Dependencies"
      ]
    },
    {
      "cell_type": "code",
      "metadata": {
        "id": "w0X7DBegvBxs"
      },
      "source": [
        "import sys\n",
        "sys.path.append('C:/Users/57lzhang.US04WW4008/PycharmProjects/AF')"
      ],
      "execution_count": 1,
      "outputs": []
    },
    {
      "cell_type": "code",
      "metadata": {
        "id": "UtJCBohYlUoG",
        "colab": {
          "base_uri": "https://localhost:8080/"
        },
        "outputId": "50dd9156-f567-43a3-8186-9c8393b088a2"
      },
      "source": [
        "from util import util, model_util\n",
        "import tensorflow as tf\n",
        "from datetime import datetime\n",
        "from tensorflow.keras.callbacks import TensorBoard, ModelCheckpoint\n",
        "import numpy as np\n",
        "import sklearn\n",
        "from sklearn import metrics\n",
        "import scipy\n",
        "import matplotlib.pyplot as plt\n",
        "print(tf.__version__)"
      ],
      "execution_count": 2,
      "outputs": [
        {
          "output_type": "stream",
          "text": [
            "2.3.1\n"
          ],
          "name": "stdout"
        }
      ]
    },
    {
      "cell_type": "code",
      "metadata": {
        "id": "75wS3gS7Vd-L"
      },
      "source": [
        "import io\n",
        "import itertools\n",
        "from tensorflow.keras import Model\n",
        "from tensorflow.keras.layers import Conv2D, Conv1D, BatchNormalization, Input, Add, Activation, \\\n",
        "    MaxPooling1D, MaxPooling2D, Dropout, Flatten, TimeDistributed, Bidirectional, Dense, LSTM, ZeroPadding1D, \\\n",
        "    AveragePooling1D, GlobalAveragePooling1D, Concatenate, Permute, Dot, Multiply, RepeatVector, \\\n",
        "    Lambda, Average, GlobalAveragePooling2D, DepthwiseConv2D\n",
        "from tensorflow.keras.initializers import glorot_uniform"
      ],
      "execution_count": 3,
      "outputs": []
    },
    {
      "cell_type": "markdown",
      "metadata": {
        "id": "OZfmA5DxvwB3"
      },
      "source": [
        "#2.Input Data Pipeline"
      ]
    },
    {
      "cell_type": "markdown",
      "metadata": {
        "id": "T5iRQnesWwLq"
      },
      "source": [
        "##2.1 Time-Domain"
      ]
    },
    {
      "cell_type": "code",
      "metadata": {
        "id": "u3RvBpqmqBqj",
        "colab": {
          "base_uri": "https://localhost:8080/"
        },
        "outputId": "5092e0e2-5196-4b42-8926-53b3ac7413cb"
      },
      "source": [
        "# load training data\n",
        "train_data_file_path = \"C:/Users/57lzhang.US04WW4008/Desktop/Afib/Afib data/Afib ECG data/training2017/\"\n",
        "raw_signals, raw_labels = util.data_mining(train_data_file_path)\n",
        "signals, labels = util.generate_seg_data_shift(raw_signals, raw_labels, seg_len=9000)\n",
        "signals, labels = util.preprocessing(signals, labels, timedistributed=False)\n",
        "train_signals, train_labels, val_signals, val_labels = util.split_shuffle_dataset(signals, labels, 0.9)\n",
        "#oversample labels\n",
        "train_signals, train_labels = util.oversample_labels(train_signals, train_labels)\n",
        "val_signals, val_labels = util.oversample_labels(val_signals, val_labels)\n",
        "\n",
        "print('train_signal shape:', train_signals.shape)\n",
        "print('train_label shape:', train_labels.shape)\n",
        "print(\"\\nIn training data:\") \n",
        "util.count_labels(train_labels)\n",
        "print(\"\\nIn validation data:\")\n",
        "util.count_labels(val_labels)"
      ],
      "execution_count": 31,
      "outputs": [
        {
          "output_type": "stream",
          "text": [
            "train_signal shape: (56058, 3000, 1)\n",
            "train_label shape: (56058,)\n",
            "\n",
            "In training data:\n",
            "There are 18686 NSR labels\n",
            "There are 18686 AF labels\n",
            "There are 18686 Other Arrhythmia labels\n",
            "\n",
            "In validation data:\n",
            "There are 2053 NSR labels\n",
            "There are 2053 AF labels\n",
            "There are 2053 Other Arrhythmia labels\n"
          ],
          "name": "stdout"
        },
        {
          "output_type": "execute_result",
          "data": {
            "text/plain": [
              "(2053, 2053, 2053)"
            ]
          },
          "metadata": {
            "tags": []
          },
          "execution_count": 31
        }
      ]
    },
    {
      "cell_type": "code",
      "metadata": {
        "id": "Xo6D2eX3qFZu",
        "colab": {
          "base_uri": "https://localhost:8080/"
        },
        "outputId": "9c5c327c-a5f9-44bb-be2c-ec3c7fda2cd7"
      },
      "source": [
        "# load testing data\n",
        "test_data_file_path = \"C:/Users/57lzhang.US04WW4008/Desktop/Afib/Afib data/Afib ECG data/validation/\"\n",
        "test_raw_signals, test_raw_labels = util.data_mining(test_data_file_path)\n",
        "test_signals, test_labels = util.generate_seg_data(test_raw_signals, test_raw_labels, seg_len=9000)\n",
        "test_signals, test_labels = util.preprocessing(test_signals, test_labels, timedistributed=False)\n",
        "print('test_signal shape:', test_signals.shape)\n",
        "print('test_label shape:', test_labels.shape)\n",
        "print(\"\\nIn test data:\") \n",
        "util.count_labels(test_labels)"
      ],
      "execution_count": 32,
      "outputs": [
        {
          "output_type": "stream",
          "text": [
            "test_signal shape: (276, 3000, 1)\n",
            "test_label shape: (276, 1)\n",
            "\n",
            "In test data:\n",
            "There are 150 NSR labels\n",
            "There are 47 AF labels\n",
            "There are 79 Other Arrhythmia labels\n"
          ],
          "name": "stdout"
        },
        {
          "output_type": "execute_result",
          "data": {
            "text/plain": [
              "(150, 47, 79)"
            ]
          },
          "metadata": {
            "tags": []
          },
          "execution_count": 32
        }
      ]
    },
    {
      "cell_type": "code",
      "metadata": {
        "id": "o1OeexwulGQD",
        "colab": {
          "base_uri": "https://localhost:8080/"
        },
        "outputId": "00d651b8-1781-45d8-ed94-e7859d126083"
      },
      "source": [
        "#convert test labels to floating point type, so that it can be compared with model output\n",
        "test_labels = test_labels.flatten()\n",
        "test_labels = test_labels.astype(int)\n",
        "type(test_labels[0])"
      ],
      "execution_count": 33,
      "outputs": [
        {
          "output_type": "execute_result",
          "data": {
            "text/plain": [
              "numpy.int32"
            ]
          },
          "metadata": {
            "tags": []
          },
          "execution_count": 33
        }
      ]
    },
    {
      "cell_type": "code",
      "metadata": {
        "id": "gv9q6jpDZjB6"
      },
      "source": [
        "# tensorflow pipeline\r\n",
        "## extraction\r\n",
        "train_dataset = tf.data.Dataset.from_tensor_slices((train_signals, train_labels))\r\n",
        "val_dataset = tf.data.Dataset.from_tensor_slices((val_signals, val_labels))\r\n",
        "## loading\r\n",
        "batch_size = 128\r\n",
        "train_dataset = train_dataset.cache()\r\n",
        "train_dataset = train_dataset.shuffle(2048).repeat().batch(batch_size, drop_remainder=True)\r\n",
        "train_dataset = train_dataset.prefetch(buffer_size=tf.data.experimental.AUTOTUNE)\r\n",
        "val_dataset = val_dataset.repeat().batch(batch_size, drop_remainder=True)"
      ],
      "execution_count": null,
      "outputs": []
    },
    {
      "cell_type": "markdown",
      "metadata": {
        "id": "jBflpLQyW6Lj"
      },
      "source": [
        "##2.2 Freq-Domain"
      ]
    },
    {
      "cell_type": "code",
      "metadata": {
        "id": "P5Xod-1qkJz0",
        "colab": {
          "base_uri": "https://localhost:8080/",
          "height": 0
        },
        "outputId": "d3fe7082-e5c8-4a89-a8b4-52311fa641f5"
      },
      "source": [
        "train_data_file_path = \"C:/Users/57lzhang.US04WW4008/Desktop/Afib/Afib data/Afib ECG data/training2017/\"\n",
        "raw_signals, raw_labels = util.data_mining(train_data_file_path)\n",
        "signals, labels = util.generate_seg_data(raw_signals, raw_labels, seg_len=9000)\n",
        "#sanity check\n",
        "util.plot_spectrogram(signals, labels, 2)\n",
        "print('Spectrom shape:', util.get_spectrogram_and_label(signals[0], labels[0])[0].shape)\n",
        "print('Label shape:', util.get_spectrogram_and_label(signals[0], labels[0])[1].shape)"
      ],
      "execution_count": 39,
      "outputs": [
        {
          "output_type": "display_data",
          "data": {
            "text/plain": [
              "<Figure size 864x576 with 3 Axes>"
            ],
            "image/png": "[encoded data removed]"
          },
          "metadata": {
            "tags": [],
            "needs_background": "light"
          }
        },
        {
          "output_type": "stream",
          "text": [
            "Spectrom shape: (34, 63, 1)\n",
            "Label shape: (1,)\n"
          ],
          "name": "stdout"
        }
      ]
    },
    {
      "cell_type": "code",
      "metadata": {
        "id": "iyAZ8arrt1al",
        "colab": {
          "base_uri": "https://localhost:8080/"
        },
        "outputId": "94fdbb64-a3fe-4e7d-8d93-7cbbbabbb4de"
      },
      "source": [
        "train_signals, train_labels, val_signals, val_labels = util.split_shuffle_dataset(signals, labels, 0.9, seed=10)\r\n",
        "print('train_signal shape:', train_signals.shape)\r\n",
        "print('train_label shape:', train_labels.shape)\r\n",
        "print(\"\\nIn training data:\") \r\n",
        "util.count_labels(train_labels)\r\n",
        "print(\"\\nIn validation data:\")\r\n",
        "util.count_labels(val_labels)"
      ],
      "execution_count": 40,
      "outputs": [
        {
          "output_type": "stream",
          "text": [
            "train_signal shape: (7425, 9000)\n",
            "train_label shape: (7425, 1)\n",
            "\n",
            "In training data:\n",
            "There are 4430 NSR labels\n",
            "There are 653 AF labels\n",
            "There are 2342 Other Arrhythmia labels\n",
            "\n",
            "In validation data:\n",
            "There are 502 NSR labels\n",
            "There are 62 AF labels\n",
            "There are 261 Other Arrhythmia labels\n"
          ],
          "name": "stdout"
        },
        {
          "output_type": "execute_result",
          "data": {
            "text/plain": [
              "(502, 62, 261)"
            ]
          },
          "metadata": {
            "tags": []
          },
          "execution_count": 40
        }
      ]
    },
    {
      "cell_type": "code",
      "metadata": {
        "id": "o-2OlT6au8np"
      },
      "source": [
        "# tensorflow pipeline\n",
        "## extraction\n",
        "train_dataset = tf.data.Dataset.from_tensor_slices((train_signals, train_labels))\n",
        "val_dataset = tf.data.Dataset.from_tensor_slices((val_signals, val_labels))\n",
        "train_dataset = train_dataset.map(util.get_spectrogram_and_label, num_parallel_calls=tf.data.experimental.AUTOTUNE)\n",
        "val_dataset = val_dataset.map(util.get_spectrogram_and_label, num_parallel_calls=tf.data.experimental.AUTOTUNE)\n",
        "\n",
        "## loading\n",
        "batch_size = 64\n",
        "train_dataset = train_dataset.cache()\n",
        "train_dataset = train_dataset.shuffle(2048).repeat().batch(batch_size, drop_remainder=True)\n",
        "train_dataset = train_dataset.prefetch(buffer_size=tf.data.experimental.AUTOTUNE)\n",
        "val_dataset = val_dataset.repeat().batch(batch_size, drop_remainder=True)"
      ],
      "execution_count": 41,
      "outputs": []
    },
    {
      "cell_type": "code",
      "metadata": {
        "colab": {
          "base_uri": "https://localhost:8080/"
        },
        "id": "XnEIq-zqXoI0",
        "outputId": "10161aed-232e-41cf-9267-574dcbc4771a"
      },
      "source": [
        "#process validation data for tensorboard\r\n",
        "val_spectrogram = []\r\n",
        "for val_signal in val_signals:\r\n",
        "  val_spectrogram.append(util.get_spectrogram(val_signal))\r\n",
        "\r\n",
        "val_signals = np.array(val_spectrogram)\r\n",
        "val_signals = tf.expand_dims(val_signals, -1)\r\n",
        "val_signals.shape"
      ],
      "execution_count": 42,
      "outputs": [
        {
          "output_type": "execute_result",
          "data": {
            "text/plain": [
              "TensorShape([825, 34, 63, 1])"
            ]
          },
          "metadata": {
            "tags": []
          },
          "execution_count": 42
        }
      ]
    },
    {
      "cell_type": "code",
      "metadata": {
        "colab": {
          "base_uri": "https://localhost:8080/"
        },
        "id": "StrxQWQfZ_CD",
        "outputId": "ec2137f2-fbdf-46e0-965c-c8993cedea80"
      },
      "source": [
        "# load testing data\r\n",
        "test_data_file_path = \"C:/Users/57lzhang.US04WW4008/Desktop/Afib/Afib data/Afib ECG data/validation/\"\r\n",
        "test_raw_signals, test_raw_labels = util.data_mining(test_data_file_path)\r\n",
        "test_signals, test_labels = util.generate_seg_data(test_raw_signals, test_raw_labels, seg_len=9000)\r\n",
        "print('test_signal shape:', test_signals.shape)\r\n",
        "print('test_label shape:', test_labels.shape)\r\n",
        "print(\"\\nIn test data:\") \r\n",
        "util.count_labels(test_labels)"
      ],
      "execution_count": 43,
      "outputs": [
        {
          "output_type": "stream",
          "text": [
            "test_signal shape: (276, 9000)\n",
            "test_label shape: (276, 1)\n",
            "\n",
            "In test data:\n",
            "There are 150 NSR labels\n",
            "There are 47 AF labels\n",
            "There are 79 Other Arrhythmia labels\n"
          ],
          "name": "stdout"
        },
        {
          "output_type": "execute_result",
          "data": {
            "text/plain": [
              "(150, 47, 79)"
            ]
          },
          "metadata": {
            "tags": []
          },
          "execution_count": 43
        }
      ]
    },
    {
      "cell_type": "code",
      "metadata": {
        "colab": {
          "base_uri": "https://localhost:8080/"
        },
        "id": "sKRbl4LAaHoY",
        "outputId": "4db4202f-6d89-4198-b642-f69f1c7c28ff"
      },
      "source": [
        "# Process test signals for model evaluation\r\n",
        "test_spectrogram = []\r\n",
        "for test_signal in test_signals:\r\n",
        "  test_spectrogram.append(util.get_spectrogram(test_signal))\r\n",
        "\r\n",
        "test_signals = np.array(test_spectrogram)\r\n",
        "test_signals = tf.expand_dims(test_signals, -1)\r\n",
        "test_signals.shape"
      ],
      "execution_count": 44,
      "outputs": [
        {
          "output_type": "execute_result",
          "data": {
            "text/plain": [
              "TensorShape([276, 34, 63, 1])"
            ]
          },
          "metadata": {
            "tags": []
          },
          "execution_count": 44
        }
      ]
    },
    {
      "cell_type": "markdown",
      "metadata": {
        "id": "6ERGMcDqO3R8"
      },
      "source": [
        "#3.Model"
      ]
    },
    {
      "cell_type": "markdown",
      "metadata": {
        "id": "uHweWIpxGZfd"
      },
      "source": [
        "##3.1.Training with Time-Domain"
      ]
    },
    {
      "cell_type": "markdown",
      "metadata": {
        "id": "Nvv8pVHmGsFs"
      },
      "source": [
        "###Short CNN-1D"
      ]
    },
    {
      "cell_type": "code",
      "metadata": {
        "id": "veyF4WypP9eK",
        "colab": {
          "base_uri": "https://localhost:8080/"
        },
        "outputId": "ea32b021-afad-4938-f4de-0ec90efa48f3"
      },
      "source": [
        "model = model_util.simple_cnn_1d((3000, 1), dropout=0.2, classes=3)\n",
        "model.summary()\n",
        "model.compile(optimizer=tf.keras.optimizers.Adam(),\n",
        "              loss=tf.keras.losses.sparse_categorical_crossentropy,\n",
        "              metrics=['accuracy'])"
      ],
      "execution_count": 37,
      "outputs": [
        {
          "output_type": "stream",
          "text": [
            "Model: \"cnn_1d\"\n",
            "_________________________________________________________________\n",
            "Layer (type)                 Output Shape              Param #   \n",
            "=================================================================\n",
            "input_3 (InputLayer)         [(None, 3000, 1)]         0         \n",
            "_________________________________________________________________\n",
            "conv1d_5 (Conv1D)            (None, 3000, 8)           16        \n",
            "_________________________________________________________________\n",
            "batch_normalization_6 (Batch (None, 3000, 8)           32        \n",
            "_________________________________________________________________\n",
            "max_pooling1d_5 (MaxPooling1 (None, 1500, 8)           0         \n",
            "_________________________________________________________________\n",
            "dropout_5 (Dropout)          (None, 1500, 8)           0         \n",
            "_________________________________________________________________\n",
            "conv1d_6 (Conv1D)            (None, 1498, 16)          400       \n",
            "_________________________________________________________________\n",
            "batch_normalization_7 (Batch (None, 1498, 16)          64        \n",
            "_________________________________________________________________\n",
            "max_pooling1d_6 (MaxPooling1 (None, 749, 16)           0         \n",
            "_________________________________________________________________\n",
            "dropout_6 (Dropout)          (None, 749, 16)           0         \n",
            "_________________________________________________________________\n",
            "conv1d_7 (Conv1D)            (None, 747, 32)           1568      \n",
            "_________________________________________________________________\n",
            "batch_normalization_8 (Batch (None, 747, 32)           128       \n",
            "_________________________________________________________________\n",
            "max_pooling1d_7 (MaxPooling1 (None, 373, 32)           0         \n",
            "_________________________________________________________________\n",
            "dropout_7 (Dropout)          (None, 373, 32)           0         \n",
            "_________________________________________________________________\n",
            "conv1d_8 (Conv1D)            (None, 371, 64)           6208      \n",
            "_________________________________________________________________\n",
            "batch_normalization_9 (Batch (None, 371, 64)           256       \n",
            "_________________________________________________________________\n",
            "max_pooling1d_8 (MaxPooling1 (None, 185, 64)           0         \n",
            "_________________________________________________________________\n",
            "dropout_8 (Dropout)          (None, 185, 64)           0         \n",
            "_________________________________________________________________\n",
            "conv1d_9 (Conv1D)            (None, 185, 16)           1040      \n",
            "_________________________________________________________________\n",
            "batch_normalization_10 (Batc (None, 185, 16)           64        \n",
            "_________________________________________________________________\n",
            "flatten_2 (Flatten)          (None, 2960)              0         \n",
            "_________________________________________________________________\n",
            "dense_2 (Dense)              (None, 64)                189504    \n",
            "_________________________________________________________________\n",
            "batch_normalization_11 (Batc (None, 64)                256       \n",
            "_________________________________________________________________\n",
            "dropout_9 (Dropout)          (None, 64)                0         \n",
            "_________________________________________________________________\n",
            "dense_3 (Dense)              (None, 3)                 195       \n",
            "=================================================================\n",
            "Total params: 199,731\n",
            "Trainable params: 199,331\n",
            "Non-trainable params: 400\n",
            "_________________________________________________________________\n"
          ],
          "name": "stdout"
        }
      ]
    },
    {
      "cell_type": "markdown",
      "metadata": {
        "id": "rq3mpHlwq0FD"
      },
      "source": [
        "###MobileNet-1D"
      ]
    },
    {
      "cell_type": "code",
      "metadata": {
        "id": "otDRAlH85ojx"
      },
      "source": [
        "model = model_util.MobileNet_1D(input_shape=(3000,1), dropout=0.5, classes=3)\n",
        "model.compile(optimizer=tf.keras.optimizers.Adam(),\n",
        "              loss=tf.keras.losses.sparse_categorical_crossentropy,\n",
        "              metrics=['accuracy'])\n",
        "model.summary()"
      ],
      "execution_count": null,
      "outputs": []
    },
    {
      "cell_type": "markdown",
      "metadata": {
        "id": "hCdh0xbi8vts"
      },
      "source": [
        "###ResNet-1D"
      ]
    },
    {
      "cell_type": "code",
      "metadata": {
        "id": "5aI3zST7wmZy"
      },
      "source": [
        "#cnn + lstm model\n",
        "model = model_util.resnet18_1d((3000,1), classes=3, as_model=True)\n",
        "model.compile(optimizer=tf.keras.optimizers.Adam(),\n",
        "              loss=tf.keras.losses.SparseCategoricalCrossentropy(),\n",
        "              metrics=['accuracy'])\n",
        "model.summary()"
      ],
      "execution_count": null,
      "outputs": []
    },
    {
      "cell_type": "markdown",
      "metadata": {
        "id": "zbNYhRVgry7L"
      },
      "source": [
        "##3.2 Training with Freq-Domain"
      ]
    },
    {
      "cell_type": "markdown",
      "metadata": {
        "id": "TCGZ6pYAXQxI"
      },
      "source": [
        "###Short CNN"
      ]
    },
    {
      "cell_type": "code",
      "metadata": {
        "id": "-xrAamJ6xpCt",
        "colab": {
          "base_uri": "https://localhost:8080/"
        },
        "outputId": "fe08bad6-4cd5-488d-e00f-30a206ee58ef"
      },
      "source": [
        "model = model_util.simple_cnn(input_shape=(34,63,1), dropout=0.2, classes=3)\n",
        "model.compile(optimizer=tf.keras.optimizers.Adam(),\n",
        "              loss=tf.keras.losses.SparseCategoricalCrossentropy(),\n",
        "              metrics=['accuracy'])\n",
        "model.summary()"
      ],
      "execution_count": 31,
      "outputs": [
        {
          "output_type": "stream",
          "text": [
            "Model: \"cnn\"\n",
            "_________________________________________________________________\n",
            "Layer (type)                 Output Shape              Param #   \n",
            "=================================================================\n",
            "input_2 (InputLayer)         [(None, 34, 63, 1)]       0         \n",
            "_________________________________________________________________\n",
            "conv2d_5 (Conv2D)            (None, 34, 63, 8)         16        \n",
            "_________________________________________________________________\n",
            "batch_normalization_5 (Batch (None, 34, 63, 8)         32        \n",
            "_________________________________________________________________\n",
            "max_pooling2d_4 (MaxPooling2 (None, 17, 31, 8)         0         \n",
            "_________________________________________________________________\n",
            "conv2d_6 (Conv2D)            (None, 15, 29, 16)        1168      \n",
            "_________________________________________________________________\n",
            "batch_normalization_6 (Batch (None, 15, 29, 16)        64        \n",
            "_________________________________________________________________\n",
            "max_pooling2d_5 (MaxPooling2 (None, 14, 28, 16)        0         \n",
            "_________________________________________________________________\n",
            "conv2d_7 (Conv2D)            (None, 12, 26, 32)        4640      \n",
            "_________________________________________________________________\n",
            "batch_normalization_7 (Batch (None, 12, 26, 32)        128       \n",
            "_________________________________________________________________\n",
            "max_pooling2d_6 (MaxPooling2 (None, 11, 25, 32)        0         \n",
            "_________________________________________________________________\n",
            "conv2d_8 (Conv2D)            (None, 9, 23, 64)         18496     \n",
            "_________________________________________________________________\n",
            "batch_normalization_8 (Batch (None, 9, 23, 64)         256       \n",
            "_________________________________________________________________\n",
            "max_pooling2d_7 (MaxPooling2 (None, 8, 22, 64)         0         \n",
            "_________________________________________________________________\n",
            "conv2d_9 (Conv2D)            (None, 8, 22, 16)         1040      \n",
            "_________________________________________________________________\n",
            "flatten_1 (Flatten)          (None, 2816)              0         \n",
            "_________________________________________________________________\n",
            "dense_2 (Dense)              (None, 64)                180288    \n",
            "_________________________________________________________________\n",
            "batch_normalization_9 (Batch (None, 64)                256       \n",
            "_________________________________________________________________\n",
            "dropout_1 (Dropout)          (None, 64)                0         \n",
            "_________________________________________________________________\n",
            "dense_3 (Dense)              (None, 3)                 195       \n",
            "=================================================================\n",
            "Total params: 206,579\n",
            "Trainable params: 206,211\n",
            "Non-trainable params: 368\n",
            "_________________________________________________________________\n"
          ],
          "name": "stdout"
        }
      ]
    },
    {
      "cell_type": "markdown",
      "metadata": {
        "id": "z4041U86XbNl"
      },
      "source": [
        "###MobileNet"
      ]
    },
    {
      "cell_type": "code",
      "metadata": {
        "id": "X86P1ATMBMI9",
        "colab": {
          "base_uri": "https://localhost:8080/"
        },
        "outputId": "f1476f25-0c8a-4fa0-be98-69c91f9d17ae"
      },
      "source": [
        "model = model_util.MobileNet(input_shape=(34,63,1), dropout=0.5, alpha=0.5, classes=3)\r\n",
        "model.compile(optimizer=tf.keras.optimizers.Adam(),\r\n",
        "              loss=tf.keras.losses.SparseCategoricalCrossentropy(),\r\n",
        "              metrics=['accuracy'])\r\n",
        "model.summary()"
      ],
      "execution_count": 45,
      "outputs": [
        {
          "output_type": "stream",
          "text": [
            "Model: \"mobilenet\"\n",
            "_________________________________________________________________\n",
            "Layer (type)                 Output Shape              Param #   \n",
            "=================================================================\n",
            "input_3 (InputLayer)         [(None, 34, 63, 1)]       0         \n",
            "_________________________________________________________________\n",
            "conv2d_10 (Conv2D)           (None, 17, 32, 16)        144       \n",
            "_________________________________________________________________\n",
            "batch_normalization_10 (Batc (None, 17, 32, 16)        64        \n",
            "_________________________________________________________________\n",
            "activation (Activation)      (None, 17, 32, 16)        0         \n",
            "_________________________________________________________________\n",
            "depthwise_conv2d (DepthwiseC (None, 17, 32, 16)        144       \n",
            "_________________________________________________________________\n",
            "batch_normalization_11 (Batc (None, 17, 32, 16)        64        \n",
            "_________________________________________________________________\n",
            "activation_1 (Activation)    (None, 17, 32, 16)        0         \n",
            "_________________________________________________________________\n",
            "conv2d_11 (Conv2D)           (None, 17, 32, 32)        512       \n",
            "_________________________________________________________________\n",
            "batch_normalization_12 (Batc (None, 17, 32, 32)        128       \n",
            "_________________________________________________________________\n",
            "activation_2 (Activation)    (None, 17, 32, 32)        0         \n",
            "_________________________________________________________________\n",
            "depthwise_conv2d_1 (Depthwis (None, 9, 16, 32)         288       \n",
            "_________________________________________________________________\n",
            "batch_normalization_13 (Batc (None, 9, 16, 32)         128       \n",
            "_________________________________________________________________\n",
            "activation_3 (Activation)    (None, 9, 16, 32)         0         \n",
            "_________________________________________________________________\n",
            "conv2d_12 (Conv2D)           (None, 9, 16, 64)         2048      \n",
            "_________________________________________________________________\n",
            "batch_normalization_14 (Batc (None, 9, 16, 64)         256       \n",
            "_________________________________________________________________\n",
            "activation_4 (Activation)    (None, 9, 16, 64)         0         \n",
            "_________________________________________________________________\n",
            "depthwise_conv2d_2 (Depthwis (None, 9, 16, 64)         576       \n",
            "_________________________________________________________________\n",
            "batch_normalization_15 (Batc (None, 9, 16, 64)         256       \n",
            "_________________________________________________________________\n",
            "activation_5 (Activation)    (None, 9, 16, 64)         0         \n",
            "_________________________________________________________________\n",
            "conv2d_13 (Conv2D)           (None, 9, 16, 64)         4096      \n",
            "_________________________________________________________________\n",
            "batch_normalization_16 (Batc (None, 9, 16, 64)         256       \n",
            "_________________________________________________________________\n",
            "activation_6 (Activation)    (None, 9, 16, 64)         0         \n",
            "_________________________________________________________________\n",
            "depthwise_conv2d_3 (Depthwis (None, 5, 8, 64)          576       \n",
            "_________________________________________________________________\n",
            "batch_normalization_17 (Batc (None, 5, 8, 64)          256       \n",
            "_________________________________________________________________\n",
            "activation_7 (Activation)    (None, 5, 8, 64)          0         \n",
            "_________________________________________________________________\n",
            "conv2d_14 (Conv2D)           (None, 5, 8, 128)         8192      \n",
            "_________________________________________________________________\n",
            "batch_normalization_18 (Batc (None, 5, 8, 128)         512       \n",
            "_________________________________________________________________\n",
            "activation_8 (Activation)    (None, 5, 8, 128)         0         \n",
            "_________________________________________________________________\n",
            "depthwise_conv2d_4 (Depthwis (None, 5, 8, 128)         1152      \n",
            "_________________________________________________________________\n",
            "batch_normalization_19 (Batc (None, 5, 8, 128)         512       \n",
            "_________________________________________________________________\n",
            "activation_9 (Activation)    (None, 5, 8, 128)         0         \n",
            "_________________________________________________________________\n",
            "conv2d_15 (Conv2D)           (None, 5, 8, 128)         16384     \n",
            "_________________________________________________________________\n",
            "batch_normalization_20 (Batc (None, 5, 8, 128)         512       \n",
            "_________________________________________________________________\n",
            "activation_10 (Activation)   (None, 5, 8, 128)         0         \n",
            "_________________________________________________________________\n",
            "depthwise_conv2d_5 (Depthwis (None, 3, 4, 128)         1152      \n",
            "_________________________________________________________________\n",
            "batch_normalization_21 (Batc (None, 3, 4, 128)         512       \n",
            "_________________________________________________________________\n",
            "activation_11 (Activation)   (None, 3, 4, 128)         0         \n",
            "_________________________________________________________________\n",
            "conv2d_16 (Conv2D)           (None, 3, 4, 256)         32768     \n",
            "_________________________________________________________________\n",
            "batch_normalization_22 (Batc (None, 3, 4, 256)         1024      \n",
            "_________________________________________________________________\n",
            "activation_12 (Activation)   (None, 3, 4, 256)         0         \n",
            "_________________________________________________________________\n",
            "depthwise_conv2d_6 (Depthwis (None, 2, 2, 256)         2304      \n",
            "_________________________________________________________________\n",
            "batch_normalization_23 (Batc (None, 2, 2, 256)         1024      \n",
            "_________________________________________________________________\n",
            "activation_13 (Activation)   (None, 2, 2, 256)         0         \n",
            "_________________________________________________________________\n",
            "conv2d_17 (Conv2D)           (None, 2, 2, 512)         131072    \n",
            "_________________________________________________________________\n",
            "batch_normalization_24 (Batc (None, 2, 2, 512)         2048      \n",
            "_________________________________________________________________\n",
            "activation_14 (Activation)   (None, 2, 2, 512)         0         \n",
            "_________________________________________________________________\n",
            "depthwise_conv2d_7 (Depthwis (None, 2, 2, 512)         4608      \n",
            "_________________________________________________________________\n",
            "batch_normalization_25 (Batc (None, 2, 2, 512)         2048      \n",
            "_________________________________________________________________\n",
            "activation_15 (Activation)   (None, 2, 2, 512)         0         \n",
            "_________________________________________________________________\n",
            "conv2d_18 (Conv2D)           (None, 2, 2, 512)         262144    \n",
            "_________________________________________________________________\n",
            "batch_normalization_26 (Batc (None, 2, 2, 512)         2048      \n",
            "_________________________________________________________________\n",
            "activation_16 (Activation)   (None, 2, 2, 512)         0         \n",
            "_________________________________________________________________\n",
            "global_average_pooling2d (Gl (None, 512)               0         \n",
            "_________________________________________________________________\n",
            "dropout_2 (Dropout)          (None, 512)               0         \n",
            "_________________________________________________________________\n",
            "dense_4 (Dense)              (None, 3)                 1539      \n",
            "=================================================================\n",
            "Total params: 481,347\n",
            "Trainable params: 475,523\n",
            "Non-trainable params: 5,824\n",
            "_________________________________________________________________\n"
          ],
          "name": "stdout"
        }
      ]
    },
    {
      "cell_type": "markdown",
      "metadata": {
        "id": "jiAecojtXgE_"
      },
      "source": [
        "###Resnet-18"
      ]
    },
    {
      "cell_type": "code",
      "metadata": {
        "id": "KBVm46dKXixT"
      },
      "source": [
        "model = model_util.resnet18(input_shape=(34,63,1), dropout=0.5, alpha=0.5, classes=3)\r\n",
        "model.compile(optimizer=tf.keras.optimizers.Adam(),\r\n",
        "              loss=tf.keras.losses.SparseCategoricalCrossentropy(),\r\n",
        "              metrics=['accuracy'])\r\n",
        "model.summary()"
      ],
      "execution_count": null,
      "outputs": []
    },
    {
      "cell_type": "markdown",
      "metadata": {
        "id": "0iMehUOfuYib"
      },
      "source": [
        "##3.3 Training with both time-domain and frequency-domain"
      ]
    },
    {
      "cell_type": "markdown",
      "metadata": {
        "id": "kBBgUJGAu9uf"
      },
      "source": [
        "###Prepare time-domain data"
      ]
    },
    {
      "cell_type": "code",
      "metadata": {
        "id": "4KFPMkbcu9Lk"
      },
      "source": [
        "# load training data\n",
        "train_data_file_path = \"C:/Users/57lzhang.US04WW4008/Desktop/Afib/Afib data/Afib ECG data/training2017/\"\n",
        "raw_signals, raw_labels = util.data_mining(train_data_file_path)\n",
        "signals, labels = util.generate_seg_data(raw_signals, raw_labels, seg_len=9000)"
      ],
      "execution_count": null,
      "outputs": []
    },
    {
      "cell_type": "code",
      "metadata": {
        "id": "Vd86CFliQnE7",
        "colab": {
          "base_uri": "https://localhost:8080/"
        },
        "outputId": "7fae46c5-f0d0-4b3b-d690-dffab711dddf"
      },
      "source": [
        "signals.shape"
      ],
      "execution_count": null,
      "outputs": [
        {
          "output_type": "execute_result",
          "data": {
            "text/plain": [
              "(8250, 9000)"
            ]
          },
          "metadata": {
            "tags": []
          },
          "execution_count": 4
        }
      ]
    },
    {
      "cell_type": "code",
      "metadata": {
        "id": "QZnzXYrAvl2-",
        "colab": {
          "base_uri": "https://localhost:8080/"
        },
        "outputId": "1dd721db-b383-426c-d3e1-a4354c4d0f39"
      },
      "source": [
        "t_signals, t_labels = util.preprocessing(signals, labels, timedistributed=False)\n",
        "t_train_signals, train_labels, t_val_signals, val_labels = util.split_shuffle_dataset(t_signals, t_labels, 0.9, seed=10)\n",
        "print('t_train_signal shape:', t_train_signals.shape)\n",
        "print('train_label shape:', train_labels.shape)\n",
        "print(\"\\nIn training data:\") \n",
        "util.count_labels(train_labels)\n",
        "print(\"\\nIn validation data:\")\n",
        "util.count_labels(val_labels)"
      ],
      "execution_count": null,
      "outputs": [
        {
          "output_type": "stream",
          "text": [
            "t_train_signal shape: (7425, 3750, 1)\n",
            "train_label shape: (7425, 1)\n",
            "\n",
            "In training data:\n",
            "There are 4430 NSR labels\n",
            "There are 653 AF labels\n",
            "There are 2342 Other Arrhythmia labels\n",
            "\n",
            "In validation data:\n",
            "There are 502 NSR labels\n",
            "There are 62 AF labels\n",
            "There are 261 Other Arrhythmia labels\n"
          ],
          "name": "stdout"
        },
        {
          "output_type": "execute_result",
          "data": {
            "text/plain": [
              "(502, 62, 261)"
            ]
          },
          "metadata": {
            "tags": []
          },
          "execution_count": 5
        }
      ]
    },
    {
      "cell_type": "markdown",
      "metadata": {
        "id": "h0q0RE4VvPCw"
      },
      "source": [
        "###Prepare frequency-domain data"
      ]
    },
    {
      "cell_type": "code",
      "metadata": {
        "id": "5UrxToMrvSa_"
      },
      "source": [
        "def get_spectrogram(signal):\n",
        "  freq, time, spectrogram = scipy.signal.spectrogram(signal, fs=300, window='hanning',\n",
        "                                                     nperseg=1024, noverlap=1024 - 128,\n",
        "                                                     detrend=False, scaling='spectrum',\n",
        "                                                     nfft=1024)\n",
        "  spectrogram = np.log(spectrogram[(freq <= 10) & (freq > 0.01)])\n",
        "  spectrogram = sklearn.preprocessing.minmax_scale(spectrogram)\n",
        "  return spectrogram"
      ],
      "execution_count": null,
      "outputs": []
    },
    {
      "cell_type": "code",
      "metadata": {
        "id": "WBw_ytIbudWE"
      },
      "source": [
        "def get_spectrogram_tensor(signal):\n",
        "  spectrogram = tf.py_function(get_spectrogram, inp=[signal], Tout=tf.float32)\n",
        "  spectrogram = tf.expand_dims(spectrogram, -1)\n",
        "  return spectrogram"
      ],
      "execution_count": null,
      "outputs": []
    },
    {
      "cell_type": "code",
      "metadata": {
        "id": "IW5HjlZSv3Vh",
        "colab": {
          "base_uri": "https://localhost:8080/"
        },
        "outputId": "5c87a9a1-11e8-473f-d0d8-1b816e8fb2bb"
      },
      "source": [
        "f_train_signals, _, f_val_signals, _ = util.split_shuffle_dataset(signals, labels, 0.9, seed=10)\n",
        "print('f_train_signal shape:', f_train_signals.shape)"
      ],
      "execution_count": null,
      "outputs": [
        {
          "output_type": "stream",
          "text": [
            "f_train_signal shape: (7425, 9000)\n"
          ],
          "name": "stdout"
        }
      ]
    },
    {
      "cell_type": "markdown",
      "metadata": {
        "id": "Ey57TVizyk9B"
      },
      "source": [
        "###TF pipeline"
      ]
    },
    {
      "cell_type": "code",
      "metadata": {
        "id": "rvsuJ5ECym5Q"
      },
      "source": [
        "#time domain\n",
        "t_train_dataset = tf.data.Dataset.from_tensor_slices(t_train_signals)\n",
        "t_val_dataset = tf.data.Dataset.from_tensor_slices(t_val_signals)\n",
        "\n",
        "#freq domain\n",
        "f_train_dataset = tf.data.Dataset.from_tensor_slices(f_train_signals)\n",
        "f_val_dataset = tf.data.Dataset.from_tensor_slices(f_val_signals)\n",
        "f_train_dataset = f_train_dataset.map(get_spectrogram_tensor, num_parallel_calls=tf.data.experimental.AUTOTUNE)\n",
        "f_val_dataset = f_val_dataset.map(get_spectrogram_tensor, num_parallel_calls=tf.data.experimental.AUTOTUNE)\n",
        "\n",
        "#label\n",
        "train_lb = tf.data.Dataset.from_tensor_slices(train_labels)\n",
        "val_lb = tf.data.Dataset.from_tensor_slices(val_labels)\n",
        "\n",
        "train = tf.data.Dataset.zip(((t_train_dataset, f_train_dataset), train_lb))\n",
        "validation = tf.data.Dataset.zip(((t_val_dataset, f_val_dataset), val_lb))\n",
        "\n",
        "## loading\n",
        "batch_size = 64\n",
        "train_dataset = train.cache()\n",
        "train_dataset = train_dataset.shuffle(2048).repeat().batch(batch_size, drop_remainder=True)\n",
        "train_dataset = train_dataset.prefetch(buffer_size=tf.data.experimental.AUTOTUNE)\n",
        "val_dataset = validation.repeat().batch(batch_size, drop_remainder=True)"
      ],
      "execution_count": null,
      "outputs": []
    },
    {
      "cell_type": "code",
      "metadata": {
        "id": "knMeh4KQQ53a",
        "colab": {
          "base_uri": "https://localhost:8080/"
        },
        "outputId": "fc460a98-7295-4152-c9ac-0c9a2a689440"
      },
      "source": [
        "train"
      ],
      "execution_count": null,
      "outputs": [
        {
          "output_type": "execute_result",
          "data": {
            "text/plain": [
              "<ZipDataset shapes: (((3750, 1), <unknown>), (1,)), types: ((tf.float64, tf.float32), tf.int32)>"
            ]
          },
          "metadata": {
            "tags": []
          },
          "execution_count": 10
        }
      ]
    },
    {
      "cell_type": "markdown",
      "metadata": {
        "id": "zaT8kEqY4C3E"
      },
      "source": [
        "###Mutilple input model\n"
      ]
    },
    {
      "cell_type": "code",
      "metadata": {
        "id": "Bp1gLT3KTBbh"
      },
      "source": [
        "import tensorflow as tf\n",
        "import matplotlib.pyplot as plt\n",
        "import numpy as np\n",
        "import io\n",
        "import itertools\n",
        "from tensorflow.keras import Model\n",
        "from tensorflow.keras.layers import Conv2D, Conv1D, BatchNormalization, Input, Add, Activation, \\\n",
        "    MaxPooling1D, MaxPooling2D, Dropout, Flatten, TimeDistributed, Bidirectional, Dense, LSTM, ZeroPadding1D, \\\n",
        "    AveragePooling1D, GlobalAveragePooling1D, Concatenate, Permute, Dot, Multiply, RepeatVector, \\\n",
        "    Lambda, Average, GlobalAveragePooling2D, DepthwiseConv2D\n",
        "from tensorflow.keras.initializers import glorot_uniform"
      ],
      "execution_count": null,
      "outputs": []
    },
    {
      "cell_type": "code",
      "metadata": {
        "id": "7IK3bxex4F0F"
      },
      "source": [
        "def time_freq_model(input_shape=None, classes=3, dropout=0.2):\n",
        "  time_input = Input(shape = (3750, 1))\n",
        "  freq_input = Input(shape = (34, 63, 1))\n",
        "\n",
        "  x_t = simple_cnn_1d(input_shape=(3750,1), dropout=dropout)(time_input)\n",
        "  x_f = simple_cnn(input_shape=(34, 63, 1), dropout=dropout)(freq_input)\n",
        "\n",
        "  x = Concatenate(axis=-1)([x_t, x_f])\n",
        "  output = Dense(classes, activation='softmax')(x)\n",
        "  model = Model(inputs = (time_input, freq_input), outputs = output)\n",
        "  return model"
      ],
      "execution_count": null,
      "outputs": []
    },
    {
      "cell_type": "code",
      "metadata": {
        "id": "Wlr0uWYbTr_z"
      },
      "source": [
        "model = time_freq_model(classes=3, dropout=0.5)"
      ],
      "execution_count": null,
      "outputs": []
    },
    {
      "cell_type": "code",
      "metadata": {
        "id": "r33IaltxT6Yr",
        "colab": {
          "base_uri": "https://localhost:8080/"
        },
        "outputId": "42d9eb0c-e32e-40ba-ab43-7f5ec5cf1220"
      },
      "source": [
        "model.summary()"
      ],
      "execution_count": null,
      "outputs": [
        {
          "output_type": "stream",
          "text": [
            "Model: \"functional_11\"\n",
            "__________________________________________________________________________________________________\n",
            "Layer (type)                    Output Shape         Param #     Connected to                     \n",
            "==================================================================================================\n",
            "input_48 (InputLayer)           [(None, 3750, 1)]    0                                            \n",
            "__________________________________________________________________________________________________\n",
            "input_49 (InputLayer)           [(None, 34, 63, 1)]  0                                            \n",
            "__________________________________________________________________________________________________\n",
            "cnn_1d (Functional)             (None, 64)           1920112     input_48[0][0]                   \n",
            "__________________________________________________________________________________________________\n",
            "cnn_2d (Functional)             (None, 64)           205680      input_49[0][0]                   \n",
            "__________________________________________________________________________________________________\n",
            "concatenate_6 (Concatenate)     (None, 128)          0           cnn_1d[0][0]                     \n",
            "                                                                 cnn_2d[0][0]                     \n",
            "__________________________________________________________________________________________________\n",
            "dense_26 (Dense)                (None, 3)            387         concatenate_6[0][0]              \n",
            "==================================================================================================\n",
            "Total params: 2,126,179\n",
            "Trainable params: 2,126,147\n",
            "Non-trainable params: 32\n",
            "__________________________________________________________________________________________________\n"
          ],
          "name": "stdout"
        }
      ]
    },
    {
      "cell_type": "code",
      "metadata": {
        "id": "Ntjz1vr4b5sJ",
        "colab": {
          "base_uri": "https://localhost:8080/",
          "height": 422
        },
        "outputId": "b72c01fb-714e-4e32-d5e0-5f6899fb7c4a"
      },
      "source": [
        "tf.keras.utils.plot_model(model, \"C:/Users/57lzhang.US04WW4008/Desktop/multi_input_and_output_model.png\", show_shapes=True)"
      ],
      "execution_count": null,
      "outputs": [
        {
          "output_type": "execute_result",
          "data": {
            "image/png": "[encoded data removed]",
            "text/plain": [
              "<IPython.core.display.Image object>"
            ]
          },
          "metadata": {
            "tags": []
          },
          "execution_count": 74
        }
      ]
    },
    {
      "cell_type": "code",
      "metadata": {
        "id": "6TTKrygIdqS3"
      },
      "source": [
        "# callbacks\n",
        "log_dir = r\"C:\\Users\\57lzhang.US04WW4008\\Desktop\\Afib\\Afib data\\logs\\fit\\\\\" + \\\n",
        "          datetime.now().strftime(\"%Y%m%d-%H%M%S\") + \"resnet\"\n",
        "\n",
        "\n",
        "## tensorboard callback\n",
        "tensorboard_callback = TensorBoard(log_dir=log_dir, histogram_freq=1)\n",
        "\n",
        "## checkpoint callback\n",
        "filepath = r\"C:\\Users\\57lzhang.US04WW4008\\Desktop\\Afib\\Afib data\\models\\resnet-{epoch:02d}-{loss:.4f}.hdf5\"\n",
        "checkpoint = ModelCheckpoint(filepath, monitor='loss', verbose=1, save_best_only=True, mode='auto')\n",
        "\n",
        "## learning rate decay callback\n",
        "lr_schedule = tf.keras.callbacks.LearningRateScheduler(model_util.decay)\n",
        "\n",
        "callbacks_list = [tensorboard_callback, checkpoint, lr_schedule]"
      ],
      "execution_count": null,
      "outputs": []
    },
    {
      "cell_type": "code",
      "metadata": {
        "id": "HDhPnWyech56"
      },
      "source": [
        "model.compile(optimizer=tf.keras.optimizers.Adam(),\n",
        "              loss=tf.keras.losses.SparseCategoricalCrossentropy(),\n",
        "              metrics=['accuracy'])"
      ],
      "execution_count": null,
      "outputs": []
    },
    {
      "cell_type": "code",
      "metadata": {
        "id": "GBdD__codWWf"
      },
      "source": [
        "#model training\n",
        "CLASS_WEIGHTS = util.class_weights(train_labels)\n",
        "\n",
        "model.fit(train_dataset,\n",
        "          epochs=200,\n",
        "          steps_per_epoch=len(list(t_train_signals))//batch_size,\n",
        "          verbose=1,\n",
        "          validation_data=val_dataset,\n",
        "          validation_steps=len(list(t_val_signals))//batch_size,\n",
        "          callbacks=callbacks_list,\n",
        "          class_weight=CLASS_WEIGHTS)"
      ],
      "execution_count": null,
      "outputs": []
    },
    {
      "cell_type": "markdown",
      "metadata": {
        "id": "DRISIlyDnw3_"
      },
      "source": [
        "###Mutiple Input model - simple CNN"
      ]
    },
    {
      "cell_type": "code",
      "metadata": {
        "id": "bYBW7LSPnv_F"
      },
      "source": [
        "def simple_cnn(input_shape=None, dropout=0.2, classes=3):\n",
        "    \n",
        "    signal_input = Input(shape=input_shape)\n",
        "    \n",
        "    x = Conv2D(8, (1, 1), strides=(1, 1), activation='relu')(signal_input)\n",
        "    x = BatchNormalization()(x)\n",
        "    x = MaxPooling2D(pool_size=(2, 2),strides=(2, 2))(x)\n",
        "    #tf.keras.layers.Dropout(0.2),\n",
        "    #2nd Conv2D\n",
        "    x = Conv2D(16, (3, 3), strides=(1, 1), activation='relu')(x)\n",
        "    x = MaxPooling2D(pool_size=(2, 2),strides=(1, 1))(x)\n",
        "    #tf.keras.layers.Dropout(0.2),\n",
        "    #3rd Conv2D\n",
        "    x = Conv2D(32, (3, 3), strides=(1, 1), activation='relu')(x)\n",
        "    x = MaxPooling2D(pool_size=(2, 2),strides=(1, 1))(x)\n",
        "    #tf.keras.layers.Dropout(0.2),\n",
        "    #4th Conv2D\n",
        "    x = Conv2D(64, (3, 3), strides=(1, 1), activation='relu')(x)\n",
        "    x = MaxPooling2D(pool_size=(2, 2),strides=(1, 1))(x)\n",
        "    x = Dropout(dropout)(x)\n",
        "    #5th Conv2D\n",
        "    x = Conv2D(16, (1, 1), strides=(1, 1), activation='relu')(x)\n",
        "    #Full connection layer\n",
        "    x = Flatten()(x)\n",
        "    out = Dense(64, activation='relu')(x)\n",
        "    model = Model(signal_input, out, name='cnn_2d')\n",
        "\n",
        "    return model"
      ],
      "execution_count": null,
      "outputs": []
    },
    {
      "cell_type": "code",
      "metadata": {
        "id": "KgR32JpzpLbJ"
      },
      "source": [
        "def simple_cnn_1d(input_shape=None, dropout=0.2, classes=3):   \n",
        "    \n",
        "    signal_input = Input(shape=input_shape)\n",
        "    \n",
        "    x = Conv1D(8, 1, strides=1, activation='relu')(signal_input)\n",
        "    x = BatchNormalization()(x)\n",
        "    x = MaxPooling1D(pool_size=2,strides=2)(x)\n",
        "    #tf.keras.layers.Dropout(0.2),\n",
        "    #2nd Conv1D\n",
        "    x = Conv1D(16, 3, strides=1, activation='relu')(x)\n",
        "    x = MaxPooling1D(pool_size=2, strides=1)(x)\n",
        "    #tf.keras.layers.Dropout(0.2),\n",
        "    #3rd Conv1D\n",
        "    x = Conv1D(32, 3, strides=1, activation='relu')(x)\n",
        "    x = MaxPooling1D(pool_size=2, strides=1)(x)\n",
        "    #tf.keras.layers.Dropout(0.2),\n",
        "    #4th Conv1D\n",
        "    x = Conv1D(64, 3, strides=1, activation='relu')(x)\n",
        "    x = MaxPooling1D(pool_size=2, strides=1)(x)\n",
        "    x = Dropout(dropout)(x)\n",
        "    #5th Conv1D\n",
        "    x = Conv1D(16, 1, strides=1, activation='relu')(x)\n",
        "    #Full connection layer\n",
        "    x = Flatten()(x)\n",
        "    out = Dense(64, activation='relu')(x)\n",
        "    model = Model(signal_input, out, name='cnn_1d')\n",
        "\n",
        "    return model"
      ],
      "execution_count": null,
      "outputs": []
    },
    {
      "cell_type": "markdown",
      "metadata": {
        "id": "yzCsuNPU5-e-"
      },
      "source": [
        "##3.2 Training with Autoencoder"
      ]
    },
    {
      "cell_type": "code",
      "metadata": {
        "id": "xynJkWZep4_7"
      },
      "source": [
        "from tensorflow.keras import Model\n",
        "from tensorflow.keras.layers import Conv1D, BatchNormalization, Input, Add, Activation, \\\n",
        "    MaxPooling1D, Dropout, Flatten, TimeDistributed, Bidirectional, Dense, LSTM, ZeroPadding1D, \\\n",
        "    AveragePooling1D, Conv1DTranspose, GlobalMaxPooling1D, Concatenate, Permute, Dot, Multiply, RepeatVector, \\\n",
        "    Lambda, Average"
      ],
      "execution_count": null,
      "outputs": []
    },
    {
      "cell_type": "code",
      "metadata": {
        "id": "WGotIQaT590i",
        "colab": {
          "base_uri": "https://localhost:8080/",
          "height": 33
        },
        "outputId": "bba0b0e2-a067-4b04-95cd-1077716cd1a6"
      },
      "source": [
        "import os\n",
        "os.chdir(r\"C:\\Users\\57lzhang.US04WW4008\\Desktop\\Afib\\Afib data\\models\")\n",
        "ecg_encoder = tf.keras.models.load_model('ECG_Encoder.h5')\n",
        "conv_encoder_clone = tf.keras.models.clone_model(ecg_encoder)"
      ],
      "execution_count": null,
      "outputs": [
        {
          "output_type": "stream",
          "text": [
            "WARNING:tensorflow:No training configuration found in the save file, so the model was *not* compiled. Compile it manually.\n"
          ],
          "name": "stdout"
        }
      ]
    },
    {
      "cell_type": "code",
      "metadata": {
        "id": "MBl167_mqCsB"
      },
      "source": [
        "def encoder_lstm(input_shape=(3,1250,1), classes=3):\n",
        "  X_input = Input(shape=input_shape)\n",
        "  X = TimeDistributed(conv_encoder_clone)(X_input)\n",
        "  X = TimeDistributed(Flatten())(X)\n",
        "  X = Bidirectional(LSTM(32, return_sequences=True))(X)\n",
        "  X = Bidirectional(LSTM(16))(X)\n",
        "  X = Dense(classes, activation='softmax')(X)\n",
        "\n",
        "  model = Model(inputs=[X_input], outputs=X)\n",
        "\n",
        "  return model"
      ],
      "execution_count": null,
      "outputs": []
    },
    {
      "cell_type": "code",
      "metadata": {
        "id": "LkQ3Ma_orkIh"
      },
      "source": [
        "model = encoder_lstm(input_shape=(3,1250,1), classes=3)"
      ],
      "execution_count": null,
      "outputs": []
    },
    {
      "cell_type": "code",
      "metadata": {
        "id": "1wtbCNtH0vzB",
        "colab": {
          "base_uri": "https://localhost:8080/",
          "height": 342
        },
        "outputId": "cc57ab25-2a12-49ef-ba4a-d15f029966af"
      },
      "source": [
        "model.summary()"
      ],
      "execution_count": null,
      "outputs": [
        {
          "output_type": "stream",
          "text": [
            "Model: \"functional_3\"\n",
            "_________________________________________________________________\n",
            "Layer (type)                 Output Shape              Param #   \n",
            "=================================================================\n",
            "input_6 (InputLayer)         [(None, 3, 1250, 1)]      0         \n",
            "_________________________________________________________________\n",
            "time_distributed_9 (TimeDist (None, 3, 1250, 16)       53328     \n",
            "_________________________________________________________________\n",
            "time_distributed_10 (TimeDis (None, 3, 20000)          0         \n",
            "_________________________________________________________________\n",
            "bidirectional_9 (Bidirection (None, 3, 64)             5128448   \n",
            "_________________________________________________________________\n",
            "bidirectional_10 (Bidirectio (None, 32)                10368     \n",
            "_________________________________________________________________\n",
            "dense_4 (Dense)              (None, 3)                 99        \n",
            "=================================================================\n",
            "Total params: 5,192,243\n",
            "Trainable params: 5,138,915\n",
            "Non-trainable params: 53,328\n",
            "_________________________________________________________________\n"
          ],
          "name": "stdout"
        }
      ]
    },
    {
      "cell_type": "code",
      "metadata": {
        "id": "m0Uimoh9pR1Q"
      },
      "source": [
        "conv_encoder_clone.trainable = False\n",
        "model.compile(optimizer=tf.keras.optimizers.Adam(),\n",
        "              loss=tf.keras.losses.CategoricalCrossentropy(),\n",
        "              metrics=['accuracy'])"
      ],
      "execution_count": null,
      "outputs": []
    },
    {
      "cell_type": "code",
      "metadata": {
        "id": "IFE1F2ke1Lho"
      },
      "source": [
        "CLASS_WEIGHTS = util.class_weights(train_labels)\n",
        "\n",
        "model.fit(train_dataset,\n",
        "          epochs=200,\n",
        "          steps_per_epoch=len(list(train_signals))//batch_size,\n",
        "          verbose=1,\n",
        "          validation_data=val_dataset,\n",
        "          validation_steps=len(list(val_signals))//batch_size,\n",
        "          callbacks=callbacks_list,\n",
        "          class_weight=CLASS_WEIGHTS)"
      ],
      "execution_count": null,
      "outputs": []
    },
    {
      "cell_type": "markdown",
      "metadata": {
        "id": "9gtz0mpPGMdI"
      },
      "source": [
        "#4.Callbacks"
      ]
    },
    {
      "cell_type": "code",
      "metadata": {
        "id": "w1fo9D09kM5n"
      },
      "source": [
        "# callbacks\n",
        "log_dir = r\"C:\\Users\\57lzhang.US04WW4008\\Desktop\\Afib\\Afib data\\logs\\fit\\\\\" + \\\n",
        "          datetime.now().strftime(\"%Y%m%d-%H%M%S\") + \"mobile-freq-shift-300Hz\"\n",
        "\n",
        "## confusion matrix callback\n",
        "def log_confusion_matrix(epoch, logs):\n",
        "    # Use the model to predict the values from the test_images.\n",
        "    \n",
        "    test_pred_raw = model.predict(val_signals)\n",
        "\n",
        "    test_pred = np.argmax(test_pred_raw, axis=1)\n",
        "    test_labels = val_labels.reshape([len(val_labels)])\n",
        "    # Calculate the confusion matrix using sklearn.metrics\n",
        "    cm = sklearn.metrics.confusion_matrix(test_labels, test_pred)\n",
        "\n",
        "    figure = model_util.plot_confusion_matrix(cm, class_names=class_names, normalize=True)\n",
        "    cm_image = model_util.plot_to_image(figure)\n",
        "\n",
        "    # Log the confusion matrix as an image summary.\n",
        "    with file_writer_cm.as_default():\n",
        "        tf.summary.image(\"Confusion Matrix\", cm_image, step=epoch)\n",
        "\n",
        "class_names = ['NSR','Afib','Others']\n",
        "file_writer_cm = tf.summary.create_file_writer(log_dir + '/cm')\n",
        "cm_callback = tf.keras.callbacks.LambdaCallback(on_epoch_end=log_confusion_matrix)\n",
        "\n",
        "## tensorboard callback\n",
        "tensorboard_callback = TensorBoard(log_dir=log_dir, histogram_freq=1)\n",
        "\n",
        "## checkpoint callback\n",
        "filepath = r\"C:\\Users\\57lzhang.US04WW4008\\Desktop\\Afib\\Afib data\\models\\mobile-freq-shift-300Hz-{epoch:02d}-{loss:.4f}\"\n",
        "checkpoint = ModelCheckpoint(filepath, monitor='loss', verbose=1, save_best_only=True, mode='auto')\n",
        "\n",
        "## early stop\n",
        "early_stop = tf.keras.callbacks.EarlyStopping(monitor='val_loss', patience=20, restore_best_weights=True)\n",
        "\n",
        "## learning rate decay callback\n",
        "lr_schedule = tf.keras.callbacks.LearningRateScheduler(model_util.decay)\n",
        "\n",
        "callbacks_list = [tensorboard_callback, cm_callback, checkpoint, early_stop, lr_schedule]"
      ],
      "execution_count": 46,
      "outputs": []
    },
    {
      "cell_type": "markdown",
      "metadata": {
        "id": "3I8W1jtdGIWv"
      },
      "source": [
        "#5.Model Training"
      ]
    },
    {
      "cell_type": "code",
      "metadata": {
        "id": "4VS1G04J3i5G",
        "colab": {
          "base_uri": "https://localhost:8080/"
        },
        "outputId": "f678a2e2-bb5a-4903-f812-0e8dabd7b344"
      },
      "source": [
        "#model training\n",
        "model.fit(train_dataset,\n",
        "          epochs=200,\n",
        "          steps_per_epoch=len(list(train_signals))//batch_size,\n",
        "          verbose=1,\n",
        "          validation_data=val_dataset,\n",
        "          validation_steps=len(list(val_signals))//batch_size,\n",
        "          callbacks=callbacks_list)"
      ],
      "execution_count": 47,
      "outputs": [
        {
          "output_type": "stream",
          "text": [
            "Epoch 1/200\n",
            "  2/116 [..............................] - ETA: 23s - loss: 1.2303 - accuracy: 0.3438WARNING:tensorflow:Callbacks method `on_train_batch_end` is slow compared to the batch time (batch time: 0.0247s vs `on_train_batch_end` time: 0.3850s). Check your callbacks.\n",
            "114/116 [============================>.] - ETA: 0s - loss: 0.8866 - accuracy: 0.6002\n",
            "Epoch 00001: loss improved from inf to 0.88348, saving model to C:\\Users\\57lzhang.US04WW4008\\Desktop\\Afib\\Afib data\\models\\mobile-freq-shift-300Hz-01-0.8835\n",
            "INFO:tensorflow:Assets written to: C:\\Users\\57lzhang.US04WW4008\\Desktop\\Afib\\Afib data\\models\\mobile-freq-shift-300Hz-01-0.8835\\assets\n",
            "116/116 [==============================] - 18s 156ms/step - loss: 0.8835 - accuracy: 0.6018 - val_loss: 0.8608 - val_accuracy: 0.6094\n",
            "Epoch 2/200\n",
            "115/116 [============================>.] - ETA: 0s - loss: 0.6766 - accuracy: 0.7035\n",
            "Epoch 00002: loss improved from 0.88348 to 0.67537, saving model to C:\\Users\\57lzhang.US04WW4008\\Desktop\\Afib\\Afib data\\models\\mobile-freq-shift-300Hz-02-0.6754\n",
            "INFO:tensorflow:Assets written to: C:\\Users\\57lzhang.US04WW4008\\Desktop\\Afib\\Afib data\\models\\mobile-freq-shift-300Hz-02-0.6754\\assets\n",
            "116/116 [==============================] - 11s 92ms/step - loss: 0.6754 - accuracy: 0.7041 - val_loss: 0.9630 - val_accuracy: 0.6094\n",
            "Epoch 3/200\n",
            "115/116 [============================>.] - ETA: 0s - loss: 0.5792 - accuracy: 0.7510\n",
            "Epoch 00003: loss improved from 0.67537 to 0.57816, saving model to C:\\Users\\57lzhang.US04WW4008\\Desktop\\Afib\\Afib data\\models\\mobile-freq-shift-300Hz-03-0.5782\n",
            "INFO:tensorflow:Assets written to: C:\\Users\\57lzhang.US04WW4008\\Desktop\\Afib\\Afib data\\models\\mobile-freq-shift-300Hz-03-0.5782\\assets\n",
            "116/116 [==============================] - 10s 88ms/step - loss: 0.5782 - accuracy: 0.7513 - val_loss: 1.2004 - val_accuracy: 0.6094\n",
            "Epoch 4/200\n",
            "113/116 [============================>.] - ETA: 0s - loss: 0.4780 - accuracy: 0.7992\n",
            "Epoch 00004: loss improved from 0.57816 to 0.48075, saving model to C:\\Users\\57lzhang.US04WW4008\\Desktop\\Afib\\Afib data\\models\\mobile-freq-shift-300Hz-04-0.4807\n",
            "INFO:tensorflow:Assets written to: C:\\Users\\57lzhang.US04WW4008\\Desktop\\Afib\\Afib data\\models\\mobile-freq-shift-300Hz-04-0.4807\\assets\n",
            "116/116 [==============================] - 10s 84ms/step - loss: 0.4807 - accuracy: 0.7978 - val_loss: 1.3634 - val_accuracy: 0.6094\n",
            "Epoch 5/200\n",
            "114/116 [============================>.] - ETA: 0s - loss: 0.4478 - accuracy: 0.8165\n",
            "Epoch 00005: loss improved from 0.48075 to 0.44722, saving model to C:\\Users\\57lzhang.US04WW4008\\Desktop\\Afib\\Afib data\\models\\mobile-freq-shift-300Hz-05-0.4472\n",
            "INFO:tensorflow:Assets written to: C:\\Users\\57lzhang.US04WW4008\\Desktop\\Afib\\Afib data\\models\\mobile-freq-shift-300Hz-05-0.4472\\assets\n",
            "116/116 [==============================] - 11s 95ms/step - loss: 0.4472 - accuracy: 0.8171 - val_loss: 1.4585 - val_accuracy: 0.6198\n",
            "Epoch 6/200\n",
            "116/116 [==============================] - ETA: 0s - loss: 0.4041 - accuracy: 0.8322\n",
            "Epoch 00006: loss improved from 0.44722 to 0.40414, saving model to C:\\Users\\57lzhang.US04WW4008\\Desktop\\Afib\\Afib data\\models\\mobile-freq-shift-300Hz-06-0.4041\n",
            "INFO:tensorflow:Assets written to: C:\\Users\\57lzhang.US04WW4008\\Desktop\\Afib\\Afib data\\models\\mobile-freq-shift-300Hz-06-0.4041\\assets\n",
            "116/116 [==============================] - 10s 83ms/step - loss: 0.4041 - accuracy: 0.8322 - val_loss: 0.9239 - val_accuracy: 0.6901\n",
            "Epoch 7/200\n",
            "114/116 [============================>.] - ETA: 0s - loss: 0.3315 - accuracy: 0.8684\n",
            "Epoch 00007: loss improved from 0.40414 to 0.33134, saving model to C:\\Users\\57lzhang.US04WW4008\\Desktop\\Afib\\Afib data\\models\\mobile-freq-shift-300Hz-07-0.3313\n",
            "INFO:tensorflow:Assets written to: C:\\Users\\57lzhang.US04WW4008\\Desktop\\Afib\\Afib data\\models\\mobile-freq-shift-300Hz-07-0.3313\\assets\n",
            "116/116 [==============================] - 9s 82ms/step - loss: 0.3313 - accuracy: 0.8680 - val_loss: 1.0545 - val_accuracy: 0.6615\n",
            "Epoch 8/200\n",
            "114/116 [============================>.] - ETA: 0s - loss: 0.3003 - accuracy: 0.8766\n",
            "Epoch 00008: loss improved from 0.33134 to 0.30114, saving model to C:\\Users\\57lzhang.US04WW4008\\Desktop\\Afib\\Afib data\\models\\mobile-freq-shift-300Hz-08-0.3011\n",
            "INFO:tensorflow:Assets written to: C:\\Users\\57lzhang.US04WW4008\\Desktop\\Afib\\Afib data\\models\\mobile-freq-shift-300Hz-08-0.3011\\assets\n",
            "116/116 [==============================] - 10s 90ms/step - loss: 0.3011 - accuracy: 0.8763 - val_loss: 1.2265 - val_accuracy: 0.6419\n",
            "Epoch 9/200\n",
            "115/116 [============================>.] - ETA: 0s - loss: 0.2892 - accuracy: 0.8846\n",
            "Epoch 00009: loss improved from 0.30114 to 0.29007, saving model to C:\\Users\\57lzhang.US04WW4008\\Desktop\\Afib\\Afib data\\models\\mobile-freq-shift-300Hz-09-0.2901\n",
            "INFO:tensorflow:Assets written to: C:\\Users\\57lzhang.US04WW4008\\Desktop\\Afib\\Afib data\\models\\mobile-freq-shift-300Hz-09-0.2901\\assets\n",
            "116/116 [==============================] - 11s 99ms/step - loss: 0.2901 - accuracy: 0.8843 - val_loss: 1.2622 - val_accuracy: 0.6471\n",
            "Epoch 10/200\n",
            "116/116 [==============================] - ETA: 0s - loss: 0.2406 - accuracy: 0.9014\n",
            "Epoch 00010: loss improved from 0.29007 to 0.24056, saving model to C:\\Users\\57lzhang.US04WW4008\\Desktop\\Afib\\Afib data\\models\\mobile-freq-shift-300Hz-10-0.2406\n",
            "INFO:tensorflow:Assets written to: C:\\Users\\57lzhang.US04WW4008\\Desktop\\Afib\\Afib data\\models\\mobile-freq-shift-300Hz-10-0.2406\\assets\n",
            "116/116 [==============================] - 11s 93ms/step - loss: 0.2406 - accuracy: 0.9014 - val_loss: 1.3038 - val_accuracy: 0.6146\n",
            "Epoch 11/200\n",
            "116/116 [==============================] - ETA: 0s - loss: 0.1851 - accuracy: 0.9293\n",
            "Epoch 00011: loss improved from 0.24056 to 0.18505, saving model to C:\\Users\\57lzhang.US04WW4008\\Desktop\\Afib\\Afib data\\models\\mobile-freq-shift-300Hz-11-0.1851\n",
            "INFO:tensorflow:Assets written to: C:\\Users\\57lzhang.US04WW4008\\Desktop\\Afib\\Afib data\\models\\mobile-freq-shift-300Hz-11-0.1851\\assets\n",
            "116/116 [==============================] - 11s 93ms/step - loss: 0.1851 - accuracy: 0.9293 - val_loss: 1.8589 - val_accuracy: 0.5573\n",
            "Epoch 12/200\n",
            "116/116 [==============================] - ETA: 0s - loss: 0.2069 - accuracy: 0.9196\n",
            "Epoch 00012: loss did not improve from 0.18505\n",
            "116/116 [==============================] - 6s 50ms/step - loss: 0.2069 - accuracy: 0.9196 - val_loss: 2.3567 - val_accuracy: 0.5000\n",
            "Epoch 13/200\n",
            "116/116 [==============================] - ETA: 0s - loss: 0.1848 - accuracy: 0.9235\n",
            "Epoch 00013: loss improved from 0.18505 to 0.18481, saving model to C:\\Users\\57lzhang.US04WW4008\\Desktop\\Afib\\Afib data\\models\\mobile-freq-shift-300Hz-13-0.1848\n",
            "INFO:tensorflow:Assets written to: C:\\Users\\57lzhang.US04WW4008\\Desktop\\Afib\\Afib data\\models\\mobile-freq-shift-300Hz-13-0.1848\\assets\n",
            "116/116 [==============================] - 11s 97ms/step - loss: 0.1848 - accuracy: 0.9235 - val_loss: 1.3648 - val_accuracy: 0.6602\n",
            "Epoch 14/200\n",
            "113/116 [============================>.] - ETA: 0s - loss: 0.1741 - accuracy: 0.9334\n",
            "Epoch 00014: loss improved from 0.18481 to 0.17477, saving model to C:\\Users\\57lzhang.US04WW4008\\Desktop\\Afib\\Afib data\\models\\mobile-freq-shift-300Hz-14-0.1748\n",
            "INFO:tensorflow:Assets written to: C:\\Users\\57lzhang.US04WW4008\\Desktop\\Afib\\Afib data\\models\\mobile-freq-shift-300Hz-14-0.1748\\assets\n",
            "116/116 [==============================] - 10s 83ms/step - loss: 0.1748 - accuracy: 0.9328 - val_loss: 1.6177 - val_accuracy: 0.6042\n",
            "Epoch 15/200\n",
            "115/116 [============================>.] - ETA: 0s - loss: 0.1341 - accuracy: 0.9507\n",
            "Epoch 00015: loss improved from 0.17477 to 0.13383, saving model to C:\\Users\\57lzhang.US04WW4008\\Desktop\\Afib\\Afib data\\models\\mobile-freq-shift-300Hz-15-0.1338\n",
            "INFO:tensorflow:Assets written to: C:\\Users\\57lzhang.US04WW4008\\Desktop\\Afib\\Afib data\\models\\mobile-freq-shift-300Hz-15-0.1338\\assets\n",
            "116/116 [==============================] - 11s 95ms/step - loss: 0.1338 - accuracy: 0.9506 - val_loss: 1.8657 - val_accuracy: 0.5794\n",
            "Epoch 16/200\n",
            "114/116 [============================>.] - ETA: 0s - loss: 0.1256 - accuracy: 0.9512\n",
            "Epoch 00016: loss improved from 0.13383 to 0.12665, saving model to C:\\Users\\57lzhang.US04WW4008\\Desktop\\Afib\\Afib data\\models\\mobile-freq-shift-300Hz-16-0.1267\n",
            "INFO:tensorflow:Assets written to: C:\\Users\\57lzhang.US04WW4008\\Desktop\\Afib\\Afib data\\models\\mobile-freq-shift-300Hz-16-0.1267\\assets\n",
            "116/116 [==============================] - 11s 94ms/step - loss: 0.1267 - accuracy: 0.9506 - val_loss: 1.6228 - val_accuracy: 0.6263\n",
            "Epoch 17/200\n",
            "113/116 [============================>.] - ETA: 0s - loss: 0.1644 - accuracy: 0.9376\n",
            "Epoch 00017: loss did not improve from 0.12665\n",
            "116/116 [==============================] - 6s 49ms/step - loss: 0.1656 - accuracy: 0.9367 - val_loss: 1.6883 - val_accuracy: 0.5859\n",
            "Epoch 18/200\n",
            "116/116 [==============================] - ETA: 0s - loss: 0.1352 - accuracy: 0.9468\n",
            "Epoch 00018: loss did not improve from 0.12665\n",
            "116/116 [==============================] - 6s 51ms/step - loss: 0.1352 - accuracy: 0.9468 - val_loss: 1.4268 - val_accuracy: 0.6589\n",
            "Epoch 19/200\n",
            "114/116 [============================>.] - ETA: 0s - loss: 0.1098 - accuracy: 0.9563\n",
            "Epoch 00019: loss improved from 0.12665 to 0.10960, saving model to C:\\Users\\57lzhang.US04WW4008\\Desktop\\Afib\\Afib data\\models\\mobile-freq-shift-300Hz-19-0.1096\n",
            "INFO:tensorflow:Assets written to: C:\\Users\\57lzhang.US04WW4008\\Desktop\\Afib\\Afib data\\models\\mobile-freq-shift-300Hz-19-0.1096\\assets\n",
            "116/116 [==============================] - 11s 97ms/step - loss: 0.1096 - accuracy: 0.9564 - val_loss: 1.5441 - val_accuracy: 0.6523\n",
            "Epoch 20/200\n",
            "114/116 [============================>.] - ETA: 0s - loss: 0.1260 - accuracy: 0.9531\n",
            "Epoch 00020: loss did not improve from 0.10960\n",
            "116/116 [==============================] - 6s 50ms/step - loss: 0.1257 - accuracy: 0.9533 - val_loss: 1.4604 - val_accuracy: 0.6562\n",
            "Epoch 21/200\n",
            "115/116 [============================>.] - ETA: 0s - loss: 0.1047 - accuracy: 0.9602\n",
            "Epoch 00021: loss improved from 0.10960 to 0.10436, saving model to C:\\Users\\57lzhang.US04WW4008\\Desktop\\Afib\\Afib data\\models\\mobile-freq-shift-300Hz-21-0.1044\n",
            "INFO:tensorflow:Assets written to: C:\\Users\\57lzhang.US04WW4008\\Desktop\\Afib\\Afib data\\models\\mobile-freq-shift-300Hz-21-0.1044\\assets\n",
            "116/116 [==============================] - 11s 99ms/step - loss: 0.1044 - accuracy: 0.9603 - val_loss: 1.6525 - val_accuracy: 0.6576\n"
          ],
          "name": "stdout"
        },
        {
          "output_type": "execute_result",
          "data": {
            "text/plain": [
              "<tensorflow.python.keras.callbacks.History at 0x21f21943548>"
            ]
          },
          "metadata": {
            "tags": []
          },
          "execution_count": 47
        }
      ]
    },
    {
      "cell_type": "markdown",
      "metadata": {
        "id": "UAP9Kvm6alEr"
      },
      "source": [
        "#6.Model Evaluation"
      ]
    },
    {
      "cell_type": "code",
      "metadata": {
        "id": "mWB6niRhcgp0"
      },
      "source": [
        "model = tf.keras.models.load_model(r'C:\\Users\\57lzhang.US04WW4008\\Desktop\\Afib\\Afib data\\models\\mobile-time-shift-100Hz-11-0.0561')"
      ],
      "execution_count": null,
      "outputs": []
    },
    {
      "cell_type": "code",
      "metadata": {
        "id": "hJXbA263coyA"
      },
      "source": [
        "test_pred_raw = model.predict(test_signals)\r\n",
        "test_pred = np.argmax(test_pred_raw, axis=1)"
      ],
      "execution_count": 36,
      "outputs": []
    },
    {
      "cell_type": "code",
      "metadata": {
        "colab": {
          "base_uri": "https://localhost:8080/",
          "height": 584
        },
        "id": "pUQIrsMcctXS",
        "outputId": "d9ff511f-5098-4ac9-c015-3726dc436af4"
      },
      "source": [
        "cm = sklearn.metrics.confusion_matrix(test_labels, test_pred)\r\n",
        "figure = model_util.plot_confusion_matrix(cm, class_names=class_names, normalize=True)"
      ],
      "execution_count": 37,
      "outputs": [
        {
          "output_type": "display_data",
          "data": {
            "text/plain": [
              "<Figure size 576x576 with 2 Axes>"
            ],
            "image/png": "[encoded data removed]"
          },
          "metadata": {
            "tags": [],
            "needs_background": "light"
          }
        }
      ]
    },
    {
      "cell_type": "code",
      "metadata": {
        "colab": {
          "base_uri": "https://localhost:8080/"
        },
        "id": "nBnmB5xR2bAN",
        "outputId": "4883f9ed-525d-44ab-af2e-629de466438a"
      },
      "source": [
        "sklearn.metrics.f1_score(test_labels, test_pred, average='weighted')"
      ],
      "execution_count": 38,
      "outputs": [
        {
          "output_type": "execute_result",
          "data": {
            "text/plain": [
              "0.6959665752170159"
            ]
          },
          "metadata": {
            "tags": []
          },
          "execution_count": 38
        }
      ]
    }
  ]
}