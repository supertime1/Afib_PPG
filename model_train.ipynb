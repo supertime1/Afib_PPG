{
  "nbformat": 4,
  "nbformat_minor": 0,
  "metadata": {
    "colab": {
      "name": "Untitled5.ipynb",
      "provenance": [],
      "authorship_tag": "ABX9TyMGKJV0xsUAVkPFM1ErgQjo",
      "include_colab_link": true
    },
    "kernelspec": {
      "name": "python3",
      "display_name": "Python 3"
    }
  },
  "cells": [
    {
      "cell_type": "markdown",
      "metadata": {
        "id": "view-in-github",
        "colab_type": "text"
      },
      "source": [
        "<a href=\"https://colab.research.google.com/github/supertime1/Afib_PPG/blob/master/model_train.ipynb\" target=\"_parent\"><img src=\"https://colab.research.google.com/assets/colab-badge.svg\" alt=\"Open In Colab\"/></a>"
      ]
    },
    {
      "cell_type": "code",
      "metadata": {
        "id": "UtJCBohYlUoG",
        "colab_type": "code",
        "colab": {
          "base_uri": "https://localhost:8080/",
          "height": 221
        },
        "outputId": "4738dab7-2887-4812-b9c1-25110312a4d6"
      },
      "source": [
        "from util import util, model_util\n",
        "import tensorflow as tf\n",
        "from datetime import datetime\n",
        "from tensorflow.keras.callbacks import TensorBoard, ModelCheckpoint"
      ],
      "execution_count": 1,
      "outputs": [
        {
          "output_type": "error",
          "ename": "ModuleNotFoundError",
          "evalue": "ignored",
          "traceback": [
            "\u001b[1;31m---------------------------------------------------------------------------\u001b[0m",
            "\u001b[1;31mModuleNotFoundError\u001b[0m                       Traceback (most recent call last)",
            "\u001b[1;32m<ipython-input-1-7149c452d78b>\u001b[0m in \u001b[0;36m<module>\u001b[1;34m\u001b[0m\n\u001b[1;32m----> 1\u001b[1;33m \u001b[1;32mfrom\u001b[0m \u001b[0mutil\u001b[0m \u001b[1;32mimport\u001b[0m \u001b[0mutil\u001b[0m\u001b[1;33m,\u001b[0m \u001b[0mmodel_util\u001b[0m\u001b[1;33m\u001b[0m\u001b[1;33m\u001b[0m\u001b[0m\n\u001b[0m\u001b[0;32m      2\u001b[0m \u001b[1;32mimport\u001b[0m \u001b[0mtensorflow\u001b[0m \u001b[1;32mas\u001b[0m \u001b[0mtf\u001b[0m\u001b[1;33m\u001b[0m\u001b[1;33m\u001b[0m\u001b[0m\n\u001b[0;32m      3\u001b[0m \u001b[1;32mfrom\u001b[0m \u001b[0mdatetime\u001b[0m \u001b[1;32mimport\u001b[0m \u001b[0mdatetime\u001b[0m\u001b[1;33m\u001b[0m\u001b[1;33m\u001b[0m\u001b[0m\n\u001b[0;32m      4\u001b[0m \u001b[1;32mfrom\u001b[0m \u001b[0mtensorflow\u001b[0m\u001b[1;33m.\u001b[0m\u001b[0mkeras\u001b[0m\u001b[1;33m.\u001b[0m\u001b[0mcallbacks\u001b[0m \u001b[1;32mimport\u001b[0m \u001b[0mTensorBoard\u001b[0m\u001b[1;33m,\u001b[0m \u001b[0mModelCheckpoint\u001b[0m\u001b[1;33m\u001b[0m\u001b[1;33m\u001b[0m\u001b[0m\n",
            "\u001b[1;31mModuleNotFoundError\u001b[0m: No module named 'util'"
          ]
        }
      ]
    },
    {
      "cell_type": "code",
      "metadata": {
        "id": "u3RvBpqmqBqj",
        "colab_type": "code",
        "colab": {}
      },
      "source": [
        "# load training data\n",
        "train_data_file_path = \"C:/Users/57lzhang.US04WW4008/Desktop/Afib/Afib data/Afib ECG data/training2017/\"\n",
        "raw_signals, raw_labels = util.data_mining(train_data_file_path)\n",
        "signals, labels = util.generate_seg_data(raw_signals, raw_labels, seg_len=9000)\n",
        "signals, labels = util.preprocessing(signals, labels)\n",
        "train_signals, train_labels, val_signals, val_labels = util.split_shuffle_dataset(signals, labels, 0.9)"
      ],
      "execution_count": null,
      "outputs": []
    },
    {
      "cell_type": "code",
      "metadata": {
        "id": "Xo6D2eX3qFZu",
        "colab_type": "code",
        "colab": {}
      },
      "source": [
        "# load testing data\n",
        "test_data_file_path = \"C:/Users/57lzhang.US04WW4008/Desktop/Afib/Afib data/Afib ECG data/validation/\"\n",
        "test_raw_signals, test_raw_labels = util.data_mining(test_data_file_path)\n",
        "test_signals, test_labels = util.generate_seg_data(test_raw_signals, test_raw_labels, seg_len=9000)\n",
        "test_signals, test_labels = util.preprocessing(test_signals, test_labels)"
      ],
      "execution_count": null,
      "outputs": []
    },
    {
      "cell_type": "code",
      "metadata": {
        "id": "tdOBgPBPqI39",
        "colab_type": "code",
        "colab": {}
      },
      "source": [
        "# tensorflow pipeline\n",
        "## extraction\n",
        "train_dataset = tf.data.Dataset.from_tensor_slices((train_signals, train_labels))\n",
        "val_dataset = tf.data.Dataset.from_tensor_slices((val_signals, val_labels))\n",
        "## loading\n",
        "batch_size = 32\n",
        "train_dataset = train_dataset.cache()\n",
        "train_dataset = train_dataset.shuffle(2048).repeat().batch(batch_size, drop_remainder=True)\n",
        "train_dataset = train_dataset.prefetch(buffer_size=tf.data.experimental.AUTOTUNE)\n",
        "val_dataset = val_dataset.repeat().batch(batch_size, drop_remainder=True)"
      ],
      "execution_count": null,
      "outputs": []
    },
    {
      "cell_type": "code",
      "metadata": {
        "id": "5LEA2gg3qL1H",
        "colab_type": "code",
        "colab": {}
      },
      "source": [
        "# model\n",
        "model = model_util.cnn\n",
        "model.compile(optimizer=tf.keras.optimizers.Adam(),\n",
        "              loss=tf.keras.losses.CategoricalCrossentropy(),\n",
        "              metrics=['accuracy'])\n",
        "# callbacks\n",
        "log_dir = r\"C:\\Users\\57lzhang.US04WW4008\\Desktop\\Afib\\Afib data\\logs\\fit\\\\\" + \\\n",
        "          datetime.now().strftime(\"%Y%m%d-%H%M%S\") + \"cnn\"\n",
        "\n",
        "## confusion matrix callback\n",
        "cm_callback = model_util.confusion_matrix_callback(log_dir,\n",
        "                                                   model,\n",
        "                                                   test_signals,\n",
        "                                                   test_labels,\n",
        "                                                   class_names=['NO Afib', 'Afib', 'Other']\n",
        "                                                   )\n",
        "## tensorboard callback\n",
        "tensorboard_callback = TensorBoard(log_dir=log_dir, histogram_freq=1)\n",
        "\n",
        "## checkpoint callback\n",
        "filepath = r\"C:\\Users\\57lzhang.US04WW4008\\Desktop\\Afib\\Afib data\\models\\cnn-{epoch:02d}-{loss:.4f}.hdf5\"\n",
        "checkpoint = ModelCheckpoint(filepath, monitor='loss', verbose=1, save_best_only=True, mode='auto')\n",
        "\n",
        "## learning rate decay callback\n",
        "lr_schedule = tf.keras.callbacks.LearningRateScheduler(model_util.decay)\n",
        "\n",
        "callbacks_list = [tensorboard_callback, checkpoint, lr_schedule]"
      ],
      "execution_count": null,
      "outputs": []
    },
    {
      "cell_type": "code",
      "metadata": {
        "id": "AEF8fariqPC2",
        "colab_type": "code",
        "colab": {}
      },
      "source": [
        "model.fit(train_dataset,\n",
        "          epochs=200,\n",
        "          steps_per_epoch=len(list(train_signals))//batch_size,\n",
        "          verbose=1,\n",
        "          validation_data=val_dataset,\n",
        "          validation_steps=len(list(val_signals))//batch_size,\n",
        "          callbacks=callbacks_list\n",
        "          )"
      ],
      "execution_count": null,
      "outputs": []
    }
  ]
}