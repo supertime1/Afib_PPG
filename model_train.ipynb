{
  "nbformat": 4,
  "nbformat_minor": 0,
  "metadata": {
    "colab": {
      "name": "model_train.ipynb",
      "provenance": [],
      "collapsed_sections": [
        "ckuxUrs1GeC7",
        "Nvv8pVHmGsFs",
        "9gtz0mpPGMdI",
        "yzCsuNPU5-e-"
      ]
    },
    "kernelspec": {
      "name": "python3",
      "display_name": "Python 3"
    },
    "accelerator": "GPU"
  },
  "cells": [
    {
      "cell_type": "markdown",
      "metadata": {
        "id": "JD_-cpvPGQyK"
      },
      "source": [
        "#1.Import Dependencies"
      ]
    },
    {
      "cell_type": "code",
      "metadata": {
        "id": "w0X7DBegvBxs"
      },
      "source": [
        "import sys\n",
        "sys.path.append('C:/Users/57lzhang.US04WW4008/PycharmProjects/AF')"
      ],
      "execution_count": 1,
      "outputs": []
    },
    {
      "cell_type": "code",
      "metadata": {
        "id": "UtJCBohYlUoG",
        "colab": {
          "base_uri": "https://localhost:8080/"
        },
        "outputId": "d56676a2-f97a-4248-f5f0-cabb6b19045a"
      },
      "source": [
        "from util import util, model_util\n",
        "import tensorflow as tf\n",
        "from datetime import datetime\n",
        "from tensorflow.keras.callbacks import TensorBoard, ModelCheckpoint\n",
        "import numpy as np\n",
        "import sklearn\n",
        "from sklearn import metrics\n",
        "import scipy\n",
        "import matplotlib.pyplot as plt\n",
        "print(tf.__version__)"
      ],
      "execution_count": 2,
      "outputs": [
        {
          "output_type": "stream",
          "text": [
            "2.3.1\n"
          ],
          "name": "stdout"
        }
      ]
    },
    {
      "cell_type": "code",
      "metadata": {
        "id": "75wS3gS7Vd-L"
      },
      "source": [
        "import io\n",
        "import itertools\n",
        "from tensorflow.keras import Model\n",
        "from tensorflow.keras.layers import Conv2D, Conv1D, BatchNormalization, Input, Add, Activation, \\\n",
        "    MaxPooling1D, MaxPooling2D, Dropout, Flatten, TimeDistributed, Bidirectional, Dense, LSTM, ZeroPadding1D, \\\n",
        "    AveragePooling1D, GlobalAveragePooling1D, Concatenate, Permute, Dot, Multiply, RepeatVector, \\\n",
        "    Lambda, Average, GlobalAveragePooling2D, DepthwiseConv2D, ZeroPadding2D\n",
        "from tensorflow.keras.initializers import glorot_uniform"
      ],
      "execution_count": 3,
      "outputs": []
    },
    {
      "cell_type": "markdown",
      "metadata": {
        "id": "OZfmA5DxvwB3"
      },
      "source": [
        "#2.Input Data Pipeline"
      ]
    },
    {
      "cell_type": "markdown",
      "metadata": {
        "id": "T5iRQnesWwLq"
      },
      "source": [
        "##2.1 Time-Domain"
      ]
    },
    {
      "cell_type": "code",
      "metadata": {
        "id": "u3RvBpqmqBqj",
        "colab": {
          "base_uri": "https://localhost:8080/"
        },
        "outputId": "5092e0e2-5196-4b42-8926-53b3ac7413cb"
      },
      "source": [
        "# load training data\n",
        "train_data_file_path = \"C:/Users/57lzhang.US04WW4008/Desktop/Afib/Afib data/Afib ECG data/training2017/\"\n",
        "raw_signals, raw_labels = util.data_mining(train_data_file_path)\n",
        "signals, labels = util.generate_seg_data_shift(raw_signals, raw_labels, seg_len=9000)\n",
        "signals, labels = util.preprocessing(signals, labels, timedistributed=False)\n",
        "train_signals, train_labels, val_signals, val_labels = util.split_shuffle_dataset(signals, labels, 0.9)\n",
        "#oversample labels\n",
        "train_signals, train_labels = util.oversample_labels(train_signals, train_labels)\n",
        "val_signals, val_labels = util.oversample_labels(val_signals, val_labels)\n",
        "\n",
        "print('train_signal shape:', train_signals.shape)\n",
        "print('train_label shape:', train_labels.shape)\n",
        "print(\"\\nIn training data:\") \n",
        "util.count_labels(train_labels)\n",
        "print(\"\\nIn validation data:\")\n",
        "util.count_labels(val_labels)"
      ],
      "execution_count": 31,
      "outputs": [
        {
          "output_type": "stream",
          "text": [
            "train_signal shape: (56058, 3000, 1)\n",
            "train_label shape: (56058,)\n",
            "\n",
            "In training data:\n",
            "There are 18686 NSR labels\n",
            "There are 18686 AF labels\n",
            "There are 18686 Other Arrhythmia labels\n",
            "\n",
            "In validation data:\n",
            "There are 2053 NSR labels\n",
            "There are 2053 AF labels\n",
            "There are 2053 Other Arrhythmia labels\n"
          ],
          "name": "stdout"
        },
        {
          "output_type": "execute_result",
          "data": {
            "text/plain": [
              "(2053, 2053, 2053)"
            ]
          },
          "metadata": {
            "tags": []
          },
          "execution_count": 31
        }
      ]
    },
    {
      "cell_type": "code",
      "metadata": {
        "id": "Xo6D2eX3qFZu",
        "colab": {
          "base_uri": "https://localhost:8080/"
        },
        "outputId": "4d06e18b-7906-487d-f0be-4e7eb1651671"
      },
      "source": [
        "# load testing data\n",
        "test_data_file_path = \"C:/Users/57lzhang.US04WW4008/Desktop/Afib/Afib data/Afib ECG data/validation/\"\n",
        "test_raw_signals, test_raw_labels = util.data_mining(test_data_file_path)\n",
        "test_signals, test_labels = util.generate_seg_data(test_raw_signals, test_raw_labels, seg_len=9000)\n",
        "test_signals, test_labels = util.preprocessing(test_signals, test_labels, timedistributed=False)\n",
        "print('test_signal shape:', test_signals.shape)\n",
        "print('test_label shape:', test_labels.shape)\n",
        "print(\"\\nIn test data:\") \n",
        "util.count_labels(test_labels)"
      ],
      "execution_count": 59,
      "outputs": [
        {
          "output_type": "stream",
          "text": [
            "test_signal shape: (276, 3000, 1)\n",
            "test_label shape: (276, 1)\n",
            "\n",
            "In test data:\n",
            "There are 150 NSR labels\n",
            "There are 47 AF labels\n",
            "There are 79 Other Arrhythmia labels\n"
          ],
          "name": "stdout"
        },
        {
          "output_type": "execute_result",
          "data": {
            "text/plain": [
              "(150, 47, 79)"
            ]
          },
          "metadata": {
            "tags": []
          },
          "execution_count": 59
        }
      ]
    },
    {
      "cell_type": "code",
      "metadata": {
        "id": "o1OeexwulGQD",
        "colab": {
          "base_uri": "https://localhost:8080/"
        },
        "outputId": "00d651b8-1781-45d8-ed94-e7859d126083"
      },
      "source": [
        "#convert test labels to floating point type, so that it can be compared with model output\n",
        "test_labels = test_labels.flatten()\n",
        "test_labels = test_labels.astype(int)\n",
        "type(test_labels[0])"
      ],
      "execution_count": 33,
      "outputs": [
        {
          "output_type": "execute_result",
          "data": {
            "text/plain": [
              "numpy.int32"
            ]
          },
          "metadata": {
            "tags": []
          },
          "execution_count": 33
        }
      ]
    },
    {
      "cell_type": "code",
      "metadata": {
        "id": "gv9q6jpDZjB6"
      },
      "source": [
        "# tensorflow pipeline\r\n",
        "## extraction\r\n",
        "train_dataset = tf.data.Dataset.from_tensor_slices((train_signals, train_labels))\r\n",
        "val_dataset = tf.data.Dataset.from_tensor_slices((val_signals, val_labels))\r\n",
        "## loading\r\n",
        "batch_size = 128\r\n",
        "train_dataset = train_dataset.cache()\r\n",
        "train_dataset = train_dataset.shuffle(2048).repeat().batch(batch_size, drop_remainder=True)\r\n",
        "train_dataset = train_dataset.prefetch(buffer_size=tf.data.experimental.AUTOTUNE)\r\n",
        "val_dataset = val_dataset.repeat().batch(batch_size, drop_remainder=True)"
      ],
      "execution_count": null,
      "outputs": []
    },
    {
      "cell_type": "markdown",
      "metadata": {
        "id": "jBflpLQyW6Lj"
      },
      "source": [
        "##2.2 Freq-Domain"
      ]
    },
    {
      "cell_type": "code",
      "metadata": {
        "id": "P5Xod-1qkJz0",
        "colab": {
          "base_uri": "https://localhost:8080/",
          "height": 573
        },
        "outputId": "04abc516-8d5f-403d-c53a-712a4757337a"
      },
      "source": [
        "train_data_file_path = \"C:/Users/57lzhang.US04WW4008/Desktop/Afib/Afib data/Afib ECG data/training2017/\"\n",
        "raw_signals, raw_labels = util.data_mining(train_data_file_path)\n",
        "signals, labels = util.generate_seg_data_shift(raw_signals, raw_labels, seg_len=9000)\n",
        "#sanity check\n",
        "util.plot_spectrogram(signals, labels, 2)\n",
        "print('Spectrom shape:', util.get_spectrogram_and_label(signals[0], labels[0])[0].shape)\n",
        "print('Label shape:', util.get_spectrogram_and_label(signals[0], labels[0])[1].shape)"
      ],
      "execution_count": 66,
      "outputs": [
        {
          "output_type": "display_data",
          "data": {
            "text/plain": [
              "<Figure size 864x576 with 3 Axes>"
            ],
            "image/png": "[encoded data removed]"
          },
          "metadata": {
            "tags": [],
            "needs_background": "light"
          }
        },
        {
          "output_type": "stream",
          "text": [
            "Spectrom shape: (68, 63, 1)\n",
            "Label shape: (1,)\n"
          ],
          "name": "stdout"
        }
      ]
    },
    {
      "cell_type": "code",
      "metadata": {
        "id": "iyAZ8arrt1al",
        "colab": {
          "base_uri": "https://localhost:8080/"
        },
        "outputId": "d36d6381-b5bb-4abe-90b0-f7c74f3dc67c"
      },
      "source": [
        "train_signals, train_labels, val_signals, val_labels = util.split_shuffle_dataset(signals, labels, 0.9, seed=10)\r\n",
        "print('train_signal shape:', train_signals.shape)\r\n",
        "print('train_label shape:', train_labels.shape)\r\n",
        "print(\"\\nIn training data:\") \r\n",
        "util.count_labels(train_labels)\r\n",
        "print(\"\\nIn validation data:\")\r\n",
        "util.count_labels(val_labels)"
      ],
      "execution_count": 67,
      "outputs": [
        {
          "output_type": "stream",
          "text": [
            "train_signal shape: (35537, 9000)\n",
            "train_label shape: (35537, 1)\n",
            "\n",
            "In training data:\n",
            "There are 18686 NSR labels\n",
            "There are 3325 AF labels\n",
            "There are 13526 Other Arrhythmia labels\n",
            "\n",
            "In validation data:\n",
            "There are 2053 NSR labels\n",
            "There are 386 AF labels\n",
            "There are 1510 Other Arrhythmia labels\n"
          ],
          "name": "stdout"
        },
        {
          "output_type": "execute_result",
          "data": {
            "text/plain": [
              "(2053, 386, 1510)"
            ]
          },
          "metadata": {
            "tags": []
          },
          "execution_count": 67
        }
      ]
    },
    {
      "cell_type": "code",
      "metadata": {
        "id": "o-2OlT6au8np"
      },
      "source": [
        "# tensorflow pipeline\n",
        "## extraction\n",
        "train_dataset = tf.data.Dataset.from_tensor_slices((train_signals, train_labels))\n",
        "val_dataset = tf.data.Dataset.from_tensor_slices((val_signals, val_labels))\n",
        "train_dataset = train_dataset.map(util.get_spectrogram_and_label, num_parallel_calls=tf.data.experimental.AUTOTUNE)\n",
        "val_dataset = val_dataset.map(util.get_spectrogram_and_label, num_parallel_calls=tf.data.experimental.AUTOTUNE)\n",
        "\n",
        "## loading\n",
        "batch_size = 128\n",
        "train_dataset = train_dataset.cache()\n",
        "train_dataset = train_dataset.shuffle(2048).repeat().batch(batch_size, drop_remainder=True)\n",
        "train_dataset = train_dataset.prefetch(buffer_size=tf.data.experimental.AUTOTUNE)\n",
        "val_dataset = val_dataset.repeat().batch(batch_size, drop_remainder=True)"
      ],
      "execution_count": 68,
      "outputs": []
    },
    {
      "cell_type": "code",
      "metadata": {
        "colab": {
          "base_uri": "https://localhost:8080/"
        },
        "id": "XnEIq-zqXoI0",
        "outputId": "3e9ed369-1a0d-4b11-a2f7-f28ba9b6b6e8"
      },
      "source": [
        "#process validation data for tensorboard\r\n",
        "val_spectrogram = []\r\n",
        "for val_signal in val_signals:\r\n",
        "  val_spectrogram.append(util.get_spectrogram(val_signal))\r\n",
        "\r\n",
        "val_signals = np.array(val_spectrogram)\r\n",
        "val_signals = tf.expand_dims(val_signals, -1)\r\n",
        "val_signals.shape"
      ],
      "execution_count": 69,
      "outputs": [
        {
          "output_type": "execute_result",
          "data": {
            "text/plain": [
              "TensorShape([3949, 68, 63, 1])"
            ]
          },
          "metadata": {
            "tags": []
          },
          "execution_count": 69
        }
      ]
    },
    {
      "cell_type": "code",
      "metadata": {
        "colab": {
          "base_uri": "https://localhost:8080/"
        },
        "id": "StrxQWQfZ_CD",
        "outputId": "3a53c502-ca41-4f69-e363-76c5832ce99f"
      },
      "source": [
        "# load testing data\r\n",
        "test_data_file_path = \"C:/Users/57lzhang.US04WW4008/Desktop/Afib/Afib data/Afib ECG data/validation/\"\r\n",
        "test_raw_signals, test_raw_labels = util.data_mining(test_data_file_path)\r\n",
        "test_signals, test_labels = util.generate_seg_data(test_raw_signals, test_raw_labels, seg_len=9000)\r\n",
        "print('test_signal shape:', test_signals.shape)\r\n",
        "print('test_label shape:', test_labels.shape)\r\n",
        "print(\"\\nIn test data:\") \r\n",
        "util.count_labels(test_labels)"
      ],
      "execution_count": 70,
      "outputs": [
        {
          "output_type": "stream",
          "text": [
            "test_signal shape: (276, 9000)\n",
            "test_label shape: (276, 1)\n",
            "\n",
            "In test data:\n",
            "There are 150 NSR labels\n",
            "There are 47 AF labels\n",
            "There are 79 Other Arrhythmia labels\n"
          ],
          "name": "stdout"
        },
        {
          "output_type": "execute_result",
          "data": {
            "text/plain": [
              "(150, 47, 79)"
            ]
          },
          "metadata": {
            "tags": []
          },
          "execution_count": 70
        }
      ]
    },
    {
      "cell_type": "code",
      "metadata": {
        "colab": {
          "base_uri": "https://localhost:8080/"
        },
        "id": "sKRbl4LAaHoY",
        "outputId": "1238c914-e8ef-4758-8901-5b9cf15dcd04"
      },
      "source": [
        "# Process test signals for model evaluation\r\n",
        "test_spectrogram = []\r\n",
        "for test_signal in test_signals:\r\n",
        "  test_spectrogram.append(util.get_spectrogram(test_signal))\r\n",
        "\r\n",
        "test_signals = np.array(test_spectrogram)\r\n",
        "test_signals = tf.expand_dims(test_signals, -1)\r\n",
        "test_signals.shape"
      ],
      "execution_count": 71,
      "outputs": [
        {
          "output_type": "execute_result",
          "data": {
            "text/plain": [
              "TensorShape([276, 68, 63, 1])"
            ]
          },
          "metadata": {
            "tags": []
          },
          "execution_count": 71
        }
      ]
    },
    {
      "cell_type": "markdown",
      "metadata": {
        "id": "QNFEuNqP6o2j"
      },
      "source": [
        "##2.3. Time-Domain and Freq-Domain"
      ]
    },
    {
      "cell_type": "code",
      "metadata": {
        "id": "4KFPMkbcu9Lk",
        "colab": {
          "base_uri": "https://localhost:8080/"
        },
        "outputId": "b4bef549-9e85-48b2-b8b9-abdfdd2faa68"
      },
      "source": [
        "# load training data\n",
        "train_data_file_path = \"C:/Users/57lzhang.US04WW4008/Desktop/Afib/Afib data/Afib ECG data/training2017/\"\n",
        "raw_signals, raw_labels = util.data_mining(train_data_file_path)\n",
        "signals, labels = util.generate_seg_data(raw_signals, raw_labels, seg_len=9000)\n",
        "print(f\"There are {signals.shape[0]} 30s samples\")"
      ],
      "execution_count": 4,
      "outputs": [
        {
          "output_type": "stream",
          "text": [
            "There are 8250 30s samples\n"
          ],
          "name": "stdout"
        }
      ]
    },
    {
      "cell_type": "markdown",
      "metadata": {
        "id": "kBBgUJGAu9uf"
      },
      "source": [
        "###Prepare time-domain data"
      ]
    },
    {
      "cell_type": "code",
      "metadata": {
        "colab": {
          "base_uri": "https://localhost:8080/"
        },
        "id": "b3CZQiTHw928",
        "outputId": "9237736d-4864-4121-90e9-188a787c490d"
      },
      "source": [
        "t_signals, t_labels = util.preprocessing(signals, labels, timedistributed=False)\r\n",
        "t_train_signals, t_train_labels, t_val_signals, t_val_labels = util.split_shuffle_dataset(t_signals, t_labels, 0.9, seed=10)\r\n",
        "#oversample labels\r\n",
        "t_train_signals, t_train_labels = util.oversample_labels(t_train_signals, t_train_labels)\r\n",
        "t_val_signals, t_val_labels = util.oversample_labels(t_val_signals, t_val_labels)\r\n",
        "\r\n",
        "print(f't_train_signal shape: {t_train_signals.shape}')\r\n",
        "print(f't_train_label shape: {t_train_labels.shape}')\r\n",
        "print(\"\\nIn training data:\") \r\n",
        "util.count_labels(t_train_labels)\r\n",
        "print(\"\\nIn validation data:\")\r\n",
        "util.count_labels(t_val_labels)"
      ],
      "execution_count": 5,
      "outputs": [
        {
          "output_type": "stream",
          "text": [
            "t_train_signal shape: (13290, 3000, 1)\n",
            "t_train_label shape: (13290,)\n",
            "\n",
            "In training data:\n",
            "There are 4430 NSR labels\n",
            "There are 4430 AF labels\n",
            "There are 4430 Other Arrhythmia labels\n",
            "\n",
            "In validation data:\n",
            "There are 502 NSR labels\n",
            "There are 502 AF labels\n",
            "There are 502 Other Arrhythmia labels\n"
          ],
          "name": "stdout"
        },
        {
          "output_type": "execute_result",
          "data": {
            "text/plain": [
              "(502, 502, 502)"
            ]
          },
          "metadata": {
            "tags": []
          },
          "execution_count": 5
        }
      ]
    },
    {
      "cell_type": "markdown",
      "metadata": {
        "id": "h0q0RE4VvPCw"
      },
      "source": [
        "###Prepare frequency-domain data"
      ]
    },
    {
      "cell_type": "code",
      "metadata": {
        "id": "IW5HjlZSv3Vh",
        "colab": {
          "base_uri": "https://localhost:8080/"
        },
        "outputId": "c4dc3bd0-de9f-4a8e-a2a6-dda01bf8e6cb"
      },
      "source": [
        "f_train_signals, f_train_labels, f_val_signals, f_val_labels = util.split_shuffle_dataset(signals, labels, 0.9, seed=10)\n",
        "#oversample labels\n",
        "f_train_signals, f_train_labels = util.oversample_labels(f_train_signals, f_train_labels)\n",
        "f_val_signals, f_val_labels = util.oversample_labels(f_val_signals, f_val_labels)\n",
        "print(f'f_train_signal shape: {f_train_signals.shape}')\n",
        "print(f'f_train_label shape: {f_train_labels.shape}')\n",
        "print(\"\\nIn training data:\") \n",
        "util.count_labels(f_train_labels)\n",
        "print(\"\\nIn validation data:\")\n",
        "util.count_labels(f_val_labels)"
      ],
      "execution_count": 6,
      "outputs": [
        {
          "output_type": "stream",
          "text": [
            "f_train_signal shape: (13290, 9000)\n",
            "f_train_label shape: (13290,)\n",
            "\n",
            "In training data:\n",
            "There are 4430 NSR labels\n",
            "There are 4430 AF labels\n",
            "There are 4430 Other Arrhythmia labels\n",
            "\n",
            "In validation data:\n",
            "There are 502 NSR labels\n",
            "There are 502 AF labels\n",
            "There are 502 Other Arrhythmia labels\n"
          ],
          "name": "stdout"
        },
        {
          "output_type": "execute_result",
          "data": {
            "text/plain": [
              "(502, 502, 502)"
            ]
          },
          "metadata": {
            "tags": []
          },
          "execution_count": 6
        }
      ]
    },
    {
      "cell_type": "code",
      "metadata": {
        "id": "mFHwEp081fP8"
      },
      "source": [
        "#make sure labels in time and frequency are the same\r\n",
        "assert np.all(t_train_labels == f_train_labels)"
      ],
      "execution_count": 7,
      "outputs": []
    },
    {
      "cell_type": "markdown",
      "metadata": {
        "id": "OofUlCumzafj"
      },
      "source": [
        "###Prepare validation for tensorboard"
      ]
    },
    {
      "cell_type": "code",
      "metadata": {
        "id": "-tXT0U7ZzgBH"
      },
      "source": [
        "#process validation data for tensorboard\r\n",
        "f_val_spectrogram = []\r\n",
        "for val_signal in f_val_signals:\r\n",
        "  f_val_spectrogram.append(util.get_spectrogram(val_signal))\r\n",
        "\r\n",
        "f_val_signals_spectrum = np.array(f_val_spectrogram)\r\n",
        "f_val_signals_spectrum = np.expand_dims(f_val_signals_spectrum, -1)"
      ],
      "execution_count": 8,
      "outputs": []
    },
    {
      "cell_type": "code",
      "metadata": {
        "id": "YmcouGfbiUON"
      },
      "source": [
        "val_signals = [t_val_signals, f_val_signals_spectrum]\r\n",
        "val_labels = f_val_labels"
      ],
      "execution_count": 9,
      "outputs": []
    },
    {
      "cell_type": "markdown",
      "metadata": {
        "id": "LpKDFiZTn0l0"
      },
      "source": [
        "###Prepare test data for evaluation"
      ]
    },
    {
      "cell_type": "code",
      "metadata": {
        "colab": {
          "base_uri": "https://localhost:8080/"
        },
        "id": "l54hJ4ik1E8_",
        "outputId": "25f0faf5-5c23-4bf4-8fbf-046a67f3d4bf"
      },
      "source": [
        "# load testing data\r\n",
        "test_data_file_path = \"C:/Users/57lzhang.US04WW4008/Desktop/Afib/Afib data/Afib ECG data/validation/\"\r\n",
        "test_raw_signals, test_raw_labels = util.data_mining(test_data_file_path)\r\n",
        "test_signals, test_labels = util.generate_seg_data(test_raw_signals, test_raw_labels, seg_len=9000)\r\n",
        "print('test_signal shape:', test_signals.shape)\r\n",
        "print('test_label shape:', test_labels.shape)\r\n",
        "print(\"\\nIn test data:\") \r\n",
        "util.count_labels(test_labels)"
      ],
      "execution_count": 10,
      "outputs": [
        {
          "output_type": "stream",
          "text": [
            "test_signal shape: (276, 9000)\n",
            "test_label shape: (276, 1)\n",
            "\n",
            "In test data:\n",
            "There are 150 NSR labels\n",
            "There are 47 AF labels\n",
            "There are 79 Other Arrhythmia labels\n"
          ],
          "name": "stdout"
        },
        {
          "output_type": "execute_result",
          "data": {
            "text/plain": [
              "(150, 47, 79)"
            ]
          },
          "metadata": {
            "tags": []
          },
          "execution_count": 10
        }
      ]
    },
    {
      "cell_type": "code",
      "metadata": {
        "id": "yuf_pRS31bIH"
      },
      "source": [
        "t_test_signals, t_test_labels = util.preprocessing(test_signals, test_labels, timedistributed=False)"
      ],
      "execution_count": 11,
      "outputs": []
    },
    {
      "cell_type": "code",
      "metadata": {
        "id": "DBobJB0y1E9H"
      },
      "source": [
        "# Process test signals for model evaluation\r\n",
        "f_test_spectrogram = []\r\n",
        "for test_signal in test_signals:\r\n",
        "  f_test_spectrogram.append(util.get_spectrogram(test_signal))\r\n",
        "\r\n",
        "f_test_signals = np.array(f_test_spectrogram)\r\n",
        "f_test_signals = tf.expand_dims(f_test_signals, -1)"
      ],
      "execution_count": 12,
      "outputs": []
    },
    {
      "cell_type": "code",
      "metadata": {
        "id": "pwCvFUOpnMDa"
      },
      "source": [
        "test_signals = [t_test_signals, f_test_signals]"
      ],
      "execution_count": 13,
      "outputs": []
    },
    {
      "cell_type": "markdown",
      "metadata": {
        "id": "Ey57TVizyk9B"
      },
      "source": [
        "###TF pipeline"
      ]
    },
    {
      "cell_type": "code",
      "metadata": {
        "id": "rvsuJ5ECym5Q"
      },
      "source": [
        "#time domain\n",
        "t_train_dataset = tf.data.Dataset.from_tensor_slices(t_train_signals)\n",
        "t_val_dataset = tf.data.Dataset.from_tensor_slices(t_val_signals)\n",
        "\n",
        "#freq domain\n",
        "f_train_dataset = tf.data.Dataset.from_tensor_slices(f_train_signals)\n",
        "f_val_dataset = tf.data.Dataset.from_tensor_slices(f_val_signals)\n",
        "f_train_dataset = f_train_dataset.map(util.get_spectrogram_tensor, num_parallel_calls=tf.data.experimental.AUTOTUNE)\n",
        "f_val_dataset = f_val_dataset.map(util.get_spectrogram_tensor, num_parallel_calls=tf.data.experimental.AUTOTUNE)\n",
        "\n",
        "#label\n",
        "train_lb = tf.data.Dataset.from_tensor_slices(t_train_labels)\n",
        "val_lb = tf.data.Dataset.from_tensor_slices(t_val_labels)\n",
        "\n",
        "train = tf.data.Dataset.zip(((t_train_dataset, f_train_dataset), train_lb))\n",
        "validation = tf.data.Dataset.zip(((t_val_dataset, f_val_dataset), val_lb))\n",
        "\n",
        "## loading\n",
        "batch_size = 128\n",
        "train_dataset = train.cache()\n",
        "train_dataset = train_dataset.shuffle(2048).repeat().batch(batch_size, drop_remainder=True)\n",
        "train_dataset = train_dataset.prefetch(buffer_size=tf.data.experimental.AUTOTUNE)\n",
        "val_dataset = validation.repeat().batch(batch_size, drop_remainder=True)"
      ],
      "execution_count": 14,
      "outputs": []
    },
    {
      "cell_type": "markdown",
      "metadata": {
        "id": "6ERGMcDqO3R8"
      },
      "source": [
        "#3.Model"
      ]
    },
    {
      "cell_type": "markdown",
      "metadata": {
        "id": "uHweWIpxGZfd"
      },
      "source": [
        "##3.1.Training with Time-Domain"
      ]
    },
    {
      "cell_type": "markdown",
      "metadata": {
        "id": "Nvv8pVHmGsFs"
      },
      "source": [
        "###Short CNN-1D"
      ]
    },
    {
      "cell_type": "code",
      "metadata": {
        "id": "veyF4WypP9eK",
        "colab": {
          "base_uri": "https://localhost:8080/"
        },
        "outputId": "ea32b021-afad-4938-f4de-0ec90efa48f3"
      },
      "source": [
        "model = model_util.simple_cnn_1d((3000, 1), dropout=0.2, classes=3)\n",
        "model.summary()\n",
        "model.compile(optimizer=tf.keras.optimizers.Adam(),\n",
        "              loss=tf.keras.losses.sparse_categorical_crossentropy,\n",
        "              metrics=['accuracy'])"
      ],
      "execution_count": 37,
      "outputs": [
        {
          "output_type": "stream",
          "text": [
            "Model: \"cnn_1d\"\n",
            "_________________________________________________________________\n",
            "Layer (type)                 Output Shape              Param #   \n",
            "=================================================================\n",
            "input_3 (InputLayer)         [(None, 3000, 1)]         0         \n",
            "_________________________________________________________________\n",
            "conv1d_5 (Conv1D)            (None, 3000, 8)           16        \n",
            "_________________________________________________________________\n",
            "batch_normalization_6 (Batch (None, 3000, 8)           32        \n",
            "_________________________________________________________________\n",
            "max_pooling1d_5 (MaxPooling1 (None, 1500, 8)           0         \n",
            "_________________________________________________________________\n",
            "dropout_5 (Dropout)          (None, 1500, 8)           0         \n",
            "_________________________________________________________________\n",
            "conv1d_6 (Conv1D)            (None, 1498, 16)          400       \n",
            "_________________________________________________________________\n",
            "batch_normalization_7 (Batch (None, 1498, 16)          64        \n",
            "_________________________________________________________________\n",
            "max_pooling1d_6 (MaxPooling1 (None, 749, 16)           0         \n",
            "_________________________________________________________________\n",
            "dropout_6 (Dropout)          (None, 749, 16)           0         \n",
            "_________________________________________________________________\n",
            "conv1d_7 (Conv1D)            (None, 747, 32)           1568      \n",
            "_________________________________________________________________\n",
            "batch_normalization_8 (Batch (None, 747, 32)           128       \n",
            "_________________________________________________________________\n",
            "max_pooling1d_7 (MaxPooling1 (None, 373, 32)           0         \n",
            "_________________________________________________________________\n",
            "dropout_7 (Dropout)          (None, 373, 32)           0         \n",
            "_________________________________________________________________\n",
            "conv1d_8 (Conv1D)            (None, 371, 64)           6208      \n",
            "_________________________________________________________________\n",
            "batch_normalization_9 (Batch (None, 371, 64)           256       \n",
            "_________________________________________________________________\n",
            "max_pooling1d_8 (MaxPooling1 (None, 185, 64)           0         \n",
            "_________________________________________________________________\n",
            "dropout_8 (Dropout)          (None, 185, 64)           0         \n",
            "_________________________________________________________________\n",
            "conv1d_9 (Conv1D)            (None, 185, 16)           1040      \n",
            "_________________________________________________________________\n",
            "batch_normalization_10 (Batc (None, 185, 16)           64        \n",
            "_________________________________________________________________\n",
            "flatten_2 (Flatten)          (None, 2960)              0         \n",
            "_________________________________________________________________\n",
            "dense_2 (Dense)              (None, 64)                189504    \n",
            "_________________________________________________________________\n",
            "batch_normalization_11 (Batc (None, 64)                256       \n",
            "_________________________________________________________________\n",
            "dropout_9 (Dropout)          (None, 64)                0         \n",
            "_________________________________________________________________\n",
            "dense_3 (Dense)              (None, 3)                 195       \n",
            "=================================================================\n",
            "Total params: 199,731\n",
            "Trainable params: 199,331\n",
            "Non-trainable params: 400\n",
            "_________________________________________________________________\n"
          ],
          "name": "stdout"
        }
      ]
    },
    {
      "cell_type": "markdown",
      "metadata": {
        "id": "rq3mpHlwq0FD"
      },
      "source": [
        "###MobileNet-1D"
      ]
    },
    {
      "cell_type": "code",
      "metadata": {
        "id": "otDRAlH85ojx"
      },
      "source": [
        "model = model_util.MobileNet_1D(input_shape=(3000,1), dropout=0.5, classes=3)\n",
        "model.compile(optimizer=tf.keras.optimizers.Adam(),\n",
        "              loss=tf.keras.losses.sparse_categorical_crossentropy,\n",
        "              metrics=['accuracy'])\n",
        "model.summary()"
      ],
      "execution_count": null,
      "outputs": []
    },
    {
      "cell_type": "markdown",
      "metadata": {
        "id": "hCdh0xbi8vts"
      },
      "source": [
        "###ResNet-1D"
      ]
    },
    {
      "cell_type": "code",
      "metadata": {
        "id": "5aI3zST7wmZy"
      },
      "source": [
        "#cnn + lstm model\n",
        "model = model_util.resnet18_1d((3000,1), classes=3, as_model=True)\n",
        "model.compile(optimizer=tf.keras.optimizers.Adam(),\n",
        "              loss=tf.keras.losses.SparseCategoricalCrossentropy(),\n",
        "              metrics=['accuracy'])\n",
        "model.summary()"
      ],
      "execution_count": null,
      "outputs": []
    },
    {
      "cell_type": "markdown",
      "metadata": {
        "id": "zbNYhRVgry7L"
      },
      "source": [
        "##3.2 Training with Freq-Domain"
      ]
    },
    {
      "cell_type": "markdown",
      "metadata": {
        "id": "TCGZ6pYAXQxI"
      },
      "source": [
        "###Short CNN"
      ]
    },
    {
      "cell_type": "code",
      "metadata": {
        "id": "-xrAamJ6xpCt",
        "colab": {
          "base_uri": "https://localhost:8080/"
        },
        "outputId": "c3ff24ef-c704-4721-df67-e874d3c0706c"
      },
      "source": [
        "model = model_util.simple_cnn(input_shape=(68,63,1), dropout=0.2, classes=3)\n",
        "model.compile(optimizer=tf.keras.optimizers.Adam(),\n",
        "              loss=tf.keras.losses.SparseCategoricalCrossentropy(),\n",
        "              metrics=['accuracy'])\n",
        "model.summary()"
      ],
      "execution_count": 72,
      "outputs": [
        {
          "output_type": "stream",
          "text": [
            "Model: \"cnn\"\n",
            "_________________________________________________________________\n",
            "Layer (type)                 Output Shape              Param #   \n",
            "=================================================================\n",
            "input_5 (InputLayer)         [(None, 68, 63, 1)]       0         \n",
            "_________________________________________________________________\n",
            "conv2d_18 (Conv2D)           (None, 68, 63, 8)         16        \n",
            "_________________________________________________________________\n",
            "batch_normalization_34 (Batc (None, 68, 63, 8)         32        \n",
            "_________________________________________________________________\n",
            "max_pooling2d_2 (MaxPooling2 (None, 34, 31, 8)         0         \n",
            "_________________________________________________________________\n",
            "conv2d_19 (Conv2D)           (None, 32, 29, 16)        1168      \n",
            "_________________________________________________________________\n",
            "batch_normalization_35 (Batc (None, 32, 29, 16)        64        \n",
            "_________________________________________________________________\n",
            "max_pooling2d_3 (MaxPooling2 (None, 31, 28, 16)        0         \n",
            "_________________________________________________________________\n",
            "conv2d_20 (Conv2D)           (None, 29, 26, 32)        4640      \n",
            "_________________________________________________________________\n",
            "batch_normalization_36 (Batc (None, 29, 26, 32)        128       \n",
            "_________________________________________________________________\n",
            "max_pooling2d_4 (MaxPooling2 (None, 28, 25, 32)        0         \n",
            "_________________________________________________________________\n",
            "conv2d_21 (Conv2D)           (None, 26, 23, 64)        18496     \n",
            "_________________________________________________________________\n",
            "batch_normalization_37 (Batc (None, 26, 23, 64)        256       \n",
            "_________________________________________________________________\n",
            "max_pooling2d_5 (MaxPooling2 (None, 25, 22, 64)        0         \n",
            "_________________________________________________________________\n",
            "conv2d_22 (Conv2D)           (None, 25, 22, 16)        1040      \n",
            "_________________________________________________________________\n",
            "flatten_2 (Flatten)          (None, 8800)              0         \n",
            "_________________________________________________________________\n",
            "dense_2 (Dense)              (None, 64)                563264    \n",
            "_________________________________________________________________\n",
            "batch_normalization_38 (Batc (None, 64)                256       \n",
            "_________________________________________________________________\n",
            "dropout_2 (Dropout)          (None, 64)                0         \n",
            "_________________________________________________________________\n",
            "dense_3 (Dense)              (None, 3)                 195       \n",
            "=================================================================\n",
            "Total params: 589,555\n",
            "Trainable params: 589,187\n",
            "Non-trainable params: 368\n",
            "_________________________________________________________________\n"
          ],
          "name": "stdout"
        }
      ]
    },
    {
      "cell_type": "markdown",
      "metadata": {
        "id": "z4041U86XbNl"
      },
      "source": [
        "###MobileNet"
      ]
    },
    {
      "cell_type": "code",
      "metadata": {
        "id": "X86P1ATMBMI9",
        "colab": {
          "base_uri": "https://localhost:8080/"
        },
        "outputId": "5779180e-da3f-40da-d3cd-2751ca1e59b9"
      },
      "source": [
        "model = model_util.MobileNet(input_shape=(68,63,1), dropout=0.5, alpha=1, classes=3)\r\n",
        "model.compile(optimizer=tf.keras.optimizers.Adam(),\r\n",
        "              loss=tf.keras.losses.SparseCategoricalCrossentropy(),\r\n",
        "              metrics=['accuracy'])\r\n",
        "model.summary()"
      ],
      "execution_count": 55,
      "outputs": [
        {
          "output_type": "stream",
          "text": [
            "Model: \"mobilenet\"\n",
            "_________________________________________________________________\n",
            "Layer (type)                 Output Shape              Param #   \n",
            "=================================================================\n",
            "input_4 (InputLayer)         [(None, 68, 63, 1)]       0         \n",
            "_________________________________________________________________\n",
            "conv2d_9 (Conv2D)            (None, 34, 32, 32)        288       \n",
            "_________________________________________________________________\n",
            "batch_normalization_17 (Batc (None, 34, 32, 32)        128       \n",
            "_________________________________________________________________\n",
            "activation_67 (Activation)   (None, 34, 32, 32)        0         \n",
            "_________________________________________________________________\n",
            "depthwise_conv2d_8 (Depthwis (None, 34, 32, 32)        288       \n",
            "_________________________________________________________________\n",
            "batch_normalization_18 (Batc (None, 34, 32, 32)        128       \n",
            "_________________________________________________________________\n",
            "activation_68 (Activation)   (None, 34, 32, 32)        0         \n",
            "_________________________________________________________________\n",
            "conv2d_10 (Conv2D)           (None, 34, 32, 64)        2048      \n",
            "_________________________________________________________________\n",
            "batch_normalization_19 (Batc (None, 34, 32, 64)        256       \n",
            "_________________________________________________________________\n",
            "activation_69 (Activation)   (None, 34, 32, 64)        0         \n",
            "_________________________________________________________________\n",
            "depthwise_conv2d_9 (Depthwis (None, 17, 16, 64)        576       \n",
            "_________________________________________________________________\n",
            "batch_normalization_20 (Batc (None, 17, 16, 64)        256       \n",
            "_________________________________________________________________\n",
            "activation_70 (Activation)   (None, 17, 16, 64)        0         \n",
            "_________________________________________________________________\n",
            "conv2d_11 (Conv2D)           (None, 17, 16, 128)       8192      \n",
            "_________________________________________________________________\n",
            "batch_normalization_21 (Batc (None, 17, 16, 128)       512       \n",
            "_________________________________________________________________\n",
            "activation_71 (Activation)   (None, 17, 16, 128)       0         \n",
            "_________________________________________________________________\n",
            "depthwise_conv2d_10 (Depthwi (None, 17, 16, 128)       1152      \n",
            "_________________________________________________________________\n",
            "batch_normalization_22 (Batc (None, 17, 16, 128)       512       \n",
            "_________________________________________________________________\n",
            "activation_72 (Activation)   (None, 17, 16, 128)       0         \n",
            "_________________________________________________________________\n",
            "conv2d_12 (Conv2D)           (None, 17, 16, 128)       16384     \n",
            "_________________________________________________________________\n",
            "batch_normalization_23 (Batc (None, 17, 16, 128)       512       \n",
            "_________________________________________________________________\n",
            "activation_73 (Activation)   (None, 17, 16, 128)       0         \n",
            "_________________________________________________________________\n",
            "depthwise_conv2d_11 (Depthwi (None, 9, 8, 128)         1152      \n",
            "_________________________________________________________________\n",
            "batch_normalization_24 (Batc (None, 9, 8, 128)         512       \n",
            "_________________________________________________________________\n",
            "activation_74 (Activation)   (None, 9, 8, 128)         0         \n",
            "_________________________________________________________________\n",
            "conv2d_13 (Conv2D)           (None, 9, 8, 256)         32768     \n",
            "_________________________________________________________________\n",
            "batch_normalization_25 (Batc (None, 9, 8, 256)         1024      \n",
            "_________________________________________________________________\n",
            "activation_75 (Activation)   (None, 9, 8, 256)         0         \n",
            "_________________________________________________________________\n",
            "depthwise_conv2d_12 (Depthwi (None, 9, 8, 256)         2304      \n",
            "_________________________________________________________________\n",
            "batch_normalization_26 (Batc (None, 9, 8, 256)         1024      \n",
            "_________________________________________________________________\n",
            "activation_76 (Activation)   (None, 9, 8, 256)         0         \n",
            "_________________________________________________________________\n",
            "conv2d_14 (Conv2D)           (None, 9, 8, 256)         65536     \n",
            "_________________________________________________________________\n",
            "batch_normalization_27 (Batc (None, 9, 8, 256)         1024      \n",
            "_________________________________________________________________\n",
            "activation_77 (Activation)   (None, 9, 8, 256)         0         \n",
            "_________________________________________________________________\n",
            "depthwise_conv2d_13 (Depthwi (None, 5, 4, 256)         2304      \n",
            "_________________________________________________________________\n",
            "batch_normalization_28 (Batc (None, 5, 4, 256)         1024      \n",
            "_________________________________________________________________\n",
            "activation_78 (Activation)   (None, 5, 4, 256)         0         \n",
            "_________________________________________________________________\n",
            "conv2d_15 (Conv2D)           (None, 5, 4, 512)         131072    \n",
            "_________________________________________________________________\n",
            "batch_normalization_29 (Batc (None, 5, 4, 512)         2048      \n",
            "_________________________________________________________________\n",
            "activation_79 (Activation)   (None, 5, 4, 512)         0         \n",
            "_________________________________________________________________\n",
            "depthwise_conv2d_14 (Depthwi (None, 3, 2, 512)         4608      \n",
            "_________________________________________________________________\n",
            "batch_normalization_30 (Batc (None, 3, 2, 512)         2048      \n",
            "_________________________________________________________________\n",
            "activation_80 (Activation)   (None, 3, 2, 512)         0         \n",
            "_________________________________________________________________\n",
            "conv2d_16 (Conv2D)           (None, 3, 2, 1024)        524288    \n",
            "_________________________________________________________________\n",
            "batch_normalization_31 (Batc (None, 3, 2, 1024)        4096      \n",
            "_________________________________________________________________\n",
            "activation_81 (Activation)   (None, 3, 2, 1024)        0         \n",
            "_________________________________________________________________\n",
            "depthwise_conv2d_15 (Depthwi (None, 3, 2, 1024)        9216      \n",
            "_________________________________________________________________\n",
            "batch_normalization_32 (Batc (None, 3, 2, 1024)        4096      \n",
            "_________________________________________________________________\n",
            "activation_82 (Activation)   (None, 3, 2, 1024)        0         \n",
            "_________________________________________________________________\n",
            "conv2d_17 (Conv2D)           (None, 3, 2, 1024)        1048576   \n",
            "_________________________________________________________________\n",
            "batch_normalization_33 (Batc (None, 3, 2, 1024)        4096      \n",
            "_________________________________________________________________\n",
            "activation_83 (Activation)   (None, 3, 2, 1024)        0         \n",
            "_________________________________________________________________\n",
            "global_average_pooling2d_1 ( (None, 1024)              0         \n",
            "_________________________________________________________________\n",
            "dropout_1 (Dropout)          (None, 1024)              0         \n",
            "_________________________________________________________________\n",
            "dense_1 (Dense)              (None, 3)                 3075      \n",
            "=================================================================\n",
            "Total params: 1,877,123\n",
            "Trainable params: 1,865,475\n",
            "Non-trainable params: 11,648\n",
            "_________________________________________________________________\n"
          ],
          "name": "stdout"
        }
      ]
    },
    {
      "cell_type": "markdown",
      "metadata": {
        "id": "jiAecojtXgE_"
      },
      "source": [
        "###Resnet-18"
      ]
    },
    {
      "cell_type": "code",
      "metadata": {
        "id": "KBVm46dKXixT"
      },
      "source": [
        "model = model_util.resnet18(input_shape=(68,63,1), classes=3, as_model=True)\r\n",
        "model.compile(optimizer=tf.keras.optimizers.Adam(),\r\n",
        "              loss=tf.keras.losses.SparseCategoricalCrossentropy(),\r\n",
        "              metrics=['accuracy'])\r\n",
        "model.summary()"
      ],
      "execution_count": null,
      "outputs": []
    },
    {
      "cell_type": "markdown",
      "metadata": {
        "id": "0iMehUOfuYib"
      },
      "source": [
        "##3.3 Training with both time-domain and frequency-domain"
      ]
    },
    {
      "cell_type": "markdown",
      "metadata": {
        "id": "zaT8kEqY4C3E"
      },
      "source": [
        "###Mutilple input model\n"
      ]
    },
    {
      "cell_type": "markdown",
      "metadata": {
        "id": "pvnLp4h0o2xo"
      },
      "source": [
        "###CNN"
      ]
    },
    {
      "cell_type": "code",
      "metadata": {
        "id": "7IK3bxex4F0F"
      },
      "source": [
        "def time_freq_model(input_shape=None, classes=3, dropout=0.2):\n",
        "  time_input = Input(shape = (3000, 1))\n",
        "  freq_input = Input(shape = (68, 63, 1))\n",
        "\n",
        "  x_t = model_util.simple_cnn_1d(input_shape=(3000,1), dropout=dropout, is_model=False)(time_input)\n",
        "  x_f = model_util.simple_cnn(input_shape=(68, 63, 1), dropout=dropout, is_model=False)(freq_input)\n",
        "\n",
        "  x = Concatenate(axis=-1)([x_t, x_f])\n",
        "  output = Dense(classes, activation='softmax')(x)\n",
        "  model = Model(inputs = (time_input, freq_input), outputs = output)\n",
        "  return model"
      ],
      "execution_count": 35,
      "outputs": []
    },
    {
      "cell_type": "code",
      "metadata": {
        "id": "Wlr0uWYbTr_z",
        "colab": {
          "base_uri": "https://localhost:8080/",
          "height": 795
        },
        "outputId": "2413d60d-7c94-4bb7-fa38-ba8854ea7d38"
      },
      "source": [
        "model = time_freq_model(classes=3, dropout=0.5)\r\n",
        "model.compile(optimizer=tf.keras.optimizers.Adam(),\r\n",
        "              loss=tf.keras.losses.SparseCategoricalCrossentropy(),\r\n",
        "              metrics=['accuracy'])\r\n",
        "model.summary()\r\n",
        "tf.keras.utils.plot_model(model, \"C:/Users/57lzhang.US04WW4008/Desktop/multi_input_and_output_model.png\", show_shapes=True)"
      ],
      "execution_count": 36,
      "outputs": [
        {
          "output_type": "stream",
          "text": [
            "Model: \"functional_1\"\n",
            "__________________________________________________________________________________________________\n",
            "Layer (type)                    Output Shape         Param #     Connected to                     \n",
            "==================================================================================================\n",
            "input_1 (InputLayer)            [(None, 3000, 1)]    0                                            \n",
            "__________________________________________________________________________________________________\n",
            "input_2 (InputLayer)            [(None, 68, 63, 1)]  0                                            \n",
            "__________________________________________________________________________________________________\n",
            "cnn_1d_layer (Functional)       (None, 64)           199536      input_1[0][0]                    \n",
            "__________________________________________________________________________________________________\n",
            "cnn_layer (Functional)          (None, 64)           589360      input_2[0][0]                    \n",
            "__________________________________________________________________________________________________\n",
            "concatenate (Concatenate)       (None, 128)          0           cnn_1d_layer[0][0]               \n",
            "                                                                 cnn_layer[0][0]                  \n",
            "__________________________________________________________________________________________________\n",
            "dense_2 (Dense)                 (None, 3)            387         concatenate[0][0]                \n",
            "==================================================================================================\n",
            "Total params: 789,283\n",
            "Trainable params: 788,515\n",
            "Non-trainable params: 768\n",
            "__________________________________________________________________________________________________\n"
          ],
          "name": "stdout"
        },
        {
          "output_type": "execute_result",
          "data": {
            "image/png": "[encoded data removed]",
            "text/plain": [
              "<IPython.core.display.Image object>"
            ]
          },
          "metadata": {
            "tags": []
          },
          "execution_count": 36
        }
      ]
    },
    {
      "cell_type": "markdown",
      "metadata": {
        "id": "cF_00vdxo4Gz"
      },
      "source": [
        "###Moible"
      ]
    },
    {
      "cell_type": "code",
      "metadata": {
        "id": "-gHHLz3to-Lo"
      },
      "source": [
        "def time_freq_model(input_shape=None, classes=3, dropout=0.2):\n",
        "  time_input = Input(shape = (3000, 1))\n",
        "  freq_input = Input(shape = (68, 63, 1))\n",
        "\n",
        "  x_t = model_util.MobileNet_1D(input_shape=(3000,1), dropout=dropout, is_model=False)(time_input)\n",
        "  x_f = model_util.MobileNet(input_shape=(68, 63, 1), dropout=dropout, is_model=False)(freq_input)\n",
        "\n",
        "  x = Concatenate(axis=-1)([x_t, x_f])\n",
        "  output = Dense(classes, activation='softmax')(x)\n",
        "  model = Model(inputs = (time_input, freq_input), outputs = output)\n",
        "  return model"
      ],
      "execution_count": 15,
      "outputs": []
    },
    {
      "cell_type": "code",
      "metadata": {
        "colab": {
          "base_uri": "https://localhost:8080/",
          "height": 0
        },
        "id": "DfvxPR-ao-Lr",
        "outputId": "8a0b2f4f-be6a-4691-ad1f-e058f8ec8fa4"
      },
      "source": [
        "model = time_freq_model(classes=3, dropout=0.5)\r\n",
        "model.compile(optimizer=tf.keras.optimizers.Adam(),\r\n",
        "              loss=tf.keras.losses.SparseCategoricalCrossentropy(),\r\n",
        "              metrics=['accuracy'])\r\n",
        "model.summary()\r\n",
        "tf.keras.utils.plot_model(model, \"C:/Users/57lzhang.US04WW4008/Desktop/multi_input_and_output_model.png\", show_shapes=True)"
      ],
      "execution_count": 16,
      "outputs": [
        {
          "output_type": "stream",
          "text": [
            "Model: \"functional_1\"\n",
            "__________________________________________________________________________________________________\n",
            "Layer (type)                    Output Shape         Param #     Connected to                     \n",
            "==================================================================================================\n",
            "input_1 (InputLayer)            [(None, 3000, 1)]    0                                            \n",
            "__________________________________________________________________________________________________\n",
            "input_2 (InputLayer)            [(None, 68, 63, 1)]  0                                            \n",
            "__________________________________________________________________________________________________\n",
            "mobilenet_1d (Functional)       (None, 64)           1925056     input_1[0][0]                    \n",
            "__________________________________________________________________________________________________\n",
            "mobilenet (Functional)          (None, 64)           1939648     input_2[0][0]                    \n",
            "__________________________________________________________________________________________________\n",
            "concatenate (Concatenate)       (None, 128)          0           mobilenet_1d[0][0]               \n",
            "                                                                 mobilenet[0][0]                  \n",
            "__________________________________________________________________________________________________\n",
            "dense_2 (Dense)                 (None, 3)            387         concatenate[0][0]                \n",
            "==================================================================================================\n",
            "Total params: 3,865,091\n",
            "Trainable params: 3,841,795\n",
            "Non-trainable params: 23,296\n",
            "__________________________________________________________________________________________________\n"
          ],
          "name": "stdout"
        },
        {
          "output_type": "execute_result",
          "data": {
            "image/png": "[encoded data removed]",
            "text/plain": [
              "<IPython.core.display.Image object>"
            ]
          },
          "metadata": {
            "tags": []
          },
          "execution_count": 16
        }
      ]
    },
    {
      "cell_type": "markdown",
      "metadata": {
        "id": "QqqYtXBo2mOX"
      },
      "source": [
        "###ResNet"
      ]
    },
    {
      "cell_type": "code",
      "metadata": {
        "id": "PBA0JbXd99Zs"
      },
      "source": [
        "def time_freq_model(input_shape=None, classes=3, dropout=0.2):\r\n",
        "  time_input = Input(shape = (3000, 1))\r\n",
        "  freq_input = Input(shape = (68, 63, 1))\r\n",
        "\r\n",
        "  x_t = model_util.resnet18_1d(input_shape=(3000,1), classes=3, as_model=False)(time_input)\r\n",
        "  x_f = model_util.resnet18(input_shape=(68, 63, 1), classes=3, as_model=False)(freq_input)\r\n",
        "\r\n",
        "  x = Concatenate(axis=-1)([x_t, x_f])\r\n",
        "  output = Dense(classes, activation='softmax')(x)\r\n",
        "  model = Model(inputs = (time_input, freq_input), outputs = output)\r\n",
        "  return model"
      ],
      "execution_count": 15,
      "outputs": []
    },
    {
      "cell_type": "code",
      "metadata": {
        "colab": {
          "base_uri": "https://localhost:8080/",
          "height": 795
        },
        "id": "zEpwnkK9-Rbg",
        "outputId": "b4283082-bb35-421f-c2be-c2cd72d8226e"
      },
      "source": [
        "model = time_freq_model(classes=3, dropout=0.5)\r\n",
        "model.compile(optimizer=tf.keras.optimizers.Adam(),\r\n",
        "              loss=tf.keras.losses.SparseCategoricalCrossentropy(),\r\n",
        "              metrics=['accuracy'])\r\n",
        "model.summary()\r\n",
        "tf.keras.utils.plot_model(model, \"C:/Users/57lzhang.US04WW4008/Desktop/multi_input_and_output_model.png\", show_shapes=True)"
      ],
      "execution_count": 16,
      "outputs": [
        {
          "output_type": "stream",
          "text": [
            "Model: \"functional_1\"\n",
            "__________________________________________________________________________________________________\n",
            "Layer (type)                    Output Shape         Param #     Connected to                     \n",
            "==================================================================================================\n",
            "input_1 (InputLayer)            [(None, 3000, 1)]    0                                            \n",
            "__________________________________________________________________________________________________\n",
            "input_2 (InputLayer)            [(None, 68, 63, 1)]  0                                            \n",
            "__________________________________________________________________________________________________\n",
            "ResNet18_1d (Functional)        (None, 23552)        4202368     input_1[0][0]                    \n",
            "__________________________________________________________________________________________________\n",
            "ResNet18 (Functional)           (None, 512)          12542284    input_2[0][0]                    \n",
            "__________________________________________________________________________________________________\n",
            "concatenate (Concatenate)       (None, 24064)        0           ResNet18_1d[0][0]                \n",
            "                                                                 ResNet18[0][0]                   \n",
            "__________________________________________________________________________________________________\n",
            "dense (Dense)                   (None, 3)            72195       concatenate[0][0]                \n",
            "==================================================================================================\n",
            "Total params: 16,816,847\n",
            "Trainable params: 16,806,953\n",
            "Non-trainable params: 9,894\n",
            "__________________________________________________________________________________________________\n"
          ],
          "name": "stdout"
        },
        {
          "output_type": "execute_result",
          "data": {
            "image/png": "[encoded data removed]",
            "text/plain": [
              "<IPython.core.display.Image object>"
            ]
          },
          "metadata": {
            "tags": []
          },
          "execution_count": 16
        }
      ]
    },
    {
      "cell_type": "markdown",
      "metadata": {
        "id": "yzCsuNPU5-e-"
      },
      "source": [
        "##3.4 Training with Autoencoder"
      ]
    },
    {
      "cell_type": "code",
      "metadata": {
        "id": "xynJkWZep4_7"
      },
      "source": [
        "from tensorflow.keras import Model\n",
        "from tensorflow.keras.layers import Conv1D, BatchNormalization, Input, Add, Activation, \\\n",
        "    MaxPooling1D, Dropout, Flatten, TimeDistributed, Bidirectional, Dense, LSTM, ZeroPadding1D, \\\n",
        "    AveragePooling1D, Conv1DTranspose, GlobalMaxPooling1D, Concatenate, Permute, Dot, Multiply, RepeatVector, \\\n",
        "    Lambda, Average"
      ],
      "execution_count": null,
      "outputs": []
    },
    {
      "cell_type": "code",
      "metadata": {
        "id": "WGotIQaT590i",
        "colab": {
          "base_uri": "https://localhost:8080/",
          "height": 33
        },
        "outputId": "bba0b0e2-a067-4b04-95cd-1077716cd1a6"
      },
      "source": [
        "import os\n",
        "os.chdir(r\"C:\\Users\\57lzhang.US04WW4008\\Desktop\\Afib\\Afib data\\models\")\n",
        "ecg_encoder = tf.keras.models.load_model('ECG_Encoder.h5')\n",
        "conv_encoder_clone = tf.keras.models.clone_model(ecg_encoder)"
      ],
      "execution_count": null,
      "outputs": [
        {
          "output_type": "stream",
          "text": [
            "WARNING:tensorflow:No training configuration found in the save file, so the model was *not* compiled. Compile it manually.\n"
          ],
          "name": "stdout"
        }
      ]
    },
    {
      "cell_type": "code",
      "metadata": {
        "id": "MBl167_mqCsB"
      },
      "source": [
        "def encoder_lstm(input_shape=(3,1250,1), classes=3):\n",
        "  X_input = Input(shape=input_shape)\n",
        "  X = TimeDistributed(conv_encoder_clone)(X_input)\n",
        "  X = TimeDistributed(Flatten())(X)\n",
        "  X = Bidirectional(LSTM(32, return_sequences=True))(X)\n",
        "  X = Bidirectional(LSTM(16))(X)\n",
        "  X = Dense(classes, activation='softmax')(X)\n",
        "\n",
        "  model = Model(inputs=[X_input], outputs=X)\n",
        "\n",
        "  return model"
      ],
      "execution_count": null,
      "outputs": []
    },
    {
      "cell_type": "code",
      "metadata": {
        "id": "LkQ3Ma_orkIh"
      },
      "source": [
        "model = encoder_lstm(input_shape=(3,1250,1), classes=3)"
      ],
      "execution_count": null,
      "outputs": []
    },
    {
      "cell_type": "code",
      "metadata": {
        "id": "1wtbCNtH0vzB"
      },
      "source": [
        "model.summary()"
      ],
      "execution_count": null,
      "outputs": []
    },
    {
      "cell_type": "code",
      "metadata": {
        "id": "m0Uimoh9pR1Q"
      },
      "source": [
        "conv_encoder_clone.trainable = False\n",
        "model.compile(optimizer=tf.keras.optimizers.Adam(),\n",
        "              loss=tf.keras.losses.CategoricalCrossentropy(),\n",
        "              metrics=['accuracy'])"
      ],
      "execution_count": null,
      "outputs": []
    },
    {
      "cell_type": "code",
      "metadata": {
        "id": "IFE1F2ke1Lho"
      },
      "source": [
        "CLASS_WEIGHTS = util.class_weights(train_labels)\n",
        "\n",
        "model.fit(train_dataset,\n",
        "          epochs=200,\n",
        "          steps_per_epoch=len(list(train_signals))//batch_size,\n",
        "          verbose=1,\n",
        "          validation_data=val_dataset,\n",
        "          validation_steps=len(list(val_signals))//batch_size,\n",
        "          callbacks=callbacks_list,\n",
        "          class_weight=CLASS_WEIGHTS)"
      ],
      "execution_count": null,
      "outputs": []
    },
    {
      "cell_type": "markdown",
      "metadata": {
        "id": "9gtz0mpPGMdI"
      },
      "source": [
        "#4.Callbacks"
      ]
    },
    {
      "cell_type": "code",
      "metadata": {
        "id": "w1fo9D09kM5n"
      },
      "source": [
        "# callbacks\n",
        "log_dir = r\"C:\\Users\\57lzhang.US04WW4008\\Desktop\\Afib\\Afib data\\logs\\fit\\\\\" + \\\n",
        "          datetime.now().strftime(\"%Y%m%d-%H%M%S\") + \"mobile-f+t-noshift-300Hz\"\n",
        "\n",
        "## confusion matrix callback\n",
        "def log_confusion_matrix(epoch, logs):\n",
        "    # Use the model to predict the values from the test_images.\n",
        "    \n",
        "    test_pred_raw = model.predict(val_signals)\n",
        "\n",
        "    test_pred = np.argmax(test_pred_raw, axis=1)\n",
        "    test_labels = val_labels.reshape([len(t_val_labels)])\n",
        "    # Calculate the confusion matrix using sklearn.metrics\n",
        "    cm = sklearn.metrics.confusion_matrix(test_labels, test_pred)\n",
        "\n",
        "    figure = model_util.plot_confusion_matrix(cm, class_names=class_names, normalize=True)\n",
        "    cm_image = model_util.plot_to_image(figure)\n",
        "\n",
        "    # Log the confusion matrix as an image summary.\n",
        "    with file_writer_cm.as_default():\n",
        "        tf.summary.image(\"Confusion Matrix\", cm_image, step=epoch)\n",
        "\n",
        "class_names = ['NSR','Afib','Others']\n",
        "file_writer_cm = tf.summary.create_file_writer(log_dir + '/cm')\n",
        "cm_callback = tf.keras.callbacks.LambdaCallback(on_epoch_end=log_confusion_matrix)\n",
        "\n",
        "## tensorboard callback\n",
        "tensorboard_callback = TensorBoard(log_dir=log_dir, histogram_freq=1)\n",
        "\n",
        "## checkpoint callback\n",
        "filepath = r\"C:\\Users\\57lzhang.US04WW4008\\Desktop\\Afib\\Afib data\\models\\mobile-f+t-noshift-300Hz-{epoch:02d}-{loss:.4f}\"\n",
        "checkpoint = ModelCheckpoint(filepath, monitor='val_loss', verbose=1, save_best_only=True, mode='auto')\n",
        "\n",
        "## early stop\n",
        "early_stop = tf.keras.callbacks.EarlyStopping(monitor='val_loss', patience=20, restore_best_weights=True)\n",
        "\n",
        "## learning rate decay callback\n",
        "lr_schedule = tf.keras.callbacks.LearningRateScheduler(model_util.decay)\n",
        "\n",
        "callbacks_list = [tensorboard_callback, cm_callback, checkpoint, early_stop, lr_schedule]"
      ],
      "execution_count": 17,
      "outputs": []
    },
    {
      "cell_type": "markdown",
      "metadata": {
        "id": "3I8W1jtdGIWv"
      },
      "source": [
        "#5.Model Training"
      ]
    },
    {
      "cell_type": "code",
      "metadata": {
        "id": "4VS1G04J3i5G",
        "colab": {
          "base_uri": "https://localhost:8080/"
        },
        "outputId": "76c83351-a4e3-4b59-948b-205a8463e999"
      },
      "source": [
        "#model training\n",
        "model.fit(train_dataset,\n",
        "          epochs=200,\n",
        "          steps_per_epoch=len(list(t_train_signals))//batch_size,\n",
        "          verbose=1,\n",
        "          validation_data=val_dataset,\n",
        "          validation_steps=len(list(t_val_signals))//batch_size,\n",
        "          callbacks=callbacks_list)"
      ],
      "execution_count": 18,
      "outputs": [
        {
          "output_type": "stream",
          "text": [
            "Epoch 1/200\n",
            "  1/103 [..............................] - ETA: 0s - loss: 1.3415 - accuracy: 0.2578WARNING:tensorflow:From C:\\Users\\57lzhang.US04WW4008\\Anaconda3\\lib\\site-packages\\tensorflow\\python\\ops\\summary_ops_v2.py:1277: stop (from tensorflow.python.eager.profiler) is deprecated and will be removed after 2020-07-01.\n",
            "Instructions for updating:\n",
            "use `tf.profiler.experimental.stop` instead.\n",
            "  2/103 [..............................] - ETA: 28s - loss: 1.3664 - accuracy: 0.2734WARNING:tensorflow:Callbacks method `on_train_batch_end` is slow compared to the batch time (batch time: 0.0738s vs `on_train_batch_end` time: 0.4947s). Check your callbacks.\n",
            "103/103 [==============================] - ETA: 0s - loss: 0.5963 - accuracy: 0.7252\n",
            "Epoch 00001: val_loss improved from inf to 1.15722, saving model to C:\\Users\\57lzhang.US04WW4008\\Desktop\\Afib\\Afib data\\models\\mobile-f+t-noshift-300Hz-01-0.5963\n",
            "WARNING:tensorflow:From C:\\Users\\57lzhang.US04WW4008\\Anaconda3\\lib\\site-packages\\tensorflow\\python\\training\\tracking\\tracking.py:111: Model.state_updates (from tensorflow.python.keras.engine.training) is deprecated and will be removed in a future version.\n",
            "Instructions for updating:\n",
            "This property should not be used in TensorFlow 2.0, as updates are applied automatically.\n",
            "WARNING:tensorflow:From C:\\Users\\57lzhang.US04WW4008\\Anaconda3\\lib\\site-packages\\tensorflow\\python\\training\\tracking\\tracking.py:111: Layer.updates (from tensorflow.python.keras.engine.base_layer) is deprecated and will be removed in a future version.\n",
            "Instructions for updating:\n",
            "This property should not be used in TensorFlow 2.0, as updates are applied automatically.\n",
            "INFO:tensorflow:Assets written to: C:\\Users\\57lzhang.US04WW4008\\Desktop\\Afib\\Afib data\\models\\mobile-f+t-noshift-300Hz-01-0.5963\\assets\n",
            "103/103 [==============================] - 53s 512ms/step - loss: 0.5963 - accuracy: 0.7252 - val_loss: 1.1572 - val_accuracy: 0.3359\n",
            "Epoch 2/200\n",
            "103/103 [==============================] - ETA: 0s - loss: 0.2988 - accuracy: 0.8754\n",
            "Epoch 00002: val_loss did not improve from 1.15722\n",
            "103/103 [==============================] - 37s 356ms/step - loss: 0.2988 - accuracy: 0.8754 - val_loss: 1.3116 - val_accuracy: 0.3359\n",
            "Epoch 3/200\n",
            "103/103 [==============================] - ETA: 0s - loss: 0.2130 - accuracy: 0.9155\n",
            "Epoch 00003: val_loss did not improve from 1.15722\n",
            "103/103 [==============================] - 37s 363ms/step - loss: 0.2130 - accuracy: 0.9155 - val_loss: 1.4601 - val_accuracy: 0.3359\n",
            "Epoch 4/200\n",
            "103/103 [==============================] - ETA: 0s - loss: 0.1503 - accuracy: 0.9423\n",
            "Epoch 00004: val_loss did not improve from 1.15722\n",
            "103/103 [==============================] - 38s 370ms/step - loss: 0.1503 - accuracy: 0.9423 - val_loss: 1.9339 - val_accuracy: 0.3359\n",
            "Epoch 5/200\n",
            "103/103 [==============================] - ETA: 0s - loss: 0.1184 - accuracy: 0.9551\n",
            "Epoch 00005: val_loss did not improve from 1.15722\n",
            "103/103 [==============================] - 38s 370ms/step - loss: 0.1184 - accuracy: 0.9551 - val_loss: 2.8078 - val_accuracy: 0.3359\n",
            "Epoch 6/200\n",
            "103/103 [==============================] - ETA: 0s - loss: 0.1090 - accuracy: 0.9576\n",
            "Epoch 00006: val_loss did not improve from 1.15722\n",
            "103/103 [==============================] - 37s 360ms/step - loss: 0.1090 - accuracy: 0.9576 - val_loss: 2.6485 - val_accuracy: 0.3594\n",
            "Epoch 7/200\n",
            "103/103 [==============================] - ETA: 0s - loss: 0.0629 - accuracy: 0.9769\n",
            "Epoch 00007: val_loss did not improve from 1.15722\n",
            "103/103 [==============================] - 37s 362ms/step - loss: 0.0629 - accuracy: 0.9769 - val_loss: 1.9533 - val_accuracy: 0.6207\n",
            "Epoch 8/200\n",
            "103/103 [==============================] - ETA: 0s - loss: 0.0703 - accuracy: 0.9728\n",
            "Epoch 00008: val_loss did not improve from 1.15722\n",
            "103/103 [==============================] - 36s 354ms/step - loss: 0.0703 - accuracy: 0.9728 - val_loss: 1.7297 - val_accuracy: 0.6442\n",
            "Epoch 9/200\n",
            "103/103 [==============================] - ETA: 0s - loss: 0.0862 - accuracy: 0.9672\n",
            "Epoch 00009: val_loss did not improve from 1.15722\n",
            "103/103 [==============================] - 38s 373ms/step - loss: 0.0862 - accuracy: 0.9672 - val_loss: 1.6971 - val_accuracy: 0.6641\n",
            "Epoch 10/200\n",
            "103/103 [==============================] - ETA: 0s - loss: 0.0676 - accuracy: 0.9747\n",
            "Epoch 00010: val_loss did not improve from 1.15722\n",
            "103/103 [==============================] - 38s 368ms/step - loss: 0.0676 - accuracy: 0.9747 - val_loss: 2.1074 - val_accuracy: 0.6740\n",
            "Epoch 11/200\n",
            "103/103 [==============================] - ETA: 0s - loss: 0.0532 - accuracy: 0.9814\n",
            "Epoch 00011: val_loss did not improve from 1.15722\n",
            "103/103 [==============================] - 39s 376ms/step - loss: 0.0532 - accuracy: 0.9814 - val_loss: 2.4100 - val_accuracy: 0.6484\n",
            "Epoch 12/200\n",
            "103/103 [==============================] - ETA: 0s - loss: 0.0439 - accuracy: 0.9846\n",
            "Epoch 00012: val_loss did not improve from 1.15722\n",
            "103/103 [==============================] - 36s 351ms/step - loss: 0.0439 - accuracy: 0.9846 - val_loss: 1.6891 - val_accuracy: 0.6967\n",
            "Epoch 13/200\n",
            "103/103 [==============================] - ETA: 0s - loss: 0.0358 - accuracy: 0.9870\n",
            "Epoch 00013: val_loss did not improve from 1.15722\n",
            "103/103 [==============================] - 35s 344ms/step - loss: 0.0358 - accuracy: 0.9870 - val_loss: 2.2916 - val_accuracy: 0.6605\n",
            "Epoch 14/200\n",
            "103/103 [==============================] - ETA: 0s - loss: 0.0522 - accuracy: 0.9823\n",
            "Epoch 00014: val_loss did not improve from 1.15722\n",
            "103/103 [==============================] - 38s 371ms/step - loss: 0.0522 - accuracy: 0.9823 - val_loss: 2.1898 - val_accuracy: 0.6612\n",
            "Epoch 15/200\n",
            "103/103 [==============================] - ETA: 0s - loss: 0.0502 - accuracy: 0.9818\n",
            "Epoch 00015: val_loss did not improve from 1.15722\n",
            "103/103 [==============================] - 37s 361ms/step - loss: 0.0502 - accuracy: 0.9818 - val_loss: 3.8150 - val_accuracy: 0.5348\n",
            "Epoch 16/200\n",
            "103/103 [==============================] - ETA: 0s - loss: 0.0390 - accuracy: 0.9857\n",
            "Epoch 00016: val_loss did not improve from 1.15722\n",
            "103/103 [==============================] - 38s 371ms/step - loss: 0.0390 - accuracy: 0.9857 - val_loss: 2.0812 - val_accuracy: 0.6634\n",
            "Epoch 17/200\n",
            "103/103 [==============================] - ETA: 0s - loss: 0.0369 - accuracy: 0.9862\n",
            "Epoch 00017: val_loss did not improve from 1.15722\n",
            "103/103 [==============================] - 38s 373ms/step - loss: 0.0369 - accuracy: 0.9862 - val_loss: 2.2092 - val_accuracy: 0.6506\n",
            "Epoch 18/200\n",
            "103/103 [==============================] - ETA: 0s - loss: 0.0327 - accuracy: 0.9880\n",
            "Epoch 00018: val_loss did not improve from 1.15722\n",
            "103/103 [==============================] - 38s 366ms/step - loss: 0.0327 - accuracy: 0.9880 - val_loss: 2.2880 - val_accuracy: 0.6690\n",
            "Epoch 19/200\n",
            "103/103 [==============================] - ETA: 0s - loss: 0.0250 - accuracy: 0.9925\n",
            "Epoch 00019: val_loss did not improve from 1.15722\n",
            "103/103 [==============================] - 38s 371ms/step - loss: 0.0250 - accuracy: 0.9925 - val_loss: 1.9548 - val_accuracy: 0.6967\n",
            "Epoch 20/200\n",
            "103/103 [==============================] - ETA: 0s - loss: 0.0228 - accuracy: 0.9913\n",
            "Epoch 00020: val_loss did not improve from 1.15722\n",
            "103/103 [==============================] - 38s 370ms/step - loss: 0.0228 - accuracy: 0.9913 - val_loss: 2.4090 - val_accuracy: 0.6634\n",
            "Epoch 21/200\n",
            "103/103 [==============================] - ETA: 0s - loss: 0.0522 - accuracy: 0.9813\n",
            "Epoch 00021: val_loss did not improve from 1.15722\n",
            "103/103 [==============================] - 38s 368ms/step - loss: 0.0522 - accuracy: 0.9813 - val_loss: 3.2207 - val_accuracy: 0.6044\n"
          ],
          "name": "stdout"
        },
        {
          "output_type": "execute_result",
          "data": {
            "text/plain": [
              "<tensorflow.python.keras.callbacks.History at 0x1dd318170c8>"
            ]
          },
          "metadata": {
            "tags": []
          },
          "execution_count": 18
        }
      ]
    },
    {
      "cell_type": "markdown",
      "metadata": {
        "id": "UAP9Kvm6alEr"
      },
      "source": [
        "#6.Model Evaluation"
      ]
    },
    {
      "cell_type": "code",
      "metadata": {
        "id": "mWB6niRhcgp0"
      },
      "source": [
        "model = tf.keras.models.load_model(r'C:\\Users\\57lzhang.US04WW4008\\Desktop\\Afib\\Afib data\\models\\resnet-f+t-shift-300Hz-16-0.0342')"
      ],
      "execution_count": 4,
      "outputs": []
    },
    {
      "cell_type": "code",
      "metadata": {
        "id": "hJXbA263coyA"
      },
      "source": [
        "test_pred_raw = model.predict(test_signals)\r\n",
        "test_pred = np.argmax(test_pred_raw, axis=1)"
      ],
      "execution_count": 39,
      "outputs": []
    },
    {
      "cell_type": "code",
      "metadata": {
        "colab": {
          "base_uri": "https://localhost:8080/",
          "height": 584
        },
        "id": "pUQIrsMcctXS",
        "outputId": "ac65365d-d688-46d0-a5b2-42c744b33f93"
      },
      "source": [
        "cm = sklearn.metrics.confusion_matrix(test_labels, test_pred)\r\n",
        "figure = model_util.plot_confusion_matrix(cm, class_names=class_names, normalize=True)"
      ],
      "execution_count": 40,
      "outputs": [
        {
          "output_type": "display_data",
          "data": {
            "text/plain": [
              "<Figure size 576x576 with 2 Axes>"
            ],
            "image/png": "[encoded data removed]"
          },
          "metadata": {
            "tags": [],
            "needs_background": "light"
          }
        }
      ]
    },
    {
      "cell_type": "code",
      "metadata": {
        "colab": {
          "base_uri": "https://localhost:8080/"
        },
        "id": "UF0k8XeJA5W3",
        "outputId": "fc54e171-e3b5-4808-bd3b-a6e1fe0677a3"
      },
      "source": [
        "sklearn.metrics.accuracy_score(t_test_labels, test_pred)"
      ],
      "execution_count": 41,
      "outputs": [
        {
          "output_type": "execute_result",
          "data": {
            "text/plain": [
              "0.8152173913043478"
            ]
          },
          "metadata": {
            "tags": []
          },
          "execution_count": 41
        }
      ]
    },
    {
      "cell_type": "code",
      "metadata": {
        "colab": {
          "base_uri": "https://localhost:8080/"
        },
        "id": "nBnmB5xR2bAN",
        "outputId": "b47165cf-ace0-4559-9b42-ea8d12c8e845"
      },
      "source": [
        "sklearn.metrics.f1_score(t_test_labels, test_pred, average='weighted')"
      ],
      "execution_count": 42,
      "outputs": [
        {
          "output_type": "execute_result",
          "data": {
            "text/plain": [
              "0.8177635481261715"
            ]
          },
          "metadata": {
            "tags": []
          },
          "execution_count": 42
        }
      ]
    }
  ]
}