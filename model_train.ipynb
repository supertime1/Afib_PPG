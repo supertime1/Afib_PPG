{
  "nbformat": 4,
  "nbformat_minor": 0,
  "metadata": {
    "colab": {
      "name": "model_train.ipynb",
      "provenance": [],
      "authorship_tag": "ABX9TyOwiYui44UqhdhXcRSX+43D",
      "include_colab_link": true
    },
    "kernelspec": {
      "name": "python3",
      "display_name": "Python 3"
    },
    "accelerator": "GPU"
  },
  "cells": [
    {
      "cell_type": "markdown",
      "metadata": {
        "id": "view-in-github",
        "colab_type": "text"
      },
      "source": [
        "<a href=\"https://colab.research.google.com/github/supertime1/Afib_PPG/blob/master/model_train.ipynb\" target=\"_parent\"><img src=\"https://colab.research.google.com/assets/colab-badge.svg\" alt=\"Open In Colab\"/></a>"
      ]
    },
    {
      "cell_type": "markdown",
      "metadata": {
        "id": "JD_-cpvPGQyK"
      },
      "source": [
        "#Import Dependencies"
      ]
    },
    {
      "cell_type": "code",
      "metadata": {
        "id": "w0X7DBegvBxs"
      },
      "source": [
        "import sys\n",
        "sys.path.append('C:/Users/57lzhang.US04WW4008/PycharmProjects/AF')"
      ],
      "execution_count": 1,
      "outputs": []
    },
    {
      "cell_type": "code",
      "metadata": {
        "id": "UtJCBohYlUoG",
        "outputId": "12782f80-b096-48cb-f266-5da584d33c41",
        "colab": {
          "base_uri": "https://localhost:8080/",
          "height": 34
        }
      },
      "source": [
        "from util import util, model_util\n",
        "import tensorflow as tf\n",
        "from datetime import datetime\n",
        "from tensorflow.keras.callbacks import TensorBoard, ModelCheckpoint\n",
        "import numpy as np\n",
        "import sklearn\n",
        "from sklearn import metrics\n",
        "print(tf.__version__)"
      ],
      "execution_count": 3,
      "outputs": [
        {
          "output_type": "stream",
          "text": [
            "2.2.0\n"
          ],
          "name": "stdout"
        }
      ]
    },
    {
      "cell_type": "markdown",
      "metadata": {
        "id": "uHweWIpxGZfd"
      },
      "source": [
        "#Load Data"
      ]
    },
    {
      "cell_type": "code",
      "metadata": {
        "id": "u3RvBpqmqBqj",
        "outputId": "df49e724-a697-4b74-9ae2-8bb03c545a3a",
        "colab": {
          "base_uri": "https://localhost:8080/",
          "height": 230
        }
      },
      "source": [
        "# load training data\n",
        "train_data_file_path = \"C:/Users/57lzhang.US04WW4008/Desktop/Afib/Afib data/Afib ECG data/training2017/\"\n",
        "raw_signals, raw_labels = util.data_mining(train_data_file_path)\n",
        "signals, labels = util.generate_seg_data(raw_signals, raw_labels, seg_len=9000)\n",
        "signals, labels = util.preprocessing(signals, labels)\n",
        "train_signals, train_labels, val_signals, val_labels = util.split_shuffle_dataset(signals, labels, 0.9)\n",
        "print('train_signal shape:', train_signals.shape)\n",
        "print('train_label shape:', train_labels.shape)\n",
        "print(\"\\nIn training data:\") \n",
        "util.count_labels(train_labels)\n",
        "print(\"\\nIn validation data:\")\n",
        "util.count_labels(val_labels)"
      ],
      "execution_count": 4,
      "outputs": [
        {
          "output_type": "stream",
          "text": [
            "train_signal shape: (7425, 3750, 1)\n",
            "train_label shape: (7425, 3)\n",
            "\n",
            "In training data:\n",
            "There are 4430 NSR labels\n",
            "There are 653 AF labels\n",
            "There are 2342 Other Arrhythmia labels\n",
            "\n",
            "In validation data:\n",
            "There are 502 NSR labels\n",
            "There are 62 AF labels\n",
            "There are 261 Other Arrhythmia labels\n"
          ],
          "name": "stdout"
        }
      ]
    },
    {
      "cell_type": "code",
      "metadata": {
        "id": "Xo6D2eX3qFZu",
        "outputId": "edd01602-278e-453b-dfba-f8726b7a3de4",
        "colab": {
          "base_uri": "https://localhost:8080/",
          "height": 141
        }
      },
      "source": [
        "# load testing data\n",
        "test_data_file_path = \"C:/Users/57lzhang.US04WW4008/Desktop/Afib/Afib data/Afib ECG data/validation/\"\n",
        "test_raw_signals, test_raw_labels = util.data_mining(test_data_file_path)\n",
        "test_signals, test_labels = util.generate_seg_data(test_raw_signals, test_raw_labels, seg_len=9000)\n",
        "test_signals, test_labels = util.preprocessing(test_signals, test_labels)\n",
        "print('test_signal shape:', test_signals.shape)\n",
        "print('test_label shape:', test_labels.shape)\n",
        "print(\"\\nIn test data:\") \n",
        "util.count_labels(test_labels)"
      ],
      "execution_count": 5,
      "outputs": [
        {
          "output_type": "stream",
          "text": [
            "test_signal shape: (276, 3750, 1)\n",
            "test_label shape: (276, 3)\n",
            "\n",
            "In test data:\n",
            "There are 150 NSR labels\n",
            "There are 47 AF labels\n",
            "There are 79 Other Arrhythmia labels\n"
          ],
          "name": "stdout"
        }
      ]
    },
    {
      "cell_type": "markdown",
      "metadata": {
        "id": "ckuxUrs1GeC7"
      },
      "source": [
        "#TF Pipeline"
      ]
    },
    {
      "cell_type": "code",
      "metadata": {
        "id": "tdOBgPBPqI39"
      },
      "source": [
        "# tensorflow pipeline\n",
        "## extraction\n",
        "train_dataset = tf.data.Dataset.from_tensor_slices((train_signals, train_labels))\n",
        "val_dataset = tf.data.Dataset.from_tensor_slices((val_signals, val_labels))\n",
        "## loading\n",
        "batch_size = 32\n",
        "train_dataset = train_dataset.cache()\n",
        "train_dataset = train_dataset.shuffle(2048).repeat().batch(batch_size, drop_remainder=True)\n",
        "train_dataset = train_dataset.prefetch(buffer_size=tf.data.experimental.AUTOTUNE)\n",
        "val_dataset = val_dataset.repeat().batch(batch_size, drop_remainder=True)"
      ],
      "execution_count": 6,
      "outputs": []
    },
    {
      "cell_type": "markdown",
      "metadata": {
        "id": "Nvv8pVHmGsFs"
      },
      "source": [
        "#Model"
      ]
    },
    {
      "cell_type": "code",
      "metadata": {
        "id": "t-ZDPsOIz-J5",
        "outputId": "e472ae60-2829-4d8d-9282-d8ec770f0b27",
        "colab": {
          "base_uri": "https://localhost:8080/",
          "height": 1000
        }
      },
      "source": [
        "# model\n",
        "model = model_util.ResNet18_LSTM(input_shape=(3750,1), classes=3, as_model=True)\n",
        "model.compile(optimizer=tf.keras.optimizers.Adam(),\n",
        "              loss=tf.keras.losses.CategoricalCrossentropy(),\n",
        "              metrics=['accuracy'])\n",
        "\n",
        "model.summary()"
      ],
      "execution_count": 11,
      "outputs": [
        {
          "output_type": "stream",
          "text": [
            "Model: \"ResNet18\"\n",
            "__________________________________________________________________________________________________\n",
            "Layer (type)                    Output Shape         Param #     Connected to                     \n",
            "==================================================================================================\n",
            "input_1 (InputLayer)            [(None, 3750, 1)]    0                                            \n",
            "__________________________________________________________________________________________________\n",
            "zero_padding1d (ZeroPadding1D)  (None, 3756, 1)      0           input_1[0][0]                    \n",
            "__________________________________________________________________________________________________\n",
            "conv1 (Conv1D)                  (None, 1875, 64)     512         zero_padding1d[0][0]             \n",
            "__________________________________________________________________________________________________\n",
            "bn_conv1 (BatchNormalization)   (None, 1875, 64)     256         conv1[0][0]                      \n",
            "__________________________________________________________________________________________________\n",
            "activation (Activation)         (None, 1875, 64)     0           bn_conv1[0][0]                   \n",
            "__________________________________________________________________________________________________\n",
            "max_pooling1d_4 (MaxPooling1D)  (None, 937, 64)      0           activation[0][0]                 \n",
            "__________________________________________________________________________________________________\n",
            "res2a_branch2a (Conv1D)         (None, 937, 64)      12352       max_pooling1d_4[0][0]            \n",
            "__________________________________________________________________________________________________\n",
            "bn2a_branch2a (BatchNormalizati (None, 937, 64)      256         res2a_branch2a[0][0]             \n",
            "__________________________________________________________________________________________________\n",
            "activation_1 (Activation)       (None, 937, 64)      0           bn2a_branch2a[0][0]              \n",
            "__________________________________________________________________________________________________\n",
            "res2a_branch2b (Conv1D)         (None, 937, 64)      12352       activation_1[0][0]               \n",
            "__________________________________________________________________________________________________\n",
            "bn2a_branch2b (BatchNormalizati (None, 937, 64)      256         res2a_branch2b[0][0]             \n",
            "__________________________________________________________________________________________________\n",
            "activation_2 (Activation)       (None, 937, 64)      0           bn2a_branch2b[0][0]              \n",
            "__________________________________________________________________________________________________\n",
            "add (Add)                       (None, 937, 64)      0           activation_2[0][0]               \n",
            "                                                                 max_pooling1d_4[0][0]            \n",
            "__________________________________________________________________________________________________\n",
            "activation_3 (Activation)       (None, 937, 64)      0           add[0][0]                        \n",
            "__________________________________________________________________________________________________\n",
            "res2b_branch2a (Conv1D)         (None, 937, 64)      12352       activation_3[0][0]               \n",
            "__________________________________________________________________________________________________\n",
            "bn2b_branch2a (BatchNormalizati (None, 937, 64)      256         res2b_branch2a[0][0]             \n",
            "__________________________________________________________________________________________________\n",
            "activation_4 (Activation)       (None, 937, 64)      0           bn2b_branch2a[0][0]              \n",
            "__________________________________________________________________________________________________\n",
            "res2b_branch2b (Conv1D)         (None, 937, 64)      12352       activation_4[0][0]               \n",
            "__________________________________________________________________________________________________\n",
            "bn2b_branch2b (BatchNormalizati (None, 937, 64)      256         res2b_branch2b[0][0]             \n",
            "__________________________________________________________________________________________________\n",
            "activation_5 (Activation)       (None, 937, 64)      0           bn2b_branch2b[0][0]              \n",
            "__________________________________________________________________________________________________\n",
            "add_1 (Add)                     (None, 937, 64)      0           activation_5[0][0]               \n",
            "                                                                 activation_3[0][0]               \n",
            "__________________________________________________________________________________________________\n",
            "activation_6 (Activation)       (None, 937, 64)      0           add_1[0][0]                      \n",
            "__________________________________________________________________________________________________\n",
            "res3a_branch2a (Conv1D)         (None, 468, 128)     24704       activation_6[0][0]               \n",
            "__________________________________________________________________________________________________\n",
            "bn3a_branch2a (BatchNormalizati (None, 468, 128)     512         res3a_branch2a[0][0]             \n",
            "__________________________________________________________________________________________________\n",
            "activation_7 (Activation)       (None, 468, 128)     0           bn3a_branch2a[0][0]              \n",
            "__________________________________________________________________________________________________\n",
            "res3a_branch2b (Conv1D)         (None, 468, 128)     49280       activation_7[0][0]               \n",
            "__________________________________________________________________________________________________\n",
            "bn3a_branch2b (BatchNormalizati (None, 468, 128)     512         res3a_branch2b[0][0]             \n",
            "__________________________________________________________________________________________________\n",
            "res3a_branch1 (Conv1D)          (None, 468, 128)     24704       activation_6[0][0]               \n",
            "__________________________________________________________________________________________________\n",
            "activation_8 (Activation)       (None, 468, 128)     0           bn3a_branch2b[0][0]              \n",
            "__________________________________________________________________________________________________\n",
            "bn3a_branch1 (BatchNormalizatio (None, 468, 128)     512         res3a_branch1[0][0]              \n",
            "__________________________________________________________________________________________________\n",
            "add_2 (Add)                     (None, 468, 128)     0           activation_8[0][0]               \n",
            "                                                                 bn3a_branch1[0][0]               \n",
            "__________________________________________________________________________________________________\n",
            "activation_9 (Activation)       (None, 468, 128)     0           add_2[0][0]                      \n",
            "__________________________________________________________________________________________________\n",
            "res3b_branch2a (Conv1D)         (None, 468, 128)     49280       activation_9[0][0]               \n",
            "__________________________________________________________________________________________________\n",
            "bn3b_branch2a (BatchNormalizati (None, 468, 128)     512         res3b_branch2a[0][0]             \n",
            "__________________________________________________________________________________________________\n",
            "activation_10 (Activation)      (None, 468, 128)     0           bn3b_branch2a[0][0]              \n",
            "__________________________________________________________________________________________________\n",
            "res3b_branch2b (Conv1D)         (None, 468, 128)     49280       activation_10[0][0]              \n",
            "__________________________________________________________________________________________________\n",
            "bn3b_branch2b (BatchNormalizati (None, 468, 128)     512         res3b_branch2b[0][0]             \n",
            "__________________________________________________________________________________________________\n",
            "activation_11 (Activation)      (None, 468, 128)     0           bn3b_branch2b[0][0]              \n",
            "__________________________________________________________________________________________________\n",
            "add_3 (Add)                     (None, 468, 128)     0           activation_11[0][0]              \n",
            "                                                                 activation_9[0][0]               \n",
            "__________________________________________________________________________________________________\n",
            "activation_12 (Activation)      (None, 468, 128)     0           add_3[0][0]                      \n",
            "__________________________________________________________________________________________________\n",
            "res4a_branch2a (Conv1D)         (None, 233, 256)     98560       activation_12[0][0]              \n",
            "__________________________________________________________________________________________________\n",
            "bn4a_branch2a (BatchNormalizati (None, 233, 256)     1024        res4a_branch2a[0][0]             \n",
            "__________________________________________________________________________________________________\n",
            "activation_13 (Activation)      (None, 233, 256)     0           bn4a_branch2a[0][0]              \n",
            "__________________________________________________________________________________________________\n",
            "res4a_branch2b (Conv1D)         (None, 233, 256)     196864      activation_13[0][0]              \n",
            "__________________________________________________________________________________________________\n",
            "bn4a_branch2b (BatchNormalizati (None, 233, 256)     1024        res4a_branch2b[0][0]             \n",
            "__________________________________________________________________________________________________\n",
            "res4a_branch1 (Conv1D)          (None, 233, 256)     98560       activation_12[0][0]              \n",
            "__________________________________________________________________________________________________\n",
            "activation_14 (Activation)      (None, 233, 256)     0           bn4a_branch2b[0][0]              \n",
            "__________________________________________________________________________________________________\n",
            "bn4a_branch1 (BatchNormalizatio (None, 233, 256)     1024        res4a_branch1[0][0]              \n",
            "__________________________________________________________________________________________________\n",
            "add_4 (Add)                     (None, 233, 256)     0           activation_14[0][0]              \n",
            "                                                                 bn4a_branch1[0][0]               \n",
            "__________________________________________________________________________________________________\n",
            "activation_15 (Activation)      (None, 233, 256)     0           add_4[0][0]                      \n",
            "__________________________________________________________________________________________________\n",
            "res4b_branch2a (Conv1D)         (None, 233, 256)     196864      activation_15[0][0]              \n",
            "__________________________________________________________________________________________________\n",
            "bn4b_branch2a (BatchNormalizati (None, 233, 256)     1024        res4b_branch2a[0][0]             \n",
            "__________________________________________________________________________________________________\n",
            "activation_16 (Activation)      (None, 233, 256)     0           bn4b_branch2a[0][0]              \n",
            "__________________________________________________________________________________________________\n",
            "res4b_branch2b (Conv1D)         (None, 233, 256)     196864      activation_16[0][0]              \n",
            "__________________________________________________________________________________________________\n",
            "bn4b_branch2b (BatchNormalizati (None, 233, 256)     1024        res4b_branch2b[0][0]             \n",
            "__________________________________________________________________________________________________\n",
            "activation_17 (Activation)      (None, 233, 256)     0           bn4b_branch2b[0][0]              \n",
            "__________________________________________________________________________________________________\n",
            "add_5 (Add)                     (None, 233, 256)     0           activation_17[0][0]              \n",
            "                                                                 activation_15[0][0]              \n",
            "__________________________________________________________________________________________________\n",
            "activation_18 (Activation)      (None, 233, 256)     0           add_5[0][0]                      \n",
            "__________________________________________________________________________________________________\n",
            "res5a_branch2a (Conv1D)         (None, 116, 512)     393728      activation_18[0][0]              \n",
            "__________________________________________________________________________________________________\n",
            "bn5a_branch2a (BatchNormalizati (None, 116, 512)     2048        res5a_branch2a[0][0]             \n",
            "__________________________________________________________________________________________________\n",
            "activation_19 (Activation)      (None, 116, 512)     0           bn5a_branch2a[0][0]              \n",
            "__________________________________________________________________________________________________\n",
            "res5a_branch2b (Conv1D)         (None, 116, 512)     786944      activation_19[0][0]              \n",
            "__________________________________________________________________________________________________\n",
            "bn5a_branch2b (BatchNormalizati (None, 116, 512)     2048        res5a_branch2b[0][0]             \n",
            "__________________________________________________________________________________________________\n",
            "res5a_branch1 (Conv1D)          (None, 116, 512)     393728      activation_18[0][0]              \n",
            "__________________________________________________________________________________________________\n",
            "activation_20 (Activation)      (None, 116, 512)     0           bn5a_branch2b[0][0]              \n",
            "__________________________________________________________________________________________________\n",
            "bn5a_branch1 (BatchNormalizatio (None, 116, 512)     2048        res5a_branch1[0][0]              \n",
            "__________________________________________________________________________________________________\n",
            "add_6 (Add)                     (None, 116, 512)     0           activation_20[0][0]              \n",
            "                                                                 bn5a_branch1[0][0]               \n",
            "__________________________________________________________________________________________________\n",
            "activation_21 (Activation)      (None, 116, 512)     0           add_6[0][0]                      \n",
            "__________________________________________________________________________________________________\n",
            "res5b_branch2a (Conv1D)         (None, 116, 512)     786944      activation_21[0][0]              \n",
            "__________________________________________________________________________________________________\n",
            "bn5b_branch2a (BatchNormalizati (None, 116, 512)     2048        res5b_branch2a[0][0]             \n",
            "__________________________________________________________________________________________________\n",
            "activation_22 (Activation)      (None, 116, 512)     0           bn5b_branch2a[0][0]              \n",
            "__________________________________________________________________________________________________\n",
            "res5b_branch2b (Conv1D)         (None, 116, 512)     786944      activation_22[0][0]              \n",
            "__________________________________________________________________________________________________\n",
            "bn5b_branch2b (BatchNormalizati (None, 116, 512)     2048        res5b_branch2b[0][0]             \n",
            "__________________________________________________________________________________________________\n",
            "activation_23 (Activation)      (None, 116, 512)     0           bn5b_branch2b[0][0]              \n",
            "__________________________________________________________________________________________________\n",
            "add_7 (Add)                     (None, 116, 512)     0           activation_23[0][0]              \n",
            "                                                                 activation_21[0][0]              \n",
            "__________________________________________________________________________________________________\n",
            "activation_24 (Activation)      (None, 116, 512)     0           add_7[0][0]                      \n",
            "__________________________________________________________________________________________________\n",
            "avg_pool (AveragePooling1D)     (None, 58, 512)      0           activation_24[0][0]              \n",
            "__________________________________________________________________________________________________\n",
            "flatten_1 (Flatten)             (None, 29696)        0           avg_pool[0][0]                   \n",
            "__________________________________________________________________________________________________\n",
            "fc3 (Dense)                     (None, 3)            89091       flatten_1[0][0]                  \n",
            "==================================================================================================\n",
            "Total params: 4,291,459\n",
            "Trainable params: 4,281,859\n",
            "Non-trainable params: 9,600\n",
            "__________________________________________________________________________________________________\n"
          ],
          "name": "stdout"
        }
      ]
    },
    {
      "cell_type": "markdown",
      "metadata": {
        "id": "9gtz0mpPGMdI"
      },
      "source": [
        "#Callbacks"
      ]
    },
    {
      "cell_type": "code",
      "metadata": {
        "id": "w1fo9D09kM5n"
      },
      "source": [
        "# callbacks\n",
        "log_dir = r\"C:\\Users\\57lzhang.US04WW4008\\Desktop\\Afib\\Afib data\\logs\\fit\\\\\" + \\\n",
        "          datetime.now().strftime(\"%Y%m%d-%H%M%S\") + \"resnet\"\n",
        "\n",
        "## confusion matrix callback\n",
        "def log_confusion_matrix(epoch, logs):\n",
        "    # Use the model to predict the values from the test_images.\n",
        "    \n",
        "    test_pred_raw = model.predict(val_signals)\n",
        "\n",
        "    test_pred = np.argmax(test_pred_raw, axis=1)\n",
        "    test_labels = np.argmax(val_labels, axis=1)\n",
        "    # Calculate the confusion matrix using sklearn.metrics\n",
        "    cm = sklearn.metrics.confusion_matrix(test_labels, test_pred)\n",
        "\n",
        "    figure = model_util.plot_confusion_matrix(cm, class_names=class_names, normalize=True)\n",
        "    cm_image = model_util.plot_to_image(figure)\n",
        "\n",
        "    # Log the confusion matrix as an image summary.\n",
        "    with file_writer_cm.as_default():\n",
        "        tf.summary.image(\"Confusion Matrix\", cm_image, step=epoch)\n",
        "\n",
        "class_names = ['NO Afib','Afib','Others']\n",
        "file_writer_cm = tf.summary.create_file_writer(log_dir + '/cm')\n",
        "cm_callback = tf.keras.callbacks.LambdaCallback(on_epoch_end=log_confusion_matrix)\n",
        "\n",
        "## tensorboard callback\n",
        "tensorboard_callback = TensorBoard(log_dir=log_dir, histogram_freq=1)\n",
        "\n",
        "## checkpoint callback\n",
        "filepath = r\"C:\\Users\\57lzhang.US04WW4008\\Desktop\\Afib\\Afib data\\models\\resnet-{epoch:02d}-{loss:.4f}.hdf5\"\n",
        "checkpoint = ModelCheckpoint(filepath, monitor='loss', verbose=1, save_best_only=True, mode='auto')\n",
        "\n",
        "## learning rate decay callback\n",
        "lr_schedule = tf.keras.callbacks.LearningRateScheduler(model_util.decay)\n",
        "\n",
        "callbacks_list = [tensorboard_callback, cm_callback, checkpoint, lr_schedule]"
      ],
      "execution_count": 12,
      "outputs": []
    },
    {
      "cell_type": "markdown",
      "metadata": {
        "id": "3I8W1jtdGIWv"
      },
      "source": [
        "#Model Training"
      ]
    },
    {
      "cell_type": "code",
      "metadata": {
        "id": "4VS1G04J3i5G"
      },
      "source": [
        "#model training\n",
        "model.fit(train_dataset,\n",
        "          epochs=200,\n",
        "          steps_per_epoch=len(list(train_signals))//batch_size,\n",
        "          verbose=1,\n",
        "          validation_data=val_dataset,\n",
        "          validation_steps=len(list(val_signals))//batch_size,\n",
        "          callbacks=callbacks_list)"
      ],
      "execution_count": null,
      "outputs": []
    },
    {
      "cell_type": "markdown",
      "metadata": {
        "id": "yzCsuNPU5-e-"
      },
      "source": [
        "#Evaluation"
      ]
    },
    {
      "cell_type": "code",
      "metadata": {
        "id": "WGotIQaT590i"
      },
      "source": [
        ""
      ],
      "execution_count": null,
      "outputs": []
    }
  ]
}